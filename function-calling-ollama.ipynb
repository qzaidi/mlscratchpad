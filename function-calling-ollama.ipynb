{
 "cells": [
  {
   "cell_type": "code",
   "execution_count": 3,
   "id": "99ff7bf4-3244-4d52-a949-d5aeb8aeb153",
   "metadata": {},
   "outputs": [
    {
     "name": "stdout",
     "output_type": "stream",
     "text": [
      "Note: you may need to restart the kernel to use updated packages.\n"
     ]
    }
   ],
   "source": [
    "pip install --quiet langchain-core langchain-experimental"
   ]
  },
  {
   "cell_type": "code",
   "execution_count": 5,
   "id": "bf3e5765-6aa4-4df7-858b-96eaa8001fe2",
   "metadata": {},
   "outputs": [
    {
     "name": "stdout",
     "output_type": "stream",
     "text": [
      "A pound of both weighs the same.\n"
     ]
    }
   ],
   "source": [
    "from langchain_experimental.llms.ollama_functions import OllamaFunctions\n",
    "from langchain_core.pydantic_v1 import BaseModel\n",
    "\n",
    "class AnswerWithJustification(BaseModel):\n",
    "    '''An answer to the user question along with justification for the answer.'''\n",
    "    answer: str\n",
    "    justification: str\n",
    "\n",
    "ollamaBase = 'http://ollama-alibo-gpu-testing.apps.private.okd4.teh-2.snappcloud.io/'\n",
    "llm = OllamaFunctions(model=\"llama3\", format=\"json\", temperature=0, base_url = ollamaBase)\n",
    "structured_llm = llm.with_structured_output(AnswerWithJustification)\n",
    "\n",
    "res = structured_llm.invoke(\"What weighs more a pound of bricks or a pound of feathers\")\n",
    "print(res.answer)"
   ]
  },
  {
   "cell_type": "code",
   "execution_count": 21,
   "id": "14a0f2d2-08f4-4be3-a3be-be806b8dfbca",
   "metadata": {},
   "outputs": [
    {
     "name": "stdout",
     "output_type": "stream",
     "text": [
      "CPU times: user 34.7 ms, sys: 6.76 ms, total: 41.4 ms\n",
      "Wall time: 942 ms\n"
     ]
    },
    {
     "data": {
      "text/plain": [
       "CurrencyConversion(srcCurrency='TOM', destCurrency='USD', amount=1000000)"
      ]
     },
     "execution_count": 21,
     "metadata": {},
     "output_type": "execute_result"
    }
   ],
   "source": [
    "%%time\n",
    "class CurrencyConversion(BaseModel):\n",
    "    '''Convert the given amount from src currency into a destination currency. If you dont understand a currency, use the exact text \n",
    "    as in user input\n",
    "    Example: How much is $1 in Tomans\n",
    "    srcCurrency:USD\n",
    "    destCurrency: Toman\n",
    "    Amount:1\n",
    "    '''\n",
    "    srcCurrency: str\n",
    "    destCurrency: str\n",
    "    amount: int\n",
    "\n",
    "currency_conv = llm.with_structured_output(CurrencyConversion)\n",
    "\n",
    "currency_conv.invoke(\"How much is 1 million Toman in USD?\")"
   ]
  },
  {
   "cell_type": "code",
   "execution_count": null,
   "id": "2c66b0d9-1ed3-48e2-a042-0f730d94d52e",
   "metadata": {},
   "outputs": [],
   "source": []
  }
 ],
 "metadata": {
  "kernelspec": {
   "display_name": "Python 3 (ipykernel)",
   "language": "python",
   "name": "python3"
  },
  "language_info": {
   "codemirror_mode": {
    "name": "ipython",
    "version": 3
   },
   "file_extension": ".py",
   "mimetype": "text/x-python",
   "name": "python",
   "nbconvert_exporter": "python",
   "pygments_lexer": "ipython3",
   "version": "3.11.8"
  }
 },
 "nbformat": 4,
 "nbformat_minor": 5
}
