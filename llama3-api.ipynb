{
 "cells": [
  {
   "cell_type": "code",
   "execution_count": 1,
   "id": "085c5c2d",
   "metadata": {},
   "outputs": [
    {
     "name": "stdout",
     "output_type": "stream",
     "text": [
      "Collecting ollama\n",
      "  Downloading ollama-0.1.9-py3-none-any.whl.metadata (3.8 kB)\n",
      "Collecting httpx<0.28.0,>=0.27.0 (from ollama)\n",
      "  Downloading httpx-0.27.0-py3-none-any.whl.metadata (7.2 kB)\n",
      "Requirement already satisfied: anyio in c:\\users\\qasim\\anaconda3\\lib\\site-packages (from httpx<0.28.0,>=0.27.0->ollama) (3.7.1)\n",
      "Requirement already satisfied: certifi in c:\\users\\qasim\\anaconda3\\lib\\site-packages (from httpx<0.28.0,>=0.27.0->ollama) (2024.2.2)\n",
      "Requirement already satisfied: httpcore==1.* in c:\\users\\qasim\\anaconda3\\lib\\site-packages (from httpx<0.28.0,>=0.27.0->ollama) (1.0.2)\n",
      "Requirement already satisfied: idna in c:\\users\\qasim\\anaconda3\\lib\\site-packages (from httpx<0.28.0,>=0.27.0->ollama) (3.4)\n",
      "Requirement already satisfied: sniffio in c:\\users\\qasim\\anaconda3\\lib\\site-packages (from httpx<0.28.0,>=0.27.0->ollama) (1.3.0)\n",
      "Requirement already satisfied: h11<0.15,>=0.13 in c:\\users\\qasim\\anaconda3\\lib\\site-packages (from httpcore==1.*->httpx<0.28.0,>=0.27.0->ollama) (0.14.0)\n",
      "Downloading ollama-0.1.9-py3-none-any.whl (9.4 kB)\n",
      "Downloading httpx-0.27.0-py3-none-any.whl (75 kB)\n",
      "   ---------------------------------------- 0.0/75.6 kB ? eta -:--:--\n",
      "   ----- ---------------------------------- 10.2/75.6 kB ? eta -:--:--\n",
      "   ---------------- ----------------------- 30.7/75.6 kB 640.0 kB/s eta 0:00:01\n",
      "   --------------------- ------------------ 41.0/75.6 kB 326.8 kB/s eta 0:00:01\n",
      "   ---------------------------------------- 75.6/75.6 kB 522.8 kB/s eta 0:00:00\n",
      "Installing collected packages: httpx, ollama\n",
      "  Attempting uninstall: httpx\n",
      "    Found existing installation: httpx 0.26.0\n",
      "    Uninstalling httpx-0.26.0:\n",
      "      Successfully uninstalled httpx-0.26.0\n",
      "Successfully installed httpx-0.27.0 ollama-0.1.9\n",
      "Note: you may need to restart the kernel to use updated packages.\n"
     ]
    }
   ],
   "source": [
    "pip install ollama"
   ]
  },
  {
   "cell_type": "code",
   "execution_count": 2,
   "id": "0961fd7a",
   "metadata": {},
   "outputs": [],
   "source": [
    "import ollama"
   ]
  },
  {
   "cell_type": "code",
   "execution_count": 4,
   "id": "0b49d3b4",
   "metadata": {},
   "outputs": [],
   "source": [
    "response = ollama.chat(model='llama3',messages=[{'role':'user','content':'Create a conversation between 2 people at a restaurant in farsi'\n",
    "                                                }])"
   ]
  },
  {
   "cell_type": "code",
   "execution_count": 5,
   "id": "1cbe8cf4",
   "metadata": {},
   "outputs": [
    {
     "name": "stdout",
     "output_type": "stream",
     "text": [
      "Here is a conversation between two people, Ali and Leila, at a traditional Iranian restaurant:\n",
      "\n",
      "Ali: سلام، لبخند دیدی؟ (Salâm, labkhând didi?) - Hello, did you enjoy your meal?\n",
      "\n",
      "Leila: سلام، بله خیلی خوشم آمد. غذایی خوبی بود. (Salâm, baleh khosham amad. Ghizaayi khobi bud.) - Hello, yes it was very good. The food was delicious.\n",
      "\n",
      "Ali: خوب بود؟چه میخوردی؟ (Khob bud? Che mikhoradi?) - Good? What are you having?\n",
      "\n",
      "Leila: من کباب و برنج میخورم. تو چی داری؟ (Man kabâb va baranji mikhoram. To chi dari?) - I'm eating kebab and rice. And what about you?\n",
      "\n",
      "Ali: من سیر می‌خورم، البته ماست روزی است. (Man siir mikhoram, âtaâfesh mâst rozi ast.) - I'm having soup, but it's not every day.\n",
      "\n",
      "Leila: خوبه! سیر همیشه خوشم آمد. (Khobeh! Siir hamisha khosham amad.) - Good! Soup is always delicious.\n",
      "\n",
      "Ali: آره، من هم همینطور می‌گویم. و چی فکر می‌کنی؟ (Areh, man hemiin tawr mikhoram. Va chi fâkr mikone?) - Yes, I also say that. And what do you think?\n",
      "\n",
      "Leila: من فکر می‌کنم که این رستوران خیلی خوب است. (Man fârâk mikonam ke in rasturân khili khub ast.) - I think this restaurant is very good.\n",
      "\n",
      "Ali: آره، من هم همینطور می‌گویم. ما باید دوباره برگردیم اینجا. (Areh, man hemiin tawr mikhoram. Mâ bâyad dâfgârdim ânchî.) - Yes, I also say that. We should come back here again.\n",
      "\n",
      "Leila: بله، باید. تاότε که بازم می‌خوریم اینجا. (Baleh, bâyad. Tâ'ôt ke bâzm mikhorim ânchî.) - Yes, we should. Until next time we eat here.\n",
      "\n",
      "In this conversation:\n",
      "\n",
      "* \"سلام\" (Salâm) is a common greeting in Farsi, similar to \"hello\".\n",
      "* \"لبخند دیدی\" (Labkhând didi) means \"did you enjoy your meal?\"\n",
      "* \"بله خیلی خوشم آمد\" (Baleh khosham amad) means \"yes it was very good\".\n",
      "* \"چه میخوردی\" (Che mikhoradi) means \"what are you having?\"\n",
      "* \"من کباب و برنج میخورم\" (Man kabâb va baranji mikhoram) means \"I'm eating kebab and rice.\"\n",
      "* \"تو چی داری\" (To chi dari) means \"and what about you?\"\n",
      "* \"سیر می‌خورم\" (Siir mikhoram) means \"I'm having soup\".\n",
      "* \"ماست روزی است\" (Mâst rozi ast) means \"but it's not every day\".\n",
      "* \"خوبه\" (Khobeh) is an expression meaning \"good\" or \"well done\".\n",
      "* \"سیر همیشه خوشم آمد\" (Siir hamisha khosham amad) means \"soup is always delicious\".\n",
      "* \"آره\" (Areh) is a casual way of saying \"yes\".\n",
      "* \"چی فکر می‌کنی\" (Chi fâkr mikone) means \"what do you think?\"\n",
      "* \"این رستوران خیلی خوب است\" (In rasturân khili khub ast) means \"this restaurant is very good\".\n",
      "* \"باید\" (Bâyad) is an expression meaning \"should\" or \"must\".\n"
     ]
    }
   ],
   "source": [
    "print(response['message']['content'])"
   ]
  },
  {
   "cell_type": "code",
   "execution_count": null,
   "id": "e4f5f09e",
   "metadata": {},
   "outputs": [],
   "source": []
  }
 ],
 "metadata": {
  "kernelspec": {
   "display_name": "Python 3 (ipykernel)",
   "language": "python",
   "name": "python3"
  },
  "language_info": {
   "codemirror_mode": {
    "name": "ipython",
    "version": 3
   },
   "file_extension": ".py",
   "mimetype": "text/x-python",
   "name": "python",
   "nbconvert_exporter": "python",
   "pygments_lexer": "ipython3",
   "version": "3.11.7"
  }
 },
 "nbformat": 4,
 "nbformat_minor": 5
}
