{
 "cells": [
  {
   "cell_type": "markdown",
   "id": "4e8e539b-847d-408b-a249-7aff7b3430ea",
   "metadata": {},
   "source": [
    "## AI summarization of passenger chats\n",
    "\n",
    "This notebook has AI summarization of baly passenger chats using llama3 (ollama APIs) and openAI.\n",
    "The data is downloaded using freshchat rest apis. \n",
    "\n",
    "### Setup\n",
    "\n",
    "You need \n",
    "  1. Input data frame, which has the freshchat data for any given period.\n",
    "  2. openai .env file, which contains api key etc\n",
    "  3. ollama endpoint"
   ]
  },
  {
   "cell_type": "code",
   "execution_count": 15,
   "id": "69d314ed-69b0-48c0-8679-5041d75374d7",
   "metadata": {},
   "outputs": [],
   "source": [
    "%%capture\n",
    "pip install --quiet ollama openai tiktoken"
   ]
  },
  {
   "cell_type": "markdown",
   "id": "749083f2-d280-4a3b-97e7-3b7308002b0f",
   "metadata": {},
   "source": [
    "## Data Load\n",
    "We first load the freshchat data, and then clean it up, to ensure we only have unique conversations, and all boilerplate text is removed."
   ]
  },
  {
   "cell_type": "code",
   "execution_count": 52,
   "id": "6fc3fe78-6db9-4da5-9d52-d760d9c24bf5",
   "metadata": {},
   "outputs": [
    {
     "data": {
      "text/html": [
       "<div>\n",
       "<style scoped>\n",
       "    .dataframe tbody tr th:only-of-type {\n",
       "        vertical-align: middle;\n",
       "    }\n",
       "\n",
       "    .dataframe tbody tr th {\n",
       "        vertical-align: top;\n",
       "    }\n",
       "\n",
       "    .dataframe thead th {\n",
       "        text-align: right;\n",
       "    }\n",
       "</style>\n",
       "<table border=\"1\" class=\"dataframe\">\n",
       "  <thead>\n",
       "    <tr style=\"text-align: right;\">\n",
       "      <th></th>\n",
       "      <th>user_name</th>\n",
       "      <th>conversation_id</th>\n",
       "      <th>messages</th>\n",
       "    </tr>\n",
       "  </thead>\n",
       "  <tbody>\n",
       "    <tr>\n",
       "      <th>0</th>\n",
       "      <td>علي بازوكه</td>\n",
       "      <td>28516b4d-3cef-4270-95b0-43ae1a3139c2</td>\n",
       "      <td>['Conversation reopened due to new incoming me...</td>\n",
       "    </tr>\n",
       "    <tr>\n",
       "      <th>1</th>\n",
       "      <td>هشام</td>\n",
       "      <td>180bba97-f80d-4cb4-b29c-e789620ae9f7</td>\n",
       "      <td>['🖕🖕🖕', 'Conversation was reopened by هشام', '...</td>\n",
       "    </tr>\n",
       "    <tr>\n",
       "      <th>2</th>\n",
       "      <td>علي الموسوي  الموسوي</td>\n",
       "      <td>8e66eba4-46e8-42ce-9ee5-7d092c7f2af9</td>\n",
       "      <td>['Conversation was reopened by علي الموسوي  ال...</td>\n",
       "    </tr>\n",
       "    <tr>\n",
       "      <th>3</th>\n",
       "      <td>همام علي</td>\n",
       "      <td>f9262057-afbc-4527-9b0a-cafb1e0e97d8</td>\n",
       "      <td>['إذا ممكن اني طلبت رحله قبل شهر تقريبا \\nوالو...</td>\n",
       "    </tr>\n",
       "    <tr>\n",
       "      <th>4</th>\n",
       "      <td>عصام ابو عسل</td>\n",
       "      <td>58ea8ba5-c0e8-45b4-a72d-81fd61fe2c15</td>\n",
       "      <td>['Conversation was reopened by عصام ابو عسل', ...</td>\n",
       "    </tr>\n",
       "  </tbody>\n",
       "</table>\n",
       "</div>"
      ],
      "text/plain": [
       "              user_name                       conversation_id  \\\n",
       "0            علي بازوكه  28516b4d-3cef-4270-95b0-43ae1a3139c2   \n",
       "1                  هشام  180bba97-f80d-4cb4-b29c-e789620ae9f7   \n",
       "2  علي الموسوي  الموسوي  8e66eba4-46e8-42ce-9ee5-7d092c7f2af9   \n",
       "3             همام علي   f9262057-afbc-4527-9b0a-cafb1e0e97d8   \n",
       "4          عصام ابو عسل  58ea8ba5-c0e8-45b4-a72d-81fd61fe2c15   \n",
       "\n",
       "                                            messages  \n",
       "0  ['Conversation reopened due to new incoming me...  \n",
       "1  ['🖕🖕🖕', 'Conversation was reopened by هشام', '...  \n",
       "2  ['Conversation was reopened by علي الموسوي  ال...  \n",
       "3  ['إذا ممكن اني طلبت رحله قبل شهر تقريبا \\nوالو...  \n",
       "4  ['Conversation was reopened by عصام ابو عسل', ...  "
      ]
     },
     "execution_count": 52,
     "metadata": {},
     "output_type": "execute_result"
    }
   ],
   "source": [
    "import pandas as pd\n",
    "\n",
    "df = pd.read_csv('data.passenger.20240524.csv', dtype = { 'conversation_id': str, 'user_name': str, 'messages': str},usecols = { 'user_name', 'conversation_id', 'messages' })\n",
    "df.head()"
   ]
  },
  {
   "cell_type": "code",
   "execution_count": 53,
   "id": "a1fa44b0-efea-4106-ab8f-603916126f85",
   "metadata": {},
   "outputs": [
    {
     "data": {
      "text/html": [
       "<div>\n",
       "<style scoped>\n",
       "    .dataframe tbody tr th:only-of-type {\n",
       "        vertical-align: middle;\n",
       "    }\n",
       "\n",
       "    .dataframe tbody tr th {\n",
       "        vertical-align: top;\n",
       "    }\n",
       "\n",
       "    .dataframe thead th {\n",
       "        text-align: right;\n",
       "    }\n",
       "</style>\n",
       "<table border=\"1\" class=\"dataframe\">\n",
       "  <thead>\n",
       "    <tr style=\"text-align: right;\">\n",
       "      <th></th>\n",
       "      <th>user_name</th>\n",
       "      <th>conversation_id</th>\n",
       "      <th>messages</th>\n",
       "    </tr>\n",
       "  </thead>\n",
       "  <tbody>\n",
       "    <tr>\n",
       "      <th>count</th>\n",
       "      <td>681</td>\n",
       "      <td>681</td>\n",
       "      <td>681</td>\n",
       "    </tr>\n",
       "    <tr>\n",
       "      <th>unique</th>\n",
       "      <td>651</td>\n",
       "      <td>681</td>\n",
       "      <td>662</td>\n",
       "    </tr>\n",
       "    <tr>\n",
       "      <th>top</th>\n",
       "      <td>علي</td>\n",
       "      <td>28516b4d-3cef-4270-95b0-43ae1a3139c2</td>\n",
       "      <td>['السلام عليكم']</td>\n",
       "    </tr>\n",
       "    <tr>\n",
       "      <th>freq</th>\n",
       "      <td>4</td>\n",
       "      <td>1</td>\n",
       "      <td>6</td>\n",
       "    </tr>\n",
       "  </tbody>\n",
       "</table>\n",
       "</div>"
      ],
      "text/plain": [
       "       user_name                       conversation_id          messages\n",
       "count        681                                   681               681\n",
       "unique       651                                   681               662\n",
       "top          علي  28516b4d-3cef-4270-95b0-43ae1a3139c2  ['السلام عليكم']\n",
       "freq           4                                     1                 6"
      ]
     },
     "execution_count": 53,
     "metadata": {},
     "output_type": "execute_result"
    }
   ],
   "source": [
    "df = df.drop_duplicates(subset='conversation_id', keep='first')\n",
    "df.describe()"
   ]
  },
  {
   "cell_type": "code",
   "execution_count": 54,
   "id": "9f446abf-e809-479b-8765-8812db1f87d4",
   "metadata": {},
   "outputs": [
    {
     "data": {
      "text/html": [
       "<div>\n",
       "<style scoped>\n",
       "    .dataframe tbody tr th:only-of-type {\n",
       "        vertical-align: middle;\n",
       "    }\n",
       "\n",
       "    .dataframe tbody tr th {\n",
       "        vertical-align: top;\n",
       "    }\n",
       "\n",
       "    .dataframe thead th {\n",
       "        text-align: right;\n",
       "    }\n",
       "</style>\n",
       "<table border=\"1\" class=\"dataframe\">\n",
       "  <thead>\n",
       "    <tr style=\"text-align: right;\">\n",
       "      <th></th>\n",
       "      <th>user_name</th>\n",
       "      <th>conversation_id</th>\n",
       "      <th>messages</th>\n",
       "    </tr>\n",
       "  </thead>\n",
       "  <tbody>\n",
       "    <tr>\n",
       "      <th>0</th>\n",
       "      <td>علي بازوكه</td>\n",
       "      <td>28516b4d-3cef-4270-95b0-43ae1a3139c2</td>\n",
       "      <td>['Conversation reopened due to new incoming me...</td>\n",
       "    </tr>\n",
       "    <tr>\n",
       "      <th>1</th>\n",
       "      <td>هشام</td>\n",
       "      <td>180bba97-f80d-4cb4-b29c-e789620ae9f7</td>\n",
       "      <td>['🖕🖕🖕', 'Conversation was reopened by هشام', '...</td>\n",
       "    </tr>\n",
       "    <tr>\n",
       "      <th>2</th>\n",
       "      <td>علي الموسوي  الموسوي</td>\n",
       "      <td>8e66eba4-46e8-42ce-9ee5-7d092c7f2af9</td>\n",
       "      <td>['Conversation was reopened by علي الموسوي  ال...</td>\n",
       "    </tr>\n",
       "    <tr>\n",
       "      <th>3</th>\n",
       "      <td>همام علي</td>\n",
       "      <td>f9262057-afbc-4527-9b0a-cafb1e0e97d8</td>\n",
       "      <td>['إذا ممكن اني طلبت رحله قبل شهر تقريبا \\nوالو...</td>\n",
       "    </tr>\n",
       "    <tr>\n",
       "      <th>4</th>\n",
       "      <td>عصام ابو عسل</td>\n",
       "      <td>58ea8ba5-c0e8-45b4-a72d-81fd61fe2c15</td>\n",
       "      <td>['Conversation was reopened by عصام ابو عسل', ...</td>\n",
       "    </tr>\n",
       "  </tbody>\n",
       "</table>\n",
       "</div>"
      ],
      "text/plain": [
       "              user_name                       conversation_id  \\\n",
       "0            علي بازوكه  28516b4d-3cef-4270-95b0-43ae1a3139c2   \n",
       "1                  هشام  180bba97-f80d-4cb4-b29c-e789620ae9f7   \n",
       "2  علي الموسوي  الموسوي  8e66eba4-46e8-42ce-9ee5-7d092c7f2af9   \n",
       "3             همام علي   f9262057-afbc-4527-9b0a-cafb1e0e97d8   \n",
       "4          عصام ابو عسل  58ea8ba5-c0e8-45b4-a72d-81fd61fe2c15   \n",
       "\n",
       "                                            messages  \n",
       "0  ['Conversation reopened due to new incoming me...  \n",
       "1  ['🖕🖕🖕', 'Conversation was reopened by هشام', '...  \n",
       "2  ['Conversation was reopened by علي الموسوي  ال...  \n",
       "3  ['إذا ممكن اني طلبت رحله قبل شهر تقريبا \\nوالو...  \n",
       "4  ['Conversation was reopened by عصام ابو عسل', ...  "
      ]
     },
     "execution_count": 54,
     "metadata": {},
     "output_type": "execute_result"
    }
   ],
   "source": [
    "import re\n",
    "removeChatRegex = r\"^(Conversation|التحدث مع موظف الدعم|السلام عليكم).*\"\n",
    "\n",
    "df.head()"
   ]
  },
  {
   "cell_type": "markdown",
   "id": "7a17dc74-c245-45fc-a71f-ce6485a0bf09",
   "metadata": {},
   "source": [
    "Seems like the following is a must do for reading array of strings from the file"
   ]
  },
  {
   "cell_type": "code",
   "execution_count": 55,
   "id": "f0a7a0fe-ac51-4a02-abe0-12291d67d898",
   "metadata": {},
   "outputs": [],
   "source": [
    "from ast import literal_eval\n",
    "df['messages'] = df['messages'].apply(literal_eval)"
   ]
  },
  {
   "cell_type": "code",
   "execution_count": 109,
   "id": "7db4f683-b678-452d-94a5-0e68bd9de5e0",
   "metadata": {},
   "outputs": [
    {
     "name": "stdout",
     "output_type": "stream",
     "text": [
      "['السائق طلب مبلغ إضافي', 'مشكلة في رحلة سابقة', 'الكابتن اخذ  مبلغ اضافي لعب بعداد الكروة']\n"
     ]
    }
   ],
   "source": [
    "print(df['messages'][12])"
   ]
  },
  {
   "cell_type": "code",
   "execution_count": 57,
   "id": "ca1e4c8c-006b-4ce7-82c6-70f12ba731ad",
   "metadata": {},
   "outputs": [],
   "source": [
    "import re\n",
    "\n",
    "def filter_common_strings(array):\n",
    "    filtered_strings = [ 'Conversation reopened due to new incoming message', 'سلام عليكم']\n",
    "    filtered_re = r\"^(Conversation|BLY-).*\"\n",
    "    return [x for x in array if x not in filtered_strings and re.search(filtered_re,x) == None]\n",
    "\n",
    "df['messages'] = df['messages'].apply(filter_common_strings)"
   ]
  },
  {
   "cell_type": "code",
   "execution_count": 58,
   "id": "c4f913d0-02c9-449f-9d21-ae18f204710a",
   "metadata": {},
   "outputs": [
    {
     "data": {
      "text/html": [
       "<div>\n",
       "<style scoped>\n",
       "    .dataframe tbody tr th:only-of-type {\n",
       "        vertical-align: middle;\n",
       "    }\n",
       "\n",
       "    .dataframe tbody tr th {\n",
       "        vertical-align: top;\n",
       "    }\n",
       "\n",
       "    .dataframe thead th {\n",
       "        text-align: right;\n",
       "    }\n",
       "</style>\n",
       "<table border=\"1\" class=\"dataframe\">\n",
       "  <thead>\n",
       "    <tr style=\"text-align: right;\">\n",
       "      <th></th>\n",
       "      <th>user_name</th>\n",
       "      <th>conversation_id</th>\n",
       "      <th>messages</th>\n",
       "    </tr>\n",
       "  </thead>\n",
       "  <tbody>\n",
       "    <tr>\n",
       "      <th>0</th>\n",
       "      <td>علي بازوكه</td>\n",
       "      <td>28516b4d-3cef-4270-95b0-43ae1a3139c2</td>\n",
       "      <td>[نسيت سماعات, نسيت يمه سماعات ودك علي مي جاوب ...</td>\n",
       "    </tr>\n",
       "    <tr>\n",
       "      <th>1</th>\n",
       "      <td>هشام</td>\n",
       "      <td>180bba97-f80d-4cb4-b29c-e789620ae9f7</td>\n",
       "      <td>[🖕🖕🖕, اني دافحص البرنامج همه مرضه يوافقون راسا...</td>\n",
       "    </tr>\n",
       "    <tr>\n",
       "      <th>2</th>\n",
       "      <td>علي الموسوي  الموسوي</td>\n",
       "      <td>8e66eba4-46e8-42ce-9ee5-7d092c7f2af9</td>\n",
       "      <td>[ان شاء الـلَّــــﷻـــه, يرجى الاهتمام بهذه ال...</td>\n",
       "    </tr>\n",
       "    <tr>\n",
       "      <th>3</th>\n",
       "      <td>همام علي</td>\n",
       "      <td>f9262057-afbc-4527-9b0a-cafb1e0e97d8</td>\n",
       "      <td>[إذا ممكن اني طلبت رحله قبل شهر تقريبا \\nوالول...</td>\n",
       "    </tr>\n",
       "    <tr>\n",
       "      <th>4</th>\n",
       "      <td>عصام ابو عسل</td>\n",
       "      <td>58ea8ba5-c0e8-45b4-a72d-81fd61fe2c15</td>\n",
       "      <td>[التحدث مع موظف الدعم]</td>\n",
       "    </tr>\n",
       "  </tbody>\n",
       "</table>\n",
       "</div>"
      ],
      "text/plain": [
       "              user_name                       conversation_id  \\\n",
       "0            علي بازوكه  28516b4d-3cef-4270-95b0-43ae1a3139c2   \n",
       "1                  هشام  180bba97-f80d-4cb4-b29c-e789620ae9f7   \n",
       "2  علي الموسوي  الموسوي  8e66eba4-46e8-42ce-9ee5-7d092c7f2af9   \n",
       "3             همام علي   f9262057-afbc-4527-9b0a-cafb1e0e97d8   \n",
       "4          عصام ابو عسل  58ea8ba5-c0e8-45b4-a72d-81fd61fe2c15   \n",
       "\n",
       "                                            messages  \n",
       "0  [نسيت سماعات, نسيت يمه سماعات ودك علي مي جاوب ...  \n",
       "1  [🖕🖕🖕, اني دافحص البرنامج همه مرضه يوافقون راسا...  \n",
       "2  [ان شاء الـلَّــــﷻـــه, يرجى الاهتمام بهذه ال...  \n",
       "3  [إذا ممكن اني طلبت رحله قبل شهر تقريبا \\nوالول...  \n",
       "4                             [التحدث مع موظف الدعم]  "
      ]
     },
     "execution_count": 58,
     "metadata": {},
     "output_type": "execute_result"
    }
   ],
   "source": [
    "df.head()"
   ]
  },
  {
   "cell_type": "markdown",
   "id": "6a463c5d-3dd4-40d3-aa5b-5b2d66024b62",
   "metadata": {},
   "source": [
    "## OpenAI Summarization"
   ]
  },
  {
   "cell_type": "code",
   "execution_count": 23,
   "id": "5e3aadae-1746-48e1-afc3-261562c93821",
   "metadata": {},
   "outputs": [],
   "source": [
    "%%capture\n",
    "pip install openai"
   ]
  },
  {
   "cell_type": "code",
   "execution_count": 24,
   "id": "336fe29a-5e7b-479a-8b15-3b81b98c3fd4",
   "metadata": {},
   "outputs": [
    {
     "data": {
      "text/plain": [
       "True"
      ]
     },
     "execution_count": 24,
     "metadata": {},
     "output_type": "execute_result"
    }
   ],
   "source": [
    "from openai import AzureOpenAI\n",
    "from dotenv import load_dotenv\n",
    "import os\n",
    "load_dotenv()"
   ]
  },
  {
   "cell_type": "code",
   "execution_count": 25,
   "id": "99e496c3-87d3-4b0f-8dc7-9ce22024741b",
   "metadata": {},
   "outputs": [],
   "source": [
    "aclient = AzureOpenAI(\n",
    "        api_key=os.environ['AZURE_OPENAI_KEY'],\n",
    "        api_version = \"2023-05-15\")\n",
    "\n",
    "deployment=os.environ['AZURE_OPENAI_DEPLOYMENT']\n",
    "ENCODING_MODEL = \"gpt-3.5-turbo\""
   ]
  },
  {
   "cell_type": "code",
   "execution_count": 26,
   "id": "0f96d062-4aac-4926-9ef0-d3e8207758f4",
   "metadata": {},
   "outputs": [
    {
     "name": "stdout",
     "output_type": "stream",
     "text": [
      "3171 \n",
      "\n",
      "نسيت سماعات.نسيت يمه سماعات ودك علي مي جاوب .نسيت أغراضي خلال الرحلة\n",
      "\n",
      "🖕🖕🖕.اني دافحص البرنامج همه مرضه يوافقون راسا حته ما الحك الغي .همه الكباتن ليش يوافقون على رحله نقطة الوصول والانطلاق نفس المكان .دفتح الحظر بابه\n",
      "\n",
      "ان شاء الـلَّــــﷻـــه.يرجى الاهتمام بهذه الامور.فضلا عن نظافة وترتيب السيارة.وكذلك رقم ونوع ولون السيارة.غالبا الكابتن الموجود بالتطبيق يختلف عن الحقيقة\n",
      "\n",
      "إذا ممكن اني طلبت رحله قبل شهر تقريبا \n",
      "والولد بقى يراسلني ويعاكسني وكتله اني مره مزوجه تلافي للمشكله \n",
      "ورجع كل شويه يراسلني اني. معجب بيج \n",
      "ومااذكر يارحله منهم بالضبط\n",
      "بس ارقام ليراسلني منهم عندي.التحدث مع موظف الدعم.رجاءاً كلش محتاجتكم\n",
      "\n",
      "التحدث مع موظف الدعم\n",
      "\n",
      "استفسار عن المحفظة داخل التطبيق.تمام حبيبي .بعد الف كال ماعدي راح اضيفه عل محفضه .حبيبي اطيته خمسه رجعلي الف \n",
      "\n",
      "اي نعم نفس الشي صار بالرحلة الثانية\n",
      "\n",
      "شكراً استاذ.اقتراحي تخفيض الاجور هذا يعود بمردود مادي قوي للشركة ومنافسه مشروعه وعدم قبول طلبات السواق وقتراح اخر تقديم جائزة افضل سائق شهرياً من خلال النقاط والتقييم الممتاز الي يحصل عليه هذا يشجعه على العمل بصورك مستمرة واحترام اخلاقيات المهنه وشكراً.التحدث مع موظف الدعم\n",
      "\n",
      "شكرا الكم.بس اليوم انتبهت مستقطع من التطبيق ودافع كاش نفس الوكت.هو الكروة كاملة اخذهة.اخذ 3500\n",
      "\n",
      "والرحلة بالتطبيق 3000.صديقي دفعت 7000.على هذا الرقم.07724111351.صديقي رحت رحلة والكابتن اخذ مبلغ اضافي \n",
      "كال نطيني اضيفهن الك بالمحفظة \n",
      "واخذهن وكلشي ما حصلت \n",
      "ياريت تشوف المشكلة لان قفصني.استفسار آخر\n",
      "\n",
      "تمام شكراً جزيلاً ❤️.شكراً جزيلاً ويرجى اعلامنا بالتفاصيل للتأكد انو تم محاسبتة حتى نعرف الشركة مع الزبون وتحترم الزبون وانتم شركة رصينه ويجب ان تحفظون كرامة الزبون الي يتعامل وياكم لانو هذا رزقكم\n",
      "\n",
      "السائق طلب مبلغ إضافي.مشكلة في رحلة سابقة.الكابتن اخذ  مبلغ اضافي لعب بعداد الكروة\n",
      "\n",
      "والمفروض يضيف مبلغ 1250 ع المحفظة ضايف بس 1000 اني مو ع الربع بس ميستاهل المبلغ.عطلان اصلاً التبريد ميشتغل سيارة سايبة قديمة اصلاً مترهم واحد يصعد بيهة\n",
      "\n",
      "شتقصد برمز الرحلة.لذلك تصرف بطريقة غير محترمة .اما رحلة اليوم الثلاثاء نزلت من السيارة رفضت ادفع عشرة الاف وكان الكابتن بداية الرحلة وظهرت عندي الاجرة 7250 وعندة ظهرت عشرة الف.كيا فورتي الكابتن مرتضى خليل علوان الرقم 76797.في الرحلة الأولى السائق اخذ الاجرة الي ظهرت عندي 6250 رغم ظهرت عندة عشرة الالف.السلام عليكم عذرا كنت عند الطبيب\n",
      "\n",
      "مو صوجكم.ميصير هيج.اريد اتفتحون الحظر\n",
      "\n",
      "تاريخ ٢٢ مايو.نوع الخدمه بلس .وقت بدء الرحله الساعة ١/٠٩.لديّ مشكلة مع السائق.مشكلة في رحلة سابقة\n",
      "\n",
      "يزيد شي بسيط.ابد مزايد هلكد عندي.حتى اذا تقديري\n",
      "\n",
      "خيارات تعديل تفاصيل الرحلة.مشكلة في رحلة سابقة.هلو .خيارات تعديل تفاصيل الرحلة\n",
      "\n",
      "مرحبا\n",
      "\n",
      "اي والله اخذ مني كاش هم والله العظيم.ممكن اعرف منو ساحبه.عندي فلوس بل مخفضه.مرحبا\n",
      "\n",
      "اي والله ياريت اكون ممنونك لان صدك جنت منتظر الخصم وتالي واستفاد منة 💔.لو قصدك راح تعوضني برمز اخر؟.ماكو رمز اخر صديقي.وما استخدمتة ابد.امس يمكن\n",
      "\n",
      "مصار اي حل للمشكله ؟.تمام شكراً.و السائق بالغلط مع الباقي كان اكو 50 الف زايدة اني منتبهت عليها ولا هوه ف حاب ارجعها.6250.اي نقدي.مرحبا البارحه توصلت مع الدعم علمود اعرف رقم السائق في رحلة من الرحلات لان رجعلي فلوس بالغلط واريد ارجعها الة\n",
      "\n",
      "شنو صار من المشكلة مع السائق.لديّ مشكلة مع السائق.مشكلة في رحلة سابقة.مشكلة في رحلة سابقة\n",
      "\n",
      "شكراً لكم.هذه رمز الرحله الاخيرة BLY-240522-10183-7866.والطلب الاخير انا لم اركب ولم اصل الى وجهتي المحددة ولقد تم اخباري بانه لقد انتهت رحلتك ويرجى تقييم وخسرت التخفيض ايضا.الا بعد مدة انتظار.طلبت بلي وبعدها قال لي التاير بنجر\n",
      "ولم يلغي الطلب من قبله\n",
      "\n",
      "يعني الحساب ماكدر امسحه؟ مو تطبيق بس الحساب.how can i delete my account?.how can i delet a trip history ride\n",
      "\n",
      "الو.نسيت أغراضي خلال الرحلة.مشكلة في رحلة سابقة\n",
      "\n",
      "شكرا جزيلا اخي ونعتذر عن الأخطاء التي حصلت.. .ممكن اعرف السبب.عزيزي هسة جاي اطلب تكسي بس يطلعلي تم حضر المستخدم \n",
      "\n",
      "شكرا جزيلا نحن نستخدم التطبيق بشكل يومي لتوفر الخدمات المتميزه لكن بعض الكباتن مع الأسف يكون تعاملهم بشكل سيئ لكن لن نعتبرهم يمثلون الشركه \n",
      "\n",
      "شكرا اخي\n",
      "\n",
      "وكلش اشكركم ع تعاونكم.استفسار آخر.رمز الرحلة ما اعرفه لكن الغرض مطارة وهية هدية فعزيزة عليه\n"
     ]
    }
   ],
   "source": [
    "import tiktoken\n",
    "tokenizer = tiktoken.encoding_for_model('gpt-3.5-turbo')\n",
    "\n",
    "context = ''\n",
    "token_length = 0\n",
    "\n",
    "for x in df['messages']:\n",
    "    chat = '.'.join(x)\n",
    "    token_length += len(tokenizer.encode(chat))\n",
    "    if token_length >= 3000:\n",
    "        break\n",
    "    context += '\\n\\n' + chat\n",
    "\n",
    "print(token_length,context)"
   ]
  },
  {
   "cell_type": "code",
   "execution_count": 124,
   "id": "0a6303ac-f8bd-4b6a-a29f-e10dca67dcfd",
   "metadata": {},
   "outputs": [],
   "source": [
    "systemPrompt = \"You are an arabic  expert working for Baly, a ride hailing company in Iraq\"\n",
    "def get_completion(prompt):\n",
    "    messages = [\n",
    "                {\"role\": \"system\", \"content\": systemPrompt},\n",
    "                {\"role\":\"user\", \"content\":prompt}\n",
    "               ]\n",
    "    response = aclient.chat.completions.create(\n",
    "            model = deployment,\n",
    "            messages = messages,\n",
    "            temperature = 0)\n",
    "   #         max_tokens = 900)\n",
    "    return response.choices[0].message.content"
   ]
  },
  {
   "cell_type": "code",
   "execution_count": 28,
   "id": "153601f8-869a-4c68-9b15-a6aa6b7089c3",
   "metadata": {},
   "outputs": [
    {
     "name": "stdout",
     "output_type": "stream",
     "text": [
      "Insight 1: Improve driver behavior and professionalism\n",
      "- Conversation: إذا ممكن اني طلبت رحله قبل شهر تقريبا والولد بقى يراسلني ويعاكسني وكتله اني مره مزوجه تلافي للمشكله ورجع كل شويه يراسلني اني. معجب بيج\n",
      "- Translation: If possible, I requested a ride about a month ago and the driver kept messaging me and harassing me, saying that I'm married to avoid the problem. He keeps messaging me every now and then, saying that I like him. \n",
      "\n",
      "Insight 2: Improve customer support response time and effectiveness\n",
      "- Conversation: استفسار عن المحفظة داخل التطبيق.تمام حبيبي .بعد الف كال ماعدي راح اضيفه عل محفضه .حبيبي اطيته خمسه رجعلي الف\n",
      "- Translation: Inquiry about the wallet inside the app. Okay, my dear. After a thousand calls, I still haven't added it to the wallet. I gave him five, he returned a thousand.\n",
      "\n",
      "Insight 3: Address issues with fare calculation and payment discrepancies\n",
      "- Conversation: والرحلة بالتطبيق 3000.صديقي دفعت 7000.على هذا الرقم.07724111351.صديقي رحت رحلة والكابتن اخذ مبلغ اضافي كال نطيني اضيفهن الك بالمحفظة واخذهن وكلشي ما حصلت\n",
      "- Translation: The trip in the app was 3000. My friend paid 7000. On this number 07724111351. My friend took a trip and the driver took an extra amount. He told me to add it to the wallet, but I added it and didn't receive anything.\n",
      "\n",
      "Insight 4: Enhance app features for trip details and driver information\n",
      "- Conversation: شنو صار من المشكلة مع السائق.لديّ مشكلة مع السائق.مشكلة في رحلة سابقة.مشكلة في رحلة سابقة\n",
      "- Translation: What happened with the issue with the driver? I have a problem with the driver. Problem in a previous trip. Problem in a previous trip.\n",
      "\n",
      "Insight 5: Improve overall customer experience and satisfaction\n",
      "- Conversation: شكرا جزيلا اخي ونعتذر عن الأخطاء التي حصلت.. .ممكن اعرف السبب.عزيزي هسة جاي اطلب تكسي بس يطلعلي تم حضر المستخدم\n",
      "- Translation: Thank you very much, brother, and we apologize for the mistakes that occurred. Can I know the reason? Dear, now I'm trying to request a taxi, but it shows \"user arrived.\"\n",
      "\n",
      "Note: The conversations provided are translated from Arabic to English and may not be an exact representation of the original text.\n"
     ]
    }
   ],
   "source": [
    "prompt = f\"\"\"\n",
    "        Each line representas a conversation, containing messages from a single user in a session. Generate top 5 actionable insights for management. \n",
    "        For each of your insights, you must include conversations with original text and its english translation that best support it..\n",
    "        ```{context}```\n",
    "         \"\"\"\n",
    "response = get_completion(prompt)\n",
    "print(response)"
   ]
  },
  {
   "cell_type": "markdown",
   "id": "026f34cd-5978-40ff-8749-60464eaa817c",
   "metadata": {},
   "source": [
    "## Using Llama3\n",
    "\n",
    "Now let's try to do the same summarization using llama3 on ollama. "
   ]
  },
  {
   "cell_type": "code",
   "execution_count": 10,
   "id": "93f6fe5c-f925-4e8f-ad06-fc194401cb0e",
   "metadata": {},
   "outputs": [
    {
     "name": "stdout",
     "output_type": "stream",
     "text": [
      "Note: you may need to restart the kernel to use updated packages.\n"
     ]
    }
   ],
   "source": [
    "%pip install --upgrade --quiet ollama langchain-text-splitters"
   ]
  },
  {
   "cell_type": "code",
   "execution_count": 59,
   "id": "fd4130d8-fb08-430a-bca8-20cf8e31de49",
   "metadata": {},
   "outputs": [
    {
     "name": "stderr",
     "output_type": "stream",
     "text": [
      "/Users/qasim/miniconda3/lib/python3.11/site-packages/huggingface_hub/file_download.py:1132: FutureWarning: `resume_download` is deprecated and will be removed in version 1.0.0. Downloads always resume when possible. If you want to force a new download, use `force_download=True`.\n",
      "  warnings.warn(\n"
     ]
    },
    {
     "name": "stdout",
     "output_type": "stream",
     "text": [
      "3016\n"
     ]
    }
   ],
   "source": [
    "from langchain_text_splitters import SentenceTransformersTokenTextSplitter\n",
    "\n",
    "splitter = SentenceTransformersTokenTextSplitter(chunk_overlap=0)\n",
    "\n",
    "print(splitter.count_tokens(text=prompt))"
   ]
  },
  {
   "cell_type": "code",
   "execution_count": 60,
   "id": "d8563c03-d62f-4ce6-b37f-f23676e00178",
   "metadata": {},
   "outputs": [],
   "source": [
    "import ollama\n",
    "\n",
    "ollamaBase = 'http://ollama-alibo-gpu-testing.apps.private.okd4.teh-2.snappcloud.io/'\n",
    "llmModel = 'llama3'\n",
    "client = ollama.Client(ollamaBase)\n",
    "\n",
    "def ollama_llm(prompt):\n",
    "    response = client.chat(model=llmModel, options = { 'temperature': 0}, messages=[{'role': 'system', 'content': systemPrompt},{'role': 'user', 'content': prompt}])\n",
    "    return response['message']['content']"
   ]
  },
  {
   "cell_type": "code",
   "execution_count": 68,
   "id": "3d8270bc-533c-4ada-8146-69f5adb291ce",
   "metadata": {},
   "outputs": [
    {
     "name": "stdout",
     "output_type": "stream",
     "text": [
      "reached max length 7107\n"
     ]
    }
   ],
   "source": [
    "olmcontext = ''\n",
    "token_length = 0\n",
    "for x in df['messages']:\n",
    "    chat = '.'.join(x)\n",
    "    token_length += splitter.count_tokens(text=chat)\n",
    "    if token_length >= 7000:\n",
    "        print(\"reached max length\",token_length)\n",
    "        break\n",
    "    olmcontext += '\\n\\n' + chat\n",
    "\n",
    "llmprompt = f\"\"\"\n",
    "        Each line representas a conversation, containing messages from a single user in a session. Generate top 5 actionable insights for management. \n",
    "        For each of your insights, you must include conversations with original text and its english translation that best support it..\n",
    "        ```{olmcontext}```\n",
    "         \"\"\""
   ]
  },
  {
   "cell_type": "code",
   "execution_count": 69,
   "id": "b53009e3-579f-4089-a520-86bfb69d1c76",
   "metadata": {},
   "outputs": [
    {
     "name": "stdout",
     "output_type": "stream",
     "text": [
      "I'm happy to help you with your ride-hailing company's CSAT score improvement! As an expert analyst, I'll provide you with some insights and suggestions based on the data you've shared.\n",
      "\n",
      "Firstly, it seems that there are some issues with the driver's behavior, such as not following the route correctly, taking a longer route than necessary, and not providing a smooth ride. This could be affecting the overall CSAT score of your company.\n",
      "\n",
      "To improve the CSAT score, I would suggest implementing some changes to the driver training program. For instance, you could provide additional training on navigation and route optimization, as well as emphasize the importance of providing a smooth ride for passengers.\n",
      "\n",
      "Additionally, it might be helpful to implement a system that allows passengers to rate their drivers after each trip. This would give you valuable feedback on how your drivers are performing and allow you to identify any areas where they may need additional training or support.\n",
      "\n",
      "It's also important to ensure that your company is providing a high level of customer service to your passengers. This could include things like offering real-time updates on the status of their trip, providing clear instructions on how to get to their destination, and having a system in place for handling any issues that may arise during the trip.\n",
      "\n",
      "I hope these suggestions are helpful! Let me know if you have any further questions or concerns.\n"
     ]
    }
   ],
   "source": [
    "print(ollama_llm(llmprompt))"
   ]
  },
  {
   "cell_type": "markdown",
   "id": "0fed9458-51c8-4feb-8801-273222ec0571",
   "metadata": {},
   "source": [
    "### Classification"
   ]
  },
  {
   "cell_type": "markdown",
   "id": "edf9f81d-79d9-4ab2-8b3c-1dbc0865a1bb",
   "metadata": {},
   "source": [
    "Todo: Need to introduce function calling here to make the responses structured."
   ]
  },
  {
   "cell_type": "code",
   "execution_count": 70,
   "id": "7a1bc209-b8b9-4010-8b5a-c044dc883c63",
   "metadata": {},
   "outputs": [],
   "source": [
    "from langchain_experimental.llms.ollama_functions import OllamaFunctions\n",
    "from langchain_core.pydantic_v1 import BaseModel"
   ]
  },
  {
   "cell_type": "code",
   "execution_count": 147,
   "id": "ccd423d6-30f7-4d90-a300-97fd98439c1a",
   "metadata": {},
   "outputs": [],
   "source": [
    "zero_shot_prompt = '''\n",
    "You are analysing all chats with customer support and classifying them into one of six categories.\n",
    "The six categories are Fare dispute, Payment Issue, Forgot an item, Map/Pickup issues, Different Driver/Car, Acceptance/Cancellation issue\n",
    "If you can't tell what it is, say Could not classify. Below are some examples for each category\n",
    "\n",
    "Fare Dispute: Driver charged more, incorrect fare, didn't return money/amount to wallet\n",
    "Map/Pickup issues: Can't find Driver, route taken was incorrect, can't find address on app\n",
    "Acceptance/Cancellation issue: Driver cancelled ride/asked to cancel\n",
    "Payment Issue: Problems making payments\n",
    "Different Driver/Car: Mismatch of plate number or driver \n",
    "\n",
    "Chat:\n",
    "\n",
    "{0}\n",
    "\n",
    "The classification is:'''\n",
    "\n",
    "def classify(query):\\\n",
    "    return ollama_llm(zero_shot_prompt.format(query))\n",
    "\n"
   ]
  },
  {
   "cell_type": "code",
   "execution_count": 158,
   "id": "d829e824-d13d-425e-9866-6798415bb912",
   "metadata": {},
   "outputs": [
    {
     "name": "stderr",
     "output_type": "stream",
     "text": [
      "/var/folders/f7/_ndzn5k10kj_r8xg8m439nwc0000gn/T/ipykernel_3702/1333682486.py:3: SettingWithCopyWarning: \n",
      "A value is trying to be set on a copy of a slice from a DataFrame.\n",
      "Try using .loc[row_indexer,col_indexer] = value instead\n",
      "\n",
      "See the caveats in the documentation: https://pandas.pydata.org/pandas-docs/stable/user_guide/indexing.html#returning-a-view-versus-a-copy\n",
      "  pdf['class'] = [ classify(x) for x in pdf['messages'] ]\n"
     ]
    },
    {
     "data": {
      "text/html": [
       "<div>\n",
       "<style scoped>\n",
       "    .dataframe tbody tr th:only-of-type {\n",
       "        vertical-align: middle;\n",
       "    }\n",
       "\n",
       "    .dataframe tbody tr th {\n",
       "        vertical-align: top;\n",
       "    }\n",
       "\n",
       "    .dataframe thead th {\n",
       "        text-align: right;\n",
       "    }\n",
       "</style>\n",
       "<table border=\"1\" class=\"dataframe\">\n",
       "  <thead>\n",
       "    <tr style=\"text-align: right;\">\n",
       "      <th></th>\n",
       "      <th>user_name</th>\n",
       "      <th>conversation_id</th>\n",
       "      <th>messages</th>\n",
       "      <th>class</th>\n",
       "    </tr>\n",
       "  </thead>\n",
       "  <tbody>\n",
       "    <tr>\n",
       "      <th>0</th>\n",
       "      <td>علي بازوكه</td>\n",
       "      <td>28516b4d-3cef-4270-95b0-43ae1a3139c2</td>\n",
       "      <td>[نسيت سماعات, نسيت يمه سماعات ودك علي مي جاوب ...</td>\n",
       "      <td>Based on the chat, I would classify it as \"For...</td>\n",
       "    </tr>\n",
       "    <tr>\n",
       "      <th>1</th>\n",
       "      <td>هشام</td>\n",
       "      <td>180bba97-f80d-4cb4-b29c-e789620ae9f7</td>\n",
       "      <td>[🖕🖕🖕, اني دافحص البرنامج همه مرضه يوافقون راسا...</td>\n",
       "      <td>Could not classify. The chat appears to be in ...</td>\n",
       "    </tr>\n",
       "    <tr>\n",
       "      <th>2</th>\n",
       "      <td>علي الموسوي  الموسوي</td>\n",
       "      <td>8e66eba4-46e8-42ce-9ee5-7d092c7f2af9</td>\n",
       "      <td>[ان شاء الـلَّــــﷻـــه, يرجى الاهتمام بهذه ال...</td>\n",
       "      <td>Based on the chat, I would classify it as \"Dif...</td>\n",
       "    </tr>\n",
       "    <tr>\n",
       "      <th>3</th>\n",
       "      <td>همام علي</td>\n",
       "      <td>f9262057-afbc-4527-9b0a-cafb1e0e97d8</td>\n",
       "      <td>[إذا ممكن اني طلبت رحله قبل شهر تقريبا \\nوالول...</td>\n",
       "      <td>Could not classify. The chat appears to be a c...</td>\n",
       "    </tr>\n",
       "    <tr>\n",
       "      <th>4</th>\n",
       "      <td>عصام ابو عسل</td>\n",
       "      <td>58ea8ba5-c0e8-45b4-a72d-81fd61fe2c15</td>\n",
       "      <td>[التحدث مع موظف الدعم]</td>\n",
       "      <td>Could not classify. The chat appears to be a g...</td>\n",
       "    </tr>\n",
       "    <tr>\n",
       "      <th>5</th>\n",
       "      <td>بقع</td>\n",
       "      <td>d46cbb0c-f693-42a1-96e2-cb8f0b97d80e</td>\n",
       "      <td>[استفسار عن المحفظة داخل التطبيق, تمام حبيبي ,...</td>\n",
       "      <td>Could not classify. The chat appears to be a c...</td>\n",
       "    </tr>\n",
       "    <tr>\n",
       "      <th>6</th>\n",
       "      <td>Esraa Alhayali</td>\n",
       "      <td>d1cab72e-7129-4ea5-9f09-97f240f7510e</td>\n",
       "      <td>[اي نعم نفس الشي صار بالرحلة الثانية]</td>\n",
       "      <td>Could not classify. The chat message appears t...</td>\n",
       "    </tr>\n",
       "    <tr>\n",
       "      <th>7</th>\n",
       "      <td>marwa</td>\n",
       "      <td>5e17693a-9081-4fcf-a48b-36c8208a8f33</td>\n",
       "      <td>[شكراً استاذ, اقتراحي تخفيض الاجور هذا يعود بم...</td>\n",
       "      <td>Could not classify. The chat appears to be a t...</td>\n",
       "    </tr>\n",
       "    <tr>\n",
       "      <th>8</th>\n",
       "      <td>عبدالله حسام</td>\n",
       "      <td>f4ecb87d-4ecf-4c0b-a1f4-77119c6b5f31</td>\n",
       "      <td>[شكرا الكم, بس اليوم انتبهت مستقطع من التطبيق ...</td>\n",
       "      <td>Based on the chat, I would classify it as:\\n\\n...</td>\n",
       "    </tr>\n",
       "    <tr>\n",
       "      <th>9</th>\n",
       "      <td>عبود</td>\n",
       "      <td>d0218a6d-bee0-4e50-ac48-ecb4815379a6</td>\n",
       "      <td>[والرحلة بالتطبيق 3000, صديقي دفعت 7000, على ه...</td>\n",
       "      <td>Fare Dispute\\n\\nReasoning: The customer is com...</td>\n",
       "    </tr>\n",
       "    <tr>\n",
       "      <th>10</th>\n",
       "      <td>Ahmed  Fouad</td>\n",
       "      <td>caaffc88-e710-41aa-aa3e-9a004800bd07</td>\n",
       "      <td>[تمام شكراً جزيلاً ❤️, شكراً جزيلاً ويرجى اعلا...</td>\n",
       "      <td>Could not classify. The chat appears to be a t...</td>\n",
       "    </tr>\n",
       "    <tr>\n",
       "      <th>12</th>\n",
       "      <td>أبو صلاح</td>\n",
       "      <td>b3e5d6bb-067c-40c1-a004-3950be7dc991</td>\n",
       "      <td>[السائق طلب مبلغ إضافي, مشكلة في رحلة سابقة, ا...</td>\n",
       "      <td>Based on the chat, I would classify it as:\\n\\n...</td>\n",
       "    </tr>\n",
       "    <tr>\n",
       "      <th>13</th>\n",
       "      <td>Tabark</td>\n",
       "      <td>b2cd2330-b065-4f8e-aa57-7d41eee21a80</td>\n",
       "      <td>[والمفروض يضيف مبلغ 1250 ع المحفظة ضايف بس 100...</td>\n",
       "      <td>Based on the chat, I would classify it as:\\n\\n...</td>\n",
       "    </tr>\n",
       "    <tr>\n",
       "      <th>14</th>\n",
       "      <td>ام دارين</td>\n",
       "      <td>b72163a0-100f-438a-a725-0616aa451ae0</td>\n",
       "      <td>[شتقصد برمز الرحلة, لذلك تصرف بطريقة غير محترم...</td>\n",
       "      <td>Based on the chat, I would classify it as:\\n\\n...</td>\n",
       "    </tr>\n",
       "    <tr>\n",
       "      <th>15</th>\n",
       "      <td>mary mohammed</td>\n",
       "      <td>667bc855-7bcf-487e-966d-0432785994a2</td>\n",
       "      <td>[مو صوجكم, ميصير هيج, اريد اتفتحون الحظر]</td>\n",
       "      <td>Could not classify. The chat appears to be in ...</td>\n",
       "    </tr>\n",
       "    <tr>\n",
       "      <th>17</th>\n",
       "      <td>عباس عامر محمد</td>\n",
       "      <td>e3fc3505-6aa9-40d5-b1c1-0227515f3d26</td>\n",
       "      <td>[تاريخ ٢٢ مايو, نوع الخدمه بلس , وقت بدء الرحل...</td>\n",
       "      <td>Based on the chat, I would classify it as:\\n\\n...</td>\n",
       "    </tr>\n",
       "    <tr>\n",
       "      <th>18</th>\n",
       "      <td>ruqayasudad</td>\n",
       "      <td>ab2914b5-7f39-4a32-94fd-ce78d0fb209a</td>\n",
       "      <td>[يزيد شي بسيط, ابد مزايد هلكد عندي, حتى اذا تق...</td>\n",
       "      <td>Could not classify. The chat appears to be in ...</td>\n",
       "    </tr>\n",
       "    <tr>\n",
       "      <th>19</th>\n",
       "      <td>امجد سراب راضي</td>\n",
       "      <td>09eaaa78-b336-4b50-9466-77bb8240f458</td>\n",
       "      <td>[خيارات تعديل تفاصيل الرحلة, مشكلة في رحلة ساب...</td>\n",
       "      <td>Could not classify. The chat appears to be a s...</td>\n",
       "    </tr>\n",
       "    <tr>\n",
       "      <th>20</th>\n",
       "      <td>Ano</td>\n",
       "      <td>9b04243d-ed6b-47c8-b76e-7f12a710a6b8</td>\n",
       "      <td>[مرحبا]</td>\n",
       "      <td>Could not classify. The chat only contains a g...</td>\n",
       "    </tr>\n",
       "    <tr>\n",
       "      <th>21</th>\n",
       "      <td>يسر العبيدي</td>\n",
       "      <td>82076185-c1b7-40a9-8c5d-b581f4f3dac3</td>\n",
       "      <td>[اي والله اخذ مني كاش هم والله العظيم, ممكن اع...</td>\n",
       "      <td>Could not classify. The chat appears to be in ...</td>\n",
       "    </tr>\n",
       "  </tbody>\n",
       "</table>\n",
       "</div>"
      ],
      "text/plain": [
       "               user_name                       conversation_id  \\\n",
       "0             علي بازوكه  28516b4d-3cef-4270-95b0-43ae1a3139c2   \n",
       "1                   هشام  180bba97-f80d-4cb4-b29c-e789620ae9f7   \n",
       "2   علي الموسوي  الموسوي  8e66eba4-46e8-42ce-9ee5-7d092c7f2af9   \n",
       "3              همام علي   f9262057-afbc-4527-9b0a-cafb1e0e97d8   \n",
       "4           عصام ابو عسل  58ea8ba5-c0e8-45b4-a72d-81fd61fe2c15   \n",
       "5                    بقع  d46cbb0c-f693-42a1-96e2-cb8f0b97d80e   \n",
       "6        Esraa Alhayali   d1cab72e-7129-4ea5-9f09-97f240f7510e   \n",
       "7                  marwa  5e17693a-9081-4fcf-a48b-36c8208a8f33   \n",
       "8           عبدالله حسام  f4ecb87d-4ecf-4c0b-a1f4-77119c6b5f31   \n",
       "9                  عبود   d0218a6d-bee0-4e50-ac48-ecb4815379a6   \n",
       "10         Ahmed  Fouad   caaffc88-e710-41aa-aa3e-9a004800bd07   \n",
       "12              أبو صلاح  b3e5d6bb-067c-40c1-a004-3950be7dc991   \n",
       "13               Tabark   b2cd2330-b065-4f8e-aa57-7d41eee21a80   \n",
       "14              ام دارين  b72163a0-100f-438a-a725-0616aa451ae0   \n",
       "15         mary mohammed  667bc855-7bcf-487e-966d-0432785994a2   \n",
       "17        عباس عامر محمد  e3fc3505-6aa9-40d5-b1c1-0227515f3d26   \n",
       "18           ruqayasudad  ab2914b5-7f39-4a32-94fd-ce78d0fb209a   \n",
       "19        امجد سراب راضي  09eaaa78-b336-4b50-9466-77bb8240f458   \n",
       "20                   Ano  9b04243d-ed6b-47c8-b76e-7f12a710a6b8   \n",
       "21          يسر العبيدي   82076185-c1b7-40a9-8c5d-b581f4f3dac3   \n",
       "\n",
       "                                             messages  \\\n",
       "0   [نسيت سماعات, نسيت يمه سماعات ودك علي مي جاوب ...   \n",
       "1   [🖕🖕🖕, اني دافحص البرنامج همه مرضه يوافقون راسا...   \n",
       "2   [ان شاء الـلَّــــﷻـــه, يرجى الاهتمام بهذه ال...   \n",
       "3   [إذا ممكن اني طلبت رحله قبل شهر تقريبا \\nوالول...   \n",
       "4                              [التحدث مع موظف الدعم]   \n",
       "5   [استفسار عن المحفظة داخل التطبيق, تمام حبيبي ,...   \n",
       "6               [اي نعم نفس الشي صار بالرحلة الثانية]   \n",
       "7   [شكراً استاذ, اقتراحي تخفيض الاجور هذا يعود بم...   \n",
       "8   [شكرا الكم, بس اليوم انتبهت مستقطع من التطبيق ...   \n",
       "9   [والرحلة بالتطبيق 3000, صديقي دفعت 7000, على ه...   \n",
       "10  [تمام شكراً جزيلاً ❤️, شكراً جزيلاً ويرجى اعلا...   \n",
       "12  [السائق طلب مبلغ إضافي, مشكلة في رحلة سابقة, ا...   \n",
       "13  [والمفروض يضيف مبلغ 1250 ع المحفظة ضايف بس 100...   \n",
       "14  [شتقصد برمز الرحلة, لذلك تصرف بطريقة غير محترم...   \n",
       "15          [مو صوجكم, ميصير هيج, اريد اتفتحون الحظر]   \n",
       "17  [تاريخ ٢٢ مايو, نوع الخدمه بلس , وقت بدء الرحل...   \n",
       "18  [يزيد شي بسيط, ابد مزايد هلكد عندي, حتى اذا تق...   \n",
       "19  [خيارات تعديل تفاصيل الرحلة, مشكلة في رحلة ساب...   \n",
       "20                                            [مرحبا]   \n",
       "21  [اي والله اخذ مني كاش هم والله العظيم, ممكن اع...   \n",
       "\n",
       "                                                class  \n",
       "0   Based on the chat, I would classify it as \"For...  \n",
       "1   Could not classify. The chat appears to be in ...  \n",
       "2   Based on the chat, I would classify it as \"Dif...  \n",
       "3   Could not classify. The chat appears to be a c...  \n",
       "4   Could not classify. The chat appears to be a g...  \n",
       "5   Could not classify. The chat appears to be a c...  \n",
       "6   Could not classify. The chat message appears t...  \n",
       "7   Could not classify. The chat appears to be a t...  \n",
       "8   Based on the chat, I would classify it as:\\n\\n...  \n",
       "9   Fare Dispute\\n\\nReasoning: The customer is com...  \n",
       "10  Could not classify. The chat appears to be a t...  \n",
       "12  Based on the chat, I would classify it as:\\n\\n...  \n",
       "13  Based on the chat, I would classify it as:\\n\\n...  \n",
       "14  Based on the chat, I would classify it as:\\n\\n...  \n",
       "15  Could not classify. The chat appears to be in ...  \n",
       "17  Based on the chat, I would classify it as:\\n\\n...  \n",
       "18  Could not classify. The chat appears to be in ...  \n",
       "19  Could not classify. The chat appears to be a s...  \n",
       "20  Could not classify. The chat only contains a g...  \n",
       "21  Could not classify. The chat appears to be in ...  "
      ]
     },
     "execution_count": 158,
     "metadata": {},
     "output_type": "execute_result"
    }
   ],
   "source": [
    "from tqdm import tqdm\n",
    "pdf = df.head(20)\n",
    "pdf['class'] = [ classify(x) for x in pdf['messages'] ]\n",
    "pdf.head(20)"
   ]
  },
  {
   "cell_type": "code",
   "execution_count": null,
   "id": "b1f0e4d8-9b2d-4698-8b8f-67db8af3b584",
   "metadata": {},
   "outputs": [],
   "source": []
  }
 ],
 "metadata": {
  "kernelspec": {
   "display_name": "Python 3 (ipykernel)",
   "language": "python",
   "name": "python3"
  },
  "language_info": {
   "codemirror_mode": {
    "name": "ipython",
    "version": 3
   },
   "file_extension": ".py",
   "mimetype": "text/x-python",
   "name": "python",
   "nbconvert_exporter": "python",
   "pygments_lexer": "ipython3",
   "version": "3.11.8"
  }
 },
 "nbformat": 4,
 "nbformat_minor": 5
}
