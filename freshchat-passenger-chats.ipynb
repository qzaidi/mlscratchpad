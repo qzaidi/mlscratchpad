{
 "cells": [
  {
   "cell_type": "markdown",
   "id": "4e8e539b-847d-408b-a249-7aff7b3430ea",
   "metadata": {},
   "source": [
    "## AI summarization of passenger chats\n",
    "\n",
    "This notebook has AI summarization of baly passenger chats using llama3 (ollama APIs) and openAI.\n",
    "The data is downloaded using freshchat rest apis. \n",
    "\n",
    "### Setup\n",
    "\n",
    "You need \n",
    "  1. Input data frame, which has the freshchat data for any given period.\n",
    "  2. openai .env file, which contains api key etc\n",
    "  3. ollama endpoint"
   ]
  },
  {
   "cell_type": "code",
   "execution_count": 2,
   "id": "69d314ed-69b0-48c0-8679-5041d75374d7",
   "metadata": {},
   "outputs": [],
   "source": [
    "%%capture\n",
    "pip install ollama openai"
   ]
  },
  {
   "cell_type": "markdown",
   "id": "749083f2-d280-4a3b-97e7-3b7308002b0f",
   "metadata": {},
   "source": [
    "## Data Load\n",
    "We first load the freshchat data, and then clean it up, to ensure we only have unique conversations, and all boilerplate text is removed."
   ]
  },
  {
   "cell_type": "code",
   "execution_count": 43,
   "id": "6fc3fe78-6db9-4da5-9d52-d760d9c24bf5",
   "metadata": {},
   "outputs": [
    {
     "data": {
      "text/html": [
       "<div>\n",
       "<style scoped>\n",
       "    .dataframe tbody tr th:only-of-type {\n",
       "        vertical-align: middle;\n",
       "    }\n",
       "\n",
       "    .dataframe tbody tr th {\n",
       "        vertical-align: top;\n",
       "    }\n",
       "\n",
       "    .dataframe thead th {\n",
       "        text-align: right;\n",
       "    }\n",
       "</style>\n",
       "<table border=\"1\" class=\"dataframe\">\n",
       "  <thead>\n",
       "    <tr style=\"text-align: right;\">\n",
       "      <th></th>\n",
       "      <th>user_name</th>\n",
       "      <th>conversation_id</th>\n",
       "      <th>messages</th>\n",
       "    </tr>\n",
       "  </thead>\n",
       "  <tbody>\n",
       "    <tr>\n",
       "      <th>0</th>\n",
       "      <td>علي بازوكه</td>\n",
       "      <td>28516b4d-3cef-4270-95b0-43ae1a3139c2</td>\n",
       "      <td>['Conversation reopened due to new incoming me...</td>\n",
       "    </tr>\n",
       "    <tr>\n",
       "      <th>1</th>\n",
       "      <td>هشام</td>\n",
       "      <td>180bba97-f80d-4cb4-b29c-e789620ae9f7</td>\n",
       "      <td>['🖕🖕🖕', 'Conversation was reopened by هشام', '...</td>\n",
       "    </tr>\n",
       "    <tr>\n",
       "      <th>2</th>\n",
       "      <td>علي الموسوي  الموسوي</td>\n",
       "      <td>8e66eba4-46e8-42ce-9ee5-7d092c7f2af9</td>\n",
       "      <td>['Conversation was reopened by علي الموسوي  ال...</td>\n",
       "    </tr>\n",
       "    <tr>\n",
       "      <th>3</th>\n",
       "      <td>همام علي</td>\n",
       "      <td>f9262057-afbc-4527-9b0a-cafb1e0e97d8</td>\n",
       "      <td>['إذا ممكن اني طلبت رحله قبل شهر تقريبا \\nوالو...</td>\n",
       "    </tr>\n",
       "    <tr>\n",
       "      <th>4</th>\n",
       "      <td>عصام ابو عسل</td>\n",
       "      <td>58ea8ba5-c0e8-45b4-a72d-81fd61fe2c15</td>\n",
       "      <td>['Conversation was reopened by عصام ابو عسل', ...</td>\n",
       "    </tr>\n",
       "  </tbody>\n",
       "</table>\n",
       "</div>"
      ],
      "text/plain": [
       "              user_name                       conversation_id  \\\n",
       "0            علي بازوكه  28516b4d-3cef-4270-95b0-43ae1a3139c2   \n",
       "1                  هشام  180bba97-f80d-4cb4-b29c-e789620ae9f7   \n",
       "2  علي الموسوي  الموسوي  8e66eba4-46e8-42ce-9ee5-7d092c7f2af9   \n",
       "3             همام علي   f9262057-afbc-4527-9b0a-cafb1e0e97d8   \n",
       "4          عصام ابو عسل  58ea8ba5-c0e8-45b4-a72d-81fd61fe2c15   \n",
       "\n",
       "                                            messages  \n",
       "0  ['Conversation reopened due to new incoming me...  \n",
       "1  ['🖕🖕🖕', 'Conversation was reopened by هشام', '...  \n",
       "2  ['Conversation was reopened by علي الموسوي  ال...  \n",
       "3  ['إذا ممكن اني طلبت رحله قبل شهر تقريبا \\nوالو...  \n",
       "4  ['Conversation was reopened by عصام ابو عسل', ...  "
      ]
     },
     "execution_count": 43,
     "metadata": {},
     "output_type": "execute_result"
    }
   ],
   "source": [
    "import pandas as pd\n",
    "\n",
    "df = pd.read_csv('data.passenger.20240524.csv', dtype = { 'conversation_id': str, 'user_name': str, 'messages': str},usecols = { 'user_name', 'conversation_id', 'messages' })\n",
    "df.head()"
   ]
  },
  {
   "cell_type": "code",
   "execution_count": 73,
   "id": "a1fa44b0-efea-4106-ab8f-603916126f85",
   "metadata": {},
   "outputs": [
    {
     "data": {
      "text/html": [
       "<div>\n",
       "<style scoped>\n",
       "    .dataframe tbody tr th:only-of-type {\n",
       "        vertical-align: middle;\n",
       "    }\n",
       "\n",
       "    .dataframe tbody tr th {\n",
       "        vertical-align: top;\n",
       "    }\n",
       "\n",
       "    .dataframe thead th {\n",
       "        text-align: right;\n",
       "    }\n",
       "</style>\n",
       "<table border=\"1\" class=\"dataframe\">\n",
       "  <thead>\n",
       "    <tr style=\"text-align: right;\">\n",
       "      <th></th>\n",
       "      <th>user_name</th>\n",
       "      <th>conversation_id</th>\n",
       "      <th>messages</th>\n",
       "    </tr>\n",
       "  </thead>\n",
       "  <tbody>\n",
       "    <tr>\n",
       "      <th>count</th>\n",
       "      <td>681</td>\n",
       "      <td>681</td>\n",
       "      <td>681</td>\n",
       "    </tr>\n",
       "    <tr>\n",
       "      <th>unique</th>\n",
       "      <td>651</td>\n",
       "      <td>681</td>\n",
       "      <td>662</td>\n",
       "    </tr>\n",
       "    <tr>\n",
       "      <th>top</th>\n",
       "      <td>علي</td>\n",
       "      <td>28516b4d-3cef-4270-95b0-43ae1a3139c2</td>\n",
       "      <td>['السلام عليكم']</td>\n",
       "    </tr>\n",
       "    <tr>\n",
       "      <th>freq</th>\n",
       "      <td>4</td>\n",
       "      <td>1</td>\n",
       "      <td>6</td>\n",
       "    </tr>\n",
       "  </tbody>\n",
       "</table>\n",
       "</div>"
      ],
      "text/plain": [
       "       user_name                       conversation_id          messages\n",
       "count        681                                   681               681\n",
       "unique       651                                   681               662\n",
       "top          علي  28516b4d-3cef-4270-95b0-43ae1a3139c2  ['السلام عليكم']\n",
       "freq           4                                     1                 6"
      ]
     },
     "execution_count": 73,
     "metadata": {},
     "output_type": "execute_result"
    }
   ],
   "source": [
    "df = df.drop_duplicates(subset='conversation_id', keep='first')\n",
    "df.describe()"
   ]
  },
  {
   "cell_type": "code",
   "execution_count": 74,
   "id": "9f446abf-e809-479b-8765-8812db1f87d4",
   "metadata": {},
   "outputs": [
    {
     "data": {
      "text/html": [
       "<div>\n",
       "<style scoped>\n",
       "    .dataframe tbody tr th:only-of-type {\n",
       "        vertical-align: middle;\n",
       "    }\n",
       "\n",
       "    .dataframe tbody tr th {\n",
       "        vertical-align: top;\n",
       "    }\n",
       "\n",
       "    .dataframe thead th {\n",
       "        text-align: right;\n",
       "    }\n",
       "</style>\n",
       "<table border=\"1\" class=\"dataframe\">\n",
       "  <thead>\n",
       "    <tr style=\"text-align: right;\">\n",
       "      <th></th>\n",
       "      <th>user_name</th>\n",
       "      <th>conversation_id</th>\n",
       "      <th>messages</th>\n",
       "    </tr>\n",
       "  </thead>\n",
       "  <tbody>\n",
       "    <tr>\n",
       "      <th>0</th>\n",
       "      <td>علي بازوكه</td>\n",
       "      <td>28516b4d-3cef-4270-95b0-43ae1a3139c2</td>\n",
       "      <td>['Conversation reopened due to new incoming me...</td>\n",
       "    </tr>\n",
       "    <tr>\n",
       "      <th>1</th>\n",
       "      <td>هشام</td>\n",
       "      <td>180bba97-f80d-4cb4-b29c-e789620ae9f7</td>\n",
       "      <td>['🖕🖕🖕', 'Conversation was reopened by هشام', '...</td>\n",
       "    </tr>\n",
       "    <tr>\n",
       "      <th>2</th>\n",
       "      <td>علي الموسوي  الموسوي</td>\n",
       "      <td>8e66eba4-46e8-42ce-9ee5-7d092c7f2af9</td>\n",
       "      <td>['Conversation was reopened by علي الموسوي  ال...</td>\n",
       "    </tr>\n",
       "    <tr>\n",
       "      <th>3</th>\n",
       "      <td>همام علي</td>\n",
       "      <td>f9262057-afbc-4527-9b0a-cafb1e0e97d8</td>\n",
       "      <td>['إذا ممكن اني طلبت رحله قبل شهر تقريبا \\nوالو...</td>\n",
       "    </tr>\n",
       "    <tr>\n",
       "      <th>4</th>\n",
       "      <td>عصام ابو عسل</td>\n",
       "      <td>58ea8ba5-c0e8-45b4-a72d-81fd61fe2c15</td>\n",
       "      <td>['Conversation was reopened by عصام ابو عسل', ...</td>\n",
       "    </tr>\n",
       "  </tbody>\n",
       "</table>\n",
       "</div>"
      ],
      "text/plain": [
       "              user_name                       conversation_id  \\\n",
       "0            علي بازوكه  28516b4d-3cef-4270-95b0-43ae1a3139c2   \n",
       "1                  هشام  180bba97-f80d-4cb4-b29c-e789620ae9f7   \n",
       "2  علي الموسوي  الموسوي  8e66eba4-46e8-42ce-9ee5-7d092c7f2af9   \n",
       "3             همام علي   f9262057-afbc-4527-9b0a-cafb1e0e97d8   \n",
       "4          عصام ابو عسل  58ea8ba5-c0e8-45b4-a72d-81fd61fe2c15   \n",
       "\n",
       "                                            messages  \n",
       "0  ['Conversation reopened due to new incoming me...  \n",
       "1  ['🖕🖕🖕', 'Conversation was reopened by هشام', '...  \n",
       "2  ['Conversation was reopened by علي الموسوي  ال...  \n",
       "3  ['إذا ممكن اني طلبت رحله قبل شهر تقريبا \\nوالو...  \n",
       "4  ['Conversation was reopened by عصام ابو عسل', ...  "
      ]
     },
     "execution_count": 74,
     "metadata": {},
     "output_type": "execute_result"
    }
   ],
   "source": [
    "import re\n",
    "removeChatRegex = r\"^(Conversation|التحدث مع موظف الدعم|السلام عليكم).*\"\n",
    "\n",
    "df.head()"
   ]
  },
  {
   "cell_type": "markdown",
   "id": "7a17dc74-c245-45fc-a71f-ce6485a0bf09",
   "metadata": {},
   "source": [
    "Seems like the following is a must do for reading array of strings from the file"
   ]
  },
  {
   "cell_type": "code",
   "execution_count": 75,
   "id": "f0a7a0fe-ac51-4a02-abe0-12291d67d898",
   "metadata": {},
   "outputs": [],
   "source": [
    "from ast import literal_eval\n",
    "df['messages'] = df['messages'].apply(literal_eval)"
   ]
  },
  {
   "cell_type": "code",
   "execution_count": 76,
   "id": "7db4f683-b678-452d-94a5-0e68bd9de5e0",
   "metadata": {},
   "outputs": [
    {
     "name": "stdout",
     "output_type": "stream",
     "text": [
      "['Conversation was reopened by عصام ابو عسل', 'التحدث مع موظف الدعم', 'سلام عليكم']\n"
     ]
    }
   ],
   "source": [
    "print(df['messages'][4])"
   ]
  },
  {
   "cell_type": "code",
   "execution_count": 101,
   "id": "ca1e4c8c-006b-4ce7-82c6-70f12ba731ad",
   "metadata": {},
   "outputs": [],
   "source": [
    "import re\n",
    "\n",
    "def filter_common_strings(array):\n",
    "    filtered_strings = [ 'Conversation reopened due to new incoming message', 'سلام عليكم']\n",
    "    filtered_re = r\"^(Conversation|BLY-).*\"\n",
    "    return [x for x in array if x not in filtered_strings and re.search(filtered_re,x) == None]\n",
    "\n",
    "df['messages'] = df['messages'].apply(filter_common_strings)"
   ]
  },
  {
   "cell_type": "code",
   "execution_count": 102,
   "id": "c4f913d0-02c9-449f-9d21-ae18f204710a",
   "metadata": {},
   "outputs": [
    {
     "data": {
      "text/html": [
       "<div>\n",
       "<style scoped>\n",
       "    .dataframe tbody tr th:only-of-type {\n",
       "        vertical-align: middle;\n",
       "    }\n",
       "\n",
       "    .dataframe tbody tr th {\n",
       "        vertical-align: top;\n",
       "    }\n",
       "\n",
       "    .dataframe thead th {\n",
       "        text-align: right;\n",
       "    }\n",
       "</style>\n",
       "<table border=\"1\" class=\"dataframe\">\n",
       "  <thead>\n",
       "    <tr style=\"text-align: right;\">\n",
       "      <th></th>\n",
       "      <th>user_name</th>\n",
       "      <th>conversation_id</th>\n",
       "      <th>messages</th>\n",
       "    </tr>\n",
       "  </thead>\n",
       "  <tbody>\n",
       "    <tr>\n",
       "      <th>0</th>\n",
       "      <td>علي بازوكه</td>\n",
       "      <td>28516b4d-3cef-4270-95b0-43ae1a3139c2</td>\n",
       "      <td>[نسيت سماعات, نسيت يمه سماعات ودك علي مي جاوب ...</td>\n",
       "    </tr>\n",
       "    <tr>\n",
       "      <th>1</th>\n",
       "      <td>هشام</td>\n",
       "      <td>180bba97-f80d-4cb4-b29c-e789620ae9f7</td>\n",
       "      <td>[🖕🖕🖕, اني دافحص البرنامج همه مرضه يوافقون راسا...</td>\n",
       "    </tr>\n",
       "    <tr>\n",
       "      <th>2</th>\n",
       "      <td>علي الموسوي  الموسوي</td>\n",
       "      <td>8e66eba4-46e8-42ce-9ee5-7d092c7f2af9</td>\n",
       "      <td>[ان شاء الـلَّــــﷻـــه, يرجى الاهتمام بهذه ال...</td>\n",
       "    </tr>\n",
       "    <tr>\n",
       "      <th>3</th>\n",
       "      <td>همام علي</td>\n",
       "      <td>f9262057-afbc-4527-9b0a-cafb1e0e97d8</td>\n",
       "      <td>[إذا ممكن اني طلبت رحله قبل شهر تقريبا \\nوالول...</td>\n",
       "    </tr>\n",
       "    <tr>\n",
       "      <th>4</th>\n",
       "      <td>عصام ابو عسل</td>\n",
       "      <td>58ea8ba5-c0e8-45b4-a72d-81fd61fe2c15</td>\n",
       "      <td>[التحدث مع موظف الدعم]</td>\n",
       "    </tr>\n",
       "  </tbody>\n",
       "</table>\n",
       "</div>"
      ],
      "text/plain": [
       "              user_name                       conversation_id  \\\n",
       "0            علي بازوكه  28516b4d-3cef-4270-95b0-43ae1a3139c2   \n",
       "1                  هشام  180bba97-f80d-4cb4-b29c-e789620ae9f7   \n",
       "2  علي الموسوي  الموسوي  8e66eba4-46e8-42ce-9ee5-7d092c7f2af9   \n",
       "3             همام علي   f9262057-afbc-4527-9b0a-cafb1e0e97d8   \n",
       "4          عصام ابو عسل  58ea8ba5-c0e8-45b4-a72d-81fd61fe2c15   \n",
       "\n",
       "                                            messages  \n",
       "0  [نسيت سماعات, نسيت يمه سماعات ودك علي مي جاوب ...  \n",
       "1  [🖕🖕🖕, اني دافحص البرنامج همه مرضه يوافقون راسا...  \n",
       "2  [ان شاء الـلَّــــﷻـــه, يرجى الاهتمام بهذه ال...  \n",
       "3  [إذا ممكن اني طلبت رحله قبل شهر تقريبا \\nوالول...  \n",
       "4                             [التحدث مع موظف الدعم]  "
      ]
     },
     "execution_count": 102,
     "metadata": {},
     "output_type": "execute_result"
    }
   ],
   "source": [
    "df.head()"
   ]
  },
  {
   "cell_type": "markdown",
   "id": "6a463c5d-3dd4-40d3-aa5b-5b2d66024b62",
   "metadata": {},
   "source": [
    "## OpenAI Summarization"
   ]
  },
  {
   "cell_type": "code",
   "execution_count": 103,
   "id": "5e3aadae-1746-48e1-afc3-261562c93821",
   "metadata": {},
   "outputs": [],
   "source": [
    "%%capture\n",
    "pip install openai"
   ]
  },
  {
   "cell_type": "code",
   "execution_count": 104,
   "id": "336fe29a-5e7b-479a-8b15-3b81b98c3fd4",
   "metadata": {},
   "outputs": [
    {
     "data": {
      "text/plain": [
       "True"
      ]
     },
     "execution_count": 104,
     "metadata": {},
     "output_type": "execute_result"
    }
   ],
   "source": [
    "from openai import AzureOpenAI\n",
    "from dotenv import load_dotenv\n",
    "import os\n",
    "load_dotenv()"
   ]
  },
  {
   "cell_type": "code",
   "execution_count": 105,
   "id": "99e496c3-87d3-4b0f-8dc7-9ce22024741b",
   "metadata": {},
   "outputs": [],
   "source": [
    "aclient = AzureOpenAI(\n",
    "        api_key=os.environ['AZURE_OPENAI_KEY'],\n",
    "        api_version = \"2023-05-15\")\n",
    "\n",
    "deployment=os.environ['AZURE_OPENAI_DEPLOYMENT']\n",
    "ENCODING_MODEL = \"gpt-3.5-turbo\""
   ]
  },
  {
   "cell_type": "code",
   "execution_count": 106,
   "id": "0f96d062-4aac-4926-9ef0-d3e8207758f4",
   "metadata": {},
   "outputs": [
    {
     "name": "stdout",
     "output_type": "stream",
     "text": [
      "3171 \n",
      "\n",
      "نسيت سماعات.نسيت يمه سماعات ودك علي مي جاوب .نسيت أغراضي خلال الرحلة\n",
      "\n",
      "🖕🖕🖕.اني دافحص البرنامج همه مرضه يوافقون راسا حته ما الحك الغي .همه الكباتن ليش يوافقون على رحله نقطة الوصول والانطلاق نفس المكان .دفتح الحظر بابه\n",
      "\n",
      "ان شاء الـلَّــــﷻـــه.يرجى الاهتمام بهذه الامور.فضلا عن نظافة وترتيب السيارة.وكذلك رقم ونوع ولون السيارة.غالبا الكابتن الموجود بالتطبيق يختلف عن الحقيقة\n",
      "\n",
      "إذا ممكن اني طلبت رحله قبل شهر تقريبا \n",
      "والولد بقى يراسلني ويعاكسني وكتله اني مره مزوجه تلافي للمشكله \n",
      "ورجع كل شويه يراسلني اني. معجب بيج \n",
      "ومااذكر يارحله منهم بالضبط\n",
      "بس ارقام ليراسلني منهم عندي.التحدث مع موظف الدعم.رجاءاً كلش محتاجتكم\n",
      "\n",
      "التحدث مع موظف الدعم\n",
      "\n",
      "استفسار عن المحفظة داخل التطبيق.تمام حبيبي .بعد الف كال ماعدي راح اضيفه عل محفضه .حبيبي اطيته خمسه رجعلي الف \n",
      "\n",
      "اي نعم نفس الشي صار بالرحلة الثانية\n",
      "\n",
      "شكراً استاذ.اقتراحي تخفيض الاجور هذا يعود بمردود مادي قوي للشركة ومنافسه مشروعه وعدم قبول طلبات السواق وقتراح اخر تقديم جائزة افضل سائق شهرياً من خلال النقاط والتقييم الممتاز الي يحصل عليه هذا يشجعه على العمل بصورك مستمرة واحترام اخلاقيات المهنه وشكراً.التحدث مع موظف الدعم\n",
      "\n",
      "شكرا الكم.بس اليوم انتبهت مستقطع من التطبيق ودافع كاش نفس الوكت.هو الكروة كاملة اخذهة.اخذ 3500\n",
      "\n",
      "والرحلة بالتطبيق 3000.صديقي دفعت 7000.على هذا الرقم.07724111351.صديقي رحت رحلة والكابتن اخذ مبلغ اضافي \n",
      "كال نطيني اضيفهن الك بالمحفظة \n",
      "واخذهن وكلشي ما حصلت \n",
      "ياريت تشوف المشكلة لان قفصني.استفسار آخر\n",
      "\n",
      "تمام شكراً جزيلاً ❤️.شكراً جزيلاً ويرجى اعلامنا بالتفاصيل للتأكد انو تم محاسبتة حتى نعرف الشركة مع الزبون وتحترم الزبون وانتم شركة رصينه ويجب ان تحفظون كرامة الزبون الي يتعامل وياكم لانو هذا رزقكم\n",
      "\n",
      "السائق طلب مبلغ إضافي.مشكلة في رحلة سابقة.الكابتن اخذ  مبلغ اضافي لعب بعداد الكروة\n",
      "\n",
      "والمفروض يضيف مبلغ 1250 ع المحفظة ضايف بس 1000 اني مو ع الربع بس ميستاهل المبلغ.عطلان اصلاً التبريد ميشتغل سيارة سايبة قديمة اصلاً مترهم واحد يصعد بيهة\n",
      "\n",
      "شتقصد برمز الرحلة.لذلك تصرف بطريقة غير محترمة .اما رحلة اليوم الثلاثاء نزلت من السيارة رفضت ادفع عشرة الاف وكان الكابتن بداية الرحلة وظهرت عندي الاجرة 7250 وعندة ظهرت عشرة الف.كيا فورتي الكابتن مرتضى خليل علوان الرقم 76797.في الرحلة الأولى السائق اخذ الاجرة الي ظهرت عندي 6250 رغم ظهرت عندة عشرة الالف.السلام عليكم عذرا كنت عند الطبيب\n",
      "\n",
      "مو صوجكم.ميصير هيج.اريد اتفتحون الحظر\n",
      "\n",
      "تاريخ ٢٢ مايو.نوع الخدمه بلس .وقت بدء الرحله الساعة ١/٠٩.لديّ مشكلة مع السائق.مشكلة في رحلة سابقة\n",
      "\n",
      "يزيد شي بسيط.ابد مزايد هلكد عندي.حتى اذا تقديري\n",
      "\n",
      "خيارات تعديل تفاصيل الرحلة.مشكلة في رحلة سابقة.هلو .خيارات تعديل تفاصيل الرحلة\n",
      "\n",
      "مرحبا\n",
      "\n",
      "اي والله اخذ مني كاش هم والله العظيم.ممكن اعرف منو ساحبه.عندي فلوس بل مخفضه.مرحبا\n",
      "\n",
      "اي والله ياريت اكون ممنونك لان صدك جنت منتظر الخصم وتالي واستفاد منة 💔.لو قصدك راح تعوضني برمز اخر؟.ماكو رمز اخر صديقي.وما استخدمتة ابد.امس يمكن\n",
      "\n",
      "مصار اي حل للمشكله ؟.تمام شكراً.و السائق بالغلط مع الباقي كان اكو 50 الف زايدة اني منتبهت عليها ولا هوه ف حاب ارجعها.6250.اي نقدي.مرحبا البارحه توصلت مع الدعم علمود اعرف رقم السائق في رحلة من الرحلات لان رجعلي فلوس بالغلط واريد ارجعها الة\n",
      "\n",
      "شنو صار من المشكلة مع السائق.لديّ مشكلة مع السائق.مشكلة في رحلة سابقة.مشكلة في رحلة سابقة\n",
      "\n",
      "شكراً لكم.هذه رمز الرحله الاخيرة BLY-240522-10183-7866.والطلب الاخير انا لم اركب ولم اصل الى وجهتي المحددة ولقد تم اخباري بانه لقد انتهت رحلتك ويرجى تقييم وخسرت التخفيض ايضا.الا بعد مدة انتظار.طلبت بلي وبعدها قال لي التاير بنجر\n",
      "ولم يلغي الطلب من قبله\n",
      "\n",
      "يعني الحساب ماكدر امسحه؟ مو تطبيق بس الحساب.how can i delete my account?.how can i delet a trip history ride\n",
      "\n",
      "الو.نسيت أغراضي خلال الرحلة.مشكلة في رحلة سابقة\n",
      "\n",
      "شكرا جزيلا اخي ونعتذر عن الأخطاء التي حصلت.. .ممكن اعرف السبب.عزيزي هسة جاي اطلب تكسي بس يطلعلي تم حضر المستخدم \n",
      "\n",
      "شكرا جزيلا نحن نستخدم التطبيق بشكل يومي لتوفر الخدمات المتميزه لكن بعض الكباتن مع الأسف يكون تعاملهم بشكل سيئ لكن لن نعتبرهم يمثلون الشركه \n",
      "\n",
      "شكرا اخي\n",
      "\n",
      "وكلش اشكركم ع تعاونكم.استفسار آخر.رمز الرحلة ما اعرفه لكن الغرض مطارة وهية هدية فعزيزة عليه\n"
     ]
    }
   ],
   "source": [
    "import tiktoken\n",
    "tokenizer = tiktoken.encoding_for_model('gpt-3.5-turbo')\n",
    "\n",
    "context = ''\n",
    "token_length = 0\n",
    "\n",
    "for x in df['messages']:\n",
    "    chat = '.'.join(x)\n",
    "    token_length += len(tokenizer.encode(chat))\n",
    "    if token_length >= 3000:\n",
    "        break\n",
    "    context += '\\n\\n' + chat\n",
    "\n",
    "print(token_length,context)"
   ]
  },
  {
   "cell_type": "code",
   "execution_count": 108,
   "id": "0a6303ac-f8bd-4b6a-a29f-e10dca67dcfd",
   "metadata": {},
   "outputs": [],
   "source": [
    "def get_completion(prompt):\n",
    "    messages = [\n",
    "                {\"role\": \"system\", \"content\": \"You are an expert analyst hired to help a ride hailing company improve their CSAT score..\"},\n",
    "                {\"role\":\"user\", \"content\":prompt}\n",
    "               ]\n",
    "    response = aclient.chat.completions.create(\n",
    "            model = deployment,\n",
    "            messages = messages,\n",
    "            temperature = 0)\n",
    "   #         max_tokens = 900)\n",
    "    return response.choices[0].message.content"
   ]
  },
  {
   "cell_type": "code",
   "execution_count": 109,
   "id": "153601f8-869a-4c68-9b15-a6aa6b7089c3",
   "metadata": {},
   "outputs": [
    {
     "name": "stdout",
     "output_type": "stream",
     "text": [
      "Insight 1: Improve driver behavior and professionalism\n",
      "- Conversation: إذا ممكن اني طلبت رحله قبل شهر تقريبا والولد بقى يراسلني ويعاكسني وكتله اني مره مزوجه تلافي للمشكله ورجع كل شويه يراسلني اني. معجب بيج ومااذكر يارحله منهم بالضبط بس ارقام ليراسلني منهم عندي.التحدث مع موظف الدعم.رجاءاً كلش محتاجتكم\n",
      "- Translation: If possible, I requested a ride about a month ago and the driver kept messaging me and harassing me, saying that I'm married to avoid the problem. He keeps messaging me every now and then, saying that I like him. I don't even remember the exact ride, but I have the numbers to contact them. I need to speak to a support representative. Please, I really need your help.\n",
      "\n",
      "Insight 2: Address issues with payment and refunds\n",
      "- Conversation: تمام شكراً جزيلاً ❤️.شكراً جزيلاً ويرجى اعلامنا بالتفاصيل للتأكد انو تم محاسبتة حتى نعرف الشركة مع الزبون وتحترم الزبون وانتم شركة رصينه ويجب ان تحفظون كرامة الزبون الي يتعامل وياكم لانو هذا رزقكم\n",
      "- Translation: Thank you very much ❤️. Thank you very much, and please inform us of the details to ensure that he has been held accountable so that we know the company is with the customer and respects the customer. You are a reputable company and you should preserve the dignity of the customer who deals with you because this is your livelihood.\n",
      "\n",
      "Insight 3: Improve communication and responsiveness of customer support\n",
      "- Conversation: شكراً الكم.بس اليوم انتبهت مستقطع من التطبيق ودافع كاش نفس الوكت.هو الكروة كاملة اخذهة.اخذ 3500\n",
      "- Translation: Thank you. But today I noticed that the amount was deducted from the application and I paid in cash at the same time. He took the full fare. He took 3500.\n",
      "\n",
      "Insight 4: Enhance the accuracy of trip details and driver information\n",
      "- Conversation: السائق طلب مبلغ إضافي.مشكلة في رحلة سابقة.الكابتن اخذ مبلغ اضافي لعب بعداد الكروة\n",
      "- Translation: The driver requested an additional amount. Issue with a previous trip. The captain took an extra amount by tampering with the fare meter.\n",
      "\n",
      "Insight 5: Streamline the process for reporting and resolving issues\n",
      "- Conversation: شنو صار من المشكلة مع السائق.لديّ مشكلة مع السائق.مشكلة في رحلة سابقة.مشكلة في رحلة سابقة\n",
      "- Translation: What happened with the issue with the driver? I have a problem with the driver. Issue with a previous trip. Issue with a previous trip.\n",
      "\n",
      "Note: The conversations provided are translated from Arabic to English and may not be an exact representation of the original text.\n"
     ]
    }
   ],
   "source": [
    "prompt = f\"\"\"\n",
    "        Each line representas a conversation, containing messages from a single user in a session. Generate top 5 actionable insights for management. \n",
    "        For each of your insights, you must include conversations with original text and its english translation that best support it..\n",
    "        ```{context}```\n",
    "         \"\"\"\n",
    "response = get_completion(prompt)\n",
    "print(response)"
   ]
  },
  {
   "cell_type": "code",
   "execution_count": null,
   "id": "531dfc82-9c34-4204-8074-3c91bb247b4b",
   "metadata": {},
   "outputs": [],
   "source": []
  }
 ],
 "metadata": {
  "kernelspec": {
   "display_name": "Python 3 (ipykernel)",
   "language": "python",
   "name": "python3"
  },
  "language_info": {
   "codemirror_mode": {
    "name": "ipython",
    "version": 3
   },
   "file_extension": ".py",
   "mimetype": "text/x-python",
   "name": "python",
   "nbconvert_exporter": "python",
   "pygments_lexer": "ipython3",
   "version": "3.11.5"
  }
 },
 "nbformat": 4,
 "nbformat_minor": 5
}
