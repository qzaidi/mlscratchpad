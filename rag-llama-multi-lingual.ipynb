{
 "cells": [
  {
   "cell_type": "code",
   "execution_count": null,
   "id": "46d3b1a8",
   "metadata": {},
   "outputs": [],
   "source": [
    "pip install ollama"
   ]
  },
  {
   "cell_type": "code",
   "execution_count": null,
   "id": "49c9773b",
   "metadata": {},
   "outputs": [],
   "source": [
    "pip install langchain langchain_community chromadb"
   ]
  },
  {
   "cell_type": "markdown",
   "id": "81d4925d",
   "metadata": {},
   "source": [
    "Ok, now lets do our RAG"
   ]
  },
  {
   "cell_type": "code",
   "execution_count": 3,
   "id": "7fee29bf",
   "metadata": {},
   "outputs": [],
   "source": [
    "import ollama"
   ]
  },
  {
   "cell_type": "code",
   "execution_count": 4,
   "id": "f8e66e23",
   "metadata": {},
   "outputs": [],
   "source": [
    "from langchain.text_splitter import RecursiveCharacterTextSplitter\n",
    "from langchain_community.vectorstores import Chroma\n",
    "from langchain_community.embeddings import OllamaEmbeddings"
   ]
  },
  {
   "cell_type": "code",
   "execution_count": 5,
   "id": "e46273a4",
   "metadata": {},
   "outputs": [],
   "source": [
    "from langchain.document_loaders import WebBaseLoader"
   ]
  },
  {
   "cell_type": "code",
   "execution_count": null,
   "id": "a11c64fa",
   "metadata": {},
   "outputs": [],
   "source": [
    "#loader = WebBaseLoader(\"https://tanzil.net/trans/en.shakir\")\n",
    "loader = WebBaseLoader(\"https://tanzil.net/trans/ur.jawadi\")\n",
    "embeddingModel = 'mxbai-embed-large'\n",
    "llmModel = 'tadayuki/suzume-llama3'"
   ]
  },
  {
   "cell_type": "code",
   "execution_count": null,
   "id": "e8d06cc3",
   "metadata": {},
   "outputs": [],
   "source": [
    "data = loader.load()\n",
    "text_splitter = RecursiveCharacterTextSplitter(chunk_size=2000, chunk_overlap=100)\n",
    "splits = text_splitter.split_documents(data)\n"
   ]
  },
  {
   "cell_type": "code",
   "execution_count": null,
   "id": "6fee7f87",
   "metadata": {},
   "outputs": [],
   "source": [
    "print(len(splits))"
   ]
  },
  {
   "cell_type": "markdown",
   "id": "c2675c81",
   "metadata": {},
   "source": [
    "Now we use mistral to create the embeddings and store them in chroma"
   ]
  },
  {
   "cell_type": "code",
   "execution_count": null,
   "id": "80e6e577",
   "metadata": {},
   "outputs": [],
   "source": [
    "%%time\n",
    "embeddingModel = 'mxbai-embed-large'\n",
    "embeddings = OllamaEmbeddings(model=embeddingModel)\n",
    "vectorstore = Chroma.from_documents(documents=splits, embedding=embeddings)"
   ]
  },
  {
   "cell_type": "code",
   "execution_count": null,
   "id": "d29048de",
   "metadata": {},
   "outputs": [],
   "source": [
    "%%time\n",
    "retriever = vectorstore.as_retriever()\n",
    "\n",
    "def format_docs(docs):\n",
    "    return \"\\n\\n\".join(doc.page_content for doc in docs)\n",
    "\n",
    "def ollama_llm(question, context):\n",
    "    formatted_prompt = f\"Question: {question}\\n\\nContext: {context}\"\n",
    "    response = ollama.chat(model=llmModel, messages=[{'role': 'system', 'content': 'You are a Quran assistant who answers the question using the context provided to you'}, {'role': 'user', 'content': formatted_prompt}])\n",
    "    return response['message']['content']\n"
   ]
  },
  {
   "cell_type": "code",
   "execution_count": null,
   "id": "64d664db",
   "metadata": {},
   "outputs": [],
   "source": [
    "# Define the RAG chain\n",
    "def rag_chain(question):\n",
    "    retrieved_docs = retriever.invoke(question)\n",
    "    formatted_context = format_docs(retrieved_docs)\n",
    "    #print(retrieved_docs)\n",
    "    return ollama_llm(question, formatted_context)"
   ]
  },
  {
   "cell_type": "code",
   "execution_count": null,
   "id": "a402c52d",
   "metadata": {},
   "outputs": [],
   "source": [
    "%%time\n",
    "result = rag_chain(\"اللہ کی صفات کیا ہیں؟?\")\n",
    "print(result)"
   ]
  },
  {
   "cell_type": "code",
   "execution_count": null,
   "id": "407b1794",
   "metadata": {},
   "outputs": [],
   "source": []
  }
 ],
 "metadata": {
  "kernelspec": {
   "display_name": "Python 3 (ipykernel)",
   "language": "python",
   "name": "python3"
  },
  "language_info": {
   "codemirror_mode": {
    "name": "ipython",
    "version": 3
   },
   "file_extension": ".py",
   "mimetype": "text/x-python",
   "name": "python",
   "nbconvert_exporter": "python",
   "pygments_lexer": "ipython3",
   "version": "3.11.8"
  }
 },
 "nbformat": 4,
 "nbformat_minor": 5
}
