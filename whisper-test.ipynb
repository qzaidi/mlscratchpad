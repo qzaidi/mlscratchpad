{
 "cells": [
  {
   "cell_type": "code",
   "execution_count": 3,
   "id": "e1db0dd9",
   "metadata": {},
   "outputs": [],
   "source": [
    "import whisper"
   ]
  },
  {
   "cell_type": "markdown",
   "id": "53d01de7",
   "metadata": {},
   "source": [
    "Let's now load the medium model, which should require around 5gb of VRAM. The model itself is 1.42 GB download."
   ]
  },
  {
   "cell_type": "code",
   "execution_count": 4,
   "id": "1cdb06c5",
   "metadata": {},
   "outputs": [
    {
     "name": "stderr",
     "output_type": "stream",
     "text": [
      "C:\\Users\\qasim\\anaconda3\\Lib\\site-packages\\whisper\\__init__.py:65: UserWarning: C:\\Users\\qasim\\.cache\\whisper\\medium.pt exists, but the SHA256 checksum does not match; re-downloading the file\n",
      "  warnings.warn(\n",
      "100%|█████████████████████████████████████| 1.42G/1.42G [10:23<00:00, 2.45MiB/s]\n"
     ]
    }
   ],
   "source": [
    "model = whisper.load_model('medium')"
   ]
  },
  {
   "cell_type": "code",
   "execution_count": 14,
   "id": "24667418",
   "metadata": {},
   "outputs": [],
   "source": [
    "path = \"https://machinelearningknowledge.ai/wp-content/uploads/2023/05/OpenAI-Whisper-Example-Spanish-Audio.mp3\"\n",
    "result = model.transcribe(audio=path,language=\"turkish\")"
   ]
  },
  {
   "cell_type": "markdown",
   "id": "391a02e5",
   "metadata": {},
   "source": [
    "If you want to translate non english test to english, set the task='translate' option in the call to transcribe."
   ]
  },
  {
   "cell_type": "code",
   "execution_count": 16,
   "id": "12ae6c0e",
   "metadata": {},
   "outputs": [
    {
     "name": "stdout",
     "output_type": "stream",
     "text": [
      "という Bou觇 suu bu montrer. Her paired introduce Sou Downlog ho brauchen Viayede occupants cheeve evet zest o hi ik mình burda de de de be\n"
     ]
    }
   ],
   "source": [
    "print(result[\"text\"])"
   ]
  },
  {
   "cell_type": "code",
   "execution_count": null,
   "id": "cf48a9c8",
   "metadata": {},
   "outputs": [],
   "source": []
  }
 ],
 "metadata": {
  "kernelspec": {
   "display_name": "Python 3 (ipykernel)",
   "language": "python",
   "name": "python3"
  },
  "language_info": {
   "codemirror_mode": {
    "name": "ipython",
    "version": 3
   },
   "file_extension": ".py",
   "mimetype": "text/x-python",
   "name": "python",
   "nbconvert_exporter": "python",
   "pygments_lexer": "ipython3",
   "version": "3.11.7"
  }
 },
 "nbformat": 4,
 "nbformat_minor": 5
}
