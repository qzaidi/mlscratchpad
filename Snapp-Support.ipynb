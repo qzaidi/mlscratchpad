{
 "cells": [
  {
   "cell_type": "markdown",
   "id": "8fa094f0-6f3c-40ce-b4ae-57cc4ee34d62",
   "metadata": {},
   "source": [
    "# Snapp Support RAG\n",
    "\n",
    "Here we will try to implement a RAG over the support documents from Snapp's support team"
   ]
  },
  {
   "cell_type": "code",
   "execution_count": 2,
   "id": "45e87266-1e15-49ae-9534-67833b827096",
   "metadata": {},
   "outputs": [
    {
     "name": "stdout",
     "output_type": "stream",
     "text": [
      "Note: you may need to restart the kernel to use updated packages.\n"
     ]
    }
   ],
   "source": [
    "pip install --quiet ollama sentence-transformers protobuf tqdm"
   ]
  },
  {
   "cell_type": "code",
   "execution_count": 4,
   "id": "7c51143d-4664-4f50-a78c-5bbb0984e5f8",
   "metadata": {},
   "outputs": [
    {
     "name": "stdout",
     "output_type": "stream",
     "text": [
      "Note: you may need to restart the kernel to use updated packages.\n"
     ]
    }
   ],
   "source": [
    "pip install --quiet langchain langchain-community chromadb"
   ]
  },
  {
   "cell_type": "markdown",
   "id": "a460f66c-44bd-44ce-a560-0e082197090a",
   "metadata": {},
   "source": [
    "# Generate Embeddings\n",
    "\n",
    "First let's see if embeddings are already persisted locally. "
   ]
  },
  {
   "cell_type": "code",
   "execution_count": 4,
   "id": "88762f62-5461-40c3-8897-ba22fbe45dda",
   "metadata": {},
   "outputs": [
    {
     "name": "stdout",
     "output_type": "stream",
     "text": [
      "you need to follow the instructions in the next section and generate embeddings again\n",
      "vectorstore has 0 documents\n",
      "CPU times: user 4.74 ms, sys: 9.07 ms, total: 13.8 ms\n",
      "Wall time: 22.2 ms\n"
     ]
    }
   ],
   "source": [
    "%%time\n",
    "from langchain_community.vectorstores import Chroma\n",
    "from langchain_community.embeddings import OllamaEmbeddings\n",
    "\n",
    "ollamaBase = 'http://ollama-alibo-gpu-testing.apps.private.okd4.teh-2.snappcloud.io/'\n",
    "embeddingModel = 'nomic-embed-text:v1.5'\n",
    "#ollamaBase = 'http://localhost:11434'\n",
    "\n",
    "embeddings = OllamaEmbeddings(model=embeddingModel,show_progress=True,base_url=ollamaBase)\n",
    "\n",
    "vectorstore = Chroma('snappsupport',embeddings)\n",
    "if vectorstore._collection.count() == 0:\n",
    "    print(\"you need to follow the instructions in the next section and generate embeddings again\")\n",
    "\n",
    "print(\"vectorstore has {0} documents\".format(vectorstore._collection.count()))"
   ]
  },
  {
   "cell_type": "markdown",
   "id": "8ce9017f-dd9e-48ca-b71c-daa715bf30ab",
   "metadata": {},
   "source": [
    "## Regenerate Embeddings\n"
   ]
  },
  {
   "cell_type": "code",
   "execution_count": 5,
   "id": "224e4647-283a-43ea-800a-d7c34a2bb3ec",
   "metadata": {},
   "outputs": [
    {
     "name": "stdout",
     "output_type": "stream",
     "text": [
      "The history saving thread hit an unexpected error (OperationalError('attempt to write a readonly database')).History will not be written to the database.\n",
      "203\n"
     ]
    }
   ],
   "source": [
    "from langchain.document_loaders import BSHTMLLoader,DirectoryLoader\n",
    "import os\n",
    "\n",
    "path = './supportdocs'\n",
    "loader = DirectoryLoader(path,glob=\"**/*.html\",loader_cls=BSHTMLLoader)\n",
    "docs = loader.load()\n",
    "print(len(docs))"
   ]
  },
  {
   "cell_type": "code",
   "execution_count": 6,
   "id": "d29d50cb-89f1-498e-836d-26b6e48be6e6",
   "metadata": {},
   "outputs": [
    {
     "name": "stdout",
     "output_type": "stream",
     "text": [
      "['supportdocs/انتخاب-از-میان-درخواست\\u200cهای-سفر.html', 'supportdocs/دریافت-حق-کنسلی-به-صورت-خودکار-در-اپلیکیشن-راننده-اسنپ.html', 'supportdocs/مدارک-مورد-نیاز-برای-ثبت\\u200cنام-در-اسنپ\\u200cباکس.html', 'supportdocs/سفارش\\u200cهای-رزرو-شده-در-اپلیکیشن-کاربران-راننده-اسنپ\\u200cباکس.html', 'supportdocs/کاربران-حرفه\\u200cای-اسنپ-چه-نکاتی-را-رعایت-می\\u200cکنند؟.html', 'supportdocs/دسترسی-آسان-به-باشگاه-رانندگان-اسنپ-از-طریق-موبایل.html', 'supportdocs/مشاهده-مبدا-و-مقصد-مسافر-پیش-از-قبول-سفر.html', 'supportdocs/ویژگی-جدید-اپلیکیشن-راننده-اسنپ-نمایش-دلایل-مسدودی-حساب-کاربری.html', 'supportdocs/راهنمای-جامع-انتخاب-و-خرید-تایر-و-لاستیک-خودرو.html', 'supportdocs/صفر-تا-صد-نحوه-محاسبه-کمیسیون-اسنپ.html']\n"
     ]
    }
   ],
   "source": [
    "print(list(map(lambda x: x.metadata['source'], docs[0:10])))"
   ]
  },
  {
   "cell_type": "code",
   "execution_count": 7,
   "id": "cf7e935d-ea65-4451-9816-abd891f1bdf4",
   "metadata": {},
   "outputs": [
    {
     "name": "stderr",
     "output_type": "stream",
     "text": [
      "/Users/qasim/miniconda3/lib/python3.11/site-packages/huggingface_hub/file_download.py:1132: FutureWarning: `resume_download` is deprecated and will be removed in version 1.0.0. Downloads always resume when possible. If you want to force a new download, use `force_download=True`.\n",
      "  warnings.warn(\n"
     ]
    },
    {
     "name": "stdout",
     "output_type": "stream",
     "text": [
      "1283\n"
     ]
    }
   ],
   "source": [
    "from langchain.text_splitter import SentenceTransformersTokenTextSplitter\n",
    "\n",
    "token_splitter = SentenceTransformersTokenTextSplitter(chunk_overlap=0, tokens_per_chunk=384)\n",
    "splits = token_splitter.split_documents(docs)\n",
    "print(len(splits))"
   ]
  },
  {
   "cell_type": "code",
   "execution_count": 8,
   "id": "d221852c-836f-4596-9b2d-af72c8d6f583",
   "metadata": {},
   "outputs": [
    {
     "name": "stdout",
     "output_type": "stream",
     "text": [
      "CPU times: user 126 µs, sys: 157 µs, total: 283 µs\n",
      "Wall time: 301 µs\n"
     ]
    }
   ],
   "source": [
    "%%time\n",
    "from langchain_community.embeddings import OllamaEmbeddings\n",
    "\n",
    "embeddings = OllamaEmbeddings(model=embeddingModel,show_progress=True,base_url=ollamaBase)"
   ]
  },
  {
   "cell_type": "code",
   "execution_count": 9,
   "id": "d9c85faa-a553-447a-9664-08a62831aa13",
   "metadata": {},
   "outputs": [
    {
     "name": "stderr",
     "output_type": "stream",
     "text": [
      "OllamaEmbeddings: 100%|█████████████████████████████████████████████████████████████████████████████████████████████████████████████████████████████████████████████████████| 1283/1283 [04:42<00:00,  4.54it/s]\n"
     ]
    },
    {
     "name": "stdout",
     "output_type": "stream",
     "text": [
      "CPU times: user 11.9 s, sys: 2.8 s, total: 14.7 s\n",
      "Wall time: 4min 43s\n"
     ]
    }
   ],
   "source": [
    "%%time\n",
    "from langchain.vectorstores import Chroma\n",
    "vectorstore = Chroma.from_documents(collection_name='snappsupport',documents=splits, embedding=embeddings,persist_directory='./chromadb')"
   ]
  },
  {
   "cell_type": "markdown",
   "id": "a3617737-4ffa-4aab-be52-1c167e1907be",
   "metadata": {},
   "source": [
    "# Retrieval\n",
    "\n",
    "First we query chromadb directly to check if things are all right."
   ]
  },
  {
   "cell_type": "code",
   "execution_count": 14,
   "id": "aae0f0d1-dd01-4df2-a0d6-9b8f1e710d84",
   "metadata": {},
   "outputs": [
    {
     "name": "stderr",
     "output_type": "stream",
     "text": [
      "OllamaEmbeddings: 100%|███████████████████████████████████████████████████████████████████████████████████████████████████████████████████████████████████████████████████████████| 1/1 [00:00<00:00,  4.11it/s]"
     ]
    },
    {
     "name": "stdout",
     "output_type": "stream",
     "text": [
      "['صفر تا صد کارت خودرو ، نحوه استعلام و پیگیری کارت خودرو چیست [UNK] مدارک لازم برای دریافت کارت خودرواستعلام و پیگیری کارت خودرومفقود شدن یا استعلام کارت خودروی برگشتیمراحل صدور کارت خودرو المثنیمدارک لازم برای دریافت کارت خودروی المثنی', '##کزیزنجاناذربایجان شرقی ، اذربایجان غربی ، اردبیل ، البرز ، ایلام ، تهران ، قزوین ، کردستان ، کرمانشاه ، گیلان ، لرستان ، مازندران ، همدان ، سمنان ، قمسمنان اصفهان ، البرز ، تهران ، خراسان رضوی ، خراسان شمالی ، قم ، گلستان ، مازندران ، یزد ، همدان ، قزوین ، زنجان ، گیلان ، مرکزیسیستانوبلوچستان خراسان جنوبی ، کرمان ، هرمزگانفارساصفهان ، ایلام ، بوشهر ، چهارمحالوبختیاری ، خوزستان ، کرمان ، کهگیلویهوبویراحمد ، لرستان ، هرمزگان ، یزدقزویناذربایجان شرقی ، اذربایجان غربی ، البرز ، ایلام ، تهران ، زنجان ، کردستان ، کرمانشا', '، مرکزی ، اردبیل ، همدان ، یزد ، چهارمحالوبختیاریچهارمحالوبختیاریاصفهان ، ایلام ، بوشهر ، خوزستان ، فارس ، لرستان ، کهگیلویهوبویراحمد ، قم ، کردستان ، مرکزی ، همدان ، تهران ، قزوین ، البرز ، یزدخراسان جنوبیخراسان رضوی ، سیستانوبلوچستان ، کرمان ، یزدخراسان رضویخراسان شمالی ، خراسان جنوبی ، سمنان ، گلستان ، مازندران ، یزدخراسان شمالیخراسان رضوی ، سمنان ، گلستان ، مازندرانخوزستاناصفهان ، البرز ، ایلام ، بوشهر ، تهران ، چهارمحالوبختیاری ، قم ، کردستان ، کرمانشاه ، کهگیلویهوبویراحمد ، لرستان ، همدان ، مر']\n"
     ]
    },
    {
     "name": "stderr",
     "output_type": "stream",
     "text": [
      "\n"
     ]
    }
   ],
   "source": [
    "query = \"پاداش-نقدی-بر-اساس-درآمد\"\n",
    "qembed = embeddings.embed_query(query)\n",
    "results = vectorstore._collection.query(query_embeddings = qembed, n_results=3)\n",
    "retrieved_documents = results['documents'][0]\n",
    "print(retrieved_documents)"
   ]
  },
  {
   "cell_type": "code",
   "execution_count": 15,
   "id": "17012aab-3f56-49a4-bb95-65b32214d7f4",
   "metadata": {},
   "outputs": [],
   "source": [
    "import ollama\n",
    "\n",
    "def newOllamaClient(baseURL):\n",
    "    return ollama.Client(baseURL)\n",
    "\n",
    "client = newOllamaClient(baseURL=ollamaBase)\n",
    "retriever = vectorstore.as_retriever()"
   ]
  },
  {
   "cell_type": "code",
   "execution_count": 23,
   "id": "c648b869-7a48-4a89-bbae-248970bdb568",
   "metadata": {},
   "outputs": [],
   "source": [
    "#llmModel = 'llama3'\n",
    "llmModel = 'aya:8b'\n",
    "\n",
    "systemPrompt = \"\"\"شما یک دستیار متخصص مفید و مسلط به زبان فارسی هستید. کاربران شما رانندگانی هستند که درباره اسنپ ، یک شرکت سوارکاری،\n",
    "سؤال می‌پرسند. سؤال کاربر و اطلاعات مربوطه از اسناد به عنوان زمینه به شما نشان داده می‌شود.\n",
    "به سؤال کاربر فقط با استفاده از زمینه ارائه شده پاسخ دهید.\"\"\"\n",
    "\n",
    "\n",
    "def format_docs(docs):\n",
    "    return \"\\n\\n\".join(doc.page_content for doc in docs)\n",
    "\n",
    "def ollama_llm(question, context):\n",
    "    formatted_prompt = f\"Question: {question}\\n\\nContext: {context}\"\n",
    "    response = client.chat(model=llmModel, options = { 'temperature': 0}, messages=[{'role': 'system', 'content': systemPrompt},{'role': 'user', 'content': formatted_prompt}])\n",
    "    return response['message']['content']\n",
    "\n",
    "# Define the RAG chain\n",
    "def rag_chain(question):\n",
    "    retrieved_docs = retriever.invoke(question)\n",
    "    formatted_context = format_docs(retrieved_docs)\n",
    "    print(\"using from context\",list(map(lambda x: x.metadata['source'],retrieved_docs)))\n",
    "    return ollama_llm(question, formatted_context)"
   ]
  },
  {
   "cell_type": "code",
   "execution_count": 24,
   "id": "64a84194-f5d1-4f1f-995f-edba634879af",
   "metadata": {
    "scrolled": true
   },
   "outputs": [
    {
     "name": "stderr",
     "output_type": "stream",
     "text": [
      "OllamaEmbeddings: 100%|███████████████████████████████████████████████████████████████████████████████████████████████████████████████████████████████████████████████████████████| 1/1 [00:03<00:00,  3.26s/it]\n"
     ]
    },
    {
     "name": "stdout",
     "output_type": "stream",
     "text": [
      "using from context ['supportdocs/معرفی-سرویس\\u200cهای-پشتیبانی-برای-کاربران-راننده-اسنپ.html', 'supportdocs/اگر-درخواست\\u200cهای-سفر-ارسال\\u200cشده-اسنپ-را-قبول-نکنیم،-چه-اتفاقی-می\\u200cافتد؟.html', 'supportdocs/صفر-تا-صد-کارت-خودرو،-نحوه-استعلام-و-پیگیری.html', 'supportdocs/سفرهای-بین\\u200cاستانی؛-ویژگی\\u200c-اپلیکیشن-کاربران-راننده-اسنپ.html']\n",
      "متاسفم، اما من نمی‌توانم درخواست شما را پردازش کنم زیرا به نظر می‌رسد که بخشی از متن یا اطلاعات زمینه‌ای گم شده است. لطفاً سؤال خود را دوباره ارسال کنید و اطمینان حاصل کنید که تمام اطلاعات مربوطه را شامل می‌شود.\n",
      "CPU times: user 28.9 ms, sys: 59.7 ms, total: 88.7 ms\n",
      "Wall time: 15 s\n"
     ]
    }
   ],
   "source": [
    "%%time\n",
    "query = 'آخرین سفر من انجام نشده ولی تو لیست سفرها پایان خورده، چرا از من کمیسون کسر شده؟'\n",
    "result = rag_chain(query)\n",
    "print(result)"
   ]
  },
  {
   "cell_type": "code",
   "execution_count": 26,
   "id": "2e71c673-53e4-45d6-aab9-59d39ca28a2c",
   "metadata": {},
   "outputs": [
    {
     "name": "stderr",
     "output_type": "stream",
     "text": [
      "OllamaEmbeddings: 100%|███████████████████████████████████████████████████████████████████████████████████████████████████████████████████████████████████████████████████████████| 1/1 [00:03<00:00,  3.36s/it]\n"
     ]
    },
    {
     "name": "stdout",
     "output_type": "stream",
     "text": [
      "using from context ['supportdocs/کاربران-حرفه\\u200cای-اسنپ-چه-نکاتی-را-رعایت-می\\u200cکنند؟.html', 'supportdocs/معرفی-طرح-تشویقی-با-پاداش-نقدی-بر-اساس-درآمد.html', 'supportdocs/قدردانی-از-کاربر-راننده؛-ویژگی-اپلیکیشن-کاربران-راننده-اسنپ.html', 'supportdocs/راهنمای-درخواست\\u200cهای-سفر-تلفنی-اسنپ-۱۵۵۱.html']\n",
      "متاسفم، اما به نظر می‌رسد که اطلاعات کافی برای پاسخ دادن به سؤال شما وجود ندارد. لطفاً جزئیات بیشتری ارائه دهید یا سؤال خود را واضح‌تر مطرح کنید تا بتوانم به بهترین نحو به شما کمک کنم.\n"
     ]
    }
   ],
   "source": [
    "query = 'چرا پاداش تاریخ 28 اردیبهشت رو برای من واریز نکردید؟.'\n",
    "result = rag_chain(query)\n",
    "print(result)"
   ]
  },
  {
   "cell_type": "code",
   "execution_count": 27,
   "id": "d934ab76-0743-48d5-8172-301df557703f",
   "metadata": {},
   "outputs": [
    {
     "name": "stderr",
     "output_type": "stream",
     "text": [
      "OllamaEmbeddings: 100%|███████████████████████████████████████████████████████████████████████████████████████████████████████████████████████████████████████████████████████████| 1/1 [00:03<00:00,  3.50s/it]\n"
     ]
    },
    {
     "name": "stdout",
     "output_type": "stream",
     "text": [
      "using from context ['supportdocs/نکات-مهم-رانندگی-در-جاده-و-سفر.html', 'supportdocs/صفر-تا-صد-استفاده-از-مسیریاب-در-سفرهای-اسنپی.html', 'supportdocs/مدال\\u200cهای-افتخار-رانندگان-اسنپ؛-نمایش-کیفیت-عملکرد-کاربران-راننده.html', 'supportdocs/فرمول-درآمد-بالا-در-اسنپ.html']\n",
      "متاسفم، اما به نظر می‌رسد که اطلاعات کافی برای پاسخ دادن به این درخواست در اختیار ندارم. لطفا جزئیات بیشتری ارائه دهید یا سؤال خود را واضح‌تر بیان کنید تا بتوانم به بهترین نحو به شما کمک کنم.\n"
     ]
    }
   ],
   "source": [
    "query = 'مسافر هزینه سفرو به من نداده، لطفاً رسیدگی کنید.'\n",
    "result = rag_chain(query)\n",
    "print(result)"
   ]
  },
  {
   "cell_type": "markdown",
   "id": "a7a1ebc4-a75a-4a8a-ad21-895800cf2e36",
   "metadata": {
    "jp-MarkdownHeadingCollapsed": true
   },
   "source": [
    "# Visualization\n"
   ]
  },
  {
   "cell_type": "code",
   "execution_count": 29,
   "id": "dd9fdda3-08b3-444c-82cd-60b24571b3aa",
   "metadata": {},
   "outputs": [
    {
     "name": "stdout",
     "output_type": "stream",
     "text": [
      "1283\n",
      "1283\n"
     ]
    }
   ],
   "source": [
    "import chromadb\n",
    "dbclient = chromadb.PersistentClient(path='./chromadb')\n",
    "col = dbclient.get_collection('snappsupport')\n",
    "print(col.count())\n",
    "\n",
    "all_embeddings = col.get(include=['embeddings'])['embeddings']\n",
    "print(len(all_embeddings))"
   ]
  },
  {
   "cell_type": "code",
   "execution_count": 30,
   "id": "5fa34a19-4692-4bb5-92d3-9de81c34d90c",
   "metadata": {},
   "outputs": [
    {
     "name": "stderr",
     "output_type": "stream",
     "text": [
      "huggingface/tokenizers: The current process just got forked, after parallelism has already been used. Disabling parallelism to avoid deadlocks...\n",
      "To disable this warning, you can either:\n",
      "\t- Avoid using `tokenizers` before the fork if possible\n",
      "\t- Explicitly set the environment variable TOKENIZERS_PARALLELISM=(true | false)\n"
     ]
    },
    {
     "name": "stdout",
     "output_type": "stream",
     "text": [
      "Note: you may need to restart the kernel to use updated packages.\n"
     ]
    }
   ],
   "source": [
    "%pip install --quiet umap-learn matplotlib"
   ]
  },
  {
   "cell_type": "code",
   "execution_count": 31,
   "id": "ed4e034a-d22e-4e5c-b8d8-50f53c090af3",
   "metadata": {},
   "outputs": [
    {
     "name": "stderr",
     "output_type": "stream",
     "text": [
      "/Users/qasim/miniconda3/lib/python3.11/site-packages/umap/umap_.py:1945: UserWarning: n_jobs value 1 overridden to 1 by setting random_state. Use no seed for parallelism.\n",
      "  warn(f\"n_jobs value {self.n_jobs} overridden to 1 by setting random_state. Use no seed for parallelism.\")\n",
      "OMP: Info #276: omp_set_nested routine deprecated, please use omp_set_max_active_levels instead.\n"
     ]
    }
   ],
   "source": [
    "import umap.umap_ as umap\n",
    "import numpy as np\n",
    "from tqdm import tqdm\n",
    "\n",
    "reducer = umap.UMAP(random_state=0,transform_seed=0)\n",
    "umap_transform = reducer.fit(all_embeddings)"
   ]
  },
  {
   "cell_type": "code",
   "execution_count": 32,
   "id": "cdce0b6b-ae61-4c1e-8dd2-0128d7c10a79",
   "metadata": {},
   "outputs": [],
   "source": [
    "def project_embeddings(embeddings, umap_transform):\n",
    "    \"\"\"project embeddings into a 2d space\"\"\"\n",
    "    umap_embeddings = np.empty((len(embeddings),2))\n",
    "    for i,embedding in enumerate(tqdm(embeddings)):\n",
    "        umap_embeddings[i] = umap_transform.transform([embedding])\n",
    "    return umap_embeddings\n"
   ]
  },
  {
   "cell_type": "code",
   "execution_count": 33,
   "id": "57d6af0e-88d4-4b3a-994e-2f76c23939f7",
   "metadata": {},
   "outputs": [
    {
     "name": "stderr",
     "output_type": "stream",
     "text": [
      "100%|███████████████████████████████████████████████████████████████████████████████████████████████████████████████████████████████████████████████████████████████████████| 1283/1283 [12:11<00:00,  1.75it/s]\n"
     ]
    }
   ],
   "source": [
    "projected_all_embeddings = project_embeddings(all_embeddings,umap_transform)"
   ]
  },
  {
   "cell_type": "code",
   "execution_count": 34,
   "id": "15a38919-1b00-405f-a241-539e25d547bb",
   "metadata": {},
   "outputs": [
    {
     "data": {
      "text/plain": [
       "(1.9600436329841613, 9.846918618679046, 4.867548608779908, 15.745867109298706)"
      ]
     },
     "execution_count": 34,
     "metadata": {},
     "output_type": "execute_result"
    },
    {
     "data": {
      "image/png": "[encoded data removed]",
      "text/plain": [
       "<Figure size 640x480 with 1 Axes>"
      ]
     },
     "metadata": {},
     "output_type": "display_data"
    }
   ],
   "source": [
    "import matplotlib.pyplot as plt\n",
    "\n",
    "plt.figure()\n",
    "plt.scatter(projected_all_embeddings[:,0],projected_all_embeddings[:,1], s=10)\n",
    "\n",
    "plt.gca().set_aspect('equal','datalim')\n",
    "plt.title('Projected embeddings')\n",
    "plt.axis('off')"
   ]
  },
  {
   "cell_type": "code",
   "execution_count": null,
   "id": "9eabd479-08a4-4eda-9415-4602b5a71a68",
   "metadata": {},
   "outputs": [],
   "source": []
  }
 ],
 "metadata": {
  "kernelspec": {
   "display_name": "Python 3 (ipykernel)",
   "language": "python",
   "name": "python3"
  },
  "language_info": {
   "codemirror_mode": {
    "name": "ipython",
    "version": 3
   },
   "file_extension": ".py",
   "mimetype": "text/x-python",
   "name": "python",
   "nbconvert_exporter": "python",
   "pygments_lexer": "ipython3",
   "version": "3.11.8"
  }
 },
 "nbformat": 4,
 "nbformat_minor": 5
}
