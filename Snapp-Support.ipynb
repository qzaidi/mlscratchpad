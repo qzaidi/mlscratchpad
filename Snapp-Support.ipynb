{
 "cells": [
  {
   "cell_type": "markdown",
   "id": "8fa094f0-6f3c-40ce-b4ae-57cc4ee34d62",
   "metadata": {},
   "source": [
    "# Snapp Support RAG\n",
    "\n",
    "Here we will try to implement a RAG over the support documents from Snapp's support team"
   ]
  },
  {
   "cell_type": "code",
   "execution_count": 2,
   "id": "45e87266-1e15-49ae-9534-67833b827096",
   "metadata": {},
   "outputs": [
    {
     "name": "stdout",
     "output_type": "stream",
     "text": [
      "Note: you may need to restart the kernel to use updated packages.\n"
     ]
    }
   ],
   "source": [
    "pip install --quiet ollama sentence-transformers protobuf tqdm"
   ]
  },
  {
   "cell_type": "code",
   "execution_count": 4,
   "id": "7c51143d-4664-4f50-a78c-5bbb0984e5f8",
   "metadata": {},
   "outputs": [
    {
     "name": "stdout",
     "output_type": "stream",
     "text": [
      "Note: you may need to restart the kernel to use updated packages.\n"
     ]
    }
   ],
   "source": [
    "pip install --quiet langchain langchain-community chromadb"
   ]
  },
  {
   "cell_type": "markdown",
   "id": "a460f66c-44bd-44ce-a560-0e082197090a",
   "metadata": {},
   "source": [
    "## Data Loading"
   ]
  },
  {
   "cell_type": "code",
   "execution_count": 4,
   "id": "224e4647-283a-43ea-800a-d7c34a2bb3ec",
   "metadata": {},
   "outputs": [
    {
     "name": "stdout",
     "output_type": "stream",
     "text": [
      "203\n"
     ]
    }
   ],
   "source": [
    "from langchain.document_loaders import BSHTMLLoader,DirectoryLoader\n",
    "import os\n",
    "\n",
    "path = './supportdocs'\n",
    "loader = DirectoryLoader(path,glob=\"**/*.html\",loader_cls=BSHTMLLoader)\n",
    "docs = loader.load()\n",
    "print(len(docs))"
   ]
  },
  {
   "cell_type": "code",
   "execution_count": 9,
   "id": "d29d50cb-89f1-498e-836d-26b6e48be6e6",
   "metadata": {},
   "outputs": [
    {
     "name": "stdout",
     "output_type": "stream",
     "text": [
      "['supportdocs/معرفی-طرح-تشویقی-با-پاداش-نقدی-بر-اساس-درآمد.html', 'supportdocs/امکان-تغییر-مشخصات-خودرو-در-اپلیکیشن-کاربران-راننده.html', 'supportdocs/مواردی-که-کاربر-راننده-اسنپ-باید-در-انجام-سفر-رعایت-کند.html', 'supportdocs/فعال-شدن-قابلیت-تماس-امن-در-سفرهای-اسنپ\\u200cباکس.html', 'supportdocs/راهنمای-گام\\u200cبه\\u200cگام-مراحل-انجام-سفر-بین\\u200cاستانی-ویژه-کاربران-راننده-اسنپ.html', 'supportdocs/استفاده-از-قابلیت-گفت\\u200cوگوی-متنی-درون-برنامه-چه-مزایایی-دارد؟.html', 'supportdocs/هرآنچه-باید-درباره-فرسودگی-تایر-موتور-سیکلت-بدانیم.html', 'supportdocs/هر-آنچه-باید-درباره-سهمیه-سوخت-بدانید.html', 'supportdocs/نحوه-ارسال-مدارک-در-بخش-تکمیل-مدارک-اپلیکیشن-راننده-به-همراه-ویدیوی-آموزشی.html', 'supportdocs/دلایل-کم-شدن-گرمای-بخاری-خودرو.html']\n"
     ]
    }
   ],
   "source": [
    "print(list(map(lambda x: x.metadata['source'], docs[0:10])))"
   ]
  },
  {
   "cell_type": "code",
   "execution_count": 5,
   "id": "cf7e935d-ea65-4451-9816-abd891f1bdf4",
   "metadata": {},
   "outputs": [
    {
     "name": "stderr",
     "output_type": "stream",
     "text": [
      "/home/qasim/anaconda3/lib/python3.11/site-packages/huggingface_hub/file_download.py:1132: FutureWarning: `resume_download` is deprecated and will be removed in version 1.0.0. Downloads always resume when possible. If you want to force a new download, use `force_download=True`.\n",
      "  warnings.warn(\n"
     ]
    },
    {
     "name": "stdout",
     "output_type": "stream",
     "text": [
      "1283\n"
     ]
    }
   ],
   "source": [
    "from langchain.text_splitter import SentenceTransformersTokenTextSplitter\n",
    "\n",
    "token_splitter = SentenceTransformersTokenTextSplitter(chunk_overlap=0, tokens_per_chunk=384)\n",
    "splits = token_splitter.split_documents(docs)\n",
    "print(len(splits))"
   ]
  },
  {
   "cell_type": "code",
   "execution_count": 6,
   "id": "d221852c-836f-4596-9b2d-af72c8d6f583",
   "metadata": {},
   "outputs": [
    {
     "name": "stdout",
     "output_type": "stream",
     "text": [
      "CPU times: user 150 ms, sys: 13.9 ms, total: 164 ms\n",
      "Wall time: 214 ms\n"
     ]
    }
   ],
   "source": [
    "%%time\n",
    "from langchain_community.embeddings import OllamaEmbeddings\n",
    "embeddingModel = 'mxbai-embed-large'\n",
    "\n",
    "embeddings = OllamaEmbeddings(model=embeddingModel,show_progress=True)"
   ]
  },
  {
   "cell_type": "code",
   "execution_count": 7,
   "id": "d9c85faa-a553-447a-9664-08a62831aa13",
   "metadata": {},
   "outputs": [
    {
     "name": "stderr",
     "output_type": "stream",
     "text": [
      "OllamaEmbeddings: 100%|█████████████████████| 1283/1283 [01:49<00:00, 11.76it/s]\n"
     ]
    },
    {
     "name": "stdout",
     "output_type": "stream",
     "text": [
      "CPU times: user 4.12 s, sys: 363 ms, total: 4.48 s\n",
      "Wall time: 1min 50s\n"
     ]
    }
   ],
   "source": [
    "%%time\n",
    "from langchain.vectorstores import Chroma\n",
    "vectorstore = Chroma.from_documents(collection_name='snappsupport',documents=splits, embedding=embeddings,persist_directory='./chromadb')"
   ]
  },
  {
   "cell_type": "markdown",
   "id": "a3617737-4ffa-4aab-be52-1c167e1907be",
   "metadata": {},
   "source": [
    "## Retrieval\n",
    "\n",
    "First we query chromadb directly to check if things are all right."
   ]
  },
  {
   "cell_type": "code",
   "execution_count": 9,
   "id": "aae0f0d1-dd01-4df2-a0d6-9b8f1e710d84",
   "metadata": {},
   "outputs": [
    {
     "name": "stderr",
     "output_type": "stream",
     "text": [
      "OllamaEmbeddings: 100%|███████████████████████████| 1/1 [00:00<00:00, 14.20it/s]"
     ]
    },
    {
     "name": "stdout",
     "output_type": "stream",
     "text": [
      "{'ids': [['fe5ec7d6-1da0-11ef-8b38-8c53e6c197e3', '84167e1e-1db5-11ef-b61f-8c53e6c197e3', '84169548-1db5-11ef-b61f-8c53e6c197e3', 'fe5edf3c-1da0-11ef-8b38-8c53e6c197e3', 'fe5ed29e-1da0-11ef-8b38-8c53e6c197e3']], 'distances': [[296.3659362792969, 296.3659362792969, 306.24133978363614, 306.2413635253906, 307.16693115234375]], 'metadatas': [[{'source': 'supportdocs/حفظ-خونسردی-در-ترافیک.html', 'title': 'حفظ خونسردی در ترافیک!'}, {'source': 'supportdocs/حفظ-خونسردی-در-ترافیک.html', 'title': 'حفظ خونسردی در ترافیک!'}, {'source': 'supportdocs/ویژگی-جدید-اپلیکیشن-راننده-اسنپ-نمایش-دلایل-مسدودی-حساب-کاربری.html', 'title': 'ویژگی جدید اپلیکیشن راننده اسنپ: نمایش دلایل مسدودی حساب کاربری'}, {'source': 'supportdocs/ویژگی-جدید-اپلیکیشن-راننده-اسنپ-نمایش-دلایل-مسدودی-حساب-کاربری.html', 'title': 'ویژگی جدید اپلیکیشن راننده اسنپ: نمایش دلایل مسدودی حساب کاربری'}, {'source': 'supportdocs/راهنمای-جامع-نگهداری-از-خودرو-مباحث-مرتبط-با-تعویض-روغن،-فیلتر-و-مایعات-خودرو.html', 'title': 'راهنمای جامع نگهداری از خودرو ( مباحث مرتبط با تعویض روغن، فیلتر و مایعات خودرو )'}]], 'embeddings': None, 'documents': [['##ر سعی دارند از خودروی شما سبقت بگیرند به انها راه دهید. حفظ صبوری و ارامش بهترین راه حل در این شرایط است.', '##ر سعی دارند از خودروی شما سبقت بگیرند به انها راه دهید. حفظ صبوری و ارامش بهترین راه حل در این شرایط است.', '##ال درخواست سفر مجددا برای شما نمایش داده میشود. در این حالت نیز با توجه به گزینه ابی نمایش داده شده ، اقدام مناسب جهت رفع محدودیت را انجام دهید.', '##ال درخواست سفر مجددا برای شما نمایش داده میشود. در این حالت نیز با توجه به گزینه ابی نمایش داده شده ، اقدام مناسب جهت رفع محدودیت را انجام دهید.', '##ان ان را پاک کرد. برخورد اشیای تیز یا سفت به رادیاتور اسیب میزند ، بنابراین پاک کردن رادیاتور را به دقت انجام دهید.']], 'uris': None, 'data': None}\n"
     ]
    },
    {
     "name": "stderr",
     "output_type": "stream",
     "text": [
      "\n"
     ]
    }
   ],
   "source": [
    "query = \"پاداش-نقدی-بر-اساس-درآمد\"\n",
    "#print(token_splitter.count_tokens(query))\n",
    "qembed = embeddings.embed_query(query)\n",
    "results = vectorstore._collection.query(query_embeddings = qembed, n_results=5)\n",
    "retrieved_documents = results['documents'][0]\n",
    "print(results)"
   ]
  },
  {
   "cell_type": "code",
   "execution_count": 10,
   "id": "17012aab-3f56-49a4-bb95-65b32214d7f4",
   "metadata": {},
   "outputs": [],
   "source": [
    "#ollamaBase = 'http://ollama-alibo-gpu-testing.apps.private.okd4.teh-2.snappcloud.io/'\n",
    "ollamaBase = 'http://localhost:11434'\n",
    "import ollama\n",
    "\n",
    "def newOllamaClient(baseURL):\n",
    "    return ollama.Client(baseURL)\n",
    "\n",
    "client = newOllamaClient(baseURL=ollamaBase)\n",
    "retriever = vectorstore.as_retriever()"
   ]
  },
  {
   "cell_type": "code",
   "execution_count": 11,
   "id": "c648b869-7a48-4a89-bbae-248970bdb568",
   "metadata": {},
   "outputs": [],
   "source": [
    "llmModel = 'llama3'\n",
    "\n",
    "systemPrompt = \"\"\"You are a helpful expert assistant conversant in persian. Your users are drivers asking questions about Snapp, a ride hailing company.\n",
    "                You will be shown the user's question, and  relevant information from the documentation as context.\n",
    "                Answer the user's question in Persian using only the context and cite your sources\"\"\"\n",
    "\n",
    "\n",
    "def format_docs(docs):\n",
    "    return \"\\n\\n\".join(doc.page_content for doc in docs)\n",
    "\n",
    "def ollama_llm(question, context):\n",
    "    formatted_prompt = f\"Question: {question}\\n\\nContext: {context}\"\n",
    "    response = client.chat(model=llmModel, options = { 'temperature': 0}, messages=[{'role': 'system', 'content': systemPrompt},{'role': 'user', 'content': formatted_prompt}])\n",
    "    return response['message']['content']\n",
    "\n",
    "# Define the RAG chain\n",
    "def rag_chain(question):\n",
    "    retrieved_docs = retriever.invoke(question)\n",
    "    formatted_context = format_docs(retrieved_docs)\n",
    "    print(\"using from context\",list(map(lambda x: x.metadata['source'],retrieved_docs)))\n",
    "    return ollama_llm(question, formatted_context)"
   ]
  },
  {
   "cell_type": "code",
   "execution_count": 12,
   "id": "64a84194-f5d1-4f1f-995f-edba634879af",
   "metadata": {
    "scrolled": true
   },
   "outputs": [
    {
     "name": "stderr",
     "output_type": "stream",
     "text": [
      "OllamaEmbeddings: 100%|███████████████████████████| 1/1 [00:00<00:00, 16.53it/s]\n"
     ]
    },
    {
     "name": "stdout",
     "output_type": "stream",
     "text": [
      "using from context ['supportdocs/مزایای-فعالیت-به\\u200c-صورت-پاره\\u200cوقت-در-اسنپ.html', 'supportdocs/مزایای-فعالیت-به\\u200c-صورت-پاره\\u200cوقت-در-اسنپ.html', 'supportdocs/داستان\\u200cهای-آقای-اسنپیان؛-خرید-گوشی-موبایل-برای-فرزند.html', 'supportdocs/داستان\\u200cهای-آقای-اسنپیان؛-خرید-گوشی-موبایل-برای-فرزند.html']\n",
      "جواب: آخرین سفر من انجام نشده ولی تو لیست سفرها پایان خورده، چرا از من کمیسون کسر شده؟\n",
      "\n",
      "به نظر می‌رسد که شما آخرین سفر خود را ثبت نکرده‌اید اما در لیست سفرهای خود پایان یافته است. این به معنای آن است که سهمیه بنزین شما به دلیل پیمایش ماهانه بیش از [UNK] کیلومتر، مشمول دریافت اعتبار «سهمیه بنزنین» می‌شود. بنابراین، باید در سامانه سماس ثبت نام کنید تا بتوانید از این سهمیه بهره‌مند شوید.\n",
      "\n",
      "منبع: مقاله «نحوه مشاهده طرحهای تشویقی در اپلیکیشن رانندگان» و «نحوه ثبت اطلاعات در سامانه ملی اطلاعات سفر، سماس»\n",
      "CPU times: user 42.1 ms, sys: 6.23 ms, total: 48.3 ms\n",
      "Wall time: 9.78 s\n"
     ]
    }
   ],
   "source": [
    "%%time\n",
    "query = 'آخرین سفر من انجام نشده ولی تو لیست سفرها پایان خورده، چرا از من کمیسون کسر شده؟'\n",
    "result = rag_chain(query)\n",
    "print(result)"
   ]
  },
  {
   "cell_type": "code",
   "execution_count": null,
   "id": "2e71c673-53e4-45d6-aab9-59d39ca28a2c",
   "metadata": {},
   "outputs": [],
   "source": []
  }
 ],
 "metadata": {
  "kernelspec": {
   "display_name": "Python 3 (ipykernel)",
   "language": "python",
   "name": "python3"
  },
  "language_info": {
   "codemirror_mode": {
    "name": "ipython",
    "version": 3
   },
   "file_extension": ".py",
   "mimetype": "text/x-python",
   "name": "python",
   "nbconvert_exporter": "python",
   "pygments_lexer": "ipython3",
   "version": "3.11.7"
  }
 },
 "nbformat": 4,
 "nbformat_minor": 5
}
