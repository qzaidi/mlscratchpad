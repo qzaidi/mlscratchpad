{
 "cells": [
  {
   "cell_type": "code",
   "execution_count": 1,
   "id": "46d3b1a8",
   "metadata": {},
   "outputs": [
    {
     "name": "stdout",
     "output_type": "stream",
     "text": [
      "Requirement already satisfied: ollama in c:\\users\\qasim\\anaconda3\\lib\\site-packages (0.1.9)\n",
      "Requirement already satisfied: httpx<0.28.0,>=0.27.0 in c:\\users\\qasim\\anaconda3\\lib\\site-packages (from ollama) (0.27.0)\n",
      "Requirement already satisfied: anyio in c:\\users\\qasim\\anaconda3\\lib\\site-packages (from httpx<0.28.0,>=0.27.0->ollama) (3.7.1)\n",
      "Requirement already satisfied: certifi in c:\\users\\qasim\\anaconda3\\lib\\site-packages (from httpx<0.28.0,>=0.27.0->ollama) (2024.2.2)\n",
      "Requirement already satisfied: httpcore==1.* in c:\\users\\qasim\\anaconda3\\lib\\site-packages (from httpx<0.28.0,>=0.27.0->ollama) (1.0.2)\n",
      "Requirement already satisfied: idna in c:\\users\\qasim\\anaconda3\\lib\\site-packages (from httpx<0.28.0,>=0.27.0->ollama) (3.4)\n",
      "Requirement already satisfied: sniffio in c:\\users\\qasim\\anaconda3\\lib\\site-packages (from httpx<0.28.0,>=0.27.0->ollama) (1.3.0)\n",
      "Requirement already satisfied: h11<0.15,>=0.13 in c:\\users\\qasim\\anaconda3\\lib\\site-packages (from httpcore==1.*->httpx<0.28.0,>=0.27.0->ollama) (0.14.0)\n",
      "Note: you may need to restart the kernel to use updated packages.\n"
     ]
    }
   ],
   "source": [
    "pip install ollama"
   ]
  },
  {
   "cell_type": "code",
   "execution_count": 8,
   "id": "49c9773b",
   "metadata": {},
   "outputs": [
    {
     "name": "stdout",
     "output_type": "stream",
     "text": [
      "Requirement already satisfied: langchain in c:\\users\\qasim\\anaconda3\\lib\\site-packages (0.0.300)\n",
      "Requirement already satisfied: langchain_community in c:\\users\\qasim\\anaconda3\\lib\\site-packages (0.0.20)\n",
      "Requirement already satisfied: chromadb in c:\\users\\qasim\\anaconda3\\lib\\site-packages (0.4.12)\n",
      "Collecting unstructured\n",
      "  Downloading unstructured-0.13.6-py3-none-any.whl.metadata (30 kB)\n",
      "Requirement already satisfied: PyYAML>=5.3 in c:\\users\\qasim\\anaconda3\\lib\\site-packages (from langchain) (6.0.1)\n",
      "Requirement already satisfied: SQLAlchemy<3,>=1.4 in c:\\users\\qasim\\anaconda3\\lib\\site-packages (from langchain) (2.0.25)\n",
      "Requirement already satisfied: aiohttp<4.0.0,>=3.8.3 in c:\\users\\qasim\\anaconda3\\lib\\site-packages (from langchain) (3.9.3)\n",
      "Requirement already satisfied: anyio<4.0 in c:\\users\\qasim\\anaconda3\\lib\\site-packages (from langchain) (3.7.1)\n",
      "Requirement already satisfied: dataclasses-json<0.7,>=0.5.7 in c:\\users\\qasim\\anaconda3\\lib\\site-packages (from langchain) (0.6.5)\n",
      "Requirement already satisfied: jsonpatch<2.0,>=1.33 in c:\\users\\qasim\\anaconda3\\lib\\site-packages (from langchain) (1.33)\n",
      "Requirement already satisfied: langsmith<0.1.0,>=0.0.38 in c:\\users\\qasim\\anaconda3\\lib\\site-packages (from langchain) (0.0.87)\n",
      "Requirement already satisfied: numexpr<3.0.0,>=2.8.4 in c:\\users\\qasim\\anaconda3\\lib\\site-packages (from langchain) (2.8.7)\n",
      "Requirement already satisfied: numpy<2,>=1 in c:\\users\\qasim\\anaconda3\\lib\\site-packages (from langchain) (1.26.4)\n",
      "Requirement already satisfied: pydantic<3,>=1 in c:\\users\\qasim\\anaconda3\\lib\\site-packages (from langchain) (1.10.12)\n",
      "Requirement already satisfied: requests<3,>=2 in c:\\users\\qasim\\anaconda3\\lib\\site-packages (from langchain) (2.31.0)\n",
      "Requirement already satisfied: tenacity<9.0.0,>=8.1.0 in c:\\users\\qasim\\anaconda3\\lib\\site-packages (from langchain) (8.2.2)\n",
      "Requirement already satisfied: langchain-core<0.2,>=0.1.21 in c:\\users\\qasim\\anaconda3\\lib\\site-packages (from langchain_community) (0.1.23)\n",
      "Requirement already satisfied: chroma-hnswlib==0.7.3 in c:\\users\\qasim\\anaconda3\\lib\\site-packages (from chromadb) (0.7.3)\n",
      "Requirement already satisfied: fastapi<0.100.0,>=0.95.2 in c:\\users\\qasim\\anaconda3\\lib\\site-packages (from chromadb) (0.99.1)\n",
      "Requirement already satisfied: uvicorn>=0.18.3 in c:\\users\\qasim\\anaconda3\\lib\\site-packages (from uvicorn[standard]>=0.18.3->chromadb) (0.29.0)\n",
      "Requirement already satisfied: posthog>=2.4.0 in c:\\users\\qasim\\anaconda3\\lib\\site-packages (from chromadb) (3.5.0)\n",
      "Requirement already satisfied: typing-extensions>=4.5.0 in c:\\users\\qasim\\anaconda3\\lib\\site-packages (from chromadb) (4.9.0)\n",
      "Requirement already satisfied: pulsar-client>=3.1.0 in c:\\users\\qasim\\anaconda3\\lib\\site-packages (from chromadb) (3.5.0)\n",
      "Requirement already satisfied: onnxruntime>=1.14.1 in c:\\users\\qasim\\anaconda3\\lib\\site-packages (from chromadb) (1.17.3)\n",
      "Requirement already satisfied: tokenizers>=0.13.2 in c:\\users\\qasim\\anaconda3\\lib\\site-packages (from chromadb) (0.13.3)\n",
      "Requirement already satisfied: pypika>=0.48.9 in c:\\users\\qasim\\anaconda3\\lib\\site-packages (from chromadb) (0.48.9)\n",
      "Requirement already satisfied: tqdm>=4.65.0 in c:\\users\\qasim\\anaconda3\\lib\\site-packages (from chromadb) (4.65.0)\n",
      "Requirement already satisfied: overrides>=7.3.1 in c:\\users\\qasim\\anaconda3\\lib\\site-packages (from chromadb) (7.4.0)\n",
      "Requirement already satisfied: importlib-resources in c:\\users\\qasim\\anaconda3\\lib\\site-packages (from chromadb) (6.4.0)\n",
      "Requirement already satisfied: bcrypt>=4.0.1 in c:\\users\\qasim\\anaconda3\\lib\\site-packages (from chromadb) (4.1.2)\n",
      "Requirement already satisfied: typer>=0.9.0 in c:\\users\\qasim\\anaconda3\\lib\\site-packages (from chromadb) (0.12.3)\n",
      "Requirement already satisfied: chardet in c:\\users\\qasim\\anaconda3\\lib\\site-packages (from unstructured) (4.0.0)\n",
      "Collecting filetype (from unstructured)\n",
      "  Downloading filetype-1.2.0-py2.py3-none-any.whl.metadata (6.5 kB)\n",
      "Collecting python-magic (from unstructured)\n",
      "  Downloading python_magic-0.4.27-py2.py3-none-any.whl.metadata (5.8 kB)\n",
      "Requirement already satisfied: lxml in c:\\users\\qasim\\anaconda3\\lib\\site-packages (from unstructured) (4.9.3)\n",
      "Requirement already satisfied: nltk in c:\\users\\qasim\\anaconda3\\lib\\site-packages (from unstructured) (3.8.1)\n",
      "Requirement already satisfied: tabulate in c:\\users\\qasim\\anaconda3\\lib\\site-packages (from unstructured) (0.9.0)\n",
      "Requirement already satisfied: beautifulsoup4 in c:\\users\\qasim\\anaconda3\\lib\\site-packages (from unstructured) (4.12.2)\n",
      "Collecting emoji (from unstructured)\n",
      "  Downloading emoji-2.11.1-py2.py3-none-any.whl.metadata (5.3 kB)\n",
      "Collecting python-iso639 (from unstructured)\n",
      "  Downloading python_iso639-2024.4.27-py3-none-any.whl.metadata (13 kB)\n",
      "Collecting langdetect (from unstructured)\n",
      "  Downloading langdetect-1.0.9.tar.gz (981 kB)\n",
      "     ---------------------------------------- 0.0/981.5 kB ? eta -:--:--\n",
      "     - ------------------------------------- 41.0/981.5 kB 2.0 MB/s eta 0:00:01\n",
      "     ----- -------------------------------- 143.4/981.5 kB 1.7 MB/s eta 0:00:01\n",
      "     --------- ---------------------------- 235.5/981.5 kB 1.8 MB/s eta 0:00:01\n",
      "     ----------------- -------------------- 440.3/981.5 kB 2.8 MB/s eta 0:00:01\n",
      "     ----------------- -------------------- 440.3/981.5 kB 2.8 MB/s eta 0:00:01\n",
      "     ---------------------------- --------- 747.5/981.5 kB 2.8 MB/s eta 0:00:01\n",
      "     ---------------------------- --------- 747.5/981.5 kB 2.8 MB/s eta 0:00:01\n",
      "     -------------------------------------- 981.5/981.5 kB 2.8 MB/s eta 0:00:00\n",
      "  Preparing metadata (setup.py): started\n",
      "  Preparing metadata (setup.py): finished with status 'done'\n",
      "Collecting rapidfuzz (from unstructured)\n",
      "  Downloading rapidfuzz-3.9.0-cp311-cp311-win_amd64.whl.metadata (11 kB)\n",
      "Requirement already satisfied: backoff in c:\\users\\qasim\\anaconda3\\lib\\site-packages (from unstructured) (2.2.1)\n",
      "Collecting unstructured-client (from unstructured)\n",
      "  Downloading unstructured_client-0.22.0-py3-none-any.whl.metadata (7.3 kB)\n",
      "Requirement already satisfied: wrapt in c:\\users\\qasim\\anaconda3\\lib\\site-packages (from unstructured) (1.14.1)\n",
      "Requirement already satisfied: aiosignal>=1.1.2 in c:\\users\\qasim\\anaconda3\\lib\\site-packages (from aiohttp<4.0.0,>=3.8.3->langchain) (1.2.0)\n",
      "Requirement already satisfied: attrs>=17.3.0 in c:\\users\\qasim\\anaconda3\\lib\\site-packages (from aiohttp<4.0.0,>=3.8.3->langchain) (23.1.0)\n",
      "Requirement already satisfied: frozenlist>=1.1.1 in c:\\users\\qasim\\anaconda3\\lib\\site-packages (from aiohttp<4.0.0,>=3.8.3->langchain) (1.4.0)\n",
      "Requirement already satisfied: multidict<7.0,>=4.5 in c:\\users\\qasim\\anaconda3\\lib\\site-packages (from aiohttp<4.0.0,>=3.8.3->langchain) (6.0.4)\n",
      "Requirement already satisfied: yarl<2.0,>=1.0 in c:\\users\\qasim\\anaconda3\\lib\\site-packages (from aiohttp<4.0.0,>=3.8.3->langchain) (1.9.3)\n",
      "Requirement already satisfied: idna>=2.8 in c:\\users\\qasim\\anaconda3\\lib\\site-packages (from anyio<4.0->langchain) (3.4)\n",
      "Requirement already satisfied: sniffio>=1.1 in c:\\users\\qasim\\anaconda3\\lib\\site-packages (from anyio<4.0->langchain) (1.3.0)\n",
      "Requirement already satisfied: marshmallow<4.0.0,>=3.18.0 in c:\\users\\qasim\\anaconda3\\lib\\site-packages (from dataclasses-json<0.7,>=0.5.7->langchain) (3.21.2)\n",
      "Requirement already satisfied: typing-inspect<1,>=0.4.0 in c:\\users\\qasim\\anaconda3\\lib\\site-packages (from dataclasses-json<0.7,>=0.5.7->langchain) (0.9.0)\n",
      "Requirement already satisfied: starlette<0.28.0,>=0.27.0 in c:\\users\\qasim\\anaconda3\\lib\\site-packages (from fastapi<0.100.0,>=0.95.2->chromadb) (0.27.0)\n",
      "Requirement already satisfied: jsonpointer>=1.9 in c:\\users\\qasim\\anaconda3\\lib\\site-packages (from jsonpatch<2.0,>=1.33->langchain) (2.1)\n",
      "Requirement already satisfied: packaging<24.0,>=23.2 in c:\\users\\qasim\\anaconda3\\lib\\site-packages (from langchain-core<0.2,>=0.1.21->langchain_community) (23.2)\n",
      "Requirement already satisfied: coloredlogs in c:\\users\\qasim\\anaconda3\\lib\\site-packages (from onnxruntime>=1.14.1->chromadb) (15.0.1)\n",
      "Requirement already satisfied: flatbuffers in c:\\users\\qasim\\anaconda3\\lib\\site-packages (from onnxruntime>=1.14.1->chromadb) (24.3.25)\n",
      "Requirement already satisfied: protobuf in c:\\users\\qasim\\anaconda3\\lib\\site-packages (from onnxruntime>=1.14.1->chromadb) (3.20.3)\n",
      "Requirement already satisfied: sympy in c:\\users\\qasim\\anaconda3\\lib\\site-packages (from onnxruntime>=1.14.1->chromadb) (1.12)\n",
      "Requirement already satisfied: six>=1.5 in c:\\users\\qasim\\anaconda3\\lib\\site-packages (from posthog>=2.4.0->chromadb) (1.16.0)\n",
      "Requirement already satisfied: monotonic>=1.5 in c:\\users\\qasim\\anaconda3\\lib\\site-packages (from posthog>=2.4.0->chromadb) (1.6)\n",
      "Requirement already satisfied: python-dateutil>2.1 in c:\\users\\qasim\\anaconda3\\lib\\site-packages (from posthog>=2.4.0->chromadb) (2.8.2)\n",
      "Requirement already satisfied: certifi in c:\\users\\qasim\\anaconda3\\lib\\site-packages (from pulsar-client>=3.1.0->chromadb) (2024.2.2)\n",
      "Requirement already satisfied: charset-normalizer<4,>=2 in c:\\users\\qasim\\anaconda3\\lib\\site-packages (from requests<3,>=2->langchain) (2.0.4)\n",
      "Requirement already satisfied: urllib3<3,>=1.21.1 in c:\\users\\qasim\\anaconda3\\lib\\site-packages (from requests<3,>=2->langchain) (2.0.7)\n",
      "Requirement already satisfied: greenlet!=0.4.17 in c:\\users\\qasim\\anaconda3\\lib\\site-packages (from SQLAlchemy<3,>=1.4->langchain) (3.0.1)\n",
      "Requirement already satisfied: colorama in c:\\users\\qasim\\anaconda3\\lib\\site-packages (from tqdm>=4.65.0->chromadb) (0.4.6)\n",
      "Requirement already satisfied: click>=8.0.0 in c:\\users\\qasim\\anaconda3\\lib\\site-packages (from typer>=0.9.0->chromadb) (8.1.7)\n",
      "Requirement already satisfied: shellingham>=1.3.0 in c:\\users\\qasim\\anaconda3\\lib\\site-packages (from typer>=0.9.0->chromadb) (1.5.4)\n",
      "Requirement already satisfied: rich>=10.11.0 in c:\\users\\qasim\\anaconda3\\lib\\site-packages (from typer>=0.9.0->chromadb) (13.3.5)\n",
      "Requirement already satisfied: h11>=0.8 in c:\\users\\qasim\\anaconda3\\lib\\site-packages (from uvicorn>=0.18.3->uvicorn[standard]>=0.18.3->chromadb) (0.14.0)\n",
      "Requirement already satisfied: httptools>=0.5.0 in c:\\users\\qasim\\anaconda3\\lib\\site-packages (from uvicorn[standard]>=0.18.3->chromadb) (0.6.1)\n",
      "Requirement already satisfied: python-dotenv>=0.13 in c:\\users\\qasim\\anaconda3\\lib\\site-packages (from uvicorn[standard]>=0.18.3->chromadb) (0.21.0)\n",
      "Requirement already satisfied: watchfiles>=0.13 in c:\\users\\qasim\\anaconda3\\lib\\site-packages (from uvicorn[standard]>=0.18.3->chromadb) (0.21.0)\n",
      "Requirement already satisfied: websockets>=10.4 in c:\\users\\qasim\\anaconda3\\lib\\site-packages (from uvicorn[standard]>=0.18.3->chromadb) (11.0.3)\n",
      "Requirement already satisfied: soupsieve>1.2 in c:\\users\\qasim\\anaconda3\\lib\\site-packages (from beautifulsoup4->unstructured) (2.5)\n",
      "Requirement already satisfied: joblib in c:\\users\\qasim\\anaconda3\\lib\\site-packages (from nltk->unstructured) (1.2.0)\n",
      "Requirement already satisfied: regex>=2021.8.3 in c:\\users\\qasim\\anaconda3\\lib\\site-packages (from nltk->unstructured) (2023.10.3)\n",
      "Collecting charset-normalizer<4,>=2 (from requests<3,>=2->langchain)\n",
      "  Using cached charset_normalizer-3.3.2-cp311-cp311-win_amd64.whl.metadata (34 kB)\n",
      "Collecting deepdiff>=6.0 (from unstructured-client->unstructured)\n",
      "  Downloading deepdiff-7.0.1-py3-none-any.whl.metadata (6.8 kB)\n",
      "Collecting jsonpath-python>=1.0.6 (from unstructured-client->unstructured)\n",
      "  Downloading jsonpath_python-1.0.6-py3-none-any.whl.metadata (12 kB)\n",
      "Requirement already satisfied: mypy-extensions>=1.0.0 in c:\\users\\qasim\\anaconda3\\lib\\site-packages (from unstructured-client->unstructured) (1.0.0)\n",
      "Collecting pypdf>=4.0 (from unstructured-client->unstructured)\n",
      "  Using cached pypdf-4.2.0-py3-none-any.whl.metadata (7.4 kB)\n",
      "Collecting ordered-set<4.2.0,>=4.1.0 (from deepdiff>=6.0->unstructured-client->unstructured)\n",
      "  Downloading ordered_set-4.1.0-py3-none-any.whl.metadata (5.3 kB)\n",
      "Requirement already satisfied: markdown-it-py<3.0.0,>=2.2.0 in c:\\users\\qasim\\anaconda3\\lib\\site-packages (from rich>=10.11.0->typer>=0.9.0->chromadb) (2.2.0)\n",
      "Requirement already satisfied: pygments<3.0.0,>=2.13.0 in c:\\users\\qasim\\anaconda3\\lib\\site-packages (from rich>=10.11.0->typer>=0.9.0->chromadb) (2.15.1)\n",
      "Requirement already satisfied: humanfriendly>=9.1 in c:\\users\\qasim\\anaconda3\\lib\\site-packages (from coloredlogs->onnxruntime>=1.14.1->chromadb) (10.0)\n",
      "Requirement already satisfied: mpmath>=0.19 in c:\\users\\qasim\\anaconda3\\lib\\site-packages (from sympy->onnxruntime>=1.14.1->chromadb) (1.3.0)\n",
      "Requirement already satisfied: pyreadline3 in c:\\users\\qasim\\anaconda3\\lib\\site-packages (from humanfriendly>=9.1->coloredlogs->onnxruntime>=1.14.1->chromadb) (3.4.1)\n",
      "Requirement already satisfied: mdurl~=0.1 in c:\\users\\qasim\\anaconda3\\lib\\site-packages (from markdown-it-py<3.0.0,>=2.2.0->rich>=10.11.0->typer>=0.9.0->chromadb) (0.1.0)\n",
      "Downloading unstructured-0.13.6-py3-none-any.whl (1.9 MB)\n",
      "   ---------------------------------------- 0.0/1.9 MB ? eta -:--:--\n",
      "   ---- ----------------------------------- 0.2/1.9 MB 11.5 MB/s eta 0:00:01\n",
      "   ---- ----------------------------------- 0.2/1.9 MB 2.5 MB/s eta 0:00:01\n",
      "   ---- ----------------------------------- 0.2/1.9 MB 2.5 MB/s eta 0:00:01\n",
      "   ----------- ---------------------------- 0.5/1.9 MB 2.8 MB/s eta 0:00:01\n",
      "   ---------------- ----------------------- 0.8/1.9 MB 3.4 MB/s eta 0:00:01\n",
      "   ------------------- -------------------- 0.9/1.9 MB 3.5 MB/s eta 0:00:01\n",
      "   ---------------------- ----------------- 1.1/1.9 MB 3.6 MB/s eta 0:00:01\n",
      "   ---------------------- ----------------- 1.1/1.9 MB 3.6 MB/s eta 0:00:01\n",
      "   ------------------------- -------------- 1.2/1.9 MB 3.2 MB/s eta 0:00:01\n",
      "   ------------------------------ --------- 1.5/1.9 MB 3.4 MB/s eta 0:00:01\n",
      "   -------------------------------- ------- 1.6/1.9 MB 3.4 MB/s eta 0:00:01\n",
      "   ----------------------------------- ---- 1.7/1.9 MB 3.4 MB/s eta 0:00:01\n",
      "   -------------------------------------- - 1.8/1.9 MB 3.4 MB/s eta 0:00:01\n",
      "   ---------------------------------------- 1.9/1.9 MB 3.4 MB/s eta 0:00:00\n",
      "Downloading emoji-2.11.1-py2.py3-none-any.whl (433 kB)\n",
      "   ---------------------------------------- 0.0/433.8 kB ? eta -:--:--\n",
      "   ---------------- ----------------------- 174.1/433.8 kB 5.3 MB/s eta 0:00:01\n",
      "   ------------------------------- -------- 337.9/433.8 kB 3.5 MB/s eta 0:00:01\n",
      "   --------------------------------- ------ 368.6/433.8 kB 3.9 MB/s eta 0:00:01\n",
      "   ---------------------------------------- 433.8/433.8 kB 2.7 MB/s eta 0:00:00\n",
      "Downloading filetype-1.2.0-py2.py3-none-any.whl (19 kB)\n",
      "Downloading python_iso639-2024.4.27-py3-none-any.whl (274 kB)\n",
      "   ---------------------------------------- 0.0/274.7 kB ? eta -:--:--\n",
      "   ------------------------- -------------- 174.1/274.7 kB 5.1 MB/s eta 0:00:01\n",
      "   ---------------------------------------- 274.7/274.7 kB 3.3 MB/s eta 0:00:00\n",
      "Downloading python_magic-0.4.27-py2.py3-none-any.whl (13 kB)\n",
      "Downloading rapidfuzz-3.9.0-cp311-cp311-win_amd64.whl (1.7 MB)\n",
      "   ---------------------------------------- 0.0/1.7 MB ? eta -:--:--\n",
      "   --- ------------------------------------ 0.1/1.7 MB 4.3 MB/s eta 0:00:01\n",
      "   ------- -------------------------------- 0.3/1.7 MB 3.9 MB/s eta 0:00:01\n",
      "   ---------- ----------------------------- 0.4/1.7 MB 3.4 MB/s eta 0:00:01\n",
      "   -------------- ------------------------- 0.6/1.7 MB 3.4 MB/s eta 0:00:01\n",
      "   ------------------ --------------------- 0.7/1.7 MB 3.6 MB/s eta 0:00:01\n",
      "   ---------------------- ----------------- 0.9/1.7 MB 3.4 MB/s eta 0:00:01\n",
      "   -------------------------- ------------- 1.1/1.7 MB 3.4 MB/s eta 0:00:01\n",
      "   ------------------------------ --------- 1.2/1.7 MB 3.6 MB/s eta 0:00:01\n",
      "   --------------------------------- ------ 1.4/1.7 MB 3.4 MB/s eta 0:00:01\n",
      "   ------------------------------------- -- 1.5/1.7 MB 3.5 MB/s eta 0:00:01\n",
      "   ---------------------------------------- 1.7/1.7 MB 3.4 MB/s eta 0:00:00\n",
      "Downloading unstructured_client-0.22.0-py3-none-any.whl (28 kB)\n",
      "Using cached charset_normalizer-3.3.2-cp311-cp311-win_amd64.whl (99 kB)\n",
      "Downloading deepdiff-7.0.1-py3-none-any.whl (80 kB)\n",
      "   ---------------------------------------- 0.0/80.8 kB ? eta -:--:--\n",
      "   ---------------------------------------- 80.8/80.8 kB 4.4 MB/s eta 0:00:00\n",
      "Downloading jsonpath_python-1.0.6-py3-none-any.whl (7.6 kB)\n",
      "Using cached pypdf-4.2.0-py3-none-any.whl (290 kB)\n",
      "Downloading ordered_set-4.1.0-py3-none-any.whl (7.6 kB)\n",
      "Building wheels for collected packages: langdetect\n",
      "  Building wheel for langdetect (setup.py): started\n",
      "  Building wheel for langdetect (setup.py): finished with status 'done'\n",
      "  Created wheel for langdetect: filename=langdetect-1.0.9-py3-none-any.whl size=993253 sha256=a2ec0236c6744a581ea690f3b037a6fe67ba9110b1ec0d80478173c6c873d927\n",
      "  Stored in directory: c:\\users\\qasim\\appdata\\local\\pip\\cache\\wheels\\0a\\f2\\b2\\e5ca405801e05eb7c8ed5b3b4bcf1fcabcd6272c167640072e\n",
      "Successfully built langdetect\n",
      "Installing collected packages: filetype, rapidfuzz, python-magic, python-iso639, pypdf, ordered-set, langdetect, jsonpath-python, emoji, charset-normalizer, deepdiff, unstructured-client, unstructured\n",
      "  Attempting uninstall: charset-normalizer\n",
      "    Found existing installation: charset-normalizer 2.0.4\n",
      "    Uninstalling charset-normalizer-2.0.4:\n",
      "      Successfully uninstalled charset-normalizer-2.0.4\n",
      "Successfully installed charset-normalizer-3.3.2 deepdiff-7.0.1 emoji-2.11.1 filetype-1.2.0 jsonpath-python-1.0.6 langdetect-1.0.9 ordered-set-4.1.0 pypdf-4.2.0 python-iso639-2024.4.27 python-magic-0.4.27 rapidfuzz-3.9.0 unstructured-0.13.6 unstructured-client-0.22.0\n",
      "Note: you may need to restart the kernel to use updated packages.\n"
     ]
    }
   ],
   "source": [
    "pip install langchain langchain_community chromadb unstructured"
   ]
  },
  {
   "cell_type": "markdown",
   "id": "81d4925d",
   "metadata": {},
   "source": [
    "Ok, now lets do our RAG"
   ]
  },
  {
   "cell_type": "code",
   "execution_count": 2,
   "id": "7fee29bf",
   "metadata": {},
   "outputs": [],
   "source": [
    "import ollama"
   ]
  },
  {
   "cell_type": "code",
   "execution_count": 3,
   "id": "f8e66e23",
   "metadata": {},
   "outputs": [],
   "source": [
    "from langchain.text_splitter import RecursiveCharacterTextSplitter\n",
    "from langchain_community.vectorstores import Chroma\n",
    "from langchain_community.embeddings import OllamaEmbeddings\n",
    "from langchain_core.output_parsers import StrOutputParser\n",
    "from langchain_core.runnables import RunnablePassthrough"
   ]
  },
  {
   "cell_type": "code",
   "execution_count": 4,
   "id": "e46273a4",
   "metadata": {},
   "outputs": [],
   "source": [
    "from langchain.document_loaders import DirectoryLoader"
   ]
  },
  {
   "cell_type": "code",
   "execution_count": 5,
   "id": "a11c64fa",
   "metadata": {},
   "outputs": [],
   "source": [
    "loader = DirectoryLoader('../',glob=\"**/*.md\")\n",
    "embeddingModel = 'mxbai-embed-large'\n",
    "llmModel = 'llama3'"
   ]
  },
  {
   "cell_type": "code",
   "execution_count": 6,
   "id": "e8d06cc3",
   "metadata": {},
   "outputs": [
    {
     "name": "stdout",
     "output_type": "stream",
     "text": [
      "128\n"
     ]
    }
   ],
   "source": [
    "docs = loader.load()\n",
    "print(len(docs))"
   ]
  },
  {
   "cell_type": "markdown",
   "id": "419fa87a",
   "metadata": {},
   "source": [
    "We can skip the splitting etc, as the documents are already split\n",
    "\n",
    "text_splitter = RecursiveCharacterTextSplitter(chunk_size=2000, chunk_overlap=200)\n",
    "splits = text_splitter.split_documents(docs)\n",
    "print(len(splits))"
   ]
  },
  {
   "cell_type": "markdown",
   "id": "c2675c81",
   "metadata": {},
   "source": [
    "Now we use mistral to create the embeddings and store them in chroma"
   ]
  },
  {
   "cell_type": "code",
   "execution_count": 8,
   "id": "80e6e577",
   "metadata": {
    "scrolled": true
   },
   "outputs": [
    {
     "name": "stdout",
     "output_type": "stream",
     "text": [
      "CPU times: total: 172 ms\n",
      "Wall time: 4min 46s\n"
     ]
    }
   ],
   "source": [
    "%%time\n",
    "embeddings = OllamaEmbeddings(model=embeddingModel)\n",
    "vectorstore = Chroma.from_documents(documents=docs, embedding=embeddings,persist_directory='./chromadb')"
   ]
  },
  {
   "cell_type": "code",
   "execution_count": 9,
   "id": "d29048de",
   "metadata": {},
   "outputs": [],
   "source": [
    "retriever = vectorstore.as_retriever()\n",
    "\n",
    "def format_docs(docs):\n",
    "    return \"\\n\\n\".join(doc.page_content for doc in docs)\n",
    "\n",
    "def ollama_llm(question, context):\n",
    "    formatted_prompt = f\"Question: {question}\\n\\nContext: {context}\"\n",
    "    response = ollama.chat(model=llmModel, messages=[{'role': 'user', 'content': formatted_prompt}])\n",
    "    return response['message']['content']\n"
   ]
  },
  {
   "cell_type": "code",
   "execution_count": 10,
   "id": "64d664db",
   "metadata": {},
   "outputs": [],
   "source": [
    "# Define the RAG chain\n",
    "def rag_chain(question):\n",
    "    retrieved_docs = retriever.invoke(question)\n",
    "    formatted_context = format_docs(retrieved_docs)\n",
    "    #print(retrieved_docs)\n",
    "    return ollama_llm(question, formatted_context)"
   ]
  },
  {
   "cell_type": "code",
   "execution_count": 11,
   "id": "a402c52d",
   "metadata": {},
   "outputs": [
    {
     "name": "stdout",
     "output_type": "stream",
     "text": [
      "According to the documentation, the Jaeger agent address for SnappCloud is:\n",
      "\n",
      "`jaeger-agent:<cluster_id>-<region>`\n",
      "\n",
      "\n",
      "\n",
      "Replace `<cluster_id>` with either `okd4` or `snappgroup`, depending on your cluster ID. And replace `<region>` with either `Teh-1` (Asiatech datacenter) or leave it blank if you're using the `snappgroup` cluster.\n",
      "\n",
      "For example, if you're using the `okd4` cluster and Teh-1 region:\n",
      "\n",
      "`jaeger-agent:okd4-Teh-1`\n",
      "\n",
      "If you're using the `snappgroup` cluster (which is likely to be your case), simply use:\n",
      "\n",
      "`jaeger-agent:snappgroup`\n",
      "\n",
      "Please note that this address might change, so it's always a good idea to check the official SnappCloud documentation for any updates.\n",
      "CPU times: total: 0 ns\n",
      "Wall time: 20 s\n"
     ]
    }
   ],
   "source": [
    "%%time\n",
    "result = rag_chain(\"What address should I use for jaeger agent on snappcloud?\")\n",
    "print(result)"
   ]
  },
  {
   "cell_type": "code",
   "execution_count": 13,
   "id": "407b1794",
   "metadata": {},
   "outputs": [
    {
     "name": "stdout",
     "output_type": "stream",
     "text": [
      "According to the SnappCloud documentation, the external IPs that need to be whitelisted for snappcloud are:\n",
      "\n",
      "* `image-registry.apps.private.{globals.clusterID}.teh-1.snappcloud.io`\n",
      "* `image-registry.apps.private.{globals.clusterID}.teh-2.snappcloud.io` (if you're importing images from another region)\n",
      "\n",
      "These IPs are used for image registry operations, such as importing and pulling images.\n",
      "CPU times: total: 0 ns\n",
      "Wall time: 19 s\n"
     ]
    }
   ],
   "source": [
    "%%time\n",
    "result = rag_chain(\"What are the external IPs for snappcloud that i need to whitelist?\")\n",
    "print(result)"
   ]
  },
  {
   "cell_type": "code",
   "execution_count": null,
   "id": "71551df1",
   "metadata": {},
   "outputs": [],
   "source": []
  }
 ],
 "metadata": {
  "kernelspec": {
   "display_name": "Python 3 (ipykernel)",
   "language": "python",
   "name": "python3"
  },
  "language_info": {
   "codemirror_mode": {
    "name": "ipython",
    "version": 3
   },
   "file_extension": ".py",
   "mimetype": "text/x-python",
   "name": "python",
   "nbconvert_exporter": "python",
   "pygments_lexer": "ipython3",
   "version": "3.11.7"
  }
 },
 "nbformat": 4,
 "nbformat_minor": 5
}
