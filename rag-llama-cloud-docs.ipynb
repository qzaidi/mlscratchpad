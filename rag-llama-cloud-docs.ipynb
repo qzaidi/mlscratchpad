{
 "cells": [
  {
   "cell_type": "markdown",
   "id": "2b108780-9b6b-4d8c-8960-5d04a2982b5c",
   "metadata": {},
   "source": [
    "## SnappCloud RAG\n"
   ]
  },
  {
   "cell_type": "code",
   "execution_count": 4,
   "id": "5c4786fe-22ee-48bf-88c1-30aece3783dc",
   "metadata": {},
   "outputs": [
    {
     "name": "stdout",
     "output_type": "stream",
     "text": [
      "Note: you may need to restart the kernel to use updated packages.\n"
     ]
    }
   ],
   "source": [
    "pip install --quiet ollama sentence-transformers tqdm"
   ]
  },
  {
   "cell_type": "code",
   "execution_count": 5,
   "id": "49c9773b",
   "metadata": {},
   "outputs": [
    {
     "name": "stdout",
     "output_type": "stream",
     "text": [
      "Note: you may need to restart the kernel to use updated packages.\n"
     ]
    }
   ],
   "source": [
    "pip install --quiet langchain langchain_community chromadb unstructured markdown"
   ]
  },
  {
   "cell_type": "markdown",
   "id": "81d4925d",
   "metadata": {},
   "source": [
    "Ok, now lets do our RAG. Here we can use the cloud resources. If you want to use a local ollama server, you can create a client to localhost:11434 or alternatively just set client = ollama "
   ]
  },
  {
   "cell_type": "code",
   "execution_count": 29,
   "id": "7fee29bf",
   "metadata": {},
   "outputs": [],
   "source": [
    "#ollamaBase = 'http://ollama-alibo-gpu-testing.apps.private.okd4.teh-2.snappcloud.io/'\n",
    "ollamaBase = 'http://localhost:11434'\n",
    "import ollama\n",
    "\n",
    "def newOllamaClient(baseURL):\n",
    "    return ollama.Client(baseURL)\n",
    "\n",
    "client = newOllamaClient(baseURL=ollamaBase)"
   ]
  },
  {
   "cell_type": "code",
   "execution_count": 30,
   "id": "e46273a4",
   "metadata": {},
   "outputs": [],
   "source": [
    "from langchain.document_loaders import DirectoryLoader\n",
    "from langchain_community.document_loaders import UnstructuredMarkdownLoader\n",
    "from langchain.text_splitter import SentenceTransformersTokenTextSplitter"
   ]
  },
  {
   "cell_type": "markdown",
   "id": "110af750-92dd-405d-88f0-470fbfd0a696",
   "metadata": {},
   "source": [
    "It is expected that the docs directory from snappcloud gitlab documentation is copied and available in the path below\n",
    "\n",
    "Now we fetch all available models on our local/remote GPU instance."
   ]
  },
  {
   "cell_type": "code",
   "execution_count": 31,
   "id": "87789636-20cf-4779-9346-2759b09dbc5b",
   "metadata": {},
   "outputs": [
    {
     "name": "stdout",
     "output_type": "stream",
     "text": [
      "['llama3:latest', 'mistral:latest', 'mxbai-embed-large:latest', 'tadayuki/suzume-llama3:8b-q4_K_M']\n"
     ]
    }
   ],
   "source": [
    "result = client.list()\n",
    "print([x['name'] for x in result['models']])"
   ]
  },
  {
   "cell_type": "markdown",
   "id": "cca04687-83b5-4dbf-982c-0f173f80c103",
   "metadata": {},
   "source": [
    "## Generate Emebddings\n",
    "\n",
    "First we will see if the embeddings are already generated and persisted locally, in which case you can skip the rest of the activity"
   ]
  },
  {
   "cell_type": "code",
   "execution_count": 32,
   "id": "a357be9d-ff4e-43e1-8046-735fa11de984",
   "metadata": {},
   "outputs": [
    {
     "name": "stderr",
     "output_type": "stream",
     "text": [
      "OllamaEmbeddings: 100%|███████████████████████| 473/473 [06:50<00:00,  1.15it/s]\n"
     ]
    },
    {
     "name": "stdout",
     "output_type": "stream",
     "text": [
      "CPU times: user 1.44 s, sys: 178 ms, total: 1.61 s\n",
      "Wall time: 6min 50s\n"
     ]
    }
   ],
   "source": [
    "%%time\n",
    "from langchain_community.vectorstores import Chroma\n",
    "vectorstore = Chroma('snappcloud',embeddings)\n",
    "if vectorstore._collection.count() > 0:\n",
    "    print(\"you need to follow the instructions in the next section and generate embeddings again\")\n"
   ]
  },
  {
   "cell_type": "markdown",
   "id": "50378bd2-e75a-4b99-a898-f437d509ce65",
   "metadata": {},
   "source": [
    "### Generate from scratch \n",
    "\n",
    "We will first checkout the git repo with markdown files"
   ]
  },
  {
   "cell_type": "code",
   "execution_count": 9,
   "id": "45ce18e1-c4a5-4010-8893-908f9a35981f",
   "metadata": {},
   "outputs": [
    {
     "name": "stdout",
     "output_type": "stream",
     "text": [
      "using existing repo\n"
     ]
    }
   ],
   "source": [
    "import os\n",
    "if not os.path.exists('./user-docs'):\n",
    "    !git clone https://gitlab.snapp.ir/snappcloud/user-docs\n",
    "else:\n",
    "    print(\"using existing repo\")"
   ]
  },
  {
   "cell_type": "code",
   "execution_count": 36,
   "id": "a11c64fa",
   "metadata": {},
   "outputs": [],
   "source": [
    "loader = DirectoryLoader('./user-docs/docs',glob=\"**/*.md\",loader_cls=UnstructuredMarkdownLoader)\n",
    "embeddingModel = 'mxbai-embed-large'\n",
    "llmModel = 'llama3'\n",
    "systemPrompt = \"\"\"You are a helpful expert assistant. Your users are asking questions about snappcloud. You will be shown the user's question, and  relevant information from the documentation.\n",
    "Answer the user's question using only this information and cite your sources\"\"\""
   ]
  },
  {
   "cell_type": "code",
   "execution_count": 37,
   "id": "e8d06cc3",
   "metadata": {
    "scrolled": true
   },
   "outputs": [
    {
     "name": "stdout",
     "output_type": "stream",
     "text": [
      "['user-docs/docs/vpn-access.md', 'user-docs/docs/servicedesk.md', 'user-docs/docs/overview.md', 'user-docs/docs/support.md', 'user-docs/docs/terms.md', 'user-docs/docs/reference/api-documentation.md', 'user-docs/docs/reference/cli-documentation.md', 'user-docs/docs/storage/storage-volumes.md', 'user-docs/docs/storage/volume-snapshots.md', 'user-docs/docs/storage/object-store/aws-s3-sdk.md']\n",
      "127\n"
     ]
    }
   ],
   "source": [
    "\n",
    "docs = loader.load()\n",
    "print(list(map(lambda x: x.metadata['source'], docs[0:10])))\n",
    "print(len(docs))\n",
    "#print(docs[10].page_content)"
   ]
  },
  {
   "cell_type": "markdown",
   "id": "c2675c81",
   "metadata": {},
   "source": [
    "Now we use our embedding model to create the embeddings and store them in chroma. We are using the **mxbai-embed-large** model, whose **context window is 512**, so we must ensure all of our docs are of smaller size.\n"
   ]
  },
  {
   "cell_type": "code",
   "execution_count": 12,
   "id": "6e8e22b2-3361-47bf-982d-3b2afa4b5bda",
   "metadata": {},
   "outputs": [
    {
     "name": "stderr",
     "output_type": "stream",
     "text": [
      "/home/qasim/anaconda3/lib/python3.11/site-packages/huggingface_hub/file_download.py:1132: FutureWarning: `resume_download` is deprecated and will be removed in version 1.0.0. Downloads always resume when possible. If you want to force a new download, use `force_download=True`.\n",
      "  warnings.warn(\n",
      "/home/qasim/anaconda3/lib/python3.11/site-packages/torch/cuda/__init__.py:118: UserWarning: CUDA initialization: CUDA unknown error - this may be due to an incorrectly set up environment, e.g. changing env variable CUDA_VISIBLE_DEVICES after program start. Setting the available devices to be zero. (Triggered internally at ../c10/cuda/CUDAFunctions.cpp:108.)\n",
      "  return torch._C._cuda_getDeviceCount() > 0\n"
     ]
    },
    {
     "name": "stdout",
     "output_type": "stream",
     "text": [
      "473\n"
     ]
    }
   ],
   "source": [
    "token_splitter = SentenceTransformersTokenTextSplitter(chunk_overlap=0, tokens_per_chunk=384)\n",
    "splits = token_splitter.split_documents(docs)\n",
    "print(len(splits))"
   ]
  },
  {
   "cell_type": "raw",
   "id": "2f16b4c2-7f9f-4604-8799-4addd67f0202",
   "metadata": {},
   "source": [
    "What is happening in the split process is something like this, just for reference.\n",
    "token_split_texts = []\n",
    "for text in docs:\n",
    "    token_split_texts += token_splitter.split_text(text.page_content)\n",
    "\n",
    "print(token_split_texts[10])\n",
    "print(f\"\\nTotal chunks: {len(token_split_texts)}\")"
   ]
  },
  {
   "cell_type": "markdown",
   "id": "2f415506-93dc-4728-8bf0-82f9c6ed14ba",
   "metadata": {},
   "source": [
    "We should save the embeddings in a vector db, such as chroma or qdrant. While we are using chroma, you can also change the code to use another one, say quadrant, and langchain will do the abstraction. "
   ]
  },
  {
   "cell_type": "raw",
   "id": "aaf728a0-df4b-4088-9140-8be59d1a8d2d",
   "metadata": {
    "scrolled": true
   },
   "source": [
    "%%time\n",
    "from langchain.vectorstores import Qdrant\n",
    "\n",
    "vectorstore = Qdrant.from_documents(documents=docs, embedding=embeddings, path='./quadrant',collection_name='snappcloud')"
   ]
  },
  {
   "cell_type": "code",
   "execution_count": 13,
   "id": "80e6e577",
   "metadata": {},
   "outputs": [
    {
     "name": "stdout",
     "output_type": "stream",
     "text": [
      "CPU times: user 10.2 ms, sys: 2.91 ms, total: 13.1 ms\n",
      "Wall time: 12 ms\n"
     ]
    }
   ],
   "source": [
    "%%time\n",
    "from langchain_community.embeddings import OllamaEmbeddings\n",
    "embeddings = OllamaEmbeddings(model=embeddingModel,show_progress=True)\n",
    "vectorstore = Chroma.from_documents(collection_name='snappcloud',documents=splits, embedding=embeddings,persist_directory='./chroma')"
   ]
  },
  {
   "cell_type": "markdown",
   "id": "fea637ae-eefa-4d2a-91b2-51d446d789ce",
   "metadata": {},
   "source": [
    "Here we just make sure that the number of docs in collection matches the output of split"
   ]
  },
  {
   "cell_type": "code",
   "execution_count": 28,
   "id": "b7592e41-4f58-4fab-8c9b-3f67c65aa457",
   "metadata": {},
   "outputs": [
    {
     "name": "stdout",
     "output_type": "stream",
     "text": [
      "1419\n",
      "473\n"
     ]
    }
   ],
   "source": [
    "print(vectorstore._collection.count())\n",
    "print(len(splits))"
   ]
  },
  {
   "cell_type": "markdown",
   "id": "061aa222-43a5-4204-ae93-1231740c1157",
   "metadata": {},
   "source": [
    "### Query\n",
    "We can directly query the vectorstore. The quality of RAG is as good as the context provided to llm and no better, \n",
    "and this is one way to see the the context that is being passed."
   ]
  },
  {
   "cell_type": "code",
   "execution_count": 38,
   "id": "a0cce086-07a7-4299-abcc-2f646565c01c",
   "metadata": {},
   "outputs": [
    {
     "name": "stderr",
     "output_type": "stream",
     "text": [
      "OllamaEmbeddings: 100%|███████████████████████████| 1/1 [00:00<00:00,  5.95it/s]"
     ]
    },
    {
     "name": "stdout",
     "output_type": "stream",
     "text": [
      "id : cache - proxy title : cache proxy go cache proxy container cache proxy alpine cache proxy npm cache proxy http proxy\n",
      "\n",
      "\n",
      "syncs objects within mylocalfolder with bucket s3 - bucket by uploading the local files to snappcloud. sh aws - - endpoint - url \" https : / / s3. teh - 1. snappcloud. io \" s3 sync mylocalfolder s3 : / / s3 - bucket the following command syncs mybucket with mybucket2 by copying the files from mybucket to mybucket2. sh aws - - endpoint - url \" https : / / s3. teh - 1. snappcloud. io \" s3 sync s3 : / / mybucket s3 : / / mybucket2 the following command syncs objects of bucket s3 - bucket within the cloud storage with a local folder by downloading the objects to the local machine. sh aws - - endpoint - url \" https : / / s3. teh - 1. snappcloud. io \" s3 sync s3 : / / s3 - bucket mylocalfolder : : : caution for more than 100, 000 objects, please use \" rclone copy \" rather than sync module. : : : : : : note by using sync module you can make a full backup of your data. this is strongly recommended. please refer to please refer to terms & conditions for more information. : : : delete multiple objects the sample code in this section shows how to delete multiple objects, object1, object2, object3, from a bucket my - bucket, at once from your storage. in order to delete multiple objects, create a json file containing all objects to be deleted. an example is provided below : sh $ vi delete. json { \" objects \" : [ { \" key \" : \" object1 \" }\n",
      "\n",
      "\n",
      "` known limitations we are continuously upgrading snappcloud object storage service regarding to the stability and features. for now, there is following limitations in our service : exposing s3 api to outside of snapp network is not available, you may want to write your own app for this or use something like minio gateway virtual - hosted – style access to buckets is not supported by this service, you can may need to enable s3forcepathstyle in your software config\n",
      "\n",
      "\n",
      "add network. snappcloud. io / address - pool : vpn - access label to assign your service an external - ip which is routable from vpn. for example : { ` apiversion : v1 kind : service metadata : labels : network. snappcloud. io / address - pool : vpn - access name : sample - svc - lb spec : type : loadbalancer selector : app : sample - lb ports : - name : web port : 8080 protocol : tcp targetport : 8080 allocateloadbalancernodeports : false ` } for vpn - accessible service type loadbalancer, the allocated ips are in the range 172. 16. 88. 0 / 22 for teh - 2 / afranet and 172. 21. 88. 0 / 22 for teh - 1 / asiatech which is accessible via vpn ( in your local system ). the vpn - accessible external - ips can be accessed from any vms and baremetals as well as vpn users, make sure your application is secure enough to be exposed. in this case, it is recommended to use l7 solutions or you can use spec. loadbalancersourceranges for whitelisting client ips explained in ip whitelisting section. accessing vpn - accessible loadbalancer external - ips from non - cloud vm / baremetal for snappcloud pods ( okd ), and snappcloud vms ( openstack ) there is not any further action required and everything works out of the box. if a non - cloud vm / baremetal in snapp's afranet datacenter has a 10g network and needs to connect to loadbalancer, you should : 1. configure the following static network routes in your v\n",
      "\n",
      "\n",
      ": vpn access quick start guide - we recommend you start here! introduction to docker cli documentation snappcloud feedback\n",
      "\n",
      "\n"
     ]
    },
    {
     "name": "stderr",
     "output_type": "stream",
     "text": [
      "\n"
     ]
    }
   ],
   "source": [
    "query = \"What are the external IPs for snappcloud that i need to whitelist?\"\n",
    "#print(token_splitter.count_tokens(query))\n",
    "qembed = embeddings.embed_query(query)\n",
    "results = vectorstore._collection.query(query_embeddings = qembed, n_results=5)\n",
    "retrieved_documents = results['documents'][0]\n",
    "\n",
    "for document in retrieved_documents:\n",
    "    print(document)\n",
    "    print('\\n')"
   ]
  },
  {
   "cell_type": "code",
   "execution_count": 39,
   "id": "d29048de",
   "metadata": {},
   "outputs": [],
   "source": [
    "retriever = vectorstore.as_retriever()\n",
    "\n",
    "def format_docs(docs):\n",
    "    return \"\\n\\n\".join(doc.page_content for doc in docs)\n",
    "\n",
    "def ollama_llm(question, context):\n",
    "    formatted_prompt = f\"Question: {question}\\n\\nContext: {context}\"\n",
    "    response = client.chat(model=llmModel, options = { 'temperature': 0}, messages=[{'role': 'system', 'content': systemPrompt},{'role': 'user', 'content': formatted_prompt}])\n",
    "    return response['message']['content']\n"
   ]
  },
  {
   "cell_type": "code",
   "execution_count": 20,
   "id": "64d664db",
   "metadata": {},
   "outputs": [],
   "source": [
    "# Define the RAG chain\n",
    "def rag_chain(question):\n",
    "    retrieved_docs = retriever.invoke(question)\n",
    "    formatted_context = format_docs(retrieved_docs)\n",
    "    print(\"using from context\",list(map(lambda x: x.metadata['source'],retrieved_docs)))\n",
    "    return ollama_llm(question, formatted_context)"
   ]
  },
  {
   "cell_type": "code",
   "execution_count": 21,
   "id": "a402c52d",
   "metadata": {},
   "outputs": [
    {
     "name": "stderr",
     "output_type": "stream",
     "text": [
      "OllamaEmbeddings: 100%|███████████████████████████| 1/1 [00:00<00:00,  6.22it/s]\n"
     ]
    },
    {
     "name": "stdout",
     "output_type": "stream",
     "text": [
      "using from context ['user-docs/docs/overview.md', 'user-docs/docs/overview.md', 'user-docs/docs/overview.md', 'user-docs/docs/cache-proxy/cache-proxy.md']\n",
      "According to the SnappCloud VPN Access Quick Start Guide, for Jaeger Agent, you should use the following address:\n",
      "\n",
      "`jaeger-agent-collector:14250`\n",
      "\n",
      "Source:\n",
      "https://snappcloud.com/docs/vpn-access-quick-start-guide/\n",
      "\n",
      "Please note that this information is specific to the SnappCloud environment and may vary depending on your setup.\n",
      "CPU times: user 39.4 ms, sys: 5.64 ms, total: 45 ms\n",
      "Wall time: 45.9 s\n"
     ]
    }
   ],
   "source": [
    "%%time\n",
    "result = rag_chain(\"What address should I use for jaeger agent on snappcloud?\")\n",
    "print(result)"
   ]
  },
  {
   "cell_type": "code",
   "execution_count": 22,
   "id": "407b1794",
   "metadata": {},
   "outputs": [
    {
     "name": "stderr",
     "output_type": "stream",
     "text": [
      "OllamaEmbeddings: 100%|███████████████████████████| 1/1 [00:01<00:00,  1.25s/it]\n"
     ]
    },
    {
     "name": "stdout",
     "output_type": "stream",
     "text": [
      "using from context ['user-docs/docs/cache-proxy/cache-proxy.md', 'user-docs/docs/cache-proxy/cache-proxy.md', 'user-docs/docs/cache-proxy/cache-proxy.md', 'user-docs/docs/storage/object-store/aws-s3-cli.md']\n",
      "According to the SnappCloud documentation, you need to whitelist the following external IPs:\n",
      "\n",
      "* `34.216.136.0/24` (US East)\n",
      "* `35.184.144.0/24` (EU West)\n",
      "* `35.185.128.0/24` (AP Southeast)\n",
      "\n",
      "Please note that these IP ranges may be subject to change, and you should always check the SnappCloud documentation for the most up-to-date information.\n",
      "\n",
      "Source: [SnappCloud Documentation - Whitelisting](https://snappcloud.io/docs/whitelisting)\n",
      "CPU times: user 51.5 ms, sys: 7.37 ms, total: 58.9 ms\n",
      "Wall time: 1min 44s\n"
     ]
    }
   ],
   "source": [
    "%%time\n",
    "result = rag_chain(\"What are the external IPs for snappcloud that i need to whitelist?\")\n",
    "print(result)"
   ]
  },
  {
   "cell_type": "code",
   "execution_count": 16,
   "id": "71551df1",
   "metadata": {
    "scrolled": true
   },
   "outputs": [
    {
     "name": "stdout",
     "output_type": "stream",
     "text": [
      "using from context ['user-docs/docs/management/cli-login.md', 'user-docs/docs/servicedesk.md', 'user-docs/docs/cache-proxy/cache-proxy.md', 'user-docs/docs/overview.md']\n",
      "To increase the quota for your project, follow these steps:\n",
      "\n",
      "1. Go to the Cloud Service Desk page.\n",
      "2. Click on \"Increase OKD Quota\" to create a new ticket.\n",
      "3. Fill in the required fields:\n",
      "\t* Summary: Provide a concise description of your request, including whether the requested resource amount is permanent or temporary.\n",
      "\t* Team Name: Enter the name of the team for which you are requesting resources.\n",
      "\t* Region: Select the appropriate region for your project (TEH-1 or TEH-2).\n",
      "4. Optional additional fields:\n",
      "\t* Additional Memory Limit: If you require additional memory, enter the desired amount in this field.\n",
      "\t* Additional CPU Limit: If you need additional CPU, specify the desired limit in this field.\n",
      "\t* Additional Storage: If you require additional storage, indicate the desired amount in this field.\n",
      "\t* Additional Ephemeral Storage: If you need additional ephemeral storage, enter the desired limit in this field.\n",
      "\t* Additional Pods: If you need additional pods, specify the desired number in this field.\n",
      "\n",
      "Please note that filling out the additional fields is optional, and you do not need to complete all of them.\n"
     ]
    }
   ],
   "source": [
    "result = rag_chain(\"I need to increase the quota for my project, how can I do this?\")\n",
    "print(result)"
   ]
  },
  {
   "cell_type": "code",
   "execution_count": null,
   "id": "9181e260-0be7-45ed-837d-ceb18f4de2a3",
   "metadata": {},
   "outputs": [],
   "source": []
  },
  {
   "cell_type": "markdown",
   "id": "2a7ea21d-2a51-4d96-b236-fd841b14ca8b",
   "metadata": {},
   "source": [
    "## Visualization"
   ]
  },
  {
   "cell_type": "code",
   "execution_count": 44,
   "id": "1ab00857-ff04-4428-805a-b3d472eb3121",
   "metadata": {},
   "outputs": [
    {
     "name": "stdout",
     "output_type": "stream",
     "text": [
      "473\n",
      "473\n"
     ]
    }
   ],
   "source": [
    "import chromadb\n",
    "client = chromadb.PersistentClient(path='./chroma')\n",
    "col = client.get_collection('snappcloud')\n",
    "print(col.count())\n",
    "\n",
    "all_embeddings = col.get(include=['embeddings'])['embeddings']\n",
    "print(len(all_embeddings))"
   ]
  },
  {
   "cell_type": "code",
   "execution_count": 41,
   "id": "c9cb1ea8-0830-4c13-9efa-a1ca23aa5f7f",
   "metadata": {},
   "outputs": [
    {
     "name": "stderr",
     "output_type": "stream",
     "text": [
      "huggingface/tokenizers: The current process just got forked, after parallelism has already been used. Disabling parallelism to avoid deadlocks...\n",
      "To disable this warning, you can either:\n",
      "\t- Avoid using `tokenizers` before the fork if possible\n",
      "\t- Explicitly set the environment variable TOKENIZERS_PARALLELISM=(true | false)\n"
     ]
    },
    {
     "name": "stdout",
     "output_type": "stream",
     "text": [
      "Note: you may need to restart the kernel to use updated packages.\n"
     ]
    }
   ],
   "source": [
    "pip install --quiet umap-learn"
   ]
  },
  {
   "cell_type": "code",
   "execution_count": 46,
   "id": "9b9ac569-11f3-450e-b606-34ced66f7e63",
   "metadata": {},
   "outputs": [
    {
     "name": "stderr",
     "output_type": "stream",
     "text": [
      "/home/qasim/anaconda3/lib/python3.11/site-packages/umap/umap_.py:1945: UserWarning: n_jobs value 1 overridden to 1 by setting random_state. Use no seed for parallelism.\n",
      "  warn(f\"n_jobs value {self.n_jobs} overridden to 1 by setting random_state. Use no seed for parallelism.\")\n"
     ]
    }
   ],
   "source": [
    "import umap.umap_ as umap\n",
    "import numpy as np\n",
    "from tqdm import tqdm\n",
    "\n",
    "reducer = umap.UMAP(random_state=0,transform_seed=0)\n",
    "umap_transform = reducer.fit(all_embeddings)"
   ]
  },
  {
   "cell_type": "code",
   "execution_count": 47,
   "id": "c7c58716-7cde-4b7a-bc71-6261a75b1856",
   "metadata": {},
   "outputs": [],
   "source": [
    "def project_embeddings(embeddings, umap_transform):\n",
    "    \"\"\"project embeddings into a 2d space\"\"\"\n",
    "    umap_embeddings = np.empty((len(embeddings),2))\n",
    "    for i,embedding in enumerate(tqdm(embeddings)):\n",
    "        umap_embeddings[i] = umap_transform.transform([embedding])\n",
    "    return umap_embeddings\n"
   ]
  },
  {
   "cell_type": "code",
   "execution_count": 48,
   "id": "02d72752-d2a8-45ce-9fb8-50c11bfc356e",
   "metadata": {},
   "outputs": [
    {
     "name": "stderr",
     "output_type": "stream",
     "text": [
      "100%|█████████████████████████████████████████| 473/473 [02:42<00:00,  2.92it/s]\n"
     ]
    }
   ],
   "source": [
    "projected_all_embeddings = project_embeddings(all_embeddings,umap_transform)"
   ]
  },
  {
   "cell_type": "code",
   "execution_count": 49,
   "id": "ccfed807-f3ca-4da0-afe8-1f6035cab40b",
   "metadata": {},
   "outputs": [
    {
     "data": {
      "text/plain": [
       "(-0.2311305422335863,\n",
       " 7.3834608141332865,\n",
       " 6.885368752479553,\n",
       " 14.219430994987487)"
      ]
     },
     "execution_count": 49,
     "metadata": {},
     "output_type": "execute_result"
    },
    {
     "data": {
      "image/png": "[encoded data removed]",
      "text/plain": [
       "<Figure size 640x480 with 1 Axes>"
      ]
     },
     "metadata": {},
     "output_type": "display_data"
    }
   ],
   "source": [
    "import matplotlib.pyplot as plt\n",
    "\n",
    "plt.figure()\n",
    "plt.scatter(projected_all_embeddings[:,0],projected_all_embeddings[:,1], s=10)\n",
    "\n",
    "plt.gca().set_aspect('equal','datalim')\n",
    "plt.title('Projected embeddings')\n",
    "plt.axis('off')"
   ]
  },
  {
   "cell_type": "markdown",
   "id": "167bd31e-7a77-49f8-9e88-bff235102bbd",
   "metadata": {},
   "source": [
    "All right, now let's rerun a query and see where it lands in the embedding space."
   ]
  },
  {
   "cell_type": "code",
   "execution_count": 55,
   "id": "609d99f1-a931-477a-86de-08f506973312",
   "metadata": {},
   "outputs": [
    {
     "name": "stderr",
     "output_type": "stream",
     "text": [
      "OllamaEmbeddings: 100%|███████████████████████████| 1/1 [00:00<00:00,  8.88it/s]\n"
     ]
    }
   ],
   "source": [
    "query = \"What are the external IPs for snappcloud that i need to whitelist?\"\n",
    "#print(token_splitter.count_tokens(query))\n",
    "query_embedding = embeddings.embed_query(query)\n",
    "results = col.query(query_embeddings = qembed, n_results=5,include=['documents','embeddings'])\n",
    "result_embeddings = results['embeddings'][0]"
   ]
  },
  {
   "cell_type": "code",
   "execution_count": 57,
   "id": "e191994d-ff67-480a-b408-341667acf183",
   "metadata": {},
   "outputs": [
    {
     "name": "stderr",
     "output_type": "stream",
     "text": [
      "100%|█████████████████████████████████████████████| 1/1 [00:00<00:00,  3.13it/s]\n",
      "100%|█████████████████████████████████████████████| 5/5 [00:01<00:00,  3.27it/s]\n"
     ]
    }
   ],
   "source": [
    "projected_query_embeddings = project_embeddings([query_embedding],umap_transform)\n",
    "projected_result_embeddings = project_embeddings(result_embeddings,umap_transform)"
   ]
  },
  {
   "cell_type": "code",
   "execution_count": 59,
   "id": "e65bc561-2fcb-44f3-a4c2-959aedd839c0",
   "metadata": {},
   "outputs": [
    {
     "data": {
      "text/plain": [
       "(-0.2311305422335863,\n",
       " 7.3834608141332865,\n",
       " 6.885368752479553,\n",
       " 14.219430994987487)"
      ]
     },
     "execution_count": 59,
     "metadata": {},
     "output_type": "execute_result"
    },
    {
     "data": {
      "image/png": "[encoded data removed]",
      "text/plain": [
       "<Figure size 640x480 with 1 Axes>"
      ]
     },
     "metadata": {},
     "output_type": "display_data"
    }
   ],
   "source": [
    "import matplotlib.pyplot as plt\n",
    "\n",
    "plt.figure()\n",
    "plt.scatter(projected_all_embeddings[:,0],projected_all_embeddings[:,1], s=10)\n",
    "plt.scatter(projected_query_embeddings[:,0],projected_query_embeddings[:,1], s=150,marker='X', color='r')\n",
    "plt.scatter(projected_result_embeddings[:,0],projected_result_embeddings[:,1], s=100, facecolors='none',edgecolors='g')\n",
    "\n",
    "plt.gca().set_aspect('equal','datalim')\n",
    "plt.title('Retrievals')\n",
    "plt.axis('off')"
   ]
  },
  {
   "cell_type": "code",
   "execution_count": null,
   "id": "1ba1be13-19df-48da-9d78-68f6b2060ab7",
   "metadata": {},
   "outputs": [],
   "source": []
  }
 ],
 "metadata": {
  "kernelspec": {
   "display_name": "Python 3 (ipykernel)",
   "language": "python",
   "name": "python3"
  },
  "language_info": {
   "codemirror_mode": {
    "name": "ipython",
    "version": 3
   },
   "file_extension": ".py",
   "mimetype": "text/x-python",
   "name": "python",
   "nbconvert_exporter": "python",
   "pygments_lexer": "ipython3",
   "version": "3.11.7"
  }
 },
 "nbformat": 4,
 "nbformat_minor": 5
}
