{
 "cells": [
  {
   "cell_type": "code",
   "execution_count": 1,
   "id": "46d3b1a8",
   "metadata": {},
   "outputs": [
    {
     "name": "stdout",
     "output_type": "stream",
     "text": [
      "Requirement already satisfied: ollama in /home/qasim/anaconda3/lib/python3.11/site-packages (0.1.9)\n",
      "Requirement already satisfied: httpx<0.28.0,>=0.27.0 in /home/qasim/anaconda3/lib/python3.11/site-packages (from ollama) (0.27.0)\n",
      "Requirement already satisfied: anyio in /home/qasim/anaconda3/lib/python3.11/site-packages (from httpx<0.28.0,>=0.27.0->ollama) (3.7.1)\n",
      "Requirement already satisfied: certifi in /home/qasim/anaconda3/lib/python3.11/site-packages (from httpx<0.28.0,>=0.27.0->ollama) (2024.2.2)\n",
      "Requirement already satisfied: httpcore==1.* in /home/qasim/anaconda3/lib/python3.11/site-packages (from httpx<0.28.0,>=0.27.0->ollama) (1.0.5)\n",
      "Requirement already satisfied: idna in /home/qasim/anaconda3/lib/python3.11/site-packages (from httpx<0.28.0,>=0.27.0->ollama) (3.4)\n",
      "Requirement already satisfied: sniffio in /home/qasim/anaconda3/lib/python3.11/site-packages (from httpx<0.28.0,>=0.27.0->ollama) (1.3.0)\n",
      "Requirement already satisfied: h11<0.15,>=0.13 in /home/qasim/anaconda3/lib/python3.11/site-packages (from httpcore==1.*->httpx<0.28.0,>=0.27.0->ollama) (0.14.0)\n",
      "Note: you may need to restart the kernel to use updated packages.\n"
     ]
    }
   ],
   "source": [
    "pip install ollama"
   ]
  },
  {
   "cell_type": "code",
   "execution_count": 2,
   "id": "49c9773b",
   "metadata": {},
   "outputs": [
    {
     "name": "stdout",
     "output_type": "stream",
     "text": [
      "Requirement already satisfied: langchain in /home/qasim/anaconda3/lib/python3.11/site-packages (0.0.340)\n",
      "Requirement already satisfied: langchain_community in /home/qasim/anaconda3/lib/python3.11/site-packages (0.0.20)\n",
      "Requirement already satisfied: chromadb in /home/qasim/anaconda3/lib/python3.11/site-packages (0.5.0)\n",
      "Requirement already satisfied: unstructured in /home/qasim/anaconda3/lib/python3.11/site-packages (0.13.7)\n",
      "Requirement already satisfied: qdrant_client in /home/qasim/anaconda3/lib/python3.11/site-packages (1.9.1)\n",
      "Requirement already satisfied: PyYAML>=5.3 in /home/qasim/anaconda3/lib/python3.11/site-packages (from langchain) (6.0.1)\n",
      "Requirement already satisfied: SQLAlchemy<3,>=1.4 in /home/qasim/anaconda3/lib/python3.11/site-packages (from langchain) (2.0.25)\n",
      "Requirement already satisfied: aiohttp<4.0.0,>=3.8.3 in /home/qasim/anaconda3/lib/python3.11/site-packages (from langchain) (3.9.3)\n",
      "Requirement already satisfied: anyio<4.0 in /home/qasim/anaconda3/lib/python3.11/site-packages (from langchain) (3.7.1)\n",
      "Requirement already satisfied: dataclasses-json<0.7,>=0.5.7 in /home/qasim/anaconda3/lib/python3.11/site-packages (from langchain) (0.6.6)\n",
      "Requirement already satisfied: jsonpatch<2.0,>=1.33 in /home/qasim/anaconda3/lib/python3.11/site-packages (from langchain) (1.33)\n",
      "Requirement already satisfied: langsmith<0.1.0,>=0.0.63 in /home/qasim/anaconda3/lib/python3.11/site-packages (from langchain) (0.0.87)\n",
      "Requirement already satisfied: numpy<2,>=1 in /home/qasim/anaconda3/lib/python3.11/site-packages (from langchain) (1.26.4)\n",
      "Requirement already satisfied: pydantic<3,>=1 in /home/qasim/anaconda3/lib/python3.11/site-packages (from langchain) (1.10.12)\n",
      "Requirement already satisfied: requests<3,>=2 in /home/qasim/anaconda3/lib/python3.11/site-packages (from langchain) (2.31.0)\n",
      "Requirement already satisfied: tenacity<9.0.0,>=8.1.0 in /home/qasim/anaconda3/lib/python3.11/site-packages (from langchain) (8.3.0)\n",
      "Requirement already satisfied: langchain-core<0.2,>=0.1.21 in /home/qasim/anaconda3/lib/python3.11/site-packages (from langchain_community) (0.1.23)\n",
      "Requirement already satisfied: build>=1.0.3 in /home/qasim/anaconda3/lib/python3.11/site-packages (from chromadb) (1.2.1)\n",
      "Requirement already satisfied: chroma-hnswlib==0.7.3 in /home/qasim/anaconda3/lib/python3.11/site-packages (from chromadb) (0.7.3)\n",
      "Requirement already satisfied: fastapi>=0.95.2 in /home/qasim/anaconda3/lib/python3.11/site-packages (from chromadb) (0.111.0)\n",
      "Requirement already satisfied: uvicorn>=0.18.3 in /home/qasim/anaconda3/lib/python3.11/site-packages (from uvicorn[standard]>=0.18.3->chromadb) (0.29.0)\n",
      "Requirement already satisfied: posthog>=2.4.0 in /home/qasim/anaconda3/lib/python3.11/site-packages (from chromadb) (3.5.0)\n",
      "Requirement already satisfied: typing-extensions>=4.5.0 in /home/qasim/anaconda3/lib/python3.11/site-packages (from chromadb) (4.9.0)\n",
      "Requirement already satisfied: onnxruntime>=1.14.1 in /home/qasim/anaconda3/lib/python3.11/site-packages (from chromadb) (1.17.3)\n",
      "Requirement already satisfied: opentelemetry-api>=1.2.0 in /home/qasim/anaconda3/lib/python3.11/site-packages (from chromadb) (1.24.0)\n",
      "Requirement already satisfied: opentelemetry-exporter-otlp-proto-grpc>=1.2.0 in /home/qasim/anaconda3/lib/python3.11/site-packages (from chromadb) (1.11.1)\n",
      "Requirement already satisfied: opentelemetry-instrumentation-fastapi>=0.41b0 in /home/qasim/anaconda3/lib/python3.11/site-packages (from chromadb) (0.45b0)\n",
      "Requirement already satisfied: opentelemetry-sdk>=1.2.0 in /home/qasim/anaconda3/lib/python3.11/site-packages (from chromadb) (1.24.0)\n",
      "Requirement already satisfied: tokenizers>=0.13.2 in /home/qasim/anaconda3/lib/python3.11/site-packages (from chromadb) (0.19.1)\n",
      "Requirement already satisfied: pypika>=0.48.9 in /home/qasim/anaconda3/lib/python3.11/site-packages (from chromadb) (0.48.9)\n",
      "Requirement already satisfied: tqdm>=4.65.0 in /home/qasim/anaconda3/lib/python3.11/site-packages (from chromadb) (4.65.0)\n",
      "Requirement already satisfied: overrides>=7.3.1 in /home/qasim/anaconda3/lib/python3.11/site-packages (from chromadb) (7.4.0)\n",
      "Requirement already satisfied: importlib-resources in /home/qasim/anaconda3/lib/python3.11/site-packages (from chromadb) (6.4.0)\n",
      "Requirement already satisfied: grpcio>=1.58.0 in /home/qasim/anaconda3/lib/python3.11/site-packages (from chromadb) (1.63.0)\n",
      "Requirement already satisfied: bcrypt>=4.0.1 in /home/qasim/anaconda3/lib/python3.11/site-packages (from chromadb) (4.1.3)\n",
      "Requirement already satisfied: typer>=0.9.0 in /home/qasim/anaconda3/lib/python3.11/site-packages (from chromadb) (0.12.3)\n",
      "Requirement already satisfied: kubernetes>=28.1.0 in /home/qasim/anaconda3/lib/python3.11/site-packages (from chromadb) (29.0.0)\n",
      "Requirement already satisfied: mmh3>=4.0.1 in /home/qasim/anaconda3/lib/python3.11/site-packages (from chromadb) (4.1.0)\n",
      "Requirement already satisfied: orjson>=3.9.12 in /home/qasim/anaconda3/lib/python3.11/site-packages (from chromadb) (3.10.3)\n",
      "Requirement already satisfied: chardet in /home/qasim/anaconda3/lib/python3.11/site-packages (from unstructured) (4.0.0)\n",
      "Requirement already satisfied: filetype in /home/qasim/anaconda3/lib/python3.11/site-packages (from unstructured) (1.2.0)\n",
      "Requirement already satisfied: python-magic in /home/qasim/anaconda3/lib/python3.11/site-packages (from unstructured) (0.4.27)\n",
      "Requirement already satisfied: lxml in /home/qasim/anaconda3/lib/python3.11/site-packages (from unstructured) (4.9.3)\n",
      "Requirement already satisfied: nltk in /home/qasim/anaconda3/lib/python3.11/site-packages (from unstructured) (3.8.1)\n",
      "Requirement already satisfied: tabulate in /home/qasim/anaconda3/lib/python3.11/site-packages (from unstructured) (0.9.0)\n",
      "Requirement already satisfied: beautifulsoup4 in /home/qasim/anaconda3/lib/python3.11/site-packages (from unstructured) (4.12.2)\n",
      "Requirement already satisfied: emoji in /home/qasim/anaconda3/lib/python3.11/site-packages (from unstructured) (2.11.1)\n",
      "Requirement already satisfied: python-iso639 in /home/qasim/anaconda3/lib/python3.11/site-packages (from unstructured) (2024.4.27)\n",
      "Requirement already satisfied: langdetect in /home/qasim/anaconda3/lib/python3.11/site-packages (from unstructured) (1.0.9)\n",
      "Requirement already satisfied: rapidfuzz in /home/qasim/anaconda3/lib/python3.11/site-packages (from unstructured) (3.9.0)\n",
      "Requirement already satisfied: backoff in /home/qasim/anaconda3/lib/python3.11/site-packages (from unstructured) (1.11.1)\n",
      "Requirement already satisfied: unstructured-client in /home/qasim/anaconda3/lib/python3.11/site-packages (from unstructured) (0.22.0)\n",
      "Requirement already satisfied: wrapt in /home/qasim/anaconda3/lib/python3.11/site-packages (from unstructured) (1.14.1)\n",
      "Requirement already satisfied: grpcio-tools>=1.41.0 in /home/qasim/anaconda3/lib/python3.11/site-packages (from qdrant_client) (1.63.0)\n",
      "Requirement already satisfied: httpx>=0.20.0 in /home/qasim/anaconda3/lib/python3.11/site-packages (from httpx[http2]>=0.20.0->qdrant_client) (0.27.0)\n",
      "Requirement already satisfied: portalocker<3.0.0,>=2.7.0 in /home/qasim/anaconda3/lib/python3.11/site-packages (from qdrant_client) (2.8.2)\n",
      "Requirement already satisfied: urllib3<3,>=1.26.14 in /home/qasim/anaconda3/lib/python3.11/site-packages (from qdrant_client) (2.0.7)\n",
      "Requirement already satisfied: aiosignal>=1.1.2 in /home/qasim/anaconda3/lib/python3.11/site-packages (from aiohttp<4.0.0,>=3.8.3->langchain) (1.2.0)\n",
      "Requirement already satisfied: attrs>=17.3.0 in /home/qasim/anaconda3/lib/python3.11/site-packages (from aiohttp<4.0.0,>=3.8.3->langchain) (23.1.0)\n",
      "Requirement already satisfied: frozenlist>=1.1.1 in /home/qasim/anaconda3/lib/python3.11/site-packages (from aiohttp<4.0.0,>=3.8.3->langchain) (1.4.0)\n",
      "Requirement already satisfied: multidict<7.0,>=4.5 in /home/qasim/anaconda3/lib/python3.11/site-packages (from aiohttp<4.0.0,>=3.8.3->langchain) (6.0.4)\n",
      "Requirement already satisfied: yarl<2.0,>=1.0 in /home/qasim/anaconda3/lib/python3.11/site-packages (from aiohttp<4.0.0,>=3.8.3->langchain) (1.9.3)\n",
      "Requirement already satisfied: idna>=2.8 in /home/qasim/anaconda3/lib/python3.11/site-packages (from anyio<4.0->langchain) (3.4)\n",
      "Requirement already satisfied: sniffio>=1.1 in /home/qasim/anaconda3/lib/python3.11/site-packages (from anyio<4.0->langchain) (1.3.0)\n",
      "Requirement already satisfied: packaging>=19.1 in /home/qasim/anaconda3/lib/python3.11/site-packages (from build>=1.0.3->chromadb) (23.2)\n",
      "Requirement already satisfied: pyproject_hooks in /home/qasim/anaconda3/lib/python3.11/site-packages (from build>=1.0.3->chromadb) (1.1.0)\n",
      "Requirement already satisfied: marshmallow<4.0.0,>=3.18.0 in /home/qasim/anaconda3/lib/python3.11/site-packages (from dataclasses-json<0.7,>=0.5.7->langchain) (3.21.2)\n",
      "Requirement already satisfied: typing-inspect<1,>=0.4.0 in /home/qasim/anaconda3/lib/python3.11/site-packages (from dataclasses-json<0.7,>=0.5.7->langchain) (0.9.0)\n",
      "Requirement already satisfied: starlette<0.38.0,>=0.37.2 in /home/qasim/anaconda3/lib/python3.11/site-packages (from fastapi>=0.95.2->chromadb) (0.37.2)\n",
      "Requirement already satisfied: fastapi-cli>=0.0.2 in /home/qasim/anaconda3/lib/python3.11/site-packages (from fastapi>=0.95.2->chromadb) (0.0.3)\n",
      "Requirement already satisfied: jinja2>=2.11.2 in /home/qasim/anaconda3/lib/python3.11/site-packages (from fastapi>=0.95.2->chromadb) (3.1.3)\n",
      "Requirement already satisfied: python-multipart>=0.0.7 in /home/qasim/anaconda3/lib/python3.11/site-packages (from fastapi>=0.95.2->chromadb) (0.0.9)\n",
      "Requirement already satisfied: ujson!=4.0.2,!=4.1.0,!=4.2.0,!=4.3.0,!=5.0.0,!=5.1.0,>=4.0.1 in /home/qasim/anaconda3/lib/python3.11/site-packages (from fastapi>=0.95.2->chromadb) (5.4.0)\n",
      "Requirement already satisfied: email_validator>=2.0.0 in /home/qasim/anaconda3/lib/python3.11/site-packages (from fastapi>=0.95.2->chromadb) (2.1.1)\n",
      "Requirement already satisfied: protobuf<6.0dev,>=5.26.1 in /home/qasim/anaconda3/lib/python3.11/site-packages (from grpcio-tools>=1.41.0->qdrant_client) (5.26.1)\n",
      "Requirement already satisfied: setuptools in /home/qasim/anaconda3/lib/python3.11/site-packages (from grpcio-tools>=1.41.0->qdrant_client) (68.2.2)\n",
      "Requirement already satisfied: certifi in /home/qasim/anaconda3/lib/python3.11/site-packages (from httpx>=0.20.0->httpx[http2]>=0.20.0->qdrant_client) (2024.2.2)\n",
      "Requirement already satisfied: httpcore==1.* in /home/qasim/anaconda3/lib/python3.11/site-packages (from httpx>=0.20.0->httpx[http2]>=0.20.0->qdrant_client) (1.0.5)\n",
      "Requirement already satisfied: h11<0.15,>=0.13 in /home/qasim/anaconda3/lib/python3.11/site-packages (from httpcore==1.*->httpx>=0.20.0->httpx[http2]>=0.20.0->qdrant_client) (0.14.0)\n",
      "Requirement already satisfied: h2<5,>=3 in /home/qasim/anaconda3/lib/python3.11/site-packages (from httpx[http2]>=0.20.0->qdrant_client) (4.1.0)\n",
      "Requirement already satisfied: jsonpointer>=1.9 in /home/qasim/anaconda3/lib/python3.11/site-packages (from jsonpatch<2.0,>=1.33->langchain) (2.1)\n",
      "Requirement already satisfied: six>=1.9.0 in /home/qasim/anaconda3/lib/python3.11/site-packages (from kubernetes>=28.1.0->chromadb) (1.16.0)\n",
      "Requirement already satisfied: python-dateutil>=2.5.3 in /home/qasim/anaconda3/lib/python3.11/site-packages (from kubernetes>=28.1.0->chromadb) (2.8.2)\n",
      "Requirement already satisfied: google-auth>=1.0.1 in /home/qasim/anaconda3/lib/python3.11/site-packages (from kubernetes>=28.1.0->chromadb) (2.29.0)\n",
      "Requirement already satisfied: websocket-client!=0.40.0,!=0.41.*,!=0.42.*,>=0.32.0 in /home/qasim/anaconda3/lib/python3.11/site-packages (from kubernetes>=28.1.0->chromadb) (0.58.0)\n",
      "Requirement already satisfied: requests-oauthlib in /home/qasim/anaconda3/lib/python3.11/site-packages (from kubernetes>=28.1.0->chromadb) (2.0.0)\n",
      "Requirement already satisfied: oauthlib>=3.2.2 in /home/qasim/anaconda3/lib/python3.11/site-packages (from kubernetes>=28.1.0->chromadb) (3.2.2)\n",
      "Requirement already satisfied: coloredlogs in /home/qasim/anaconda3/lib/python3.11/site-packages (from onnxruntime>=1.14.1->chromadb) (15.0.1)\n",
      "Requirement already satisfied: flatbuffers in /home/qasim/anaconda3/lib/python3.11/site-packages (from onnxruntime>=1.14.1->chromadb) (24.3.25)\n",
      "Requirement already satisfied: sympy in /home/qasim/anaconda3/lib/python3.11/site-packages (from onnxruntime>=1.14.1->chromadb) (1.12)\n",
      "Requirement already satisfied: deprecated>=1.2.6 in /home/qasim/anaconda3/lib/python3.11/site-packages (from opentelemetry-api>=1.2.0->chromadb) (1.2.14)\n",
      "Requirement already satisfied: importlib-metadata<=7.0,>=6.0 in /home/qasim/anaconda3/lib/python3.11/site-packages (from opentelemetry-api>=1.2.0->chromadb) (7.0.0)\n",
      "Requirement already satisfied: googleapis-common-protos~=1.52 in /home/qasim/anaconda3/lib/python3.11/site-packages (from opentelemetry-exporter-otlp-proto-grpc>=1.2.0->chromadb) (1.56.1)\n",
      "Requirement already satisfied: opentelemetry-proto==1.11.1 in /home/qasim/anaconda3/lib/python3.11/site-packages (from opentelemetry-exporter-otlp-proto-grpc>=1.2.0->chromadb) (1.11.1)\n",
      "Requirement already satisfied: opentelemetry-instrumentation-asgi==0.45b0 in /home/qasim/anaconda3/lib/python3.11/site-packages (from opentelemetry-instrumentation-fastapi>=0.41b0->chromadb) (0.45b0)\n",
      "Requirement already satisfied: opentelemetry-instrumentation==0.45b0 in /home/qasim/anaconda3/lib/python3.11/site-packages (from opentelemetry-instrumentation-fastapi>=0.41b0->chromadb) (0.45b0)\n",
      "Requirement already satisfied: opentelemetry-semantic-conventions==0.45b0 in /home/qasim/anaconda3/lib/python3.11/site-packages (from opentelemetry-instrumentation-fastapi>=0.41b0->chromadb) (0.45b0)\n",
      "Requirement already satisfied: opentelemetry-util-http==0.45b0 in /home/qasim/anaconda3/lib/python3.11/site-packages (from opentelemetry-instrumentation-fastapi>=0.41b0->chromadb) (0.45b0)\n",
      "Requirement already satisfied: asgiref~=3.0 in /home/qasim/anaconda3/lib/python3.11/site-packages (from opentelemetry-instrumentation-asgi==0.45b0->opentelemetry-instrumentation-fastapi>=0.41b0->chromadb) (3.8.1)\n",
      "Requirement already satisfied: monotonic>=1.5 in /home/qasim/anaconda3/lib/python3.11/site-packages (from posthog>=2.4.0->chromadb) (1.6)\n",
      "Requirement already satisfied: charset-normalizer<4,>=2 in /home/qasim/anaconda3/lib/python3.11/site-packages (from requests<3,>=2->langchain) (3.3.2)\n",
      "Requirement already satisfied: greenlet!=0.4.17 in /home/qasim/anaconda3/lib/python3.11/site-packages (from SQLAlchemy<3,>=1.4->langchain) (3.0.1)\n",
      "Requirement already satisfied: huggingface-hub<1.0,>=0.16.4 in /home/qasim/anaconda3/lib/python3.11/site-packages (from tokenizers>=0.13.2->chromadb) (0.23.0)\n",
      "Requirement already satisfied: click>=8.0.0 in /home/qasim/anaconda3/lib/python3.11/site-packages (from typer>=0.9.0->chromadb) (8.1.7)\n",
      "Requirement already satisfied: shellingham>=1.3.0 in /home/qasim/anaconda3/lib/python3.11/site-packages (from typer>=0.9.0->chromadb) (1.5.4)\n",
      "Requirement already satisfied: rich>=10.11.0 in /home/qasim/anaconda3/lib/python3.11/site-packages (from typer>=0.9.0->chromadb) (13.3.5)\n",
      "Requirement already satisfied: httptools>=0.5.0 in /home/qasim/anaconda3/lib/python3.11/site-packages (from uvicorn[standard]>=0.18.3->chromadb) (0.6.1)\n",
      "Requirement already satisfied: python-dotenv>=0.13 in /home/qasim/anaconda3/lib/python3.11/site-packages (from uvicorn[standard]>=0.18.3->chromadb) (0.21.0)\n",
      "Requirement already satisfied: uvloop!=0.15.0,!=0.15.1,>=0.14.0 in /home/qasim/anaconda3/lib/python3.11/site-packages (from uvicorn[standard]>=0.18.3->chromadb) (0.19.0)\n",
      "Requirement already satisfied: watchfiles>=0.13 in /home/qasim/anaconda3/lib/python3.11/site-packages (from uvicorn[standard]>=0.18.3->chromadb) (0.21.0)\n",
      "Requirement already satisfied: websockets>=10.4 in /home/qasim/anaconda3/lib/python3.11/site-packages (from uvicorn[standard]>=0.18.3->chromadb) (12.0)\n",
      "Requirement already satisfied: soupsieve>1.2 in /home/qasim/anaconda3/lib/python3.11/site-packages (from beautifulsoup4->unstructured) (2.5)\n",
      "Requirement already satisfied: joblib in /home/qasim/anaconda3/lib/python3.11/site-packages (from nltk->unstructured) (1.2.0)\n",
      "Requirement already satisfied: regex>=2021.8.3 in /home/qasim/anaconda3/lib/python3.11/site-packages (from nltk->unstructured) (2023.10.3)\n",
      "Requirement already satisfied: deepdiff>=6.0 in /home/qasim/anaconda3/lib/python3.11/site-packages (from unstructured-client->unstructured) (7.0.1)\n",
      "Requirement already satisfied: jsonpath-python>=1.0.6 in /home/qasim/anaconda3/lib/python3.11/site-packages (from unstructured-client->unstructured) (1.0.6)\n",
      "Requirement already satisfied: mypy-extensions>=1.0.0 in /home/qasim/anaconda3/lib/python3.11/site-packages (from unstructured-client->unstructured) (1.0.0)\n",
      "Requirement already satisfied: pypdf>=4.0 in /home/qasim/anaconda3/lib/python3.11/site-packages (from unstructured-client->unstructured) (4.2.0)\n",
      "Requirement already satisfied: ordered-set<4.2.0,>=4.1.0 in /home/qasim/anaconda3/lib/python3.11/site-packages (from deepdiff>=6.0->unstructured-client->unstructured) (4.1.0)\n",
      "Requirement already satisfied: dnspython>=2.0.0 in /home/qasim/anaconda3/lib/python3.11/site-packages (from email_validator>=2.0.0->fastapi>=0.95.2->chromadb) (2.6.1)\n",
      "Requirement already satisfied: cachetools<6.0,>=2.0.0 in /home/qasim/anaconda3/lib/python3.11/site-packages (from google-auth>=1.0.1->kubernetes>=28.1.0->chromadb) (4.2.2)\n",
      "Requirement already satisfied: pyasn1-modules>=0.2.1 in /home/qasim/anaconda3/lib/python3.11/site-packages (from google-auth>=1.0.1->kubernetes>=28.1.0->chromadb) (0.2.8)\n",
      "Requirement already satisfied: rsa<5,>=3.1.4 in /home/qasim/anaconda3/lib/python3.11/site-packages (from google-auth>=1.0.1->kubernetes>=28.1.0->chromadb) (4.9)\n",
      "Requirement already satisfied: hyperframe<7,>=6.0 in /home/qasim/anaconda3/lib/python3.11/site-packages (from h2<5,>=3->httpx[http2]>=0.20.0->qdrant_client) (6.0.1)\n",
      "Requirement already satisfied: hpack<5,>=4.0 in /home/qasim/anaconda3/lib/python3.11/site-packages (from h2<5,>=3->httpx[http2]>=0.20.0->qdrant_client) (4.0.0)\n",
      "Requirement already satisfied: filelock in /home/qasim/anaconda3/lib/python3.11/site-packages (from huggingface-hub<1.0,>=0.16.4->tokenizers>=0.13.2->chromadb) (3.13.1)\n",
      "Requirement already satisfied: fsspec>=2023.5.0 in /home/qasim/anaconda3/lib/python3.11/site-packages (from huggingface-hub<1.0,>=0.16.4->tokenizers>=0.13.2->chromadb) (2023.10.0)\n",
      "Requirement already satisfied: zipp>=0.5 in /home/qasim/anaconda3/lib/python3.11/site-packages (from importlib-metadata<=7.0,>=6.0->opentelemetry-api>=1.2.0->chromadb) (3.17.0)\n",
      "Requirement already satisfied: MarkupSafe>=2.0 in /home/qasim/anaconda3/lib/python3.11/site-packages (from jinja2>=2.11.2->fastapi>=0.95.2->chromadb) (2.1.3)\n",
      "Requirement already satisfied: markdown-it-py<3.0.0,>=2.2.0 in /home/qasim/anaconda3/lib/python3.11/site-packages (from rich>=10.11.0->typer>=0.9.0->chromadb) (2.2.0)\n",
      "Requirement already satisfied: pygments<3.0.0,>=2.13.0 in /home/qasim/anaconda3/lib/python3.11/site-packages (from rich>=10.11.0->typer>=0.9.0->chromadb) (2.15.1)\n",
      "Requirement already satisfied: humanfriendly>=9.1 in /home/qasim/anaconda3/lib/python3.11/site-packages (from coloredlogs->onnxruntime>=1.14.1->chromadb) (10.0)\n",
      "Requirement already satisfied: mpmath>=0.19 in /home/qasim/anaconda3/lib/python3.11/site-packages (from sympy->onnxruntime>=1.14.1->chromadb) (1.3.0)\n",
      "Requirement already satisfied: mdurl~=0.1 in /home/qasim/anaconda3/lib/python3.11/site-packages (from markdown-it-py<3.0.0,>=2.2.0->rich>=10.11.0->typer>=0.9.0->chromadb) (0.1.0)\n",
      "Requirement already satisfied: pyasn1<0.5.0,>=0.4.6 in /home/qasim/anaconda3/lib/python3.11/site-packages (from pyasn1-modules>=0.2.1->google-auth>=1.0.1->kubernetes>=28.1.0->chromadb) (0.4.8)\n",
      "Note: you may need to restart the kernel to use updated packages.\n"
     ]
    }
   ],
   "source": [
    "pip install langchain langchain_community chromadb unstructured qdrant_client"
   ]
  },
  {
   "cell_type": "markdown",
   "id": "81d4925d",
   "metadata": {},
   "source": [
    "Ok, now lets do our RAG. Here we can use the cloud resources. If you want to use a local ollama server, you can create a client to localhost:11434 or alternatively just set client = ollama "
   ]
  },
  {
   "cell_type": "code",
   "execution_count": 51,
   "id": "7fee29bf",
   "metadata": {},
   "outputs": [],
   "source": [
    "ollamaBase = 'http://ollama-alibo-gpu-testing.apps.private.okd4.teh-2.snappcloud.io/'\n",
    "\n",
    "from ollama import Client\n",
    "\n",
    "client = ollama.Client(ollamaBase)\n"
   ]
  },
  {
   "cell_type": "code",
   "execution_count": 52,
   "id": "e46273a4",
   "metadata": {},
   "outputs": [],
   "source": [
    "from langchain.document_loaders import DirectoryLoader\n",
    "from langchain_community.document_loaders import UnstructuredMarkdownLoader"
   ]
  },
  {
   "cell_type": "markdown",
   "id": "110af750-92dd-405d-88f0-470fbfd0a696",
   "metadata": {},
   "source": [
    "It is expected that the docs directory from snappcloud gitlab documentation is copied and available in the path below"
   ]
  },
  {
   "cell_type": "code",
   "execution_count": 54,
   "id": "87789636-20cf-4779-9346-2759b09dbc5b",
   "metadata": {},
   "outputs": [
    {
     "name": "stdout",
     "output_type": "stream",
     "text": [
      "['llama3:70b', 'llama3:latest', 'llama3:instruct']\n"
     ]
    }
   ],
   "source": [
    "def mname(x):\n",
    "    return x['name']\n",
    "    \n",
    "\n",
    "result = client.list()\n",
    "print(list(map(mname,result['models'])))"
   ]
  },
  {
   "cell_type": "code",
   "execution_count": 64,
   "id": "a11c64fa",
   "metadata": {},
   "outputs": [],
   "source": [
    "loader = DirectoryLoader('./docs',glob=\"**/*.md\",loader_cls=UnstructuredMarkdownLoader)\n",
    "embeddingModel = 'mxbai-embed-large'\n",
    "llmModel = 'llama3'\n",
    "systemPrompt = \"You are a helpful assistant that answers questions using the context provided. Cite the relevant documents everytime you provide an answer\""
   ]
  },
  {
   "cell_type": "code",
   "execution_count": 82,
   "id": "e8d06cc3",
   "metadata": {},
   "outputs": [
    {
     "name": "stdout",
     "output_type": "stream",
     "text": [
      "['docs/vpn-access.md', 'docs/servicedesk.md', 'docs/overview.md', 'docs/support.md', 'docs/terms.md', 'docs/reference/api-documentation.md', 'docs/reference/cli-documentation.md', 'docs/storage/storage-volumes.md', 'docs/storage/volume-snapshots.md', 'docs/storage/object-store/aws-s3-sdk.md', 'docs/storage/object-store/backup-and-restore.md', 'docs/storage/object-store/overview.md', 'docs/storage/object-store/aws-s3-cli.md', 'docs/storage/object-store/s3-cli.md', 'docs/storage/object-store/s3-operator.md', 'docs/storage/object-store/advanced-features/bucket-lifecycle.md', 'docs/storage/object-store/advanced-features/multipart-upload.md', 'docs/storage/object-store/advanced-features/object-versioning.md', 'docs/storage/object-store/advanced-features/bucket-policy.md', 'docs/chaos/chaos.md', 'docs/openstack/IaC.md', 'docs/openstack/overview.md', 'docs/openstack/migrate-1g-to-10g.md', 'docs/openstack/images.md', 'docs/openstack/networking.md', 'docs/networking/loadbalancer-as-a-service.md', 'docs/networking/network-policies.md', 'docs/networking/expose-tcp-applications.md', 'docs/networking/grpc.md', 'docs/networking/Gslb.md', 'docs/networking/ingress-routing/httpproxy.md', 'docs/networking/ingress-routing/overview.md', 'docs/networking/ingress-routing/migrate-route-httpproxy.md', 'docs/networking/ingress-routing/custom-domain-names.md', 'docs/networking/ingress-routing/options.md', 'docs/message-queue/mq.md', 'docs/message-queue/nats.md', 'docs/message-queue/rabbitmq.md', 'docs/message-queue/kafka.md', 'docs/databases/redis.md', 'docs/databases/mongodb.md', 'docs/databases/postgres.md', 'docs/databases/tidb.md', 'docs/databases/redis-chart.md', 'docs/databases/elastic.md', 'docs/databases/clickhouse.md', 'docs/databases/db.md', 'docs/learn/vault.md', 'docs/learn/read-only-access-to-gitlab.md', 'docs/learn/storage-related-considerations-for-migrating-to-cloud.md', 'docs/learn/dev-to-production-recommendations.md', 'docs/learn/sharing-okd-templates.md', 'docs/learn/creating-self-signed-certificates.md', 'docs/learn/docker/optimizing-builds.md', 'docs/learn/docker/build-your-own-image.md', 'docs/learn/docker/install-docker.md', 'docs/learn/docker/tag-push-pull-your-image.md', 'docs/learn/automation/backup-database-aws.md', 'docs/cicd/gitlab.md', 'docs/cicd/argocd.md', 'docs/cicd/argorollouts.md', 'docs/cicd/argowf.md', 'docs/cicd/build/deploying-existing-images.md', 'docs/cicd/build/manage-build.md', 'docs/cicd/build/troubleshooting-build.md', 'docs/cicd/gitlab/gitlab-pages.md', 'docs/cicd/gitlab/continuous-integration.md', 'docs/cicd/gitlab/gitlab-generic-package-repo.md', 'docs/cicd/gitlab/ssh-keys.md', 'docs/cicd/gitlab/gitlab-faq.md', 'docs/cicd/gitlab/dockerfile/overview.md', 'docs/cicd/gitlab/dockerfile/go.md', 'docs/management/web-terminal-access.md', 'docs/management/scaling-app.md', 'docs/management/set-env.md', 'docs/management/best-practices.md', 'docs/management/migrate-to-deployment.md', 'docs/management/cli-login.md', 'docs/management/vault-secrets-operator.md', 'docs/management/quotas-and-limitations.md', 'docs/management/secret-management.md', 'docs/management/terminal-access.md', 'docs/management/backstage.md', 'docs/management/policy-management.md', 'docs/management/user-management.md', 'docs/management/simple-authenticator-operator.md', 'docs/management/logs.md', 'docs/management/rolling-back.md', 'docs/management/team-management.md', 'docs/management/automation/autoscaling-applications.md', 'docs/management/automation/pod-scheduling.md', 'docs/management/automation/running-application-migrations.md', 'docs/management/automation/cron-jobs.md', 'docs/management/automation/login-tokens-for-automation.md', 'docs/quickstart/create-project.md', 'docs/quickstart/troubleshooting.md', 'docs/quickstart/deploy/container-image.md', 'docs/quickstart/deploy/docker-file.md', 'docs/quickstart/deploy/yaml.md', 'docs/quickstart/deploy/catalogsource.md', 'docs/quickstart/deploy/helmchart.md', 'docs/quickstart/deploy/dockerfile/dockerize-laravel.md', 'docs/quickstart/deploy/dockerfile/dockerize-golang.md', 'docs/ai-bigdata/katib.md', 'docs/ai-bigdata/seldon.md', 'docs/ai-bigdata/gpu.md', 'docs/ai-bigdata/spark.md', 'docs/ai-bigdata/kubeflow.md', 'docs/ai-bigdata/flink.md', 'docs/ai-bigdata/splunk.md', 'docs/services/morpheus/guideline.md', 'docs/registry/import-image.md', 'docs/registry/docker-registry.md', 'docs/cache-proxy/alpine-proxy.md', 'docs/cache-proxy/npm-proxy.md', 'docs/cache-proxy/http-proxy.md', 'docs/cache-proxy/cache-proxy.md', 'docs/cache-proxy/go-proxy.md', 'docs/cache-proxy/container-proxy.md', 'docs/observability/self-service-log-shipping.md', 'docs/observability/grafanauser-management.md', 'docs/observability/hubble-ui.md', 'docs/observability/partial-annotations-argocd.md', 'docs/observability/centralized-logging.md', 'docs/observability/tracing.md', 'docs/observability/argocd-notification.md', 'docs/observability/monitoring.md']\n"
     ]
    }
   ],
   "source": [
    "docs = loader.load()\n",
    "print(list(map(lambda x: x.metadata['source'], docs)))"
   ]
  },
  {
   "cell_type": "markdown",
   "id": "419fa87a",
   "metadata": {},
   "source": [
    "We can skip the splitting etc, as the documents are already split, but if you wanted to, you can use the following code\n",
    "\n",
    "text_splitter = RecursiveCharacterTextSplitter(chunk_size=2000, chunk_overlap=200)\n",
    "splits = text_splitter.split_documents(docs)\n",
    "print(len(splits))"
   ]
  },
  {
   "cell_type": "markdown",
   "id": "c2675c81",
   "metadata": {},
   "source": [
    "Now we use our embedding model to create the embeddings and store them in chroma"
   ]
  },
  {
   "cell_type": "code",
   "execution_count": 66,
   "id": "80e6e577",
   "metadata": {
    "scrolled": true
   },
   "outputs": [
    {
     "name": "stdout",
     "output_type": "stream",
     "text": [
      "CPU times: user 25 µs, sys: 1 µs, total: 26 µs\n",
      "Wall time: 27.7 µs\n"
     ]
    }
   ],
   "source": [
    "%%time\n",
    "from langchain.embeddings import OllamaEmbeddings\n",
    "embeddings = OllamaEmbeddings(model=embeddingModel)"
   ]
  },
  {
   "cell_type": "markdown",
   "id": "2f415506-93dc-4728-8bf0-82f9c6ed14ba",
   "metadata": {},
   "source": [
    "We should save the embeddings in a vector db, such as chroma or qdrant. Below are both the examples but you can change the one you want to use as code, and the other field can be set as markdown text."
   ]
  },
  {
   "cell_type": "code",
   "execution_count": 67,
   "id": "a357be9d-ff4e-43e1-8046-735fa11de984",
   "metadata": {},
   "outputs": [],
   "source": [
    "from langchain_community.vectorstores import Chroma\n",
    "vectorstore = Chroma.from_documents(documents=docs, embedding=embeddings,persist_directory='./chromadb')"
   ]
  },
  {
   "cell_type": "raw",
   "id": "aaf728a0-df4b-4088-9140-8be59d1a8d2d",
   "metadata": {
    "scrolled": true
   },
   "source": [
    "%%time\n",
    "from langchain.vectorstores import Qdrant\n",
    "\n",
    "vectorstore = Qdrant.from_documents(documents=docs, embedding=embeddings, path='./quadrant',collection_name='snappcloud')"
   ]
  },
  {
   "cell_type": "code",
   "execution_count": 68,
   "id": "d29048de",
   "metadata": {},
   "outputs": [],
   "source": [
    "retriever = vectorstore.as_retriever()\n",
    "\n",
    "def format_docs(docs):\n",
    "    return \"\\n\\n\".join(doc.page_content for doc in docs)\n",
    "\n",
    "def ollama_llm(question, context):\n",
    "    formatted_prompt = f\"Question: {question}\\n\\nContext: {context}\"\n",
    "    response = client.chat(model=llmModel, options = { 'temperature': 0}, messages=[{'role': 'system', 'content': systemPrompt},{'role': 'user', 'content': formatted_prompt}])\n",
    "    return response['message']['content']\n"
   ]
  },
  {
   "cell_type": "code",
   "execution_count": 84,
   "id": "64d664db",
   "metadata": {},
   "outputs": [],
   "source": [
    "# Define the RAG chain\n",
    "def rag_chain(question):\n",
    "    retrieved_docs = retriever.invoke(question)\n",
    "    formatted_context = format_docs(retrieved_docs)\n",
    "    print(\"using from context\",list(map(lambda x: x.metadata['source'],retrieved_docs)))\n",
    "    return ollama_llm(question, formatted_context)"
   ]
  },
  {
   "cell_type": "code",
   "execution_count": 85,
   "id": "a402c52d",
   "metadata": {},
   "outputs": [
    {
     "name": "stdout",
     "output_type": "stream",
     "text": [
      "using from context ['../mlscratchpad/README.md', '../mlscratchpad/README.md', '../mlscratchpad/README.md', '../anaconda3/pkgs/distributed-2023.11.0-py311h06a4308_0/lib/python3.11/site-packages/distributed-2023.11.0.dist-info/AUTHORS.md']\n",
      "To set up the Jaeger Agent on SnapCloud, you can follow these steps:\n",
      "\n",
      "1. First, make sure you have the Jaeger Agent installed and running on your machine.\n",
      "2. Next, you need to configure the Jaeger Agent to send spans to SnapCloud. You can do this by setting the `agent.host` environment variable to the address of your SnapCloud instance.\n",
      "\n",
      "According to the Jaeger documentation [1], the default host for SnapCloud is `localhost:14250`. However, if you are running your Jaeger Agent on a different machine or in a containerized environment, you may need to use a different address.\n",
      "\n",
      "For example, if you are running your Jaeger Agent in a Kubernetes deployment, you can set the `agent.host` environment variable to the hostname of your SnapCloud instance. You can find this information in the SnapCloud documentation [2].\n",
      "\n",
      "Here is an example of how you might set the `agent.host` environment variable:\n",
      "```\n",
      "export agent.host=<snapcloud-hostname>:14250\n",
      "```\n",
      "Replace `<snapcloud-hostname>` with the actual hostname of your SnapCloud instance.\n",
      "\n",
      "References:\n",
      "\n",
      "[1] Jaeger documentation: https://jaeger.io/docs/in-process-agent/\n",
      "\n",
      "[2] SnapCloud documentation: https://snapcloud.io/docs/ (Note: This link is fictional, please provide the correct one)\n",
      "\n",
      "Please let me know if you have any further questions or concerns!\n",
      "CPU times: user 12.7 ms, sys: 4.01 ms, total: 16.7 ms\n",
      "Wall time: 16.1 s\n"
     ]
    }
   ],
   "source": [
    "%%time\n",
    "result = rag_chain(\"What address should I use for jaeger agent on snappcloud?\")\n",
    "print(result)"
   ]
  },
  {
   "cell_type": "code",
   "execution_count": 86,
   "id": "407b1794",
   "metadata": {},
   "outputs": [
    {
     "name": "stdout",
     "output_type": "stream",
     "text": [
      "using from context ['docs/cache-proxy/cache-proxy.md', '../mlscratchpad/docs/cache-proxy/cache-proxy.md', 'docs/cache-proxy/cache-proxy.md', 'docs/cache-proxy/cache-proxy.md']\n",
      "According to the SnapCloud documentation, the external IPs that you need to whitelist are:\n",
      "\n",
      "* `34.216.235.139`\n",
      "* `34.216.235.140`\n",
      "* `34.216.235.141`\n",
      "* `34.216.235.142`\n",
      "\n",
      "These IP addresses are used by SnapCloud's caching proxy services, including Go Cache Proxy, Container Cache Proxy, Alpine Cache Proxy, NPM Cache Proxy, and HTTP Proxy.\n",
      "\n",
      "Please note that these IPs may be subject to change, so it's always a good idea to check the SnapCloud documentation for any updates or changes.\n",
      "CPU times: user 16.7 ms, sys: 2.96 ms, total: 19.6 ms\n",
      "Wall time: 11.9 s\n"
     ]
    }
   ],
   "source": [
    "%%time\n",
    "result = rag_chain(\"What are the external IPs for snappcloud that i need to whitelist?\")\n",
    "print(result)"
   ]
  },
  {
   "cell_type": "code",
   "execution_count": 87,
   "id": "71551df1",
   "metadata": {},
   "outputs": [
    {
     "name": "stdout",
     "output_type": "stream",
     "text": [
      "using from context ['../anaconda3/pkgs/mistune-2.0.4-py311h06a4308_0/info/test/tests/fixtures/include/hello.md', '../anaconda3/pkgs/mistune-2.0.4-py311h06a4308_0/info/test/tests/fixtures/include/hello.md', '../anaconda3/pkgs/mistune-2.0.4-py311h06a4308_0/info/test/tests/fixtures/include/hello.md', '../jan/extensions/@janhq/tensorrt-llm-extension/node_modules/core-util-is/README.md']\n",
      "To increase the quota for your project, you'll need to follow the guidelines and procedures outlined by your organization or institution. The specific steps may vary depending on where you are and what type of project it is.\n",
      "\n",
      "However, I can provide some general guidance based on common practices:\n",
      "\n",
      "1. **Check if you have the necessary permissions**: Before increasing the quota, ensure that you have the required permissions to do so. This might involve checking with your supervisor, manager, or project lead.\n",
      "2. **Review the current quota and usage**: Understand how much of the quota is currently being used and what the limits are. This will help you determine how much more you can reasonably allocate.\n",
      "3. **Justify the increase**: Prepare a solid justification for why you need to increase the quota. This could include demonstrating increased demand, improved efficiency, or new requirements that weren't anticipated initially.\n",
      "4. **Submit a request**: Submit your request to increase the quota, along with your justification and any relevant supporting documentation. This might involve filling out a form, sending an email, or scheduling a meeting with the relevant stakeholders.\n",
      "\n",
      "Remember to keep detailed records of your request, including the date, time, and outcome. This will help you track progress and demonstrate accountability.\n",
      "\n",
      "References:\n",
      "\n",
      "* [Node.js Documentation: util.is*](https://nodejs.org/api/util.html#util_util_is_type_value) (not directly applicable, but provides context on Node.js utilities)\n",
      "\n",
      "Please let me know if you have any further questions or concerns!\n"
     ]
    }
   ],
   "source": [
    "result = rag_chain(\"I need to increase the quota for my project, how can I do this?\")\n",
    "print(result)"
   ]
  },
  {
   "cell_type": "code",
   "execution_count": null,
   "id": "9181e260-0be7-45ed-837d-ceb18f4de2a3",
   "metadata": {},
   "outputs": [],
   "source": []
  },
  {
   "cell_type": "code",
   "execution_count": null,
   "id": "38b7db57-861c-4979-b863-293182394ba8",
   "metadata": {},
   "outputs": [],
   "source": []
  }
 ],
 "metadata": {
  "kernelspec": {
   "display_name": "Python 3 (ipykernel)",
   "language": "python",
   "name": "python3"
  },
  "language_info": {
   "codemirror_mode": {
    "name": "ipython",
    "version": 3
   },
   "file_extension": ".py",
   "mimetype": "text/x-python",
   "name": "python",
   "nbconvert_exporter": "python",
   "pygments_lexer": "ipython3",
   "version": "3.11.7"
  }
 },
 "nbformat": 4,
 "nbformat_minor": 5
}
