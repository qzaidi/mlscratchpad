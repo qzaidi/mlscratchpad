{
 "cells": [
  {
   "cell_type": "code",
   "execution_count": 1,
   "id": "46d3b1a8",
   "metadata": {},
   "outputs": [
    {
     "name": "stdout",
     "output_type": "stream",
     "text": [
      "Requirement already satisfied: ollama in /home/qasim/anaconda3/lib/python3.11/site-packages (0.1.9)\n",
      "Requirement already satisfied: httpx<0.28.0,>=0.27.0 in /home/qasim/anaconda3/lib/python3.11/site-packages (from ollama) (0.27.0)\n",
      "Requirement already satisfied: anyio in /home/qasim/anaconda3/lib/python3.11/site-packages (from httpx<0.28.0,>=0.27.0->ollama) (3.7.1)\n",
      "Requirement already satisfied: certifi in /home/qasim/anaconda3/lib/python3.11/site-packages (from httpx<0.28.0,>=0.27.0->ollama) (2024.2.2)\n",
      "Requirement already satisfied: httpcore==1.* in /home/qasim/anaconda3/lib/python3.11/site-packages (from httpx<0.28.0,>=0.27.0->ollama) (1.0.5)\n",
      "Requirement already satisfied: idna in /home/qasim/anaconda3/lib/python3.11/site-packages (from httpx<0.28.0,>=0.27.0->ollama) (3.4)\n",
      "Requirement already satisfied: sniffio in /home/qasim/anaconda3/lib/python3.11/site-packages (from httpx<0.28.0,>=0.27.0->ollama) (1.3.0)\n",
      "Requirement already satisfied: h11<0.15,>=0.13 in /home/qasim/anaconda3/lib/python3.11/site-packages (from httpcore==1.*->httpx<0.28.0,>=0.27.0->ollama) (0.14.0)\n",
      "Note: you may need to restart the kernel to use updated packages.\n"
     ]
    }
   ],
   "source": [
    "pip install ollama"
   ]
  },
  {
   "cell_type": "code",
   "execution_count": 2,
   "id": "49c9773b",
   "metadata": {},
   "outputs": [
    {
     "name": "stdout",
     "output_type": "stream",
     "text": [
      "Requirement already satisfied: langchain in /home/qasim/anaconda3/lib/python3.11/site-packages (0.0.340)\n",
      "Requirement already satisfied: langchain_community in /home/qasim/anaconda3/lib/python3.11/site-packages (0.0.20)\n",
      "Requirement already satisfied: chromadb in /home/qasim/anaconda3/lib/python3.11/site-packages (0.5.0)\n",
      "Requirement already satisfied: unstructured in /home/qasim/anaconda3/lib/python3.11/site-packages (0.13.7)\n",
      "Requirement already satisfied: qdrant_client in /home/qasim/anaconda3/lib/python3.11/site-packages (1.9.1)\n",
      "Requirement already satisfied: PyYAML>=5.3 in /home/qasim/anaconda3/lib/python3.11/site-packages (from langchain) (6.0.1)\n",
      "Requirement already satisfied: SQLAlchemy<3,>=1.4 in /home/qasim/anaconda3/lib/python3.11/site-packages (from langchain) (2.0.25)\n",
      "Requirement already satisfied: aiohttp<4.0.0,>=3.8.3 in /home/qasim/anaconda3/lib/python3.11/site-packages (from langchain) (3.9.3)\n",
      "Requirement already satisfied: anyio<4.0 in /home/qasim/anaconda3/lib/python3.11/site-packages (from langchain) (3.7.1)\n",
      "Requirement already satisfied: dataclasses-json<0.7,>=0.5.7 in /home/qasim/anaconda3/lib/python3.11/site-packages (from langchain) (0.6.6)\n",
      "Requirement already satisfied: jsonpatch<2.0,>=1.33 in /home/qasim/anaconda3/lib/python3.11/site-packages (from langchain) (1.33)\n",
      "Requirement already satisfied: langsmith<0.1.0,>=0.0.63 in /home/qasim/anaconda3/lib/python3.11/site-packages (from langchain) (0.0.87)\n",
      "Requirement already satisfied: numpy<2,>=1 in /home/qasim/anaconda3/lib/python3.11/site-packages (from langchain) (1.26.4)\n",
      "Requirement already satisfied: pydantic<3,>=1 in /home/qasim/anaconda3/lib/python3.11/site-packages (from langchain) (1.10.12)\n",
      "Requirement already satisfied: requests<3,>=2 in /home/qasim/anaconda3/lib/python3.11/site-packages (from langchain) (2.31.0)\n",
      "Requirement already satisfied: tenacity<9.0.0,>=8.1.0 in /home/qasim/anaconda3/lib/python3.11/site-packages (from langchain) (8.3.0)\n",
      "Requirement already satisfied: langchain-core<0.2,>=0.1.21 in /home/qasim/anaconda3/lib/python3.11/site-packages (from langchain_community) (0.1.23)\n",
      "Requirement already satisfied: build>=1.0.3 in /home/qasim/anaconda3/lib/python3.11/site-packages (from chromadb) (1.2.1)\n",
      "Requirement already satisfied: chroma-hnswlib==0.7.3 in /home/qasim/anaconda3/lib/python3.11/site-packages (from chromadb) (0.7.3)\n",
      "Requirement already satisfied: fastapi>=0.95.2 in /home/qasim/anaconda3/lib/python3.11/site-packages (from chromadb) (0.111.0)\n",
      "Requirement already satisfied: uvicorn>=0.18.3 in /home/qasim/anaconda3/lib/python3.11/site-packages (from uvicorn[standard]>=0.18.3->chromadb) (0.29.0)\n",
      "Requirement already satisfied: posthog>=2.4.0 in /home/qasim/anaconda3/lib/python3.11/site-packages (from chromadb) (3.5.0)\n",
      "Requirement already satisfied: typing-extensions>=4.5.0 in /home/qasim/anaconda3/lib/python3.11/site-packages (from chromadb) (4.9.0)\n",
      "Requirement already satisfied: onnxruntime>=1.14.1 in /home/qasim/anaconda3/lib/python3.11/site-packages (from chromadb) (1.17.3)\n",
      "Requirement already satisfied: opentelemetry-api>=1.2.0 in /home/qasim/anaconda3/lib/python3.11/site-packages (from chromadb) (1.24.0)\n",
      "Requirement already satisfied: opentelemetry-exporter-otlp-proto-grpc>=1.2.0 in /home/qasim/anaconda3/lib/python3.11/site-packages (from chromadb) (1.11.1)\n",
      "Requirement already satisfied: opentelemetry-instrumentation-fastapi>=0.41b0 in /home/qasim/anaconda3/lib/python3.11/site-packages (from chromadb) (0.45b0)\n",
      "Requirement already satisfied: opentelemetry-sdk>=1.2.0 in /home/qasim/anaconda3/lib/python3.11/site-packages (from chromadb) (1.24.0)\n",
      "Requirement already satisfied: tokenizers>=0.13.2 in /home/qasim/anaconda3/lib/python3.11/site-packages (from chromadb) (0.19.1)\n",
      "Requirement already satisfied: pypika>=0.48.9 in /home/qasim/anaconda3/lib/python3.11/site-packages (from chromadb) (0.48.9)\n",
      "Requirement already satisfied: tqdm>=4.65.0 in /home/qasim/anaconda3/lib/python3.11/site-packages (from chromadb) (4.65.0)\n",
      "Requirement already satisfied: overrides>=7.3.1 in /home/qasim/anaconda3/lib/python3.11/site-packages (from chromadb) (7.4.0)\n",
      "Requirement already satisfied: importlib-resources in /home/qasim/anaconda3/lib/python3.11/site-packages (from chromadb) (6.4.0)\n",
      "Requirement already satisfied: grpcio>=1.58.0 in /home/qasim/anaconda3/lib/python3.11/site-packages (from chromadb) (1.63.0)\n",
      "Requirement already satisfied: bcrypt>=4.0.1 in /home/qasim/anaconda3/lib/python3.11/site-packages (from chromadb) (4.1.3)\n",
      "Requirement already satisfied: typer>=0.9.0 in /home/qasim/anaconda3/lib/python3.11/site-packages (from chromadb) (0.12.3)\n",
      "Requirement already satisfied: kubernetes>=28.1.0 in /home/qasim/anaconda3/lib/python3.11/site-packages (from chromadb) (29.0.0)\n",
      "Requirement already satisfied: mmh3>=4.0.1 in /home/qasim/anaconda3/lib/python3.11/site-packages (from chromadb) (4.1.0)\n",
      "Requirement already satisfied: orjson>=3.9.12 in /home/qasim/anaconda3/lib/python3.11/site-packages (from chromadb) (3.10.3)\n",
      "Requirement already satisfied: chardet in /home/qasim/anaconda3/lib/python3.11/site-packages (from unstructured) (4.0.0)\n",
      "Requirement already satisfied: filetype in /home/qasim/anaconda3/lib/python3.11/site-packages (from unstructured) (1.2.0)\n",
      "Requirement already satisfied: python-magic in /home/qasim/anaconda3/lib/python3.11/site-packages (from unstructured) (0.4.27)\n",
      "Requirement already satisfied: lxml in /home/qasim/anaconda3/lib/python3.11/site-packages (from unstructured) (4.9.3)\n",
      "Requirement already satisfied: nltk in /home/qasim/anaconda3/lib/python3.11/site-packages (from unstructured) (3.8.1)\n",
      "Requirement already satisfied: tabulate in /home/qasim/anaconda3/lib/python3.11/site-packages (from unstructured) (0.9.0)\n",
      "Requirement already satisfied: beautifulsoup4 in /home/qasim/anaconda3/lib/python3.11/site-packages (from unstructured) (4.12.2)\n",
      "Requirement already satisfied: emoji in /home/qasim/anaconda3/lib/python3.11/site-packages (from unstructured) (2.11.1)\n",
      "Requirement already satisfied: python-iso639 in /home/qasim/anaconda3/lib/python3.11/site-packages (from unstructured) (2024.4.27)\n",
      "Requirement already satisfied: langdetect in /home/qasim/anaconda3/lib/python3.11/site-packages (from unstructured) (1.0.9)\n",
      "Requirement already satisfied: rapidfuzz in /home/qasim/anaconda3/lib/python3.11/site-packages (from unstructured) (3.9.0)\n",
      "Requirement already satisfied: backoff in /home/qasim/anaconda3/lib/python3.11/site-packages (from unstructured) (1.11.1)\n",
      "Requirement already satisfied: unstructured-client in /home/qasim/anaconda3/lib/python3.11/site-packages (from unstructured) (0.22.0)\n",
      "Requirement already satisfied: wrapt in /home/qasim/anaconda3/lib/python3.11/site-packages (from unstructured) (1.14.1)\n",
      "Requirement already satisfied: grpcio-tools>=1.41.0 in /home/qasim/anaconda3/lib/python3.11/site-packages (from qdrant_client) (1.63.0)\n",
      "Requirement already satisfied: httpx>=0.20.0 in /home/qasim/anaconda3/lib/python3.11/site-packages (from httpx[http2]>=0.20.0->qdrant_client) (0.27.0)\n",
      "Requirement already satisfied: portalocker<3.0.0,>=2.7.0 in /home/qasim/anaconda3/lib/python3.11/site-packages (from qdrant_client) (2.8.2)\n",
      "Requirement already satisfied: urllib3<3,>=1.26.14 in /home/qasim/anaconda3/lib/python3.11/site-packages (from qdrant_client) (2.0.7)\n",
      "Requirement already satisfied: aiosignal>=1.1.2 in /home/qasim/anaconda3/lib/python3.11/site-packages (from aiohttp<4.0.0,>=3.8.3->langchain) (1.2.0)\n",
      "Requirement already satisfied: attrs>=17.3.0 in /home/qasim/anaconda3/lib/python3.11/site-packages (from aiohttp<4.0.0,>=3.8.3->langchain) (23.1.0)\n",
      "Requirement already satisfied: frozenlist>=1.1.1 in /home/qasim/anaconda3/lib/python3.11/site-packages (from aiohttp<4.0.0,>=3.8.3->langchain) (1.4.0)\n",
      "Requirement already satisfied: multidict<7.0,>=4.5 in /home/qasim/anaconda3/lib/python3.11/site-packages (from aiohttp<4.0.0,>=3.8.3->langchain) (6.0.4)\n",
      "Requirement already satisfied: yarl<2.0,>=1.0 in /home/qasim/anaconda3/lib/python3.11/site-packages (from aiohttp<4.0.0,>=3.8.3->langchain) (1.9.3)\n",
      "Requirement already satisfied: idna>=2.8 in /home/qasim/anaconda3/lib/python3.11/site-packages (from anyio<4.0->langchain) (3.4)\n",
      "Requirement already satisfied: sniffio>=1.1 in /home/qasim/anaconda3/lib/python3.11/site-packages (from anyio<4.0->langchain) (1.3.0)\n",
      "Requirement already satisfied: packaging>=19.1 in /home/qasim/anaconda3/lib/python3.11/site-packages (from build>=1.0.3->chromadb) (23.2)\n",
      "Requirement already satisfied: pyproject_hooks in /home/qasim/anaconda3/lib/python3.11/site-packages (from build>=1.0.3->chromadb) (1.1.0)\n",
      "Requirement already satisfied: marshmallow<4.0.0,>=3.18.0 in /home/qasim/anaconda3/lib/python3.11/site-packages (from dataclasses-json<0.7,>=0.5.7->langchain) (3.21.2)\n",
      "Requirement already satisfied: typing-inspect<1,>=0.4.0 in /home/qasim/anaconda3/lib/python3.11/site-packages (from dataclasses-json<0.7,>=0.5.7->langchain) (0.9.0)\n",
      "Requirement already satisfied: starlette<0.38.0,>=0.37.2 in /home/qasim/anaconda3/lib/python3.11/site-packages (from fastapi>=0.95.2->chromadb) (0.37.2)\n",
      "Requirement already satisfied: fastapi-cli>=0.0.2 in /home/qasim/anaconda3/lib/python3.11/site-packages (from fastapi>=0.95.2->chromadb) (0.0.3)\n",
      "Requirement already satisfied: jinja2>=2.11.2 in /home/qasim/anaconda3/lib/python3.11/site-packages (from fastapi>=0.95.2->chromadb) (3.1.3)\n",
      "Requirement already satisfied: python-multipart>=0.0.7 in /home/qasim/anaconda3/lib/python3.11/site-packages (from fastapi>=0.95.2->chromadb) (0.0.9)\n",
      "Requirement already satisfied: ujson!=4.0.2,!=4.1.0,!=4.2.0,!=4.3.0,!=5.0.0,!=5.1.0,>=4.0.1 in /home/qasim/anaconda3/lib/python3.11/site-packages (from fastapi>=0.95.2->chromadb) (5.4.0)\n",
      "Requirement already satisfied: email_validator>=2.0.0 in /home/qasim/anaconda3/lib/python3.11/site-packages (from fastapi>=0.95.2->chromadb) (2.1.1)\n",
      "Requirement already satisfied: protobuf<6.0dev,>=5.26.1 in /home/qasim/anaconda3/lib/python3.11/site-packages (from grpcio-tools>=1.41.0->qdrant_client) (5.26.1)\n",
      "Requirement already satisfied: setuptools in /home/qasim/anaconda3/lib/python3.11/site-packages (from grpcio-tools>=1.41.0->qdrant_client) (68.2.2)\n",
      "Requirement already satisfied: certifi in /home/qasim/anaconda3/lib/python3.11/site-packages (from httpx>=0.20.0->httpx[http2]>=0.20.0->qdrant_client) (2024.2.2)\n",
      "Requirement already satisfied: httpcore==1.* in /home/qasim/anaconda3/lib/python3.11/site-packages (from httpx>=0.20.0->httpx[http2]>=0.20.0->qdrant_client) (1.0.5)\n",
      "Requirement already satisfied: h11<0.15,>=0.13 in /home/qasim/anaconda3/lib/python3.11/site-packages (from httpcore==1.*->httpx>=0.20.0->httpx[http2]>=0.20.0->qdrant_client) (0.14.0)\n",
      "Requirement already satisfied: h2<5,>=3 in /home/qasim/anaconda3/lib/python3.11/site-packages (from httpx[http2]>=0.20.0->qdrant_client) (4.1.0)\n",
      "Requirement already satisfied: jsonpointer>=1.9 in /home/qasim/anaconda3/lib/python3.11/site-packages (from jsonpatch<2.0,>=1.33->langchain) (2.1)\n",
      "Requirement already satisfied: six>=1.9.0 in /home/qasim/anaconda3/lib/python3.11/site-packages (from kubernetes>=28.1.0->chromadb) (1.16.0)\n",
      "Requirement already satisfied: python-dateutil>=2.5.3 in /home/qasim/anaconda3/lib/python3.11/site-packages (from kubernetes>=28.1.0->chromadb) (2.8.2)\n",
      "Requirement already satisfied: google-auth>=1.0.1 in /home/qasim/anaconda3/lib/python3.11/site-packages (from kubernetes>=28.1.0->chromadb) (2.29.0)\n",
      "Requirement already satisfied: websocket-client!=0.40.0,!=0.41.*,!=0.42.*,>=0.32.0 in /home/qasim/anaconda3/lib/python3.11/site-packages (from kubernetes>=28.1.0->chromadb) (0.58.0)\n",
      "Requirement already satisfied: requests-oauthlib in /home/qasim/anaconda3/lib/python3.11/site-packages (from kubernetes>=28.1.0->chromadb) (2.0.0)\n",
      "Requirement already satisfied: oauthlib>=3.2.2 in /home/qasim/anaconda3/lib/python3.11/site-packages (from kubernetes>=28.1.0->chromadb) (3.2.2)\n",
      "Requirement already satisfied: coloredlogs in /home/qasim/anaconda3/lib/python3.11/site-packages (from onnxruntime>=1.14.1->chromadb) (15.0.1)\n",
      "Requirement already satisfied: flatbuffers in /home/qasim/anaconda3/lib/python3.11/site-packages (from onnxruntime>=1.14.1->chromadb) (24.3.25)\n",
      "Requirement already satisfied: sympy in /home/qasim/anaconda3/lib/python3.11/site-packages (from onnxruntime>=1.14.1->chromadb) (1.12)\n",
      "Requirement already satisfied: deprecated>=1.2.6 in /home/qasim/anaconda3/lib/python3.11/site-packages (from opentelemetry-api>=1.2.0->chromadb) (1.2.14)\n",
      "Requirement already satisfied: importlib-metadata<=7.0,>=6.0 in /home/qasim/anaconda3/lib/python3.11/site-packages (from opentelemetry-api>=1.2.0->chromadb) (7.0.0)\n",
      "Requirement already satisfied: googleapis-common-protos~=1.52 in /home/qasim/anaconda3/lib/python3.11/site-packages (from opentelemetry-exporter-otlp-proto-grpc>=1.2.0->chromadb) (1.56.1)\n",
      "Requirement already satisfied: opentelemetry-proto==1.11.1 in /home/qasim/anaconda3/lib/python3.11/site-packages (from opentelemetry-exporter-otlp-proto-grpc>=1.2.0->chromadb) (1.11.1)\n",
      "Requirement already satisfied: opentelemetry-instrumentation-asgi==0.45b0 in /home/qasim/anaconda3/lib/python3.11/site-packages (from opentelemetry-instrumentation-fastapi>=0.41b0->chromadb) (0.45b0)\n",
      "Requirement already satisfied: opentelemetry-instrumentation==0.45b0 in /home/qasim/anaconda3/lib/python3.11/site-packages (from opentelemetry-instrumentation-fastapi>=0.41b0->chromadb) (0.45b0)\n",
      "Requirement already satisfied: opentelemetry-semantic-conventions==0.45b0 in /home/qasim/anaconda3/lib/python3.11/site-packages (from opentelemetry-instrumentation-fastapi>=0.41b0->chromadb) (0.45b0)\n",
      "Requirement already satisfied: opentelemetry-util-http==0.45b0 in /home/qasim/anaconda3/lib/python3.11/site-packages (from opentelemetry-instrumentation-fastapi>=0.41b0->chromadb) (0.45b0)\n",
      "Requirement already satisfied: asgiref~=3.0 in /home/qasim/anaconda3/lib/python3.11/site-packages (from opentelemetry-instrumentation-asgi==0.45b0->opentelemetry-instrumentation-fastapi>=0.41b0->chromadb) (3.8.1)\n",
      "Requirement already satisfied: monotonic>=1.5 in /home/qasim/anaconda3/lib/python3.11/site-packages (from posthog>=2.4.0->chromadb) (1.6)\n",
      "Requirement already satisfied: charset-normalizer<4,>=2 in /home/qasim/anaconda3/lib/python3.11/site-packages (from requests<3,>=2->langchain) (3.3.2)\n",
      "Requirement already satisfied: greenlet!=0.4.17 in /home/qasim/anaconda3/lib/python3.11/site-packages (from SQLAlchemy<3,>=1.4->langchain) (3.0.1)\n",
      "Requirement already satisfied: huggingface-hub<1.0,>=0.16.4 in /home/qasim/anaconda3/lib/python3.11/site-packages (from tokenizers>=0.13.2->chromadb) (0.23.0)\n",
      "Requirement already satisfied: click>=8.0.0 in /home/qasim/anaconda3/lib/python3.11/site-packages (from typer>=0.9.0->chromadb) (8.1.7)\n",
      "Requirement already satisfied: shellingham>=1.3.0 in /home/qasim/anaconda3/lib/python3.11/site-packages (from typer>=0.9.0->chromadb) (1.5.4)\n",
      "Requirement already satisfied: rich>=10.11.0 in /home/qasim/anaconda3/lib/python3.11/site-packages (from typer>=0.9.0->chromadb) (13.3.5)\n",
      "Requirement already satisfied: httptools>=0.5.0 in /home/qasim/anaconda3/lib/python3.11/site-packages (from uvicorn[standard]>=0.18.3->chromadb) (0.6.1)\n",
      "Requirement already satisfied: python-dotenv>=0.13 in /home/qasim/anaconda3/lib/python3.11/site-packages (from uvicorn[standard]>=0.18.3->chromadb) (0.21.0)\n",
      "Requirement already satisfied: uvloop!=0.15.0,!=0.15.1,>=0.14.0 in /home/qasim/anaconda3/lib/python3.11/site-packages (from uvicorn[standard]>=0.18.3->chromadb) (0.19.0)\n",
      "Requirement already satisfied: watchfiles>=0.13 in /home/qasim/anaconda3/lib/python3.11/site-packages (from uvicorn[standard]>=0.18.3->chromadb) (0.21.0)\n",
      "Requirement already satisfied: websockets>=10.4 in /home/qasim/anaconda3/lib/python3.11/site-packages (from uvicorn[standard]>=0.18.3->chromadb) (12.0)\n",
      "Requirement already satisfied: soupsieve>1.2 in /home/qasim/anaconda3/lib/python3.11/site-packages (from beautifulsoup4->unstructured) (2.5)\n",
      "Requirement already satisfied: joblib in /home/qasim/anaconda3/lib/python3.11/site-packages (from nltk->unstructured) (1.2.0)\n",
      "Requirement already satisfied: regex>=2021.8.3 in /home/qasim/anaconda3/lib/python3.11/site-packages (from nltk->unstructured) (2023.10.3)\n",
      "Requirement already satisfied: deepdiff>=6.0 in /home/qasim/anaconda3/lib/python3.11/site-packages (from unstructured-client->unstructured) (7.0.1)\n",
      "Requirement already satisfied: jsonpath-python>=1.0.6 in /home/qasim/anaconda3/lib/python3.11/site-packages (from unstructured-client->unstructured) (1.0.6)\n",
      "Requirement already satisfied: mypy-extensions>=1.0.0 in /home/qasim/anaconda3/lib/python3.11/site-packages (from unstructured-client->unstructured) (1.0.0)\n",
      "Requirement already satisfied: pypdf>=4.0 in /home/qasim/anaconda3/lib/python3.11/site-packages (from unstructured-client->unstructured) (4.2.0)\n",
      "Requirement already satisfied: ordered-set<4.2.0,>=4.1.0 in /home/qasim/anaconda3/lib/python3.11/site-packages (from deepdiff>=6.0->unstructured-client->unstructured) (4.1.0)\n",
      "Requirement already satisfied: dnspython>=2.0.0 in /home/qasim/anaconda3/lib/python3.11/site-packages (from email_validator>=2.0.0->fastapi>=0.95.2->chromadb) (2.6.1)\n",
      "Requirement already satisfied: cachetools<6.0,>=2.0.0 in /home/qasim/anaconda3/lib/python3.11/site-packages (from google-auth>=1.0.1->kubernetes>=28.1.0->chromadb) (4.2.2)\n",
      "Requirement already satisfied: pyasn1-modules>=0.2.1 in /home/qasim/anaconda3/lib/python3.11/site-packages (from google-auth>=1.0.1->kubernetes>=28.1.0->chromadb) (0.2.8)\n",
      "Requirement already satisfied: rsa<5,>=3.1.4 in /home/qasim/anaconda3/lib/python3.11/site-packages (from google-auth>=1.0.1->kubernetes>=28.1.0->chromadb) (4.9)\n",
      "Requirement already satisfied: hyperframe<7,>=6.0 in /home/qasim/anaconda3/lib/python3.11/site-packages (from h2<5,>=3->httpx[http2]>=0.20.0->qdrant_client) (6.0.1)\n",
      "Requirement already satisfied: hpack<5,>=4.0 in /home/qasim/anaconda3/lib/python3.11/site-packages (from h2<5,>=3->httpx[http2]>=0.20.0->qdrant_client) (4.0.0)\n",
      "Requirement already satisfied: filelock in /home/qasim/anaconda3/lib/python3.11/site-packages (from huggingface-hub<1.0,>=0.16.4->tokenizers>=0.13.2->chromadb) (3.13.1)\n",
      "Requirement already satisfied: fsspec>=2023.5.0 in /home/qasim/anaconda3/lib/python3.11/site-packages (from huggingface-hub<1.0,>=0.16.4->tokenizers>=0.13.2->chromadb) (2023.10.0)\n",
      "Requirement already satisfied: zipp>=0.5 in /home/qasim/anaconda3/lib/python3.11/site-packages (from importlib-metadata<=7.0,>=6.0->opentelemetry-api>=1.2.0->chromadb) (3.17.0)\n",
      "Requirement already satisfied: MarkupSafe>=2.0 in /home/qasim/anaconda3/lib/python3.11/site-packages (from jinja2>=2.11.2->fastapi>=0.95.2->chromadb) (2.1.3)\n",
      "Requirement already satisfied: markdown-it-py<3.0.0,>=2.2.0 in /home/qasim/anaconda3/lib/python3.11/site-packages (from rich>=10.11.0->typer>=0.9.0->chromadb) (2.2.0)\n",
      "Requirement already satisfied: pygments<3.0.0,>=2.13.0 in /home/qasim/anaconda3/lib/python3.11/site-packages (from rich>=10.11.0->typer>=0.9.0->chromadb) (2.15.1)\n",
      "Requirement already satisfied: humanfriendly>=9.1 in /home/qasim/anaconda3/lib/python3.11/site-packages (from coloredlogs->onnxruntime>=1.14.1->chromadb) (10.0)\n",
      "Requirement already satisfied: mpmath>=0.19 in /home/qasim/anaconda3/lib/python3.11/site-packages (from sympy->onnxruntime>=1.14.1->chromadb) (1.3.0)\n",
      "Requirement already satisfied: mdurl~=0.1 in /home/qasim/anaconda3/lib/python3.11/site-packages (from markdown-it-py<3.0.0,>=2.2.0->rich>=10.11.0->typer>=0.9.0->chromadb) (0.1.0)\n",
      "Requirement already satisfied: pyasn1<0.5.0,>=0.4.6 in /home/qasim/anaconda3/lib/python3.11/site-packages (from pyasn1-modules>=0.2.1->google-auth>=1.0.1->kubernetes>=28.1.0->chromadb) (0.4.8)\n",
      "Note: you may need to restart the kernel to use updated packages.\n"
     ]
    }
   ],
   "source": [
    "pip install langchain langchain_community chromadb unstructured qdrant_client"
   ]
  },
  {
   "cell_type": "markdown",
   "id": "81d4925d",
   "metadata": {},
   "source": [
    "Ok, now lets do our RAG"
   ]
  },
  {
   "cell_type": "code",
   "execution_count": 3,
   "id": "7fee29bf",
   "metadata": {},
   "outputs": [],
   "source": [
    "import ollama"
   ]
  },
  {
   "cell_type": "code",
   "execution_count": 4,
   "id": "e46273a4",
   "metadata": {},
   "outputs": [],
   "source": [
    "from langchain.document_loaders import DirectoryLoader\n",
    "from langchain_community.document_loaders import UnstructuredMarkdownLoader"
   ]
  },
  {
   "cell_type": "markdown",
   "id": "110af750-92dd-405d-88f0-470fbfd0a696",
   "metadata": {},
   "source": [
    "It is expected that the docs directory from snappcloud gitlab documentation is copied and available in the path below"
   ]
  },
  {
   "cell_type": "code",
   "execution_count": 33,
   "id": "a11c64fa",
   "metadata": {},
   "outputs": [],
   "source": [
    "loader = DirectoryLoader('./docs',glob=\"**/*.md\",loader_cls=UnstructuredMarkdownLoader)\n",
    "embeddingModel = 'mxbai-embed-large'\n",
    "llmModel = 'llama3'\n",
    "systemPrompt = \"You are a helpful assistant that answers questions using the context provided. Cite the relevant documents when you provide an answer\""
   ]
  },
  {
   "cell_type": "code",
   "execution_count": 6,
   "id": "e8d06cc3",
   "metadata": {},
   "outputs": [
    {
     "name": "stdout",
     "output_type": "stream",
     "text": [
      "127\n"
     ]
    }
   ],
   "source": [
    "docs = loader.load()\n",
    "print(len(docs))"
   ]
  },
  {
   "cell_type": "markdown",
   "id": "419fa87a",
   "metadata": {},
   "source": [
    "We can skip the splitting etc, as the documents are already split, but if you wanted to, you can use the following code\n",
    "\n",
    "text_splitter = RecursiveCharacterTextSplitter(chunk_size=2000, chunk_overlap=200)\n",
    "splits = text_splitter.split_documents(docs)\n",
    "print(len(splits))"
   ]
  },
  {
   "cell_type": "markdown",
   "id": "c2675c81",
   "metadata": {},
   "source": [
    "Now we use our embedding model to create the embeddings and store them in chroma"
   ]
  },
  {
   "cell_type": "code",
   "execution_count": 18,
   "id": "80e6e577",
   "metadata": {
    "scrolled": true
   },
   "outputs": [
    {
     "name": "stdout",
     "output_type": "stream",
     "text": [
      "CPU times: user 74 µs, sys: 4 µs, total: 78 µs\n",
      "Wall time: 80.1 µs\n"
     ]
    }
   ],
   "source": [
    "%%time\n",
    "from langchain.embeddings import OllamaEmbeddings\n",
    "embeddings = OllamaEmbeddings(model=embeddingModel)"
   ]
  },
  {
   "cell_type": "markdown",
   "id": "2f415506-93dc-4728-8bf0-82f9c6ed14ba",
   "metadata": {},
   "source": [
    "We should save the embeddings in a vector db, such as chroma or qdrant. Below are both the examples but you can change the one you want to use as code, and the other field can be set as markdown text."
   ]
  },
  {
   "cell_type": "code",
   "execution_count": 35,
   "id": "a357be9d-ff4e-43e1-8046-735fa11de984",
   "metadata": {},
   "outputs": [],
   "source": [
    "from langchain_community.vectorstores import Chroma\n",
    "vectorstore = Chroma.from_documents(documents=docs, embedding=embeddings,persist_directory='./chromadb')"
   ]
  },
  {
   "cell_type": "raw",
   "id": "aaf728a0-df4b-4088-9140-8be59d1a8d2d",
   "metadata": {
    "scrolled": true
   },
   "source": [
    "%%time\n",
    "from langchain.vectorstores import Qdrant\n",
    "\n",
    "vectorstore = Qdrant.from_documents(documents=docs, embedding=embeddings, path='./quadrant',collection_name='snappcloud')"
   ]
  },
  {
   "cell_type": "code",
   "execution_count": 36,
   "id": "d29048de",
   "metadata": {},
   "outputs": [],
   "source": [
    "retriever = vectorstore.as_retriever()\n",
    "\n",
    "def format_docs(docs):\n",
    "    return \"\\n\\n\".join(doc.page_content for doc in docs)\n",
    "\n",
    "def ollama_llm(question, context):\n",
    "    formatted_prompt = f\"Question: {question}\\n\\nContext: {context}\"\n",
    "    response = ollama.chat(model=llmModel, options = { 'temperature': 0 }, messages=[{'role': 'system', 'content': systemPrompt},{'role': 'user', 'content': formatted_prompt}])\n",
    "    return response['message']['content']\n"
   ]
  },
  {
   "cell_type": "code",
   "execution_count": 37,
   "id": "64d664db",
   "metadata": {},
   "outputs": [],
   "source": [
    "# Define the RAG chain\n",
    "def rag_chain(question):\n",
    "    retrieved_docs = retriever.invoke(question)\n",
    "    formatted_context = format_docs(retrieved_docs)\n",
    "    print(\"using from context\",len(retrieved_docs))\n",
    "    return ollama_llm(question, formatted_context)"
   ]
  },
  {
   "cell_type": "code",
   "execution_count": 38,
   "id": "a402c52d",
   "metadata": {},
   "outputs": [
    {
     "name": "stdout",
     "output_type": "stream",
     "text": [
      "using from context 4\n",
      "Based on the context provided, it seems like you're asking about the Jaeger agent configuration for SnapCloud.\n",
      "\n",
      "According to the official documentation [1], when using Jaeger with SnapCloud, you should configure the Jaeger agent to use the following address:\n",
      "\n",
      "`http://localhost:14250/api/traces`\n",
      "\n",
      "This is because SnapCloud runs its own Jaeger agent internally, and this address allows your application to communicate with it.\n",
      "\n",
      "Please note that this information is based on the official documentation [1], which provides detailed instructions for configuring Jaeger with various platforms, including SnapCloud.\n",
      "\n",
      "References:\n",
      "[1] https://github.com/jaegertracing/jaeger-client-java#snapcloud\n",
      "\n",
      "Please let me know if you have any further questions or concerns!\n",
      "CPU times: user 52.7 ms, sys: 4.92 ms, total: 57.6 ms\n",
      "Wall time: 6.15 s\n"
     ]
    }
   ],
   "source": [
    "%%time\n",
    "result = rag_chain(\"What address should I use for jaeger agent on snappcloud?\")\n",
    "print(result)"
   ]
  },
  {
   "cell_type": "code",
   "execution_count": 39,
   "id": "407b1794",
   "metadata": {},
   "outputs": [
    {
     "name": "stdout",
     "output_type": "stream",
     "text": [
      "using from context 4\n",
      "According to the SnapCloud documentation, the external IPs that you need to whitelist are:\n",
      "\n",
      "* `api.snapcloud.com`\n",
      "* `cdn.snapcloud.com`\n",
      "* `cdn2.snapcloud.com`\n",
      "\n",
      "These IP addresses are used for various services provided by SnapCloud, including caching and proxying. Whitelisting these IPs will ensure that your network allows traffic from SnapCloud's services.\n",
      "\n",
      "Please note that this information is subject to change, and you should always check the official SnapCloud documentation or contact their support team for the most up-to-date and accurate information.\n",
      "CPU times: user 8.7 ms, sys: 915 µs, total: 9.61 ms\n",
      "Wall time: 6.32 s\n"
     ]
    }
   ],
   "source": [
    "%%time\n",
    "result = rag_chain(\"What are the external IPs for snappcloud that i need to whitelist?\")\n",
    "print(result)"
   ]
  },
  {
   "cell_type": "code",
   "execution_count": 40,
   "id": "71551df1",
   "metadata": {},
   "outputs": [
    {
     "name": "stdout",
     "output_type": "stream",
     "text": [
      "using from context 4\n",
      "To use a GPU for your machine learning projects, you'll need to:\n",
      "\n",
      "1. **Choose a suitable framework**: Popular options include TensorFlow, PyTorch, and Keras. Each has its own strengths and weaknesses.\n",
      "2. **Install the necessary libraries**:\n",
      "\t* For TensorFlow: `tensorflow-gpu` (install using pip or conda)\n",
      "\t* For PyTorch: `torch-cuda` (install using pip or conda)\n",
      "\t* For Keras: You'll need to install a backend that supports GPU acceleration, such as TensorFlow or Theano\n",
      "3. **Verify your GPU is recognized**: Run `nvidia-smi` (for NVIDIA GPUs) or `lspci | grep VGA` (for AMD/Intel GPUs) to ensure your GPU is detected by the system.\n",
      "4. **Configure your environment**:\n",
      "\t* For TensorFlow: Set the `CUDA_VISIBLE_DEVICES` environment variable to specify which GPU(s) you want to use.\n",
      "\t* For PyTorch: Set the `CUDA_DEVICE_ORDER` and `CUDA_VISIBLE_DEVICES` environment variables to control which GPU(s) are used.\n",
      "5. **Train your model on the GPU**: Use the framework's built-in support for GPU acceleration. For example, in TensorFlow, you can use the `tf.config.experimental.set_memory_growth()` function to enable GPU training.\n",
      "\n",
      "Here's some sample code to get you started:\n",
      "\n",
      "**TensorFlow**\n",
      "```python\n",
      "import tensorflow as tf\n",
      "\n",
      "# Enable GPU training\n",
      "physical_devices = tf.config.list_physical_devices('GPU')\n",
      "if len(physical_devices) > 0:\n",
      "    tf.config.experimental.set_memory_growth(physical_devices[0], True)\n",
      "\n",
      "# Train your model on the GPU\n",
      "model.compile(optimizer='adam', loss='categorical_crossentropy')\n",
      "model.fit(X_train, y_train, epochs=10)\n",
      "```\n",
      "\n",
      "**PyTorch**\n",
      "```python\n",
      "import torch\n",
      "import torch.nn as nn\n",
      "\n",
      "# Set the device to use (GPU or CPU)\n",
      "device = torch.device(\"cuda:0\" if torch.cuda.is_available() else \"cpu\")\n",
      "\n",
      "# Create a model and move it to the GPU\n",
      "model = nn.Linear(5, 3).to(device)\n",
      "\n",
      "# Train your model on the GPU\n",
      "criterion = nn.CrossEntropyLoss()\n",
      "optimizer = torch.optim.SGD(model.parameters(), lr=0.01)\n",
      "for epoch in range(10):\n",
      "    optimizer.zero_grad()\n",
      "    output = model(input_data)\n",
      "    loss = criterion(output, target_labels)\n",
      "    loss.backward()\n",
      "    optimizer.step()\n",
      "```\n",
      "\n",
      "Remember to check the documentation for your chosen framework and GPU for specific instructions on how to use them together. Happy training!\n"
     ]
    }
   ],
   "source": [
    "result = rag_chain(\"how can I use GPU for my machine learning projects?\")\n",
    "print(result)"
   ]
  },
  {
   "cell_type": "code",
   "execution_count": null,
   "id": "9181e260-0be7-45ed-837d-ceb18f4de2a3",
   "metadata": {},
   "outputs": [],
   "source": []
  }
 ],
 "metadata": {
  "kernelspec": {
   "display_name": "Python 3 (ipykernel)",
   "language": "python",
   "name": "python3"
  },
  "language_info": {
   "codemirror_mode": {
    "name": "ipython",
    "version": 3
   },
   "file_extension": ".py",
   "mimetype": "text/x-python",
   "name": "python",
   "nbconvert_exporter": "python",
   "pygments_lexer": "ipython3",
   "version": "3.11.7"
  }
 },
 "nbformat": 4,
 "nbformat_minor": 5
}
