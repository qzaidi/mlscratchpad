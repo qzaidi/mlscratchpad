{
 "cells": [
  {
   "cell_type": "markdown",
   "id": "2b108780-9b6b-4d8c-8960-5d04a2982b5c",
   "metadata": {},
   "source": [
    "## SnappCloud RAG\n"
   ]
  },
  {
   "cell_type": "code",
   "execution_count": 4,
   "id": "5c4786fe-22ee-48bf-88c1-30aece3783dc",
   "metadata": {},
   "outputs": [
    {
     "name": "stdout",
     "output_type": "stream",
     "text": [
      "Note: you may need to restart the kernel to use updated packages.\n"
     ]
    }
   ],
   "source": [
    "pip install --quiet ollama sentence-transformers tqdm"
   ]
  },
  {
   "cell_type": "code",
   "execution_count": 5,
   "id": "49c9773b",
   "metadata": {},
   "outputs": [
    {
     "name": "stdout",
     "output_type": "stream",
     "text": [
      "Note: you may need to restart the kernel to use updated packages.\n"
     ]
    }
   ],
   "source": [
    "pip install --quiet langchain langchain_community chromadb unstructured markdown"
   ]
  },
  {
   "cell_type": "markdown",
   "id": "81d4925d",
   "metadata": {},
   "source": [
    "Ok, now lets do our RAG. Here we can use the cloud resources. If you want to use a local ollama server, you can create a client to localhost:11434 or alternatively just set client = ollama "
   ]
  },
  {
   "cell_type": "code",
   "execution_count": 77,
   "id": "7fee29bf",
   "metadata": {},
   "outputs": [],
   "source": [
    "ollamaBase = 'http://ollama-alibo-gpu-testing.apps.private.okd4.teh-2.snappcloud.io/'\n",
    "#ollamaBase = 'http://localhost:11434'\n",
    "import ollama\n",
    "\n",
    "def newOllamaClient(baseURL):\n",
    "    return ollama.Client(baseURL)\n",
    "\n",
    "client = newOllamaClient(baseURL=ollamaBase)"
   ]
  },
  {
   "cell_type": "code",
   "execution_count": 37,
   "id": "e46273a4",
   "metadata": {},
   "outputs": [],
   "source": [
    "from langchain.document_loaders import DirectoryLoader\n",
    "from langchain_community.document_loaders import UnstructuredMarkdownLoader\n",
    "from langchain.text_splitter import SentenceTransformersTokenTextSplitter"
   ]
  },
  {
   "cell_type": "markdown",
   "id": "110af750-92dd-405d-88f0-470fbfd0a696",
   "metadata": {},
   "source": [
    "It is expected that the docs directory from snappcloud gitlab documentation is copied and available in the path below\n",
    "\n",
    "Now we fetch all available models on our local/remote GPU instance."
   ]
  },
  {
   "cell_type": "code",
   "execution_count": 38,
   "id": "87789636-20cf-4779-9346-2759b09dbc5b",
   "metadata": {},
   "outputs": [
    {
     "name": "stdout",
     "output_type": "stream",
     "text": [
      "['llama2:latest', 'nomic-embed-text:latest']\n"
     ]
    }
   ],
   "source": [
    "result = client.list()\n",
    "print([x['name'] for x in result['models']])"
   ]
  },
  {
   "cell_type": "markdown",
   "id": "82e789f3-b6e2-4dde-8578-f00c49d488a5",
   "metadata": {},
   "source": [
    "If you want to pull a specific model at this time, you can do it using the ollama api"
   ]
  },
  {
   "cell_type": "code",
   "execution_count": 39,
   "id": "d398bee4-917e-43db-96d4-e0447aa98162",
   "metadata": {},
   "outputs": [],
   "source": [
    "embeddingModel = 'nomic-embed-text'\n",
    "#embeddingModel = 'mxbai-embed-large'\n",
    "\n",
    "try:\n",
    "    client.show(embeddingModel)\n",
    "except Exception as e:\n",
    "    print('Model is not installed. Going to pull')\n",
    "    client.pull(embeddingModel)"
   ]
  },
  {
   "cell_type": "markdown",
   "id": "cca04687-83b5-4dbf-982c-0f173f80c103",
   "metadata": {},
   "source": [
    "## Generate Emebddings\n",
    "\n",
    "First we will see if the embeddings are already generated and persisted locally, in which case you can skip the rest of the activity"
   ]
  },
  {
   "cell_type": "code",
   "execution_count": 40,
   "id": "a357be9d-ff4e-43e1-8046-735fa11de984",
   "metadata": {},
   "outputs": [
    {
     "name": "stdout",
     "output_type": "stream",
     "text": [
      "you need to follow the instructions in the next section and generate embeddings again\n",
      "vectorstore has 0 documents\n",
      "CPU times: user 5.3 ms, sys: 13.4 ms, total: 18.7 ms\n",
      "Wall time: 60.1 ms\n"
     ]
    }
   ],
   "source": [
    "%%time\n",
    "from langchain_community.vectorstores import Chroma\n",
    "from langchain_community.embeddings import OllamaEmbeddings\n",
    "\n",
    "embeddings = OllamaEmbeddings(model=embeddingModel,show_progress=True,base_url=ollamaBase)\n",
    "\n",
    "vectorstore = Chroma('snappcloud',embeddings)\n",
    "if vectorstore._collection.count() == 0:\n",
    "    print(\"you need to follow the instructions in the next section and generate embeddings again\")\n",
    "\n",
    "print(\"vectorstore has {0} documents\".format(vectorstore._collection.count()))"
   ]
  },
  {
   "cell_type": "markdown",
   "id": "50378bd2-e75a-4b99-a898-f437d509ce65",
   "metadata": {},
   "source": [
    "### Generate from scratch \n",
    "\n",
    "We will first checkout the git repo with markdown files"
   ]
  },
  {
   "cell_type": "code",
   "execution_count": 41,
   "id": "45ce18e1-c4a5-4010-8893-908f9a35981f",
   "metadata": {},
   "outputs": [
    {
     "name": "stdout",
     "output_type": "stream",
     "text": [
      "using existing repo\n"
     ]
    }
   ],
   "source": [
    "import os\n",
    "if not os.path.exists('./user-docs'):\n",
    "    !git clone https://gitlab.snapp.ir/snappcloud/user-docs\n",
    "else:\n",
    "    print(\"using existing repo\")"
   ]
  },
  {
   "cell_type": "code",
   "execution_count": 42,
   "id": "a11c64fa",
   "metadata": {},
   "outputs": [],
   "source": [
    "loader = DirectoryLoader('./user-docs/docs',glob=\"**/*.md\",loader_cls=UnstructuredMarkdownLoader)"
   ]
  },
  {
   "cell_type": "code",
   "execution_count": 43,
   "id": "e8d06cc3",
   "metadata": {
    "scrolled": true
   },
   "outputs": [
    {
     "name": "stderr",
     "output_type": "stream",
     "text": [
      "OllamaEmbeddings:   0%|                                                                                                                                                                 | 0/1 [1:46:47<?, ?it/s]\n",
      "OllamaEmbeddings:   0%|                                                                                                                                                               | 0/473 [1:39:54<?, ?it/s]\n",
      "OllamaEmbeddings:   0%|                                                                                                                                                               | 0/473 [1:37:33<?, ?it/s]\n"
     ]
    },
    {
     "name": "stdout",
     "output_type": "stream",
     "text": [
      "['user-docs/docs/overview.md', 'user-docs/docs/support.md', 'user-docs/docs/terms.md', 'user-docs/docs/vpn-access.md', 'user-docs/docs/servicedesk.md', 'user-docs/docs/openstack/images.md', 'user-docs/docs/openstack/overview.md', 'user-docs/docs/openstack/networking.md', 'user-docs/docs/openstack/migrate-1g-to-10g.md', 'user-docs/docs/openstack/IaC.md']\n",
      "127\n"
     ]
    }
   ],
   "source": [
    "\n",
    "docs = loader.load()\n",
    "print(list(map(lambda x: x.metadata['source'], docs[0:10])))\n",
    "print(len(docs))\n",
    "#print(docs[10].page_content)"
   ]
  },
  {
   "cell_type": "markdown",
   "id": "c2675c81",
   "metadata": {},
   "source": [
    "Now we use our embedding model to create the embeddings and store them in chroma. If we are using the **mxbai-embed-large** model, whose **context window is 512**, so we must ensure all of our docs are of smaller size. On the other hand, nomic has a much bigger context window of 8k and doesn't need this. Actually it appears like *nomic-embed-text* is a much better model. The tokens_per_chunk parameter should be set based on the context window for embedding model. You can see the context window details using ollama show\n"
   ]
  },
  {
   "cell_type": "code",
   "execution_count": 48,
   "id": "e2444be0-56d2-4ce2-af96-beb85ca1b0dc",
   "metadata": {},
   "outputs": [
    {
     "name": "stdout",
     "output_type": "stream",
     "text": [
      "using nomic-embed-text \n",
      "num_ctx                        8192\n"
     ]
    }
   ],
   "source": [
    "print(\"using {0} \\n{1}\".format(embeddingModel,client.show(embeddingModel)['parameters']))"
   ]
  },
  {
   "cell_type": "code",
   "execution_count": 22,
   "id": "6e8e22b2-3361-47bf-982d-3b2afa4b5bda",
   "metadata": {},
   "outputs": [
    {
     "name": "stderr",
     "output_type": "stream",
     "text": [
      "/Users/qasim/miniconda3/lib/python3.11/site-packages/huggingface_hub/file_download.py:1132: FutureWarning: `resume_download` is deprecated and will be removed in version 1.0.0. Downloads always resume when possible. If you want to force a new download, use `force_download=True`.\n",
      "  warnings.warn(\n"
     ]
    },
    {
     "name": "stdout",
     "output_type": "stream",
     "text": [
      "473\n"
     ]
    }
   ],
   "source": [
    "token_splitter = SentenceTransformersTokenTextSplitter(chunk_overlap=0, tokens_per_chunk=384)\n",
    "splits = token_splitter.split_documents(docs)\n",
    "print(len(splits))"
   ]
  },
  {
   "cell_type": "raw",
   "id": "2f16b4c2-7f9f-4604-8799-4addd67f0202",
   "metadata": {},
   "source": [
    "What is happening in the split process is something like this, just for reference.\n",
    "token_split_texts = []\n",
    "for text in docs:\n",
    "    token_split_texts += token_splitter.split_text(text.page_content)\n",
    "\n",
    "print(token_split_texts[10])\n",
    "print(f\"\\nTotal chunks: {len(token_split_texts)}\")"
   ]
  },
  {
   "cell_type": "markdown",
   "id": "2f415506-93dc-4728-8bf0-82f9c6ed14ba",
   "metadata": {},
   "source": [
    "We should save the embeddings in a vector db, such as chroma or qdrant. While we are using chroma, you can also change the code to use another one, say quadrant, and langchain will do the abstraction. "
   ]
  },
  {
   "cell_type": "raw",
   "id": "aaf728a0-df4b-4088-9140-8be59d1a8d2d",
   "metadata": {
    "scrolled": true
   },
   "source": [
    "from langchain.vectorstores import Qdrant\n",
    "\n",
    "vectorstore = Qdrant.from_documents(documents=docs, embedding=embeddings, path='./quadrant',collection_name='snappcloud')"
   ]
  },
  {
   "cell_type": "code",
   "execution_count": 49,
   "id": "80e6e577",
   "metadata": {},
   "outputs": [
    {
     "name": "stderr",
     "output_type": "stream",
     "text": [
      "OllamaEmbeddings: 100%|███████████████████████████████████████████████████████████████████████████████████████████████████████████████████████████████████████████████████████| 473/473 [00:51<00:00,  9.25it/s]\n"
     ]
    },
    {
     "name": "stdout",
     "output_type": "stream",
     "text": [
      "CPU times: user 3.37 s, sys: 718 ms, total: 4.09 s\n",
      "Wall time: 51.5 s\n"
     ]
    }
   ],
   "source": [
    "%%time\n",
    "\n",
    "vectorstore = Chroma.from_documents(collection_name='snappcloud',documents=splits, embedding=embeddings,persist_directory='./chroma')"
   ]
  },
  {
   "cell_type": "markdown",
   "id": "fea637ae-eefa-4d2a-91b2-51d446d789ce",
   "metadata": {},
   "source": [
    "Here we just make sure that the number of docs in collection matches the output of split"
   ]
  },
  {
   "cell_type": "code",
   "execution_count": 50,
   "id": "b7592e41-4f58-4fab-8c9b-3f67c65aa457",
   "metadata": {},
   "outputs": [
    {
     "name": "stdout",
     "output_type": "stream",
     "text": [
      "473\n",
      "473\n"
     ]
    }
   ],
   "source": [
    "print(vectorstore._collection.count())\n",
    "print(len(splits))"
   ]
  },
  {
   "cell_type": "markdown",
   "id": "061aa222-43a5-4204-ae93-1231740c1157",
   "metadata": {},
   "source": [
    "### Query\n",
    "We can directly query the vectorstore. The quality of RAG is as good as the context provided to llm and no better, \n",
    "and this is one way to see the the context that is being passed."
   ]
  },
  {
   "cell_type": "code",
   "execution_count": 51,
   "id": "a0cce086-07a7-4299-abcc-2f646565c01c",
   "metadata": {},
   "outputs": [
    {
     "name": "stderr",
     "output_type": "stream",
     "text": [
      "OllamaEmbeddings: 100%|███████████████████████████████████████████████████████████████████████████████████████████████████████████████████████████████████████████████████████████| 1/1 [00:00<00:00,  5.61it/s]\n"
     ]
    },
    {
     "name": "stdout",
     "output_type": "stream",
     "text": [
      "add network. snappcloud. io / address - pool : vpn - access label to assign your service an external - ip which is routable from vpn. for example : { ` apiversion : v1 kind : service metadata : labels : network. snappcloud. io / address - pool : vpn - access name : sample - svc - lb spec : type : loadbalancer selector : app : sample - lb ports : - name : web port : 8080 protocol : tcp targetport : 8080 allocateloadbalancernodeports : false ` } for vpn - accessible service type loadbalancer, the allocated ips are in the range 172. 16. 88. 0 / 22 for teh - 2 / afranet and 172. 21. 88. 0 / 22 for teh - 1 / asiatech which is accessible via vpn ( in your local system ). the vpn - accessible external - ips can be accessed from any vms and baremetals as well as vpn users, make sure your application is secure enough to be exposed. in this case, it is recommended to use l7 solutions or you can use spec. loadbalancersourceranges for whitelisting client ips explained in ip whitelisting section. accessing vpn - accessible loadbalancer external - ips from non - cloud vm / baremetal for snappcloud pods ( okd ), and snappcloud vms ( openstack ) there is not any further action required and everything works out of the box. if a non - cloud vm / baremetal in snapp's afranet datacenter has a 10g network and needs to connect to loadbalancer, you should : 1. configure the following static network routes in your v\n",
      "\n",
      "\n",
      ". svc. okd4. teh - 1. snappcloud. io server : 172. 30. 0. 10 address : 172. 30. 0. 10 # 53 non - authoritative answer : name : sample - svc - lb. sample - namespace. svc. okd4. teh - 1. snappcloud. io address : 172. 21. 56. 3 ` ` ` accessing loadbalancer external - ips from non - cloud vm / baremetal for snappcloud pods ( okd ), and snappcloud vms ( openstack ) there is not any further action required and everything works out of the box. if a non - cloud vm / baremetal in snapp's afranet datacenter has a 10g network and needs to connect to loadbalancer, you should : configure the following static network routes in your vm / baremetal : to connect to teh - 1 : shell ip route add 172. 21. 56. 0 / 21 via 172. 20. 3. 254 to connect to teh - 2 : shell ip route add 172. 16. 56. 0 / 21 via 172. 20. 3. 254 if your vm / baremetal cannot ping 172. 20. 3. 254 ( 10g gateway ), ask the devops team to setup access to the 10g network 172. 20. 0. 0 / 22. please contact us if your vm / baremetal is in snapp's asiatech datacenter ; this should be unlikely. vpn - accessible service type loadbalancer { globals. clusterid = = ='okd4'& & ( you might want to see your service's external - ip via your local system, in this case, you need to\n",
      "\n",
      "\n",
      "access clickhouse from your machine ( vpn access ), service should be annotated, see here. if you don't want your service to be accessible with vpn, remove annotation from the servicetemplate. snappcloud only supports externaltrafficpolicy = cluster ( see here ), it's local by default so it set as cluster in the servicetemplate. now you can access clickhouse tcp ( 9000 ) or http ( 8123 ) port using external - ip of the clickhouse - cl - simple - manifest service. test curl { external - ip } : 8123 you should get ok in response. you can interact with clickhouse tcp port using clickhouse - client or http port using tools like dbeaver : : : note you can configure clickhouse. yaml to meet your requirements. for this purpose, this document explains each section of clickhouse crd as well. you can also see these crd examples which contain many use cases. : : : go and enjoy clickhouse on snappcloud!\n",
      "\n",
      "\n",
      "##m / baremetal : to connect to teh - 1 : { ` ip route add 172. 21. 88. 0 / 22 via 172. 20. 3. 254 ` } to connect to teh - 2 : { ` ip route add 172. 16. 88. 0 / 22 via 172. 20. 3. 254 ` } 1. if your vm / baremetal cannot ping 172. 20. 3. 254 ( 10g gateway ), ask the devops team to setup access to the 10g network 172. 20. 0. 0 / 22. ) } { globals. clusterid = = ='snappgroup'& & ( you might want to see your service's ` external - ip ` via your local system ; by default, the service's ` external - ip ` is accessible with the vpn, and there is no need for additional configuration. ) } ip whitelisting by using spec : loadbalancersourceranges you can specify the ip ranges that are allowed to access the loadbalancer services. the loadbalancersourceranges spec restricts traffic and limits which client ips can access the service load balancer, this field takes a list of ip cidr ranges, which will be forwarded to kubernetes. if. spec. loadbalancersourceranges is not set, kubernetes allows traffic from 0. 0. 0. 0 / 0 to the node security group ( s ). in the following you can find couple of examples. assuming 111. 111. 111. 0 / 24 and 222. 222. 222. 0 / 24 are the internal subnets. in the following example, a load balancer will be created that is only accessible to cluster internal ips. this will not allow clients from outside of the cluster to access the load balancer. yaml {\n",
      "\n",
      "\n",
      "), and ssl preferences. requests go through a fortigate firewall, load balancers, okd routers ( your routes ), services then pods. each route can use one free. apps. public. { globals. clusterid }. teh - 1. snappcloud. io domain ( or teh - 2 ). : : : note to use the free public domain you need to set hostname ( host ) field. : : :\n",
      "\n",
      "\n"
     ]
    }
   ],
   "source": [
    "query = \"What are the external IPs for snappcloud that i need to whitelist?\"\n",
    "#print(token_splitter.count_tokens(query))\n",
    "qembed = embeddings.embed_query(query)\n",
    "results = vectorstore._collection.query(query_embeddings = qembed, n_results=5)\n",
    "retrieved_documents = results['documents'][0]\n",
    "\n",
    "for document in retrieved_documents:\n",
    "    print(document)\n",
    "    print('\\n')"
   ]
  },
  {
   "cell_type": "code",
   "execution_count": 54,
   "id": "d29048de",
   "metadata": {},
   "outputs": [],
   "source": [
    "retriever = vectorstore.as_retriever()\n",
    "\n",
    "llmModel = 'llama3'\n",
    "systemPrompt = \"\"\"You are a helpful expert assistant. Your users are asking questions about snappcloud. You will be shown the user's question, and  relevant information from the documentation.\n",
    "Answer the user's question using only this information and cite your sources\"\"\"\n",
    "\n",
    "def format_docs(docs):\n",
    "    return \"\\n\\n\".join(doc.page_content for doc in docs)\n",
    "\n",
    "def ollama_llm(question, context):\n",
    "    formatted_prompt = f\"Question: {question}\\n\\nContext: {context}\"\n",
    "    response = client.chat(model=llmModel, options = { 'temperature': 0}, messages=[{'role': 'system', 'content': systemPrompt},{'role': 'user', 'content': formatted_prompt}])\n",
    "    return response['message']['content']\n"
   ]
  },
  {
   "cell_type": "code",
   "execution_count": 55,
   "id": "64d664db",
   "metadata": {},
   "outputs": [],
   "source": [
    "# Define the RAG chain\n",
    "def rag_chain(question):\n",
    "    retrieved_docs = retriever.invoke(question)\n",
    "    formatted_context = format_docs(retrieved_docs)\n",
    "    print(\"using from context\",list(map(lambda x: x.metadata['source'],retrieved_docs)))\n",
    "    return ollama_llm(question, formatted_context)"
   ]
  },
  {
   "cell_type": "code",
   "execution_count": 58,
   "id": "a402c52d",
   "metadata": {},
   "outputs": [
    {
     "name": "stderr",
     "output_type": "stream",
     "text": [
      "OllamaEmbeddings: 100%|███████████████████████████████████████████████████████████████████████████████████████████████████████████████████████████████████████████████████████████| 1/1 [00:00<00:00,  6.85it/s]\n"
     ]
    },
    {
     "name": "stdout",
     "output_type": "stream",
     "text": [
      "using from context ['user-docs/docs/observability/tracing.md', 'user-docs/docs/observability/tracing.md', 'user-docs/docs/observability/tracing.md', 'user-docs/docs/observability/tracing.md']\n",
      "According to the documentation, you should use the following address for the Jaeger agent on SnappCloud:\n",
      "\n",
      "\"jaeger-collector.service.consul: 14250\"\n",
      "\n",
      "This is mentioned in the section \"Jaeger Agent\" under the heading \"Tracing\". The full quote is:\n",
      "\n",
      "\"If you want to use GRPC to expose traces on the Jaeger client, you should directly connect to the collector component on port 14250. So you can use this address: 'jaeger-collector.service.consul: 14250'\".\n",
      "\n",
      "Source: SnappCloud documentation, \"Tracing\" section, \"Jaeger Agent\" subsection.\n",
      "CPU times: user 25.9 ms, sys: 23.9 ms, total: 49.8 ms\n",
      "Wall time: 10.4 s\n"
     ]
    }
   ],
   "source": [
    "%%time\n",
    "result = rag_chain(\"What address should I use for jaeger agent on snappcloud?\")\n",
    "print(result)"
   ]
  },
  {
   "cell_type": "code",
   "execution_count": 59,
   "id": "407b1794",
   "metadata": {},
   "outputs": [
    {
     "name": "stderr",
     "output_type": "stream",
     "text": [
      "OllamaEmbeddings: 100%|███████████████████████████████████████████████████████████████████████████████████████████████████████████████████████████████████████████████████████████| 1/1 [00:00<00:00,  6.93it/s]\n"
     ]
    },
    {
     "name": "stdout",
     "output_type": "stream",
     "text": [
      "using from context ['user-docs/docs/networking/expose-tcp-applications.md', 'user-docs/docs/networking/expose-tcp-applications.md', 'user-docs/docs/databases/clickhouse.md', 'user-docs/docs/networking/expose-tcp-applications.md']\n",
      "According to the documentation, the external IPs for SnappCloud that you need to whitelist are:\n",
      "\n",
      "* For VPN-Accessible Service Type LoadBalancer:\n",
      "\t+ 172.16.88.0/22 (for Afranet)\n",
      "\t+ 172.21.88.0/22 (for Asiatech)\n",
      "\n",
      "These IP ranges can be accessed via VPN and are routable from the VPN.\n",
      "\n",
      "Additionally, if you need to access the load balancer from a non-cloud VM or baremetal in SnappCloud's Afranet datacenter with a 10G network, you will need to configure static network routes:\n",
      "\n",
      "* To connect to teh-1: `ip route add 172.21.56.0/21 via 172.20.3.254`\n",
      "* To connect to teh-2: `ip route add 172.16.56.0/21 via 172.20.3.254`\n",
      "\n",
      "If your VM or baremetal cannot ping the 10G gateway (172.20.3.254), you will need to ask the DevOps team to set up access to the 10G network.\n",
      "\n",
      "Please note that these IP ranges are only accessible via VPN and do not require any additional configuration by default.\n",
      "CPU times: user 26.3 ms, sys: 23.8 ms, total: 50.1 ms\n",
      "Wall time: 7 s\n"
     ]
    }
   ],
   "source": [
    "%%time\n",
    "result = rag_chain(\"What are the external IPs for snappcloud that i need to whitelist?\")\n",
    "print(result)"
   ]
  },
  {
   "cell_type": "code",
   "execution_count": 60,
   "id": "71551df1",
   "metadata": {
    "scrolled": true
   },
   "outputs": [
    {
     "name": "stderr",
     "output_type": "stream",
     "text": [
      "OllamaEmbeddings: 100%|███████████████████████████████████████████████████████████████████████████████████████████████████████████████████████████████████████████████████████████| 1/1 [00:00<00:00, 10.85it/s]"
     ]
    },
    {
     "name": "stdout",
     "output_type": "stream",
     "text": [
      "using from context ['user-docs/docs/management/quotas-and-limitations.md', 'user-docs/docs/servicedesk.md', 'user-docs/docs/management/quotas-and-limitations.md', 'user-docs/docs/servicedesk.md']\n"
     ]
    },
    {
     "name": "stderr",
     "output_type": "stream",
     "text": [
      "\n"
     ]
    },
    {
     "name": "stdout",
     "output_type": "stream",
     "text": [
      "To increase the quota for your project, follow these steps:\n",
      "\n",
      "1. Check if your project is already joined to a team by running the command `oc describe project <project_name>` or checking the console UI under \"Projects\" > \"Project Details\" > \"YAML\".\n",
      "2. If your project is not joined to a team, you can join it to a team by adding the label `snappcloud.io/team` with the value of your team name.\n",
      "3. To view the current team quota, run the command `oc describe appliedclusterresourcequota <team_name>` or check the console UI under \"Administration\" > \"Resource Quotas\" > \"<team_name>\" > \"Details\".\n",
      "4. As an admin of each project, you can edit the project quota by running the command `oc edit quota -n <project_name>` or editing the project quota in the console UI under \"Administration\" > \"Resource Quotas\" > \"Default\" > \"YAML\".\n",
      "\n",
      "To request a quota increase, follow these steps:\n",
      "\n",
      "1. Go to the Cloud Service Desk page.\n",
      "2. Click on \"Increase OpenStack Quota\" to create a new ticket.\n",
      "3. Fill in the required fields:\n",
      "\t* Summary: Provide a brief description of your request, including whether the requested resource amount is permanent or temporary.\n",
      "\t* ID: Quotas - and - limitations\n",
      "\t* Title: Quotas\n",
      "4. Optional additional fields:\n",
      "\t* Additional bucket count: If you require an additional number of buckets, enter the desired value in this field.\n",
      "\t* Additional object count: If you need an increased object count, specify the desired number in this field.\n",
      "\t* Additional volume storage: If you need additional volume storage, enter the desired size in this field.\n",
      "\n",
      "Remember to provide a brief description of your request and include whether the requested resource amount is permanent or temporary.\n"
     ]
    }
   ],
   "source": [
    "result = rag_chain(\"I need to increase the quota for my project, how can I do this?\")\n",
    "print(result)"
   ]
  },
  {
   "cell_type": "code",
   "execution_count": 79,
   "id": "9181e260-0be7-45ed-837d-ceb18f4de2a3",
   "metadata": {},
   "outputs": [
    {
     "name": "stderr",
     "output_type": "stream",
     "text": [
      "OllamaEmbeddings: 100%|███████████████████████████████████████████████████████████████████████████████████████████████████████████████████████████████████████████████████████████| 1/1 [00:00<00:00,  5.50it/s]\n"
     ]
    },
    {
     "name": "stdout",
     "output_type": "stream",
     "text": [
      "using from context ['user-docs/docs/networking/ingress-routing/overview.md', 'user-docs/docs/networking/ingress-routing/overview.md', 'user-docs/docs/networking/expose-tcp-applications.md', 'user-docs/docs/networking/expose-tcp-applications.md']\n",
      "According to the documentation, Snappcloud uses the following public IP addresses for outgoing traffic:\n",
      "\n",
      "* teh-1: 178.216.250.136/30 (old ones were 178.22.121.34 and 178.22.121.35)\n",
      "* teh-2: 86.104.35.16/29 (old one was 79.175.139.36)\n",
      "\n",
      "Please note that there is a small chance that these IP addresses might change in the future, and this will be communicated to users.\n",
      "\n",
      "Source:\n",
      "https://snappcloud.com/docs/routing-overview\n",
      "https://snappcloud.com/docs/accessing-loadbalancer-external-ips-from-non-cloud-vm-baremetal\n"
     ]
    }
   ],
   "source": [
    "result = rag_chain(\"What IP addresses does snappcloud use for outgoing traffic?\")\n",
    "print(result)"
   ]
  },
  {
   "cell_type": "markdown",
   "id": "2a7ea21d-2a51-4d96-b236-fd841b14ca8b",
   "metadata": {},
   "source": [
    "## Visualization"
   ]
  },
  {
   "cell_type": "code",
   "execution_count": 76,
   "id": "1ab00857-ff04-4428-805a-b3d472eb3121",
   "metadata": {},
   "outputs": [
    {
     "name": "stdout",
     "output_type": "stream",
     "text": [
      "473\n",
      "473\n"
     ]
    }
   ],
   "source": [
    "import chromadb\n",
    "dbclient = chromadb.PersistentClient(path='./chroma')\n",
    "col = dbclient.get_collection('snappcloud')\n",
    "print(col.count())\n",
    "\n",
    "all_embeddings = col.get(include=['embeddings'])['embeddings']\n",
    "print(len(all_embeddings))"
   ]
  },
  {
   "cell_type": "code",
   "execution_count": 68,
   "id": "c9cb1ea8-0830-4c13-9efa-a1ca23aa5f7f",
   "metadata": {},
   "outputs": [
    {
     "name": "stderr",
     "output_type": "stream",
     "text": [
      "huggingface/tokenizers: The current process just got forked, after parallelism has already been used. Disabling parallelism to avoid deadlocks...\n",
      "To disable this warning, you can either:\n",
      "\t- Avoid using `tokenizers` before the fork if possible\n",
      "\t- Explicitly set the environment variable TOKENIZERS_PARALLELISM=(true | false)\n"
     ]
    },
    {
     "name": "stdout",
     "output_type": "stream",
     "text": [
      "Note: you may need to restart the kernel to use updated packages.\n"
     ]
    }
   ],
   "source": [
    "pip install --quiet umap-learn matplotlib"
   ]
  },
  {
   "cell_type": "code",
   "execution_count": 63,
   "id": "9b9ac569-11f3-450e-b606-34ced66f7e63",
   "metadata": {},
   "outputs": [
    {
     "name": "stderr",
     "output_type": "stream",
     "text": [
      "/Users/qasim/miniconda3/lib/python3.11/site-packages/umap/umap_.py:1945: UserWarning: n_jobs value 1 overridden to 1 by setting random_state. Use no seed for parallelism.\n",
      "  warn(f\"n_jobs value {self.n_jobs} overridden to 1 by setting random_state. Use no seed for parallelism.\")\n",
      "OMP: Info #276: omp_set_nested routine deprecated, please use omp_set_max_active_levels instead.\n"
     ]
    }
   ],
   "source": [
    "import umap.umap_ as umap\n",
    "import numpy as np\n",
    "from tqdm import tqdm\n",
    "\n",
    "reducer = umap.UMAP(random_state=0,transform_seed=0)\n",
    "umap_transform = reducer.fit(all_embeddings)"
   ]
  },
  {
   "cell_type": "code",
   "execution_count": 64,
   "id": "c7c58716-7cde-4b7a-bc71-6261a75b1856",
   "metadata": {},
   "outputs": [],
   "source": [
    "def project_embeddings(embeddings, umap_transform):\n",
    "    \"\"\"project embeddings into a 2d space\"\"\"\n",
    "    umap_embeddings = np.empty((len(embeddings),2))\n",
    "    for i,embedding in enumerate(tqdm(embeddings)):\n",
    "        umap_embeddings[i] = umap_transform.transform([embedding])\n",
    "    return umap_embeddings\n"
   ]
  },
  {
   "cell_type": "code",
   "execution_count": 65,
   "id": "02d72752-d2a8-45ce-9fb8-50c11bfc356e",
   "metadata": {},
   "outputs": [
    {
     "name": "stderr",
     "output_type": "stream",
     "text": [
      "100%|█████████████████████████████████████████████████████████████████████████████████████████████████████████████████████████████████████████████████████████████████████████| 473/473 [02:21<00:00,  3.34it/s]\n"
     ]
    }
   ],
   "source": [
    "projected_all_embeddings = project_embeddings(all_embeddings,umap_transform)"
   ]
  },
  {
   "cell_type": "code",
   "execution_count": 71,
   "id": "ccfed807-f3ca-4da0-afe8-1f6035cab40b",
   "metadata": {},
   "outputs": [
    {
     "data": {
      "text/plain": [
       "(8.265359687805176, 16.55413646697998, 4.395151805877686, 12.469065952301026)"
      ]
     },
     "execution_count": 71,
     "metadata": {},
     "output_type": "execute_result"
    },
    {
     "data": {
      "image/png": "[encoded data removed]",
      "text/plain": [
       "<Figure size 640x480 with 1 Axes>"
      ]
     },
     "metadata": {},
     "output_type": "display_data"
    }
   ],
   "source": [
    "import matplotlib.pyplot as plt\n",
    "\n",
    "plt.figure()\n",
    "plt.scatter(projected_all_embeddings[:,0],projected_all_embeddings[:,1], s=10)\n",
    "\n",
    "plt.gca().set_aspect('equal','datalim')\n",
    "plt.title('Projected embeddings')\n",
    "plt.axis('off')"
   ]
  },
  {
   "cell_type": "markdown",
   "id": "167bd31e-7a77-49f8-9e88-bff235102bbd",
   "metadata": {},
   "source": [
    "All right, now let's rerun a query and see where it lands in the embedding space."
   ]
  },
  {
   "cell_type": "code",
   "execution_count": 70,
   "id": "609d99f1-a931-477a-86de-08f506973312",
   "metadata": {},
   "outputs": [
    {
     "name": "stderr",
     "output_type": "stream",
     "text": [
      "OllamaEmbeddings: 100%|███████████████████████████████████████████████████████████████████████████████████████████████████████████████████████████████████████████████████████████| 1/1 [00:00<00:00,  2.23it/s]\n"
     ]
    }
   ],
   "source": [
    "query = \"What are the external IPs for snappcloud that i need to whitelist?\"\n",
    "#print(token_splitter.count_tokens(query))\n",
    "query_embedding = embeddings.embed_query(query)\n",
    "results = col.query(query_embeddings = qembed, n_results=5,include=['documents','embeddings'])\n",
    "result_embeddings = results['embeddings'][0]"
   ]
  },
  {
   "cell_type": "code",
   "execution_count": 73,
   "id": "e191994d-ff67-480a-b408-341667acf183",
   "metadata": {},
   "outputs": [
    {
     "name": "stderr",
     "output_type": "stream",
     "text": [
      "100%|█████████████████████████████████████████████████████████████████████████████████████████████████████████████████████████████████████████████████████████████████████████████| 1/1 [00:00<00:00,  2.13it/s]\n",
      "100%|█████████████████████████████████████████████████████████████████████████████████████████████████████████████████████████████████████████████████████████████████████████████| 5/5 [00:01<00:00,  2.93it/s]\n"
     ]
    }
   ],
   "source": [
    "projected_query_embeddings = project_embeddings([query_embedding],umap_transform)\n",
    "projected_result_embeddings = project_embeddings(result_embeddings,umap_transform)"
   ]
  },
  {
   "cell_type": "code",
   "execution_count": 74,
   "id": "e65bc561-2fcb-44f3-a4c2-959aedd839c0",
   "metadata": {},
   "outputs": [
    {
     "data": {
      "text/plain": [
       "(8.265359687805176, 16.55413646697998, 4.395151805877686, 12.469065952301026)"
      ]
     },
     "execution_count": 74,
     "metadata": {},
     "output_type": "execute_result"
    },
    {
     "data": {
      "image/png": "[encoded data removed]",
      "text/plain": [
       "<Figure size 640x480 with 1 Axes>"
      ]
     },
     "metadata": {},
     "output_type": "display_data"
    }
   ],
   "source": [
    "import matplotlib.pyplot as plt\n",
    "\n",
    "plt.figure()\n",
    "plt.scatter(projected_all_embeddings[:,0],projected_all_embeddings[:,1], s=10)\n",
    "plt.scatter(projected_query_embeddings[:,0],projected_query_embeddings[:,1], s=150,marker='X', color='r')\n",
    "plt.scatter(projected_result_embeddings[:,0],projected_result_embeddings[:,1], s=100, facecolors='none',edgecolors='g')\n",
    "\n",
    "plt.gca().set_aspect('equal','datalim')\n",
    "plt.title('Retrievals')\n",
    "plt.axis('off')"
   ]
  },
  {
   "cell_type": "code",
   "execution_count": null,
   "id": "1ba1be13-19df-48da-9d78-68f6b2060ab7",
   "metadata": {},
   "outputs": [],
   "source": []
  }
 ],
 "metadata": {
  "kernelspec": {
   "display_name": "Python 3 (ipykernel)",
   "language": "python",
   "name": "python3"
  },
  "language_info": {
   "codemirror_mode": {
    "name": "ipython",
    "version": 3
   },
   "file_extension": ".py",
   "mimetype": "text/x-python",
   "name": "python",
   "nbconvert_exporter": "python",
   "pygments_lexer": "ipython3",
   "version": "3.11.8"
  }
 },
 "nbformat": 4,
 "nbformat_minor": 5
}
