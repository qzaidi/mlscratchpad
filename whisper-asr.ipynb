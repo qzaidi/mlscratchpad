{
 "cells": [
  {
   "cell_type": "markdown",
   "id": "d050b137-5295-41ad-93b3-a98fa8a9c78b",
   "metadata": {},
   "source": [
    "## Whisper Test\n",
    "\n",
    "Based on the notebook here - https://huggingface.co/spaces/hf-audio/whisper-large-v3/blob/main/whisper_notebook.ipynb"
   ]
  },
  {
   "cell_type": "code",
   "execution_count": 5,
   "id": "feb4da11-2417-47cc-8d90-d5e328ffc33e",
   "metadata": {
    "scrolled": true
   },
   "outputs": [
    {
     "name": "stdout",
     "output_type": "stream",
     "text": [
      "Collecting git+https://github.com/huggingface/transformers\n",
      "  Cloning https://github.com/huggingface/transformers to /tmp/pip-req-build-7anos_es\n",
      "  Running command git clone --filter=blob:none --quiet https://github.com/huggingface/transformers /tmp/pip-req-build-7anos_es\n",
      "  Resolved https://github.com/huggingface/transformers to commit 4b3eb19fa7f359d25f62ca9108479f71de912ebc\n",
      "  Installing build dependencies ... \u001b[?25ldone\n",
      "\u001b[?25h  Getting requirements to build wheel ... \u001b[?25ldone\n",
      "\u001b[?25h  Preparing metadata (pyproject.toml) ... \u001b[?25ldone\n",
      "\u001b[?25hRequirement already satisfied: gradio in /home/qasim/anaconda3/lib/python3.11/site-packages (4.31.2)\n",
      "Collecting ffmpeg\n",
      "  Downloading ffmpeg-1.4.tar.gz (5.1 kB)\n",
      "  Preparing metadata (setup.py) ... \u001b[?25ldone\n",
      "\u001b[?25hRequirement already satisfied: filelock in /home/qasim/anaconda3/lib/python3.11/site-packages (from transformers==4.41.0.dev0) (3.13.1)\n",
      "Requirement already satisfied: huggingface-hub<1.0,>=0.23.0 in /home/qasim/anaconda3/lib/python3.11/site-packages (from transformers==4.41.0.dev0) (0.23.0)\n",
      "Requirement already satisfied: numpy>=1.17 in /home/qasim/anaconda3/lib/python3.11/site-packages (from transformers==4.41.0.dev0) (1.26.4)\n",
      "Requirement already satisfied: packaging>=20.0 in /home/qasim/anaconda3/lib/python3.11/site-packages (from transformers==4.41.0.dev0) (23.2)\n",
      "Requirement already satisfied: pyyaml>=5.1 in /home/qasim/anaconda3/lib/python3.11/site-packages (from transformers==4.41.0.dev0) (6.0.1)\n",
      "Requirement already satisfied: regex!=2019.12.17 in /home/qasim/anaconda3/lib/python3.11/site-packages (from transformers==4.41.0.dev0) (2023.10.3)\n",
      "Requirement already satisfied: requests in /home/qasim/anaconda3/lib/python3.11/site-packages (from transformers==4.41.0.dev0) (2.31.0)\n",
      "Requirement already satisfied: tokenizers<0.20,>=0.19 in /home/qasim/anaconda3/lib/python3.11/site-packages (from transformers==4.41.0.dev0) (0.19.1)\n",
      "Requirement already satisfied: safetensors>=0.4.1 in /home/qasim/anaconda3/lib/python3.11/site-packages (from transformers==4.41.0.dev0) (0.4.3)\n",
      "Requirement already satisfied: tqdm>=4.27 in /home/qasim/anaconda3/lib/python3.11/site-packages (from transformers==4.41.0.dev0) (4.65.0)\n",
      "Requirement already satisfied: aiofiles<24.0,>=22.0 in /home/qasim/anaconda3/lib/python3.11/site-packages (from gradio) (23.2.1)\n",
      "Requirement already satisfied: altair<6.0,>=4.2.0 in /home/qasim/anaconda3/lib/python3.11/site-packages (from gradio) (5.0.1)\n",
      "Requirement already satisfied: fastapi in /home/qasim/anaconda3/lib/python3.11/site-packages (from gradio) (0.111.0)\n",
      "Requirement already satisfied: ffmpy in /home/qasim/anaconda3/lib/python3.11/site-packages (from gradio) (0.3.2)\n",
      "Requirement already satisfied: gradio-client==0.16.3 in /home/qasim/anaconda3/lib/python3.11/site-packages (from gradio) (0.16.3)\n",
      "Requirement already satisfied: httpx>=0.24.1 in /home/qasim/anaconda3/lib/python3.11/site-packages (from gradio) (0.27.0)\n",
      "Requirement already satisfied: importlib-resources<7.0,>=1.3 in /home/qasim/anaconda3/lib/python3.11/site-packages (from gradio) (6.4.0)\n",
      "Requirement already satisfied: jinja2<4.0 in /home/qasim/anaconda3/lib/python3.11/site-packages (from gradio) (3.1.3)\n",
      "Requirement already satisfied: markupsafe~=2.0 in /home/qasim/anaconda3/lib/python3.11/site-packages (from gradio) (2.1.3)\n",
      "Requirement already satisfied: matplotlib~=3.0 in /home/qasim/anaconda3/lib/python3.11/site-packages (from gradio) (3.8.0)\n",
      "Requirement already satisfied: orjson~=3.0 in /home/qasim/anaconda3/lib/python3.11/site-packages (from gradio) (3.10.3)\n",
      "Requirement already satisfied: pandas<3.0,>=1.0 in /home/qasim/anaconda3/lib/python3.11/site-packages (from gradio) (2.1.4)\n",
      "Requirement already satisfied: pillow<11.0,>=8.0 in /home/qasim/anaconda3/lib/python3.11/site-packages (from gradio) (10.2.0)\n",
      "Requirement already satisfied: pydantic>=2.0 in /home/qasim/anaconda3/lib/python3.11/site-packages (from gradio) (2.7.1)\n",
      "Requirement already satisfied: pydub in /home/qasim/anaconda3/lib/python3.11/site-packages (from gradio) (0.25.1)\n",
      "Requirement already satisfied: python-multipart>=0.0.9 in /home/qasim/anaconda3/lib/python3.11/site-packages (from gradio) (0.0.9)\n",
      "Requirement already satisfied: ruff>=0.2.2 in /home/qasim/anaconda3/lib/python3.11/site-packages (from gradio) (0.4.4)\n",
      "Requirement already satisfied: semantic-version~=2.0 in /home/qasim/anaconda3/lib/python3.11/site-packages (from gradio) (2.10.0)\n",
      "Requirement already satisfied: tomlkit==0.12.0 in /home/qasim/anaconda3/lib/python3.11/site-packages (from gradio) (0.12.0)\n",
      "Requirement already satisfied: typer<1.0,>=0.12 in /home/qasim/anaconda3/lib/python3.11/site-packages (from gradio) (0.12.3)\n",
      "Requirement already satisfied: typing-extensions~=4.0 in /home/qasim/anaconda3/lib/python3.11/site-packages (from gradio) (4.9.0)\n",
      "Requirement already satisfied: urllib3~=2.0 in /home/qasim/anaconda3/lib/python3.11/site-packages (from gradio) (2.0.7)\n",
      "Requirement already satisfied: uvicorn>=0.14.0 in /home/qasim/anaconda3/lib/python3.11/site-packages (from gradio) (0.29.0)\n",
      "Requirement already satisfied: fsspec in /home/qasim/anaconda3/lib/python3.11/site-packages (from gradio-client==0.16.3->gradio) (2023.10.0)\n",
      "Requirement already satisfied: websockets<12.0,>=10.0 in /home/qasim/anaconda3/lib/python3.11/site-packages (from gradio-client==0.16.3->gradio) (11.0.3)\n",
      "Requirement already satisfied: jsonschema>=3.0 in /home/qasim/anaconda3/lib/python3.11/site-packages (from altair<6.0,>=4.2.0->gradio) (4.19.2)\n",
      "Requirement already satisfied: toolz in /home/qasim/anaconda3/lib/python3.11/site-packages (from altair<6.0,>=4.2.0->gradio) (0.12.0)\n",
      "Requirement already satisfied: anyio in /home/qasim/anaconda3/lib/python3.11/site-packages (from httpx>=0.24.1->gradio) (3.7.1)\n",
      "Requirement already satisfied: certifi in /home/qasim/anaconda3/lib/python3.11/site-packages (from httpx>=0.24.1->gradio) (2024.2.2)\n",
      "Requirement already satisfied: httpcore==1.* in /home/qasim/anaconda3/lib/python3.11/site-packages (from httpx>=0.24.1->gradio) (1.0.5)\n",
      "Requirement already satisfied: idna in /home/qasim/anaconda3/lib/python3.11/site-packages (from httpx>=0.24.1->gradio) (3.4)\n",
      "Requirement already satisfied: sniffio in /home/qasim/anaconda3/lib/python3.11/site-packages (from httpx>=0.24.1->gradio) (1.3.0)\n",
      "Requirement already satisfied: h11<0.15,>=0.13 in /home/qasim/anaconda3/lib/python3.11/site-packages (from httpcore==1.*->httpx>=0.24.1->gradio) (0.14.0)\n",
      "Requirement already satisfied: contourpy>=1.0.1 in /home/qasim/anaconda3/lib/python3.11/site-packages (from matplotlib~=3.0->gradio) (1.2.0)\n",
      "Requirement already satisfied: cycler>=0.10 in /home/qasim/anaconda3/lib/python3.11/site-packages (from matplotlib~=3.0->gradio) (0.11.0)\n",
      "Requirement already satisfied: fonttools>=4.22.0 in /home/qasim/anaconda3/lib/python3.11/site-packages (from matplotlib~=3.0->gradio) (4.25.0)\n",
      "Requirement already satisfied: kiwisolver>=1.0.1 in /home/qasim/anaconda3/lib/python3.11/site-packages (from matplotlib~=3.0->gradio) (1.4.4)\n",
      "Requirement already satisfied: pyparsing>=2.3.1 in /home/qasim/anaconda3/lib/python3.11/site-packages (from matplotlib~=3.0->gradio) (3.0.9)\n",
      "Requirement already satisfied: python-dateutil>=2.7 in /home/qasim/anaconda3/lib/python3.11/site-packages (from matplotlib~=3.0->gradio) (2.8.2)\n",
      "Requirement already satisfied: pytz>=2020.1 in /home/qasim/anaconda3/lib/python3.11/site-packages (from pandas<3.0,>=1.0->gradio) (2023.3.post1)\n",
      "Requirement already satisfied: tzdata>=2022.1 in /home/qasim/anaconda3/lib/python3.11/site-packages (from pandas<3.0,>=1.0->gradio) (2023.3)\n",
      "Requirement already satisfied: annotated-types>=0.4.0 in /home/qasim/anaconda3/lib/python3.11/site-packages (from pydantic>=2.0->gradio) (0.6.0)\n",
      "Requirement already satisfied: pydantic-core==2.18.2 in /home/qasim/anaconda3/lib/python3.11/site-packages (from pydantic>=2.0->gradio) (2.18.2)\n",
      "Requirement already satisfied: click>=8.0.0 in /home/qasim/anaconda3/lib/python3.11/site-packages (from typer<1.0,>=0.12->gradio) (8.1.7)\n",
      "Requirement already satisfied: shellingham>=1.3.0 in /home/qasim/anaconda3/lib/python3.11/site-packages (from typer<1.0,>=0.12->gradio) (1.5.4)\n",
      "Requirement already satisfied: rich>=10.11.0 in /home/qasim/anaconda3/lib/python3.11/site-packages (from typer<1.0,>=0.12->gradio) (13.3.5)\n",
      "Requirement already satisfied: starlette<0.38.0,>=0.37.2 in /home/qasim/anaconda3/lib/python3.11/site-packages (from fastapi->gradio) (0.37.2)\n",
      "Requirement already satisfied: fastapi-cli>=0.0.2 in /home/qasim/anaconda3/lib/python3.11/site-packages (from fastapi->gradio) (0.0.3)\n",
      "Requirement already satisfied: ujson!=4.0.2,!=4.1.0,!=4.2.0,!=4.3.0,!=5.0.0,!=5.1.0,>=4.0.1 in /home/qasim/anaconda3/lib/python3.11/site-packages (from fastapi->gradio) (5.4.0)\n",
      "Requirement already satisfied: email_validator>=2.0.0 in /home/qasim/anaconda3/lib/python3.11/site-packages (from fastapi->gradio) (2.1.1)\n",
      "Requirement already satisfied: charset-normalizer<4,>=2 in /home/qasim/anaconda3/lib/python3.11/site-packages (from requests->transformers==4.41.0.dev0) (3.3.2)\n",
      "Requirement already satisfied: dnspython>=2.0.0 in /home/qasim/anaconda3/lib/python3.11/site-packages (from email_validator>=2.0.0->fastapi->gradio) (2.6.1)\n",
      "Requirement already satisfied: attrs>=22.2.0 in /home/qasim/anaconda3/lib/python3.11/site-packages (from jsonschema>=3.0->altair<6.0,>=4.2.0->gradio) (23.1.0)\n",
      "Requirement already satisfied: jsonschema-specifications>=2023.03.6 in /home/qasim/anaconda3/lib/python3.11/site-packages (from jsonschema>=3.0->altair<6.0,>=4.2.0->gradio) (2023.7.1)\n",
      "Requirement already satisfied: referencing>=0.28.4 in /home/qasim/anaconda3/lib/python3.11/site-packages (from jsonschema>=3.0->altair<6.0,>=4.2.0->gradio) (0.30.2)\n",
      "Requirement already satisfied: rpds-py>=0.7.1 in /home/qasim/anaconda3/lib/python3.11/site-packages (from jsonschema>=3.0->altair<6.0,>=4.2.0->gradio) (0.10.6)\n",
      "Requirement already satisfied: six>=1.5 in /home/qasim/anaconda3/lib/python3.11/site-packages (from python-dateutil>=2.7->matplotlib~=3.0->gradio) (1.16.0)\n",
      "Requirement already satisfied: markdown-it-py<3.0.0,>=2.2.0 in /home/qasim/anaconda3/lib/python3.11/site-packages (from rich>=10.11.0->typer<1.0,>=0.12->gradio) (2.2.0)\n",
      "Requirement already satisfied: pygments<3.0.0,>=2.13.0 in /home/qasim/anaconda3/lib/python3.11/site-packages (from rich>=10.11.0->typer<1.0,>=0.12->gradio) (2.15.1)\n",
      "Requirement already satisfied: httptools>=0.5.0 in /home/qasim/anaconda3/lib/python3.11/site-packages (from uvicorn[standard]>=0.12.0->fastapi->gradio) (0.6.1)\n",
      "Requirement already satisfied: python-dotenv>=0.13 in /home/qasim/anaconda3/lib/python3.11/site-packages (from uvicorn[standard]>=0.12.0->fastapi->gradio) (0.21.0)\n",
      "Requirement already satisfied: uvloop!=0.15.0,!=0.15.1,>=0.14.0 in /home/qasim/anaconda3/lib/python3.11/site-packages (from uvicorn[standard]>=0.12.0->fastapi->gradio) (0.19.0)\n",
      "Requirement already satisfied: watchfiles>=0.13 in /home/qasim/anaconda3/lib/python3.11/site-packages (from uvicorn[standard]>=0.12.0->fastapi->gradio) (0.21.0)\n",
      "Requirement already satisfied: mdurl~=0.1 in /home/qasim/anaconda3/lib/python3.11/site-packages (from markdown-it-py<3.0.0,>=2.2.0->rich>=10.11.0->typer<1.0,>=0.12->gradio) (0.1.0)\n",
      "Building wheels for collected packages: ffmpeg\n",
      "  Building wheel for ffmpeg (setup.py) ... \u001b[?25ldone\n",
      "\u001b[?25h  Created wheel for ffmpeg: filename=ffmpeg-1.4-py3-none-any.whl size=6082 sha256=832fa3df927c2ba9ee0c682044596c92038bde67790c3569b81d88f16b86198d\n",
      "  Stored in directory: /home/qasim/.cache/pip/wheels/56/30/c5/576bdd729f3bc062d62a551be7fefd6ed2f761901568171e4e\n",
      "Successfully built ffmpeg\n",
      "Installing collected packages: ffmpeg\n",
      "Successfully installed ffmpeg-1.4\n"
     ]
    }
   ],
   "source": [
    "!pip install git+https://github.com/huggingface/transformers gradio ffmpeg"
   ]
  },
  {
   "cell_type": "markdown",
   "id": "a7f7ccad-1a67-4db4-bd14-34137e00e5f3",
   "metadata": {},
   "source": [
    "This is going to download and store the model locally. On linux, this location is ~/.cache/huggingface/transformers"
   ]
  },
  {
   "cell_type": "code",
   "execution_count": 6,
   "id": "23778846-50b5-4b8a-9d95-81b35b1b4eee",
   "metadata": {},
   "outputs": [
    {
     "name": "stderr",
     "output_type": "stream",
     "text": [
      "Special tokens have been added in the vocabulary, make sure the associated word embeddings are fine-tuned or trained.\n"
     ]
    }
   ],
   "source": [
    "import torch\n",
    "from transformers import pipeline\n",
    "\n",
    "pipe = pipeline(\"automatic-speech-recognition\",\n",
    "               \"openai/whisper-large-v3\",\n",
    "               torch_dtype=torch.float16,\n",
    "               device=\"cuda:0\")"
   ]
  },
  {
   "cell_type": "code",
   "execution_count": 9,
   "id": "176fac2e-e39e-4c5e-a3b0-de2812d26bab",
   "metadata": {},
   "outputs": [
    {
     "data": {
      "text/plain": [
       "{'text': ' دوباره زنده شده پیمبر به صورت تو علیه اکبر دوباره زنده قشن محکم بگو به صورت تو توی بزرگ عالمه ابنالحسن دوباره دوباره توی بزرگ عالمه ابنال علی اکبر علی اکبر تا این بزرگ عالمه علی دوباره زنده شده پیمبر خونندتونو کمک بدید خیلی ببینید خدا کمکت کنه به صورت تو علی اکبر این دستت حرکت کنه توی بزرگ عالم ابنال حسن ابنال حسن توی بزرگ عالم ابنال حسن ابنال حسن علی اکبر حنو جواب من ندادی دوباره شد دوباره زنده شد شده پیمبر خیلی ببینیش الله همه همه به صورت تو علی اکبر توی بزرگ آلمه علی اکبر تمام اهل حرم پریشان پیمبران روی به میدان تمام اهل حرم پریشان پیمبران روی به میدان به هر قدم که می روی قاتل جان من شوی قاتل جان من شوی دوباره زنده شده پیمبر دوباره زنده سورت تو حالا این دو دسته بیاد بلا توی بزرگ آلمه ابنال حسن توی بزرگه ابنال حسن ابنال حسن قریه اکشن قریه اکشن آقا جان شدی به شمشین چه ناموردت تند بریزد زروی مرکز به هر طرف ببینمت روی عوام بچینمت علی اکبرالا همه بیرون داخل زن و من صدای عربا به گوش آن منو مهمون کن خون مهمان موسیقی تکیه حسینیهی به وسط ایران'}"
      ]
     },
     "execution_count": 9,
     "metadata": {},
     "output_type": "execute_result"
    }
   ],
   "source": [
    "#pipe(\"https://cdn-media.huggingface.co/speech_samples/sample1.flac\")\n",
    "pipe(\"https://media.tekye.net/2023/7/5/c1c6519b-c8f8-4fed-97ac-7d98bf50e04a.mp3\")"
   ]
  },
  {
   "cell_type": "code",
   "execution_count": null,
   "id": "bf095c7e-fe55-4454-a3e9-6881b741ca47",
   "metadata": {},
   "outputs": [],
   "source": []
  }
 ],
 "metadata": {
  "kernelspec": {
   "display_name": "Python 3 (ipykernel)",
   "language": "python",
   "name": "python3"
  },
  "language_info": {
   "codemirror_mode": {
    "name": "ipython",
    "version": 3
   },
   "file_extension": ".py",
   "mimetype": "text/x-python",
   "name": "python",
   "nbconvert_exporter": "python",
   "pygments_lexer": "ipython3",
   "version": "3.11.7"
  }
 },
 "nbformat": 4,
 "nbformat_minor": 5
}
