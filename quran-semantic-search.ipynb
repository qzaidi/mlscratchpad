{
 "cells": [
  {
   "cell_type": "markdown",
   "id": "73ab436e-1cd9-49e6-b678-f66c50915676",
   "metadata": {},
   "source": [
    "# Semantic Search in Quran"
   ]
  },
  {
   "cell_type": "markdown",
   "id": "01a21b94-acab-4e5c-a05a-91086c95f2d8",
   "metadata": {},
   "source": [
    "In this notebook, we will explore embeddings and try them out against Quran, in the original text as well as translations.\n",
    "\n",
    "TODO: perhaps its more efficient to take 5 verses at a time with 1 overlap and thus create fewer embeddings. "
   ]
  },
  {
   "cell_type": "code",
   "execution_count": 23,
   "id": "c73d8b78-69f1-4fdf-ba1f-d6c399657988",
   "metadata": {},
   "outputs": [
    {
     "name": "stderr",
     "output_type": "stream",
     "text": [
      "huggingface/tokenizers: The current process just got forked, after parallelism has already been used. Disabling parallelism to avoid deadlocks...\n",
      "To disable this warning, you can either:\n",
      "\t- Avoid using `tokenizers` before the fork if possible\n",
      "\t- Explicitly set the environment variable TOKENIZERS_PARALLELISM=(true | false)\n"
     ]
    },
    {
     "name": "stdout",
     "output_type": "stream",
     "text": [
      "Note: you may need to restart the kernel to use updated packages.\n"
     ]
    }
   ],
   "source": [
    "pip install --quiet --upgrade chromadb tqdm numpy"
   ]
  },
  {
   "cell_type": "code",
   "execution_count": 6,
   "id": "6e208f77-544e-45be-b54d-b68ba0ffbd10",
   "metadata": {},
   "outputs": [],
   "source": [
    "import chromadb\n",
    "client = chromadb.PersistentClient(path='./chroma')"
   ]
  },
  {
   "cell_type": "code",
   "execution_count": 13,
   "id": "0b9d45ab-9aee-45d2-86a6-1e93a3057017",
   "metadata": {},
   "outputs": [
    {
     "name": "stderr",
     "output_type": "stream",
     "text": [
      "/home/qasim/anaconda3/lib/python3.11/site-packages/huggingface_hub/file_download.py:1132: FutureWarning: `resume_download` is deprecated and will be removed in version 1.0.0. Downloads always resume when possible. If you want to force a new download, use `force_download=True`.\n",
      "  warnings.warn(\n"
     ]
    }
   ],
   "source": [
    "from chromadb.utils.embedding_functions import SentenceTransformerEmbeddingFunction\n",
    "from tqdm import tqdm\n",
    "\n",
    "embedding_function = SentenceTransformerEmbeddingFunction()\n",
    "\n",
    "def genEmbeddings(ayats):\n",
    "    embeddings = [ embedding_function(x)[0] for x in tqdm(ayats)]\n",
    "    return embeddings"
   ]
  },
  {
   "cell_type": "code",
   "execution_count": 10,
   "id": "7881e4c6-4025-4396-af81-7fb907d570c7",
   "metadata": {},
   "outputs": [],
   "source": [
    "def getSplits(data):\n",
    "    splits = data[0].page_content.split('\\n')\n",
    "    splits = splits[0:6235]\n",
    "    ids = [ str(idx) + ':' + ':'.join(x.split('|')[0:2]) for idx,x in enumerate(splits)]\n",
    "    ayats = [ x.split('|')[2:] for x in splits]\n",
    "    return splits, ids, ayats"
   ]
  },
  {
   "cell_type": "markdown",
   "id": "65fa3be1-e2b2-4a6c-a636-00742fa6cf82",
   "metadata": {},
   "source": [
    "## Urdu\n",
    "\n",
    "We will use tanzil.net translation for Urdu"
   ]
  },
  {
   "cell_type": "code",
   "execution_count": 5,
   "id": "29f45b8e-a9ee-47a2-8350-86fe627d350d",
   "metadata": {},
   "outputs": [
    {
     "name": "stdout",
     "output_type": "stream",
     "text": [
      "1\n"
     ]
    }
   ],
   "source": [
    "from langchain.document_loaders import WebBaseLoader\n",
    "loader = WebBaseLoader(\"https://tanzil.net/trans/ur.jawadi\")\n",
    "data = loader.load()\n",
    "\n",
    "print(len(data))"
   ]
  },
  {
   "cell_type": "code",
   "execution_count": 27,
   "id": "c58b625b-cc1e-4d52-b653-4170ffcd42a3",
   "metadata": {},
   "outputs": [
    {
     "name": "stdout",
     "output_type": "stream",
     "text": [
      "6235\n"
     ]
    }
   ],
   "source": [
    "splits, ids, ayats = getSplits(data)\n",
    "print(len(ids))\n"
   ]
  },
  {
   "cell_type": "code",
   "execution_count": 17,
   "id": "166e108c-2c13-4a16-8604-4a8d30dfab98",
   "metadata": {},
   "outputs": [
    {
     "data": {
      "text/plain": [
       "6235"
      ]
     },
     "execution_count": 17,
     "metadata": {},
     "output_type": "execute_result"
    }
   ],
   "source": [
    "\n",
    "\n",
    "col = client.get_collection('quran-urdu')\n",
    "if col == None:\n",
    "    col = client.create_collection('quran-urdu',embedding_function=embedding_function)\n",
    "    embeddings = genEmbeddings(ayats)\n",
    "    col.add(ids,embeddings=embeddings)\n",
    "col.count()"
   ]
  },
  {
   "cell_type": "code",
   "execution_count": 15,
   "id": "5240d3ad-74f8-4b1e-afa9-9120b244fe22",
   "metadata": {},
   "outputs": [
    {
     "name": "stdout",
     "output_type": "stream",
     "text": [
      "عظیم اور دائمی رحمتوں والے خدا کے نام سے\n"
     ]
    },
    {
     "data": {
      "text/html": [
       "<div>\n",
       "<style scoped>\n",
       "    .dataframe tbody tr th:only-of-type {\n",
       "        vertical-align: middle;\n",
       "    }\n",
       "\n",
       "    .dataframe tbody tr th {\n",
       "        vertical-align: top;\n",
       "    }\n",
       "\n",
       "    .dataframe thead th {\n",
       "        text-align: right;\n",
       "    }\n",
       "</style>\n",
       "<table border=\"1\" class=\"dataframe\">\n",
       "  <thead>\n",
       "    <tr style=\"text-align: right;\">\n",
       "      <th></th>\n",
       "      <th>Verse</th>\n",
       "      <th>Distance</th>\n",
       "    </tr>\n",
       "  </thead>\n",
       "  <tbody>\n",
       "    <tr>\n",
       "      <th>0</th>\n",
       "      <td>1|1|عظیم اور دائمی رحمتوں والے خدا کے نام سے</td>\n",
       "      <td>0.000000</td>\n",
       "    </tr>\n",
       "    <tr>\n",
       "      <th>1</th>\n",
       "      <td>81|17|اور رات کی قسم جب ختم ہونے کو آئے</td>\n",
       "      <td>0.237556</td>\n",
       "    </tr>\n",
       "    <tr>\n",
       "      <th>2</th>\n",
       "      <td>106|4|جس نے انہیں بھوک میں سیر کیا ہے اور خوف ...</td>\n",
       "      <td>0.276885</td>\n",
       "    </tr>\n",
       "    <tr>\n",
       "      <th>3</th>\n",
       "      <td>70|34|اور جو اپنی نمازوں کا خیال رکھنے والے ہیں</td>\n",
       "      <td>0.302487</td>\n",
       "    </tr>\n",
       "    <tr>\n",
       "      <th>4</th>\n",
       "      <td>37|115|اور انہیں اور ان کی قوم کو عظیم کرب سے ...</td>\n",
       "      <td>0.313914</td>\n",
       "    </tr>\n",
       "  </tbody>\n",
       "</table>\n",
       "</div>"
      ],
      "text/plain": [
       "                                               Verse  Distance\n",
       "0       1|1|عظیم اور دائمی رحمتوں والے خدا کے نام سے  0.000000\n",
       "1            81|17|اور رات کی قسم جب ختم ہونے کو آئے  0.237556\n",
       "2  106|4|جس نے انہیں بھوک میں سیر کیا ہے اور خوف ...  0.276885\n",
       "3    70|34|اور جو اپنی نمازوں کا خیال رکھنے والے ہیں  0.302487\n",
       "4  37|115|اور انہیں اور ان کی قوم کو عظیم کرب سے ...  0.313914"
      ]
     },
     "execution_count": 15,
     "metadata": {},
     "output_type": "execute_result"
    }
   ],
   "source": [
    "import pandas as pd\n",
    "query = ayats[0]\n",
    "results = col.query(query_embeddings = embedding_function(query)[0],n_results=5)\n",
    "df = pd.DataFrame({ 'Verse': [splits[int(x.split(':')[0])] for x in results['ids'][0]], 'Distance' :[ x for x in results['distances'][0] ]})\n",
    "print(query[0])\n",
    "df.head()"
   ]
  },
  {
   "cell_type": "markdown",
   "id": "76ed8ac5-c455-44a6-8994-ab393759a41b",
   "metadata": {},
   "source": [
    "## English\n",
    "\n",
    "Now let's repeat the same excercise for MH Shakir's translation in English"
   ]
  },
  {
   "cell_type": "code",
   "execution_count": 7,
   "id": "52871816-354e-4163-944e-8d03cfff506c",
   "metadata": {},
   "outputs": [
    {
     "name": "stdout",
     "output_type": "stream",
     "text": [
      "1\n"
     ]
    }
   ],
   "source": [
    "from langchain.document_loaders import WebBaseLoader\n",
    "loader = WebBaseLoader(\"https://tanzil.net/trans/en.shakir\")\n",
    "en_data = loader.load()\n",
    "\n",
    "print(len(en_data))"
   ]
  },
  {
   "cell_type": "code",
   "execution_count": 11,
   "id": "a7a830fe-2c48-468e-84ea-e605dc29ef17",
   "metadata": {},
   "outputs": [
    {
     "name": "stdout",
     "output_type": "stream",
     "text": [
      "6235\n",
      "1|2|All praise is due to Allah, the Lord of the Worlds.\n"
     ]
    }
   ],
   "source": [
    "en_splits, en_ids, en_verses = getSplits(en_data)\n",
    "print(len(en_splits))\n",
    "print(en_splits[1])"
   ]
  },
  {
   "cell_type": "code",
   "execution_count": 14,
   "id": "1d72c056-f6df-4d04-8035-b64be96f9ad6",
   "metadata": {},
   "outputs": [
    {
     "name": "stderr",
     "output_type": "stream",
     "text": [
      "100%|███████████████████████████████████████| 6235/6235 [01:54<00:00, 54.26it/s]\n"
     ]
    },
    {
     "data": {
      "text/plain": [
       "6235"
      ]
     },
     "execution_count": 14,
     "metadata": {},
     "output_type": "execute_result"
    }
   ],
   "source": [
    "try:\n",
    "    col = client.get_collection('quran-english')\n",
    "except ValueError:\n",
    "    col = client.create_collection('quran-english',embedding_function=embedding_function)\n",
    "    embeddings = genEmbeddings(en_verses)\n",
    "    col.add(en_ids,embeddings=embeddings)\n",
    "\n",
    "col.count()"
   ]
  },
  {
   "cell_type": "code",
   "execution_count": 15,
   "id": "966ddffd-9919-4c7e-84c5-978163e318aa",
   "metadata": {},
   "outputs": [
    {
     "name": "stdout",
     "output_type": "stream",
     "text": [
      "In the name of Allah, the Beneficent, the Merciful.\n"
     ]
    },
    {
     "data": {
      "text/html": [
       "<div>\n",
       "<style scoped>\n",
       "    .dataframe tbody tr th:only-of-type {\n",
       "        vertical-align: middle;\n",
       "    }\n",
       "\n",
       "    .dataframe tbody tr th {\n",
       "        vertical-align: top;\n",
       "    }\n",
       "\n",
       "    .dataframe thead th {\n",
       "        text-align: right;\n",
       "    }\n",
       "</style>\n",
       "<table border=\"1\" class=\"dataframe\">\n",
       "  <thead>\n",
       "    <tr style=\"text-align: right;\">\n",
       "      <th></th>\n",
       "      <th>Verse</th>\n",
       "      <th>Distance</th>\n",
       "    </tr>\n",
       "  </thead>\n",
       "  <tbody>\n",
       "    <tr>\n",
       "      <th>0</th>\n",
       "      <td>1|1|In the name of Allah, the Beneficent, the ...</td>\n",
       "      <td>0.000000</td>\n",
       "    </tr>\n",
       "    <tr>\n",
       "      <th>1</th>\n",
       "      <td>41|2|A revelation from the Beneficent, the Mer...</td>\n",
       "      <td>0.270988</td>\n",
       "    </tr>\n",
       "    <tr>\n",
       "      <th>2</th>\n",
       "      <td>55|1|The Beneficent Allah,</td>\n",
       "      <td>0.340093</td>\n",
       "    </tr>\n",
       "    <tr>\n",
       "      <th>3</th>\n",
       "      <td>1|3|The Beneficent, the Merciful.</td>\n",
       "      <td>0.470140</td>\n",
       "    </tr>\n",
       "    <tr>\n",
       "      <th>4</th>\n",
       "      <td>30|5|With the help of Allah; He helps whom He ...</td>\n",
       "      <td>0.552459</td>\n",
       "    </tr>\n",
       "  </tbody>\n",
       "</table>\n",
       "</div>"
      ],
      "text/plain": [
       "                                               Verse  Distance\n",
       "0  1|1|In the name of Allah, the Beneficent, the ...  0.000000\n",
       "1  41|2|A revelation from the Beneficent, the Mer...  0.270988\n",
       "2                         55|1|The Beneficent Allah,  0.340093\n",
       "3                  1|3|The Beneficent, the Merciful.  0.470140\n",
       "4  30|5|With the help of Allah; He helps whom He ...  0.552459"
      ]
     },
     "execution_count": 15,
     "metadata": {},
     "output_type": "execute_result"
    }
   ],
   "source": [
    "import pandas as pd\n",
    "query = en_verses[0]\n",
    "results = col.query(query_embeddings = embedding_function(query)[0],n_results=5)\n",
    "df = pd.DataFrame({ 'Verse': [en_splits[int(x.split(':')[0])] for x in results['ids'][0]], 'Distance' :[ x for x in results['distances'][0] ]})\n",
    "print(query[0])\n",
    "df.head()"
   ]
  },
  {
   "cell_type": "markdown",
   "id": "056bf1e1-e356-4bba-aeed-7128cb63330c",
   "metadata": {},
   "source": [
    "As we can see -the quality of embeddings search is dependent on the language, and we get much better results in English"
   ]
  },
  {
   "cell_type": "markdown",
   "id": "f82e5c29-0222-4457-85c6-4f1a37ec320b",
   "metadata": {},
   "source": [
    "## Visualization\n",
    "\n",
    "Here we use umap to visualize how the search has been working for us"
   ]
  },
  {
   "cell_type": "code",
   "execution_count": 16,
   "id": "b522fb10-42b6-40bc-9f57-0911b8aa3633",
   "metadata": {},
   "outputs": [
    {
     "name": "stdout",
     "output_type": "stream",
     "text": [
      "6235\n"
     ]
    }
   ],
   "source": [
    "col = client.get_collection('quran-english')\n",
    "embeddings = col.get(include=['embeddings'])['embeddings']\n",
    "print(len(embeddings))"
   ]
  },
  {
   "cell_type": "code",
   "execution_count": 32,
   "id": "213fcae4-5508-4a74-a1b2-ef23bed9069f",
   "metadata": {},
   "outputs": [
    {
     "name": "stderr",
     "output_type": "stream",
     "text": [
      "huggingface/tokenizers: The current process just got forked, after parallelism has already been used. Disabling parallelism to avoid deadlocks...\n",
      "To disable this warning, you can either:\n",
      "\t- Avoid using `tokenizers` before the fork if possible\n",
      "\t- Explicitly set the environment variable TOKENIZERS_PARALLELISM=(true | false)\n"
     ]
    },
    {
     "name": "stdout",
     "output_type": "stream",
     "text": [
      "Note: you may need to restart the kernel to use updated packages.\n"
     ]
    }
   ],
   "source": [
    "pip install --quiet umap-learn"
   ]
  },
  {
   "cell_type": "code",
   "execution_count": 35,
   "id": "6958641c-2640-41fd-82d3-7a1f6a78e4e6",
   "metadata": {},
   "outputs": [
    {
     "name": "stderr",
     "output_type": "stream",
     "text": [
      "/home/qasim/anaconda3/lib/python3.11/site-packages/umap/umap_.py:1945: UserWarning: n_jobs value 1 overridden to 1 by setting random_state. Use no seed for parallelism.\n",
      "  warn(f\"n_jobs value {self.n_jobs} overridden to 1 by setting random_state. Use no seed for parallelism.\")\n"
     ]
    }
   ],
   "source": [
    "import umap.umap_ as umap\n",
    "import numpy as np\n",
    "from tqdm import tqdm\n",
    "\n",
    "reducer = umap.UMAP(random_state=0,transform_seed=0)\n",
    "umap_transform = reducer.fit(embeddings)"
   ]
  },
  {
   "cell_type": "code",
   "execution_count": 46,
   "id": "328d9179-8d2c-44be-b5c5-27b8b5d29e94",
   "metadata": {},
   "outputs": [],
   "source": [
    "def project_embeddings(embeddings, umap_transform):\n",
    "    umap_embeddings = np.empty((len(embeddings),2))\n",
    "    for i,embedding in enumerate(tqdm(embeddings)):\n",
    "        umap_embeddings[i] = umap_transform.transform([embedding])\n",
    "    return umap_embeddings\n"
   ]
  },
  {
   "cell_type": "code",
   "execution_count": 47,
   "id": "b9b8de7c-581f-40f8-9db4-bf73e1174787",
   "metadata": {},
   "outputs": [
    {
     "name": "stderr",
     "output_type": "stream",
     "text": [
      "  0%|                                                  | 0/6235 [00:00<?, ?it/s]/home/qasim/anaconda3/lib/python3.11/site-packages/scipy/sparse/_index.py:143: SparseEfficiencyWarning: Changing the sparsity structure of a csr_matrix is expensive. lil_matrix is more efficient.\n",
      "  self._set_arrayXarray(i, j, x)\n",
      "100%|█████████████████████████████████████| 6235/6235 [1:09:33<00:00,  1.49it/s]\n"
     ]
    }
   ],
   "source": [
    "projected_en_embeddings = project_embeddings(embeddings,umap_transform)"
   ]
  },
  {
   "cell_type": "code",
   "execution_count": 54,
   "id": "9064ee64-0942-4145-8303-307b58fd98ca",
   "metadata": {},
   "outputs": [
    {
     "name": "stderr",
     "output_type": "stream",
     "text": [
      "100%|█████████████████████████████████████████████| 1/1 [00:00<00:00,  1.65it/s]\n",
      "100%|█████████████████████████████████████████████| 5/5 [00:03<00:00,  1.42it/s]\n"
     ]
    }
   ],
   "source": [
    "query = en_verses[0]\n",
    "query_embeddings = embedding_function(query)[0]\n",
    "results = col.query(query_embeddings = query_embeddings, n_results=5, include=['documents','embeddings'])\n",
    "retrieved_embeddings = results['embeddings'][0]\n",
    "projected_query_embeddings = project_embeddings([query_embeddings],umap_transform)\n",
    "projected_retrieved_embeddings = project_embeddings(retrieved_embeddings,umap_transform)"
   ]
  },
  {
   "cell_type": "code",
   "execution_count": 55,
   "id": "2630cd34-68ba-41ad-a958-c0394d58aa84",
   "metadata": {},
   "outputs": [
    {
     "data": {
      "text/plain": [
       "(-10.22195258140564,\n",
       " 18.251540327072142,\n",
       " -4.504253184795379,\n",
       " 14.204211270809173)"
      ]
     },
     "execution_count": 55,
     "metadata": {},
     "output_type": "execute_result"
    },
    {
     "data": {
      "image/png": "[encoded data removed]",
      "text/plain": [
       "<Figure size 640x480 with 1 Axes>"
      ]
     },
     "metadata": {},
     "output_type": "display_data"
    }
   ],
   "source": [
    "import matplotlib.pyplot as plt\n",
    "\n",
    "plt.figure()\n",
    "plt.scatter(projected_en_embeddings[:,0],projected_en_embeddings[:,1], s=10)\n",
    "plt.scatter(projected_query_embeddings[:,0],projected_query_embeddings[:,1], s=150,marker='X',color='r')\n",
    "plt.scatter(projected_retrieved_embeddings[:,0],projected_retrieved_embeddings[:,1], s=100, facecolors='none',edgecolors='g')\n",
    "\n",
    "plt.gca().set_aspect('equal','datalim')\n",
    "plt.title('Projected embeddings')\n",
    "plt.axis('off')\n"
   ]
  },
  {
   "cell_type": "code",
   "execution_count": null,
   "id": "883f6d57-f634-4998-a6ab-d6d150666303",
   "metadata": {},
   "outputs": [],
   "source": []
  },
  {
   "cell_type": "code",
   "execution_count": null,
   "id": "513eb0cf-99aa-454f-97e1-7fb69ff0c1f3",
   "metadata": {},
   "outputs": [],
   "source": []
  }
 ],
 "metadata": {
  "kernelspec": {
   "display_name": "Python 3 (ipykernel)",
   "language": "python",
   "name": "python3"
  },
  "language_info": {
   "codemirror_mode": {
    "name": "ipython",
    "version": 3
   },
   "file_extension": ".py",
   "mimetype": "text/x-python",
   "name": "python",
   "nbconvert_exporter": "python",
   "pygments_lexer": "ipython3",
   "version": "3.11.7"
  }
 },
 "nbformat": 4,
 "nbformat_minor": 5
}
