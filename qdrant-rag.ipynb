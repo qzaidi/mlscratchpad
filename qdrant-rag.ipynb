{
 "cells": [
  {
   "cell_type": "markdown",
   "id": "ac235e78",
   "metadata": {},
   "source": [
    "Load into Qdrant and test its performance, comparing with other vector DBs"
   ]
  },
  {
   "cell_type": "code",
   "execution_count": 3,
   "id": "26cc1797",
   "metadata": {},
   "outputs": [
    {
     "name": "stdout",
     "output_type": "stream",
     "text": [
      "Requirement already satisfied: langchain in c:\\users\\qasim\\anaconda3\\lib\\site-packages (0.0.300)\n",
      "Requirement already satisfied: qdrant_client in c:\\users\\qasim\\anaconda3\\lib\\site-packages (1.9.1)\n",
      "Requirement already satisfied: PyYAML>=5.3 in c:\\users\\qasim\\anaconda3\\lib\\site-packages (from langchain) (6.0.1)\n",
      "Requirement already satisfied: SQLAlchemy<3,>=1.4 in c:\\users\\qasim\\anaconda3\\lib\\site-packages (from langchain) (2.0.25)\n",
      "Requirement already satisfied: aiohttp<4.0.0,>=3.8.3 in c:\\users\\qasim\\anaconda3\\lib\\site-packages (from langchain) (3.9.3)\n",
      "Requirement already satisfied: anyio<4.0 in c:\\users\\qasim\\anaconda3\\lib\\site-packages (from langchain) (3.7.1)\n",
      "Requirement already satisfied: dataclasses-json<0.7,>=0.5.7 in c:\\users\\qasim\\anaconda3\\lib\\site-packages (from langchain) (0.6.5)\n",
      "Requirement already satisfied: jsonpatch<2.0,>=1.33 in c:\\users\\qasim\\anaconda3\\lib\\site-packages (from langchain) (1.33)\n",
      "Requirement already satisfied: langsmith<0.1.0,>=0.0.38 in c:\\users\\qasim\\anaconda3\\lib\\site-packages (from langchain) (0.0.87)\n",
      "Requirement already satisfied: numexpr<3.0.0,>=2.8.4 in c:\\users\\qasim\\anaconda3\\lib\\site-packages (from langchain) (2.8.7)\n",
      "Requirement already satisfied: numpy<2,>=1 in c:\\users\\qasim\\anaconda3\\lib\\site-packages (from langchain) (1.26.4)\n",
      "Requirement already satisfied: pydantic<3,>=1 in c:\\users\\qasim\\anaconda3\\lib\\site-packages (from langchain) (1.10.12)\n",
      "Requirement already satisfied: requests<3,>=2 in c:\\users\\qasim\\anaconda3\\lib\\site-packages (from langchain) (2.31.0)\n",
      "Requirement already satisfied: tenacity<9.0.0,>=8.1.0 in c:\\users\\qasim\\anaconda3\\lib\\site-packages (from langchain) (8.2.2)\n",
      "Requirement already satisfied: grpcio>=1.41.0 in c:\\users\\qasim\\anaconda3\\lib\\site-packages (from qdrant_client) (1.63.0)\n",
      "Requirement already satisfied: grpcio-tools>=1.41.0 in c:\\users\\qasim\\anaconda3\\lib\\site-packages (from qdrant_client) (1.63.0)\n",
      "Requirement already satisfied: httpx>=0.20.0 in c:\\users\\qasim\\anaconda3\\lib\\site-packages (from httpx[http2]>=0.20.0->qdrant_client) (0.27.0)\n",
      "Requirement already satisfied: portalocker<3.0.0,>=2.7.0 in c:\\users\\qasim\\anaconda3\\lib\\site-packages (from qdrant_client) (2.8.2)\n",
      "Requirement already satisfied: urllib3<3,>=1.26.14 in c:\\users\\qasim\\anaconda3\\lib\\site-packages (from qdrant_client) (2.0.7)\n",
      "Requirement already satisfied: aiosignal>=1.1.2 in c:\\users\\qasim\\anaconda3\\lib\\site-packages (from aiohttp<4.0.0,>=3.8.3->langchain) (1.2.0)\n",
      "Requirement already satisfied: attrs>=17.3.0 in c:\\users\\qasim\\anaconda3\\lib\\site-packages (from aiohttp<4.0.0,>=3.8.3->langchain) (23.1.0)\n",
      "Requirement already satisfied: frozenlist>=1.1.1 in c:\\users\\qasim\\anaconda3\\lib\\site-packages (from aiohttp<4.0.0,>=3.8.3->langchain) (1.4.0)\n",
      "Requirement already satisfied: multidict<7.0,>=4.5 in c:\\users\\qasim\\anaconda3\\lib\\site-packages (from aiohttp<4.0.0,>=3.8.3->langchain) (6.0.4)\n",
      "Requirement already satisfied: yarl<2.0,>=1.0 in c:\\users\\qasim\\anaconda3\\lib\\site-packages (from aiohttp<4.0.0,>=3.8.3->langchain) (1.9.3)\n",
      "Requirement already satisfied: idna>=2.8 in c:\\users\\qasim\\anaconda3\\lib\\site-packages (from anyio<4.0->langchain) (3.4)\n",
      "Requirement already satisfied: sniffio>=1.1 in c:\\users\\qasim\\anaconda3\\lib\\site-packages (from anyio<4.0->langchain) (1.3.0)\n",
      "Requirement already satisfied: marshmallow<4.0.0,>=3.18.0 in c:\\users\\qasim\\anaconda3\\lib\\site-packages (from dataclasses-json<0.7,>=0.5.7->langchain) (3.21.2)\n",
      "Requirement already satisfied: typing-inspect<1,>=0.4.0 in c:\\users\\qasim\\anaconda3\\lib\\site-packages (from dataclasses-json<0.7,>=0.5.7->langchain) (0.9.0)\n",
      "Requirement already satisfied: protobuf<6.0dev,>=5.26.1 in c:\\users\\qasim\\anaconda3\\lib\\site-packages (from grpcio-tools>=1.41.0->qdrant_client) (5.26.1)\n",
      "Requirement already satisfied: setuptools in c:\\users\\qasim\\anaconda3\\lib\\site-packages (from grpcio-tools>=1.41.0->qdrant_client) (68.2.2)\n",
      "Requirement already satisfied: certifi in c:\\users\\qasim\\anaconda3\\lib\\site-packages (from httpx>=0.20.0->httpx[http2]>=0.20.0->qdrant_client) (2024.2.2)\n",
      "Requirement already satisfied: httpcore==1.* in c:\\users\\qasim\\anaconda3\\lib\\site-packages (from httpx>=0.20.0->httpx[http2]>=0.20.0->qdrant_client) (1.0.2)\n",
      "Requirement already satisfied: h11<0.15,>=0.13 in c:\\users\\qasim\\anaconda3\\lib\\site-packages (from httpcore==1.*->httpx>=0.20.0->httpx[http2]>=0.20.0->qdrant_client) (0.14.0)\n",
      "Requirement already satisfied: h2<5,>=3 in c:\\users\\qasim\\anaconda3\\lib\\site-packages (from httpx[http2]>=0.20.0->qdrant_client) (4.1.0)\n",
      "Requirement already satisfied: jsonpointer>=1.9 in c:\\users\\qasim\\anaconda3\\lib\\site-packages (from jsonpatch<2.0,>=1.33->langchain) (2.1)\n",
      "Requirement already satisfied: pywin32>=226 in c:\\users\\qasim\\anaconda3\\lib\\site-packages (from portalocker<3.0.0,>=2.7.0->qdrant_client) (305.1)\n",
      "Requirement already satisfied: typing-extensions>=4.2.0 in c:\\users\\qasim\\anaconda3\\lib\\site-packages (from pydantic<3,>=1->langchain) (4.9.0)\n",
      "Requirement already satisfied: charset-normalizer<4,>=2 in c:\\users\\qasim\\anaconda3\\lib\\site-packages (from requests<3,>=2->langchain) (2.0.4)\n",
      "Requirement already satisfied: greenlet!=0.4.17 in c:\\users\\qasim\\anaconda3\\lib\\site-packages (from SQLAlchemy<3,>=1.4->langchain) (3.0.1)\n",
      "Requirement already satisfied: hyperframe<7,>=6.0 in c:\\users\\qasim\\anaconda3\\lib\\site-packages (from h2<5,>=3->httpx[http2]>=0.20.0->qdrant_client) (6.0.1)\n",
      "Requirement already satisfied: hpack<5,>=4.0 in c:\\users\\qasim\\anaconda3\\lib\\site-packages (from h2<5,>=3->httpx[http2]>=0.20.0->qdrant_client) (4.0.0)\n",
      "Requirement already satisfied: packaging>=17.0 in c:\\users\\qasim\\anaconda3\\lib\\site-packages (from marshmallow<4.0.0,>=3.18.0->dataclasses-json<0.7,>=0.5.7->langchain) (23.2)\n",
      "Requirement already satisfied: mypy-extensions>=0.3.0 in c:\\users\\qasim\\anaconda3\\lib\\site-packages (from typing-inspect<1,>=0.4.0->dataclasses-json<0.7,>=0.5.7->langchain) (1.0.0)\n",
      "Note: you may need to restart the kernel to use updated packages.\n"
     ]
    }
   ],
   "source": [
    "pip install langchain qdrant_client ollama"
   ]
  },
  {
   "cell_type": "code",
   "execution_count": 14,
   "id": "56603228",
   "metadata": {},
   "outputs": [],
   "source": [
    "from langchain.vectorstores import Qdrant\n",
    "import ollama\n",
    "from langchain.document_loaders import WebBaseLoader\n",
    "from langchain.text_splitter import RecursiveCharacterTextSplitter\n",
    "from langchain.embeddings import OllamaEmbeddings\n",
    "\n",
    "embeddingModel = 'mxbai-embed-large'"
   ]
  },
  {
   "cell_type": "code",
   "execution_count": 16,
   "id": "681c5587",
   "metadata": {},
   "outputs": [
    {
     "name": "stdout",
     "output_type": "stream",
     "text": [
      "472\n",
      "CPU times: total: 156 ms\n",
      "Wall time: 1.54 s\n"
     ]
    }
   ],
   "source": [
    "%%time\n",
    "loader = WebBaseLoader(\"https://tanzil.net/trans/ur.jawadi\")\n",
    "data = loader.load()\n",
    "text_splitter = RecursiveCharacterTextSplitter(chunk_size=2000, chunk_overlap=100)\n",
    "splits = text_splitter.split_documents(data)\n",
    "print(len(splits))"
   ]
  },
  {
   "cell_type": "code",
   "execution_count": 13,
   "id": "82f1d0eb",
   "metadata": {},
   "outputs": [
    {
     "name": "stdout",
     "output_type": "stream",
     "text": [
      "CPU times: total: 656 ms\n",
      "Wall time: 16min 54s\n"
     ]
    }
   ],
   "source": [
    "%%time\n",
    "embeddings = OllamaEmbeddings(model=embeddingModel)\n",
    "vectorstore = Qdrant.from_documents(documents=splits, embedding=embeddings,path='./quadrant',collection_name='quran.ur.jawadi')"
   ]
  },
  {
   "cell_type": "code",
   "execution_count": 15,
   "id": "f501e0fd",
   "metadata": {},
   "outputs": [
    {
     "name": "stdout",
     "output_type": "stream",
     "text": [
      "[Document(page_content='1|1|عظیم اور دائمی رحمتوں والے خدا کے نام سے\\n1|2|ساری تعریف اللہ کے لئے ہے جو عالمین کا پالنے والا ہے\\n1|3|وہ عظیم اوردائمی رحمتوں والا ہے\\n1|4|روزِقیامت کا مالک و مختار ہے\\n1|5|پروردگار! ہم تیری ہی عبادت کرتے ہیں ا ور تجھی سے مدد چاہتے ہیں\\n1|6|ہمیں سیدھے راستہ کی ہدایت فرماتا رہ\\n1|7|جو اُن لوگوں کا راستہ ہے جن پر تو نے نعمتیں نازل کی ہیں ان کا راستہ نہیں جن پر غضب نازل ہوا ہے یا جو بہکے ہوئے ہیں\\n2|1|الۤمۤ\\n2|2|یہ وہ کتاب ہے جس میں کسی طرح کے شک و شبہ کی گنجائش نہیں ہے. یہ صاحبانِ تقویٰ اور پرہیزگار لوگوں کے لئے مجسم ہدایت ہے\\n2|3|جو غیب پر ایمان رکھتے ہیں پابندی سے پورے اہتمام کے ساتھ نماز ادا کرتے ہیں اور جو کچھ ہم نے رزق دیا ہے اس میں سے ہماری راہ میں خرچ بھی کرتے ہیں\\n2|4|وہ ان تمام باتوں پر بھی ایمان رکھتے ہیں جنہیں (اے رسول) ہم نے آپ پر نازل کیا ہے اور جو آپ سے پہلے نازل کی گئی ہیں اور آخرت پر بھی یقین رکھتے ہیں\\n2|5|یہی وہ لوگ ہیں جو اپنے پروردگار کی طرف سے ہدایت کے حامل ہیں اور فلاح یافتہ اور کامیاب ہیں\\n2|6|اے رسول! جن لوگوں نے کفر اختیار کرلیا ہے ان کے لئے سب برابر ہے. آپ انہیں ڈرائیں یا نہ ڈرائیں یہ ایمان لانے والے نہیں ہیں\\n2|7|خدا نے ان کے دلوں اور کانوں پر گویا مہر لگا دی ہے کہ نہ کچھ سنتے ہیںاور نہ سمجھتے ہیں اور آنکھوں پر بھی پردے پڑ گئے ہیں. ان کے واسطےآخرت میں عذابِ عظیم ہے\\n2|8|کچھ لوگ ایسے بھی ہیں جو یہ کہتے ہیں کہ ہم خدا اور آخرت پر ایمان لائے ہیں حالانکہ وہ صاحب ایمان نہیں ہیں\\n2|9|یہ خدا اور صاحبان ایمان کو دھوکہ دینا چاہتے ہیں حالانکہ اپنے ہی کو دھوکہ دے رہے ہیں اور سمجھتے بھی نہیں ہیں\\n2|10|ان کے دلوں میں بیماری ہے اور خدا نے نفاق کی بنا پر اسے اور بھی بڑھا دیا ہے. اب اس جھوٹ کے نتیجہ میں انہیں درد ناک عذاب ملے گا\\n2|11|جب ان سے کہا جاتا ہے کہ زمین میں فساد نہ برپا کرو تو کہتے ہیں کہ ہم تو صرف اصلاح کرنے والے ہیں\\n2|12|حالانکہ یہ سب مفسد ہیں اور اپنے فسادکو سمجھتے بھی نہیں ہیں\\n2|13|جب ان سے کہا جاتا ہے کہ دوسرے مومنین کی طرح ایمان لے آؤ تو کہتے ہیں کہ ہم بے وقوفوں کی طرح ایمان اختیار کرلیں حالانکہ اصل میں یہی بے وقوف ہیں اور انہیں اس کی واقفیت بھی نہیں ہے', metadata={'source': 'https://tanzil.net/trans/ur.jawadi'}), Document(page_content='3|50|اور میں اپنے پہلے کی کتاب توریت کی تصدیق کرنے والا ہوں اور میں بعض ان چیزوں کو حلال قرار دوں گا جو تم پر حرام تھیں اور تمھارے پروردگار کی طرف سے نشانی لے کر آیا ہوں لہذا اس سے ڈرو اور میری اطاعت کرو\\n3|51|اللہ میرا اور تمہارا دونوں کا رب ہے لہذا اس کی عبادت کرو کہ یہی صراظُ مستقیم ہے\\n3|52|پھر جب عیسٰی علیھ السّلام نے قوم سے کفر کا احساس کیا تو فرمایا کہ کون ہے جو خدا کی راہ میں میرا مددگار ہو...حواریین نے کہا کہ ہم اللہ کے مددگار ہیں- اس پر ایمان لائے ہیں اور آپ گواہ رہیں کہ ہم مسلمان ہیں\\n3|53|پروردگار ہم ان تمام باتوں پر ایمان لے آئے جو تو نے نازل کی ہیں اور تیرے رسول کا اتباع کیا لہذا ہمارا نام اپنے رسول کے گواہوں میں درج کرلے\\n3|54|اور یہودیوں نے عیسٰی علیھ السّلام سے مکاری کی تو اللہ نے بھی جوابی تدبیر کی اور خدا بہترین تدبیر کرنے والا ہے\\n3|55|اور جب خدا نے فرمایا کہ عیسٰی علیھ السّلام ہم تمہاری مدّاُ قیام دنیا پوری کرنے والے اور تمہیں اپنی طرف اُٹھالینے والے اور تمھیں کفار کی خباثت سے نجات دلانے والے اور تمھاری پیروی کرنے والوں کو انکار کرنے والوں پر قیامت تک کی برتری دینے والے ہیں- اس کے بعد تم سب کی بازگشت ہماری طرف ہوگی اور ہم تمہارے اختلافات کا صحیح فیصلہ کردیں گے\\n3|56|پھر جن لوگوں نے کفر اختیار کیا ان پر دنیا اور آخرت میں شدید عذاب کریں گے اور ان کا کوئی مددگار نہ ہوگا\\n3|57|اور جو لوگ ایمان لے آئے اور انہوں نے نیک اعمال کئے ان کو مکمل اجر دیں گے اور خدا ظلم کرنے والوں کو پسند نہیں کرتا\\n3|58|یہ تمام نشانیاں اور پفِاز حکمت تذکرے ہیں جو ہم آپ سے بیان کررہے ہیں\\n3|59|عیسٰی علیھ السّلام کی مثال اللہ کے نزدیک آدم علیھ السّلام جیسی ہے کہ انہیں مٹی سے پیدا کیا اور پھر کہا ہوجا اور وہ ہوگیا\\n3|60|حق تمہارے پروردگار کی طرف سے آچکا ہے لہذا خبردار اب تمہارا شمار شک کرنے والوں میں نہ ہونا چاہئے\\n3|61|پیغمبر علم کے آجانے کے بعد جو لوگ تم سے کٹ حجتی کریں ان سے کہہ دیجئے کہ آؤ ہم لوگ اپنے اپنے فرزند, اپنی اپنی عورتوں اور اپنے اپنے نفسوں کو بلائیں اور پھر خدا کی بارگاہ میں دعا کریں اور جھوٹوں پر خدا کی لعنت قرار دیں\\n3|62|یہ سب حقیقی واقعات ہیں اور خدا کے علاوہ کوئی دوسرا خدا نہیں ہے اور وہی خدا صاحبِ عزّت و حکمت', metadata={'source': 'https://tanzil.net/trans/ur.jawadi'}), Document(page_content='34|4|تاکہ وہ ایمان لانے والے اور نیک اعمال انجام دینے والوں کو جزا دے کہ ان کے لئے مغفرت اور باعزّت رزق ہے\\n34|5|اور جن لوگوں نے ہماری آیتوں کے مقابلہ میں دوڑ دھوپ کی ان کے لئے دردناک سزا کا عذاب معّین ہے\\n34|6|اور جن لوگوں کو علم دیا گیا ہے وہ جانتے ہیں کہ جو کچھ آپ کی طرف پروردگار کی طرف سے نازل کیا گیا ہے سب بالکل حق ہے اور خدائے غالب و قابلِ حمد و ثنا کی طرف ہدایت کرنے والا ہے\\n34|7|اور جن لوگوں نے کفر اختیار کیا ان کا کہنا ہے کہ ہم تمہیں ایسے آدمی کا پتہ بتائیں جو یہ خبر دیتا ہے کہ جب تم مرنے کے بعد ٹکڑے ٹکڑے ہوجاؤ گے تو تمہیں نئی خلقت کے بھیس میں لایا جائے گا\\n34|8|اس نے اللہ پر جھوٹا الزام باندھا ہے یا اس میں جنون پایا جاتا ہے نہیں بلکہ جو لوگ آخرت پر ایمان نہیں رکھتے وہ عذاب اور گمراہی میں مبتلا ہیں\\n34|9|کیا انہوں نے آسمان و زمین میں اپنے سامنے اور پس پشت کی چیزوں کو نہیں دیکھا ہے کہ ہم چاہیں تو انہیں زمین میں دھنسا دیں یا ان کے اوپر آسمان کو ٹکڑے ٹکڑے کرکے گرادیں. اس میں ہر رجوع کرنے والے بندہ کے لئے قدرت کی نشانی پائی جاتی ہے\\n34|10|اور ہم نے داؤد کو یہ فضل عطا کیا کہ پہاڑو تم ان کے ساتھ تسبیح پروردگار کیا کرو اور پرندوں کو لَسخّر کردیا اور لوہے کو نرم کردیا\\n34|11|کہ تم کشادہ اور مکمل زرہیں بناؤ اور کڑیوں کے جوڑنے میں اندازہ کا خیال رکھو اور تم لوگ سب نیک عمل کرو کہ میں تم سب کے اعمال کا دیکھنے والا ہوں\\n34|12|اور ہم نے سلیمان علیھ السّلامکے ساتھ ہواؤں کو مسخر کردیا کہ ان کی صبح کی رفتار ایک ماہ کی مسافت تھی اور شام کی رفتار بھی ایک ماہ کے برابر تھی اور ہم نے ان کے لئے تانبے کا چشمہ جاری کردیا اور جنّات میں ایسے افراد بنادیئے جو خدا کی اجازت سے ان کے سامنے کام کرتے تھے اور جس نے ہمارے حکم سے انحراف کیا ہم اسے آتش جہّنم کا مزہ چکھائیں گے\\n34|13|یہ جنات سلیمان کے لئے جو وہ چاہتے تھے بنادیتے تھے جیسے محرابیں, تصویریں اور حوضوں کے برابر پیالے اور بڑی بڑی زمین میں گڑی ہوئی دیگیں آل داؤد شکر ادا کرو اور ہمارے بندوں میں شکر گزار بندے بہت کم ہیں', metadata={'source': 'https://tanzil.net/trans/ur.jawadi'}), Document(page_content='30|18|اور زمین و آسمان میں ساری حمد اسی کے لئے ہے اور عصر کے ہنگام اور جب دوپہر کرتے ہو\\n30|19|وہ خدا زندہ کو مفِدہ سے اور مفِدہ کو زندہ سے نکالتا ہے اور زمین کو مردہ ہوجانے کے بعد پھر زندہ کرتا ہے اور اسی طرح ایک دن تمہیں بھی نکالا جائے گا\\n30|20|اور اس کی نشانیوں میں سے ایک یہ بھی ہے کہ اس نے تمہیں خاک سے پیدا کیا ہے اور اس کے بعد تم بشر کی شکل میں پھیل گئے ہو\\n30|21|اور اس کی نشانیوں میں سے یہ بھی ہے کہ اس نے تمہارا جوڑا تم ہی میں سے پیدا کیاہے تاکہ تمہیں اس سے سکون حاصل ہو اورپھر تمہارے درمیان محبت اور رحمت قرار دی ہے کہ اس میں صاحبانِ فکر کے لئے بہت سی نشانیاں پائی جاتی ہیں\\n30|22|اور اس کی نشانیوں میں سے آسمان و زمین کی خلقت اور تمہاری زبانوں اور تمہارے رنگوں کا اختلاف بھی ہے کہ اس میں صاحبانِ علم کے لئے بہت سی نشانیاں پائی جاتی ہیں\\n30|23|اور اس کی نشانیوں میں سے یہ بھی ہے کہ تم رات اور دن کو آرام کرتے ہو اور پھر فضل خدا کو تلاش کرتے ہو کہ اس میں بھی سننے والی قوم کے لئے بہت سی نشانیاں پائی جاتی ہیں\\n30|24|اور اس کی نشانیوں میں سے یہ بھی ہے کہ وہ بجلی کو خوف اور امید کا مرکز بنا کر دکھلاتا ہے اور آسمان سے پانی برساتا ہے پھر اس کے ذریعہ مردہ زمین کو زندہ بناتا ہے بیشک اس میں بھی اس قوم کے لئے بہت سی نشانیاں ہیں جو عقل رکھنے والی ہے\\n30|25|اور اس کی نشانیوں میں سے یہ بھی ہے کہ آسمان و زمین اسی کے حکم سے قائم ہیں اور اس کے بعد وہ جب تم سب کو طلب کرے گا تو سب زمین سے یکبارگی برآمد ہوجائیں گے\\n30|26|آسمان و زمین میں جو کچھ بھی ہے سب اسی کی ملکیت ہے اور سب اسی کے تابع فرمان ہیں\\n30|27|اور وہی وہ ہے جو خلقت کی ابتدا ئ کرتا ہے اور پھر دوبارہ بھی پیدا کرے گا اور یہ کام اس کے لئے بے حد آسان ہے اور اسی کے لئے آسمان اور زمین میں سب سے بہترین مثال ہے اور وہی سب پر غالب آنے والا اور صاحب هحکمت ہے\\n30|28|اس نے تمہارے لئے تمہاری ہی مثال بیان کی ہے کہ جو رزق ہم نے تم کو عطا کیا ہے کیا اس میں تمہارے مملوک غلام و کنیز میں کوئی تمہارا شریک ہے کہ تم سب برابر ہوجاؤ اور تمہیں ان کا خوف اسی طرح ہو جس طرح اپنے نفوس کے بارے میں خوف ہوتا ہے ...._ بیشک ہم اپنی نشانیوں کو صاحب هعقل قوم کے لئے اسی طرح واضح کرکے بیان کرتے ہیں', metadata={'source': 'https://tanzil.net/trans/ur.jawadi'})]\n",
      "CPU times: total: 0 ns\n",
      "Wall time: 2.2 s\n"
     ]
    }
   ],
   "source": [
    "%%time\n",
    "retriever = vectorstore.as_retriever()\n",
    "\n",
    "search ='وہ بندوں کے حال پر مہربان اور رحم کرنے والا ہے'\n",
    "\n",
    "docs = retriever.invoke(search)\n",
    "print(docs)"
   ]
  },
  {
   "cell_type": "code",
   "execution_count": null,
   "id": "2598f26d",
   "metadata": {},
   "outputs": [],
   "source": []
  }
 ],
 "metadata": {
  "kernelspec": {
   "display_name": "Python 3 (ipykernel)",
   "language": "python",
   "name": "python3"
  },
  "language_info": {
   "codemirror_mode": {
    "name": "ipython",
    "version": 3
   },
   "file_extension": ".py",
   "mimetype": "text/x-python",
   "name": "python",
   "nbconvert_exporter": "python",
   "pygments_lexer": "ipython3",
   "version": "3.11.7"
  }
 },
 "nbformat": 4,
 "nbformat_minor": 5
}
