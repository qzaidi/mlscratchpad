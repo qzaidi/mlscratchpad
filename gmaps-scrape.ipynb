{
 "cells": [
  {
   "cell_type": "markdown",
   "id": "1abcff44-1b9b-4711-99d8-afd74ee34868",
   "metadata": {},
   "source": [
    "## Maps Scraping for Baly"
   ]
  },
  {
   "cell_type": "code",
   "execution_count": 24,
   "id": "132ecc43-1e63-4fc3-83bf-cb722c8896e6",
   "metadata": {},
   "outputs": [],
   "source": [
    "%%capture\n",
    "pip install beautifulsoup4 requests pandas lxml"
   ]
  },
  {
   "cell_type": "code",
   "execution_count": 19,
   "id": "7e8650fe-dd79-4bbd-9d02-c79ebc2e8cc0",
   "metadata": {},
   "outputs": [],
   "source": [
    "import requests\n",
    "from bs4 import BeautifulSoup\n",
    "import lxml.html\n",
    "import re"
   ]
  },
  {
   "cell_type": "markdown",
   "id": "04d3a5d7-25b1-4ecb-8d5a-bf97505eafaa",
   "metadata": {},
   "source": [
    "You will need username and password, ask me for it."
   ]
  },
  {
   "cell_type": "code",
   "execution_count": 25,
   "id": "d808f9e6-0dd4-45c5-8d7f-ab90b028ab4f",
   "metadata": {},
   "outputs": [
    {
     "name": "stdin",
     "output_type": "stream",
     "text": [
      "username *****\n",
      "password *****\n"
     ]
    }
   ],
   "source": [
    "username = input(\"username\")\n",
    "password = input(\"password\")"
   ]
  },
  {
   "cell_type": "markdown",
   "id": "8dad5b12-bb25-49b8-8610-c1db50b18228",
   "metadata": {},
   "source": [
    "This is where we search for a particular PoI - in this case restaurants in Najaf."
   ]
  },
  {
   "cell_type": "code",
   "execution_count": 5,
   "id": "fd7c5387-f56e-45a0-8465-0e22fcd2f2d2",
   "metadata": {},
   "outputs": [
    {
     "name": "stdout",
     "output_type": "stream",
     "text": [
      "200\n"
     ]
    }
   ],
   "source": [
    "payload = {\n",
    "    'source': 'google_maps',\n",
    "    'query': 'restaurants near me',\n",
    "    'user_agent_type': 'desktop',\n",
    "    'domain': 'com',\n",
    "    'geo_location': 'Najaf, Iraq',\n",
    "    'start_page': '1',\n",
    "    'pages': '3'\n",
    "}\n",
    "response = requests.request(\n",
    "\t'POST',\n",
    "\t'https://realtime.oxylabs.io/v1/queries',\n",
    "\tauth=(username, password),\n",
    "\tjson=payload,\n",
    "\ttimeout=180\n",
    ")\n",
    "print(response.status_code)"
   ]
  },
  {
   "cell_type": "code",
   "execution_count": 5,
   "id": "6c873992-0fce-40d9-9aef-a9663dd8223a",
   "metadata": {},
   "outputs": [
    {
     "name": "stdout",
     "output_type": "stream",
     "text": [
      "200\n"
     ]
    }
   ],
   "source": [
    "payload = {\n",
    "    'source': 'google_maps',\n",
    "    'query': 'restaurants near me',\n",
    "    'user_agent_type': 'desktop',\n",
    "    'domain': 'com',\n",
    "    'geo_location': 'Najaf, Iraq',\n",
    "    'start_page': '1',\n",
    "    'pages': '3'\n",
    "}\n",
    "response = requests.request(\n",
    "\t'POST',\n",
    "\t'https://realtime.oxylabs.io/v1/queries',\n",
    "\tauth=(username, password),\n",
    "\tjson=payload,\n",
    "\ttimeout=180\n",
    ")\n",
    "print(response.status_code)"
   ]
  },
  {
   "cell_type": "code",
   "execution_count": 10,
   "id": "23674911-8ffd-4a0f-8b46-048177747d67",
   "metadata": {},
   "outputs": [],
   "source": [
    "results = response.json()['results']\n",
    "html_files = [result['content'] for result in results]"
   ]
  },
  {
   "cell_type": "code",
   "execution_count": 20,
   "id": "4f8b49f8-787c-4917-8815-ddc02f0c2f06",
   "metadata": {},
   "outputs": [],
   "source": [
    "name_selector = '[role=\"heading\"]'\n",
    "rating_selector = 'span[aria-hidden=\"true\"]'\n",
    "rating_count_selector = '[class*=\"RDApEe\"]'\n",
    "details_selector = '.rllt__details div:nth-of-type(5)'\n",
    "lat_selector = '[data-lat]'\n",
    "lng_selector = '[data-lng]'\n",
    "type_selector = '//div[@class=\"rllt__details\"]/div[2]/text()'\n",
    "address_selector = '.rllt__details div:nth-of-type(3)'\n",
    "\n",
    "count_match = re.search(r\"\\((.+)\\)\", rating_count_el.text)\n",
    "rating_count = count_match.group(1) if count_match else \"\"\n"
   ]
  },
  {
   "cell_type": "code",
   "execution_count": 21,
   "id": "97e3301e-3ce9-4712-8b70-c32d8c468d1b",
   "metadata": {},
   "outputs": [],
   "source": [
    "data = []\n",
    "for html in html_files:\n",
    "    soup = BeautifulSoup(html, 'html.parser')\n",
    "    lxml_obj = lxml.html.fromstring(str(soup))\n",
    "    index = -1\n",
    "\n",
    "    for listing in soup.select('[class=\"VkpGBb\"]'):\n",
    "        index += 1\n",
    "        place = listing.parent\n",
    "        name_el = place.select_one(name_selector)\n",
    "        name = name_el.text.strip() if name_el else ''\n",
    "        \n",
    "        rating_el = place.select_one(rating_selector)\n",
    "        rating = rating_el.text.strip() if rating_el else ''\n",
    "        \n",
    "        rating_count_el = place.select_one(rating_count_selector)\n",
    "        rating_count = ''\n",
    "        if rating_count_el:\n",
    "            count_match = re.search(r'\\((.+)\\)', rating_count_el.text)\n",
    "            rating_count = count_match.group(1) if count_match else ''\n",
    "        \n",
    "        \n",
    "        details_el = place.select_one(details_selector)\n",
    "        details = details_el.text.strip() if details_el else ''\n",
    "        \n",
    "        lat_el = soup.select_one(lat_selector)\n",
    "        lat = lat_el.get('data-lat') if lat_el else ''\n",
    "        \n",
    "        lng_el = soup.select_one(lng_selector)\n",
    "        lng = lng_el.get('data-lng') if lng_el else ''\n",
    "        \n",
    "        type_el = lxml_obj.xpath(type_selector)\n",
    "        place_types = []\n",
    "        for item in type_el:\n",
    "            parts = item.strip().split('·')\n",
    "            non_empty_parts = [part.strip() for part in parts if part.strip()]\n",
    "            if non_empty_parts:\n",
    "                place_types.append(non_empty_parts[-1])\n",
    "        \n",
    "        address_el = place.select_one(address_selector)\n",
    "        address = address_el.text.strip() if address_el else ''\n",
    "        \n",
    "        place = {\n",
    "            'name': name,\n",
    "            'place_type': place_types[index],\n",
    "            'address': address,\n",
    "            'rating': rating,\n",
    "            'rating_count': rating_count,\n",
    "            'latitude': lat,\n",
    "            'longitude': lng,\n",
    "            'details': details,\n",
    "        }\n",
    "        data.append(place)"
   ]
  },
  {
   "cell_type": "code",
   "execution_count": 22,
   "id": "7b8ac9fc-5de6-4ba3-9063-67a0dd709e9d",
   "metadata": {},
   "outputs": [
    {
     "name": "stdout",
     "output_type": "stream",
     "text": [
      "[{'name': 'دواجن العوادي', 'place_type': 'Chicken shop', 'address': '286G+7J6', 'rating': '', 'rating_count': '', 'latitude': '32.0106646', 'longitude': '44.3265272', 'details': ''}, {'name': 'مطعم السبطين عليه السلام', 'place_type': 'Restaurant', 'address': '286G+7J6', 'rating': '3.5', 'rating_count': '4', 'latitude': '32.0106646', 'longitude': '44.3265272', 'details': ''}, {'name': 'The Gate Restaurant', 'place_type': 'Restaurant', 'address': '286G+FMW، شارع البانزين خانة', 'rating': '3.5', 'rating_count': '488', 'latitude': '32.0106646', 'longitude': '44.3265272', 'details': ''}, {'name': 'مطعم أم الربيعين', 'place_type': 'Restaurant', 'address': '286G+7J6', 'rating': '5.0', 'rating_count': '3', 'latitude': '32.0106646', 'longitude': '44.3265272', 'details': ''}, {'name': 'مطعم دجاج بغداد', 'place_type': 'Restaurant', 'address': '286G+7J6 ابو صخير، شارع المستشفى', 'rating': '', 'rating_count': '', 'latitude': '32.0106646', 'longitude': '44.3265272', 'details': ''}]\n"
     ]
    }
   ],
   "source": [
    "print(data[0:5])"
   ]
  },
  {
   "cell_type": "code",
   "execution_count": null,
   "id": "1711ad57-f3c4-41e7-921e-eef17424d92e",
   "metadata": {},
   "outputs": [],
   "source": []
  }
 ],
 "metadata": {
  "kernelspec": {
   "display_name": "Python 3 (ipykernel)",
   "language": "python",
   "name": "python3"
  },
  "language_info": {
   "codemirror_mode": {
    "name": "ipython",
    "version": 3
   },
   "file_extension": ".py",
   "mimetype": "text/x-python",
   "name": "python",
   "nbconvert_exporter": "python",
   "pygments_lexer": "ipython3",
   "version": "3.11.5"
  }
 },
 "nbformat": 4,
 "nbformat_minor": 5
}
